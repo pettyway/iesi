{
  "nbformat": 4,
  "nbformat_minor": 0,
  "metadata": {
    "colab": {
      "provenance": [],
      "authorship_tag": "ABX9TyMyyx+I0J8XG8FCdgsVIZpp",
      "include_colab_link": true
    },
    "kernelspec": {
      "name": "python3",
      "display_name": "Python 3"
    },
    "language_info": {
      "name": "python"
    }
  },
  "cells": [
    {
      "cell_type": "markdown",
      "metadata": {
        "id": "view-in-github",
        "colab_type": "text"
      },
      "source": [
        "<a href=\"https://colab.research.google.com/github/pettyway/iesi/blob/main/insyaallah_bener.ipynb\" target=\"_parent\"><img src=\"https://colab.research.google.com/assets/colab-badge.svg\" alt=\"Open In Colab\"/></a>"
      ]
    },
    {
      "cell_type": "code",
      "execution_count": 1,
      "metadata": {
        "id": "-H84AX5mkzeE"
      },
      "outputs": [],
      "source": [
        "import pandas as pd #library di phyton yang menyediakan struktur data dan analisis data -> tabel,dimensi\n",
        "import numpy as np #librray untuk melakukan operasi komputasi data bertipe numerik\n",
        "import string #mengubah tipe data berupa objek menjadi bentuk string\n",
        "import re #reguler expresion, memungkinkan melakukan pencarian, manipulasi teks berdasarkan pola\n",
        "import nltk #library pemrosesan bahasa alami ->  klasifikasi, tokenization, stemming,"
      ]
    },
    {
      "cell_type": "code",
      "source": [
        "#upload file ulasan\n",
        "from google.colab import  files\n",
        "uploades = files.upload()"
      ],
      "metadata": {
        "colab": {
          "base_uri": "https://localhost:8080/",
          "height": 73
        },
        "id": "JmcEfFV2lFZU",
        "outputId": "6bf8a3dd-6bbe-4b62-e04f-a942f57547b1"
      },
      "execution_count": null,
      "outputs": [
        {
          "output_type": "display_data",
          "data": {
            "text/plain": [
              "<IPython.core.display.HTML object>"
            ],
            "text/html": [
              "\n",
              "     <input type=\"file\" id=\"files-1bf4202a-bc8a-4d4e-8b6c-985e16274a00\" name=\"files[]\" multiple disabled\n",
              "        style=\"border:none\" />\n",
              "     <output id=\"result-1bf4202a-bc8a-4d4e-8b6c-985e16274a00\">\n",
              "      Upload widget is only available when the cell has been executed in the\n",
              "      current browser session. Please rerun this cell to enable.\n",
              "      </output>\n",
              "      <script>// Copyright 2017 Google LLC\n",
              "//\n",
              "// Licensed under the Apache License, Version 2.0 (the \"License\");\n",
              "// you may not use this file except in compliance with the License.\n",
              "// You may obtain a copy of the License at\n",
              "//\n",
              "//      http://www.apache.org/licenses/LICENSE-2.0\n",
              "//\n",
              "// Unless required by applicable law or agreed to in writing, software\n",
              "// distributed under the License is distributed on an \"AS IS\" BASIS,\n",
              "// WITHOUT WARRANTIES OR CONDITIONS OF ANY KIND, either express or implied.\n",
              "// See the License for the specific language governing permissions and\n",
              "// limitations under the License.\n",
              "\n",
              "/**\n",
              " * @fileoverview Helpers for google.colab Python module.\n",
              " */\n",
              "(function(scope) {\n",
              "function span(text, styleAttributes = {}) {\n",
              "  const element = document.createElement('span');\n",
              "  element.textContent = text;\n",
              "  for (const key of Object.keys(styleAttributes)) {\n",
              "    element.style[key] = styleAttributes[key];\n",
              "  }\n",
              "  return element;\n",
              "}\n",
              "\n",
              "// Max number of bytes which will be uploaded at a time.\n",
              "const MAX_PAYLOAD_SIZE = 100 * 1024;\n",
              "\n",
              "function _uploadFiles(inputId, outputId) {\n",
              "  const steps = uploadFilesStep(inputId, outputId);\n",
              "  const outputElement = document.getElementById(outputId);\n",
              "  // Cache steps on the outputElement to make it available for the next call\n",
              "  // to uploadFilesContinue from Python.\n",
              "  outputElement.steps = steps;\n",
              "\n",
              "  return _uploadFilesContinue(outputId);\n",
              "}\n",
              "\n",
              "// This is roughly an async generator (not supported in the browser yet),\n",
              "// where there are multiple asynchronous steps and the Python side is going\n",
              "// to poll for completion of each step.\n",
              "// This uses a Promise to block the python side on completion of each step,\n",
              "// then passes the result of the previous step as the input to the next step.\n",
              "function _uploadFilesContinue(outputId) {\n",
              "  const outputElement = document.getElementById(outputId);\n",
              "  const steps = outputElement.steps;\n",
              "\n",
              "  const next = steps.next(outputElement.lastPromiseValue);\n",
              "  return Promise.resolve(next.value.promise).then((value) => {\n",
              "    // Cache the last promise value to make it available to the next\n",
              "    // step of the generator.\n",
              "    outputElement.lastPromiseValue = value;\n",
              "    return next.value.response;\n",
              "  });\n",
              "}\n",
              "\n",
              "/**\n",
              " * Generator function which is called between each async step of the upload\n",
              " * process.\n",
              " * @param {string} inputId Element ID of the input file picker element.\n",
              " * @param {string} outputId Element ID of the output display.\n",
              " * @return {!Iterable<!Object>} Iterable of next steps.\n",
              " */\n",
              "function* uploadFilesStep(inputId, outputId) {\n",
              "  const inputElement = document.getElementById(inputId);\n",
              "  inputElement.disabled = false;\n",
              "\n",
              "  const outputElement = document.getElementById(outputId);\n",
              "  outputElement.innerHTML = '';\n",
              "\n",
              "  const pickedPromise = new Promise((resolve) => {\n",
              "    inputElement.addEventListener('change', (e) => {\n",
              "      resolve(e.target.files);\n",
              "    });\n",
              "  });\n",
              "\n",
              "  const cancel = document.createElement('button');\n",
              "  inputElement.parentElement.appendChild(cancel);\n",
              "  cancel.textContent = 'Cancel upload';\n",
              "  const cancelPromise = new Promise((resolve) => {\n",
              "    cancel.onclick = () => {\n",
              "      resolve(null);\n",
              "    };\n",
              "  });\n",
              "\n",
              "  // Wait for the user to pick the files.\n",
              "  const files = yield {\n",
              "    promise: Promise.race([pickedPromise, cancelPromise]),\n",
              "    response: {\n",
              "      action: 'starting',\n",
              "    }\n",
              "  };\n",
              "\n",
              "  cancel.remove();\n",
              "\n",
              "  // Disable the input element since further picks are not allowed.\n",
              "  inputElement.disabled = true;\n",
              "\n",
              "  if (!files) {\n",
              "    return {\n",
              "      response: {\n",
              "        action: 'complete',\n",
              "      }\n",
              "    };\n",
              "  }\n",
              "\n",
              "  for (const file of files) {\n",
              "    const li = document.createElement('li');\n",
              "    li.append(span(file.name, {fontWeight: 'bold'}));\n",
              "    li.append(span(\n",
              "        `(${file.type || 'n/a'}) - ${file.size} bytes, ` +\n",
              "        `last modified: ${\n",
              "            file.lastModifiedDate ? file.lastModifiedDate.toLocaleDateString() :\n",
              "                                    'n/a'} - `));\n",
              "    const percent = span('0% done');\n",
              "    li.appendChild(percent);\n",
              "\n",
              "    outputElement.appendChild(li);\n",
              "\n",
              "    const fileDataPromise = new Promise((resolve) => {\n",
              "      const reader = new FileReader();\n",
              "      reader.onload = (e) => {\n",
              "        resolve(e.target.result);\n",
              "      };\n",
              "      reader.readAsArrayBuffer(file);\n",
              "    });\n",
              "    // Wait for the data to be ready.\n",
              "    let fileData = yield {\n",
              "      promise: fileDataPromise,\n",
              "      response: {\n",
              "        action: 'continue',\n",
              "      }\n",
              "    };\n",
              "\n",
              "    // Use a chunked sending to avoid message size limits. See b/62115660.\n",
              "    let position = 0;\n",
              "    do {\n",
              "      const length = Math.min(fileData.byteLength - position, MAX_PAYLOAD_SIZE);\n",
              "      const chunk = new Uint8Array(fileData, position, length);\n",
              "      position += length;\n",
              "\n",
              "      const base64 = btoa(String.fromCharCode.apply(null, chunk));\n",
              "      yield {\n",
              "        response: {\n",
              "          action: 'append',\n",
              "          file: file.name,\n",
              "          data: base64,\n",
              "        },\n",
              "      };\n",
              "\n",
              "      let percentDone = fileData.byteLength === 0 ?\n",
              "          100 :\n",
              "          Math.round((position / fileData.byteLength) * 100);\n",
              "      percent.textContent = `${percentDone}% done`;\n",
              "\n",
              "    } while (position < fileData.byteLength);\n",
              "  }\n",
              "\n",
              "  // All done.\n",
              "  yield {\n",
              "    response: {\n",
              "      action: 'complete',\n",
              "    }\n",
              "  };\n",
              "}\n",
              "\n",
              "scope.google = scope.google || {};\n",
              "scope.google.colab = scope.google.colab || {};\n",
              "scope.google.colab._files = {\n",
              "  _uploadFiles,\n",
              "  _uploadFilesContinue,\n",
              "};\n",
              "})(self);\n",
              "</script> "
            ]
          },
          "metadata": {}
        },
        {
          "output_type": "stream",
          "name": "stdout",
          "text": [
            "Saving Ulasan_Label_Aspek_penyamaan.csv to Ulasan_Label_Aspek_penyamaan (1).csv\n"
          ]
        }
      ]
    },
    {
      "cell_type": "code",
      "source": [
        "#menampilkan data yang telah diinput\n",
        "df_show = pd.read_csv('Ulasan_Label_Aspek.csv',sep=\";\", encoding='cp1252')  #menampilkan data yang telah ditambahkan\n",
        "df_show.head(1000) #menampilkan sebanyak data teratas"
      ],
      "metadata": {
        "colab": {
          "base_uri": "https://localhost:8080/",
          "height": 423
        },
        "id": "FeD7cnc-lQaY",
        "outputId": "720a2c52-9855-4643-e1ad-3d9d22ed9296"
      },
      "execution_count": 2,
      "outputs": [
        {
          "output_type": "execute_result",
          "data": {
            "text/plain": [
              "      Nama Pengunjung                                             Ulasan  \\\n",
              "0        Petty Parker  Tempatnya nyaman parkirnya luas tapi kadang ka...   \n",
              "1          Vevy Riany  Tempat bagus bersih, namun kamar mandi sering ...   \n",
              "2    Dzunnurain AndRa  Sekarang kolam anak panas GK kayak dulu,di kas...   \n",
              "3       Harifin Vicko                          kamar mandi kurang bersih   \n",
              "4                suwa  Aku suka banget renang di sana aku juga hari s...   \n",
              "..                ...                                                ...   \n",
              "622           Cak Mul                           Kolam renang tidak buruk   \n",
              "623    syendy prayogo       Kolam renang favorit. .. keluarga dan bersih   \n",
              "624         elok dyah  Kolam renang yang bagus. . . Sangat direkomend...   \n",
              "625       Ainun Fajar    Kolam renangnya bagus, harganya juga bagus. . .   \n",
              "626     Adhelia Putri             Tempat keren yang bagus untuk berenang   \n",
              "\n",
              "       Label Aspek RCA (Fishbone Diagram)  \n",
              "0    Negatif     kebersihan (cleanliness)  \n",
              "1    Negatif         pelayanan (manpower)  \n",
              "2    Negatif     lingkungan (environment)  \n",
              "3    Negatif     kebersihan (cleanliness)  \n",
              "4    Positif     lingkungan (environment)  \n",
              "..       ...                          ...  \n",
              "622  Positif         fasilitas (facility)  \n",
              "623  Positif     kebersihan (cleanliness)  \n",
              "624  Positif         fasilitas (facility)  \n",
              "625  Positif                harga (price)  \n",
              "626  Positif         fasilitas (facility)  \n",
              "\n",
              "[627 rows x 4 columns]"
            ],
            "text/html": [
              "\n",
              "\n",
              "  <div id=\"df-066f3549-e5b5-40d4-a8fc-db1069660731\">\n",
              "    <div class=\"colab-df-container\">\n",
              "      <div>\n",
              "<style scoped>\n",
              "    .dataframe tbody tr th:only-of-type {\n",
              "        vertical-align: middle;\n",
              "    }\n",
              "\n",
              "    .dataframe tbody tr th {\n",
              "        vertical-align: top;\n",
              "    }\n",
              "\n",
              "    .dataframe thead th {\n",
              "        text-align: right;\n",
              "    }\n",
              "</style>\n",
              "<table border=\"1\" class=\"dataframe\">\n",
              "  <thead>\n",
              "    <tr style=\"text-align: right;\">\n",
              "      <th></th>\n",
              "      <th>Nama Pengunjung</th>\n",
              "      <th>Ulasan</th>\n",
              "      <th>Label</th>\n",
              "      <th>Aspek RCA (Fishbone Diagram)</th>\n",
              "    </tr>\n",
              "  </thead>\n",
              "  <tbody>\n",
              "    <tr>\n",
              "      <th>0</th>\n",
              "      <td>Petty Parker</td>\n",
              "      <td>Tempatnya nyaman parkirnya luas tapi kadang ka...</td>\n",
              "      <td>Negatif</td>\n",
              "      <td>kebersihan (cleanliness)</td>\n",
              "    </tr>\n",
              "    <tr>\n",
              "      <th>1</th>\n",
              "      <td>Vevy Riany</td>\n",
              "      <td>Tempat bagus bersih, namun kamar mandi sering ...</td>\n",
              "      <td>Negatif</td>\n",
              "      <td>pelayanan (manpower)</td>\n",
              "    </tr>\n",
              "    <tr>\n",
              "      <th>2</th>\n",
              "      <td>Dzunnurain AndRa</td>\n",
              "      <td>Sekarang kolam anak panas GK kayak dulu,di kas...</td>\n",
              "      <td>Negatif</td>\n",
              "      <td>lingkungan (environment)</td>\n",
              "    </tr>\n",
              "    <tr>\n",
              "      <th>3</th>\n",
              "      <td>Harifin Vicko</td>\n",
              "      <td>kamar mandi kurang bersih</td>\n",
              "      <td>Negatif</td>\n",
              "      <td>kebersihan (cleanliness)</td>\n",
              "    </tr>\n",
              "    <tr>\n",
              "      <th>4</th>\n",
              "      <td>suwa</td>\n",
              "      <td>Aku suka banget renang di sana aku juga hari s...</td>\n",
              "      <td>Positif</td>\n",
              "      <td>lingkungan (environment)</td>\n",
              "    </tr>\n",
              "    <tr>\n",
              "      <th>...</th>\n",
              "      <td>...</td>\n",
              "      <td>...</td>\n",
              "      <td>...</td>\n",
              "      <td>...</td>\n",
              "    </tr>\n",
              "    <tr>\n",
              "      <th>622</th>\n",
              "      <td>Cak Mul</td>\n",
              "      <td>Kolam renang tidak buruk</td>\n",
              "      <td>Positif</td>\n",
              "      <td>fasilitas (facility)</td>\n",
              "    </tr>\n",
              "    <tr>\n",
              "      <th>623</th>\n",
              "      <td>syendy prayogo</td>\n",
              "      <td>Kolam renang favorit. .. keluarga dan bersih</td>\n",
              "      <td>Positif</td>\n",
              "      <td>kebersihan (cleanliness)</td>\n",
              "    </tr>\n",
              "    <tr>\n",
              "      <th>624</th>\n",
              "      <td>elok dyah</td>\n",
              "      <td>Kolam renang yang bagus. . . Sangat direkomend...</td>\n",
              "      <td>Positif</td>\n",
              "      <td>fasilitas (facility)</td>\n",
              "    </tr>\n",
              "    <tr>\n",
              "      <th>625</th>\n",
              "      <td>Ainun Fajar</td>\n",
              "      <td>Kolam renangnya bagus, harganya juga bagus. . .</td>\n",
              "      <td>Positif</td>\n",
              "      <td>harga (price)</td>\n",
              "    </tr>\n",
              "    <tr>\n",
              "      <th>626</th>\n",
              "      <td>Adhelia Putri</td>\n",
              "      <td>Tempat keren yang bagus untuk berenang</td>\n",
              "      <td>Positif</td>\n",
              "      <td>fasilitas (facility)</td>\n",
              "    </tr>\n",
              "  </tbody>\n",
              "</table>\n",
              "<p>627 rows × 4 columns</p>\n",
              "</div>\n",
              "      <button class=\"colab-df-convert\" onclick=\"convertToInteractive('df-066f3549-e5b5-40d4-a8fc-db1069660731')\"\n",
              "              title=\"Convert this dataframe to an interactive table.\"\n",
              "              style=\"display:none;\">\n",
              "\n",
              "  <svg xmlns=\"http://www.w3.org/2000/svg\" height=\"24px\"viewBox=\"0 0 24 24\"\n",
              "       width=\"24px\">\n",
              "    <path d=\"M0 0h24v24H0V0z\" fill=\"none\"/>\n",
              "    <path d=\"M18.56 5.44l.94 2.06.94-2.06 2.06-.94-2.06-.94-.94-2.06-.94 2.06-2.06.94zm-11 1L8.5 8.5l.94-2.06 2.06-.94-2.06-.94L8.5 2.5l-.94 2.06-2.06.94zm10 10l.94 2.06.94-2.06 2.06-.94-2.06-.94-.94-2.06-.94 2.06-2.06.94z\"/><path d=\"M17.41 7.96l-1.37-1.37c-.4-.4-.92-.59-1.43-.59-.52 0-1.04.2-1.43.59L10.3 9.45l-7.72 7.72c-.78.78-.78 2.05 0 2.83L4 21.41c.39.39.9.59 1.41.59.51 0 1.02-.2 1.41-.59l7.78-7.78 2.81-2.81c.8-.78.8-2.07 0-2.86zM5.41 20L4 18.59l7.72-7.72 1.47 1.35L5.41 20z\"/>\n",
              "  </svg>\n",
              "      </button>\n",
              "\n",
              "\n",
              "\n",
              "    <div id=\"df-92da2431-27e2-415b-86d2-ea3d7a56e6c7\">\n",
              "      <button class=\"colab-df-quickchart\" onclick=\"quickchart('df-92da2431-27e2-415b-86d2-ea3d7a56e6c7')\"\n",
              "              title=\"Suggest charts.\"\n",
              "              style=\"display:none;\">\n",
              "\n",
              "<svg xmlns=\"http://www.w3.org/2000/svg\" height=\"24px\"viewBox=\"0 0 24 24\"\n",
              "     width=\"24px\">\n",
              "    <g>\n",
              "        <path d=\"M19 3H5c-1.1 0-2 .9-2 2v14c0 1.1.9 2 2 2h14c1.1 0 2-.9 2-2V5c0-1.1-.9-2-2-2zM9 17H7v-7h2v7zm4 0h-2V7h2v10zm4 0h-2v-4h2v4z\"/>\n",
              "    </g>\n",
              "</svg>\n",
              "      </button>\n",
              "    </div>\n",
              "\n",
              "<style>\n",
              "  .colab-df-quickchart {\n",
              "    background-color: #E8F0FE;\n",
              "    border: none;\n",
              "    border-radius: 50%;\n",
              "    cursor: pointer;\n",
              "    display: none;\n",
              "    fill: #1967D2;\n",
              "    height: 32px;\n",
              "    padding: 0 0 0 0;\n",
              "    width: 32px;\n",
              "  }\n",
              "\n",
              "  .colab-df-quickchart:hover {\n",
              "    background-color: #E2EBFA;\n",
              "    box-shadow: 0px 1px 2px rgba(60, 64, 67, 0.3), 0px 1px 3px 1px rgba(60, 64, 67, 0.15);\n",
              "    fill: #174EA6;\n",
              "  }\n",
              "\n",
              "  [theme=dark] .colab-df-quickchart {\n",
              "    background-color: #3B4455;\n",
              "    fill: #D2E3FC;\n",
              "  }\n",
              "\n",
              "  [theme=dark] .colab-df-quickchart:hover {\n",
              "    background-color: #434B5C;\n",
              "    box-shadow: 0px 1px 3px 1px rgba(0, 0, 0, 0.15);\n",
              "    filter: drop-shadow(0px 1px 2px rgba(0, 0, 0, 0.3));\n",
              "    fill: #FFFFFF;\n",
              "  }\n",
              "</style>\n",
              "\n",
              "    <script>\n",
              "      async function quickchart(key) {\n",
              "        const containerElement = document.querySelector('#' + key);\n",
              "        const charts = await google.colab.kernel.invokeFunction(\n",
              "            'suggestCharts', [key], {});\n",
              "      }\n",
              "    </script>\n",
              "\n",
              "      <script>\n",
              "\n",
              "function displayQuickchartButton(domScope) {\n",
              "  let quickchartButtonEl =\n",
              "    domScope.querySelector('#df-92da2431-27e2-415b-86d2-ea3d7a56e6c7 button.colab-df-quickchart');\n",
              "  quickchartButtonEl.style.display =\n",
              "    google.colab.kernel.accessAllowed ? 'block' : 'none';\n",
              "}\n",
              "\n",
              "        displayQuickchartButton(document);\n",
              "      </script>\n",
              "      <style>\n",
              "    .colab-df-container {\n",
              "      display:flex;\n",
              "      flex-wrap:wrap;\n",
              "      gap: 12px;\n",
              "    }\n",
              "\n",
              "    .colab-df-convert {\n",
              "      background-color: #E8F0FE;\n",
              "      border: none;\n",
              "      border-radius: 50%;\n",
              "      cursor: pointer;\n",
              "      display: none;\n",
              "      fill: #1967D2;\n",
              "      height: 32px;\n",
              "      padding: 0 0 0 0;\n",
              "      width: 32px;\n",
              "    }\n",
              "\n",
              "    .colab-df-convert:hover {\n",
              "      background-color: #E2EBFA;\n",
              "      box-shadow: 0px 1px 2px rgba(60, 64, 67, 0.3), 0px 1px 3px 1px rgba(60, 64, 67, 0.15);\n",
              "      fill: #174EA6;\n",
              "    }\n",
              "\n",
              "    [theme=dark] .colab-df-convert {\n",
              "      background-color: #3B4455;\n",
              "      fill: #D2E3FC;\n",
              "    }\n",
              "\n",
              "    [theme=dark] .colab-df-convert:hover {\n",
              "      background-color: #434B5C;\n",
              "      box-shadow: 0px 1px 3px 1px rgba(0, 0, 0, 0.15);\n",
              "      filter: drop-shadow(0px 1px 2px rgba(0, 0, 0, 0.3));\n",
              "      fill: #FFFFFF;\n",
              "    }\n",
              "  </style>\n",
              "\n",
              "      <script>\n",
              "        const buttonEl =\n",
              "          document.querySelector('#df-066f3549-e5b5-40d4-a8fc-db1069660731 button.colab-df-convert');\n",
              "        buttonEl.style.display =\n",
              "          google.colab.kernel.accessAllowed ? 'block' : 'none';\n",
              "\n",
              "        async function convertToInteractive(key) {\n",
              "          const element = document.querySelector('#df-066f3549-e5b5-40d4-a8fc-db1069660731');\n",
              "          const dataTable =\n",
              "            await google.colab.kernel.invokeFunction('convertToInteractive',\n",
              "                                                     [key], {});\n",
              "          if (!dataTable) return;\n",
              "\n",
              "          const docLinkHtml = 'Like what you see? Visit the ' +\n",
              "            '<a target=\"_blank\" href=https://colab.research.google.com/notebooks/data_table.ipynb>data table notebook</a>'\n",
              "            + ' to learn more about interactive tables.';\n",
              "          element.innerHTML = '';\n",
              "          dataTable['output_type'] = 'display_data';\n",
              "          await google.colab.output.renderOutput(dataTable, element);\n",
              "          const docLink = document.createElement('div');\n",
              "          docLink.innerHTML = docLinkHtml;\n",
              "          element.appendChild(docLink);\n",
              "        }\n",
              "      </script>\n",
              "    </div>\n",
              "  </div>\n"
            ]
          },
          "metadata": {},
          "execution_count": 2
        }
      ]
    },
    {
      "cell_type": "code",
      "source": [
        "#merubah bentuk data frame pada kolom ulasan menjadi bentuk list\n",
        "Ulasan = list(df_show['Ulasan'].values)"
      ],
      "metadata": {
        "id": "2fHTz8JEmcSD"
      },
      "execution_count": 3,
      "outputs": []
    },
    {
      "cell_type": "markdown",
      "source": [
        "# **PREPROCESSING**"
      ],
      "metadata": {
        "id": "R8epoLNOd-Qp"
      }
    },
    {
      "cell_type": "markdown",
      "source": [
        "**CASE FOLDING**"
      ],
      "metadata": {
        "id": "8i8ocste0ccz"
      }
    },
    {
      "cell_type": "code",
      "source": [
        "#CASE FOLDING STEP\n",
        "def casefolding(data):\n",
        "  return data.lower() #fungsi lower untuk mengubah seluruh huruf menjadi huruf keci;\n",
        "Ulasan_low= list(map(casefolding, Ulasan))"
      ],
      "metadata": {
        "id": "jxZmKh4JpSVF"
      },
      "execution_count": 4,
      "outputs": []
    },
    {
      "cell_type": "code",
      "source": [
        "print ('HASIL CASE FOLDING')\n",
        "print (Ulasan_low)"
      ],
      "metadata": {
        "colab": {
          "base_uri": "https://localhost:8080/"
        },
        "id": "sONPSfOupXuX",
        "outputId": "251ed206-4aad-4506-f70e-05dcc37ef4e5"
      },
      "execution_count": null,
      "outputs": [
        {
          "output_type": "stream",
          "name": "stdout",
          "text": [
            "HASIL CASE FOLDING\n",
            "['tempatnya nyaman parkirnya luas tapi kadang kamar mandinya agak kotor', 'tempat bagus bersih, namun kamar mandi sering nya kotor, mungkin bisa petugas nya mengecek setengah jam sekali/ sejam sekali utk tetap terjaga kebersihannya, air …', 'sekarang kolam anak panas gk kayak dulu,di kasih hiasan jd adem terlindung dr panas bwt anak2', 'kamar mandi kurang bersih', 'aku suka banget renang di sana aku juga hari sabtu mau ke sana nech doa ini aja enggak hujan ya gasy …', 'baru pertama kesini, nyesel masuk..kebanyakan aturan, sy yg ngantar aja pakai sepatu ga boleh, istri dampingi anak renang ga boleh pakai kaos kaki.. …', 'ak ada sarana fitnes', 'banyak peraturan', 'renang disini lokernya harus pake kartu pelajar, jadi gabisa make loger padahal adekku masih belom dapet. ga dapet loker akhirnya uang adekku hilang aduh kzl bgt', 'jangan datang di hari minggu, ruaamee boss,,', 'mahal', 'please pak,senin buka seperti jam lain saya kerja libur cuma hari senin,saya pengen lama renangnya pengen tinggi biar bisa kejar kartika eka paksi …', 'harga semakin naik', 'tempatnya nyaman, bersih, pegawai ramah2 dan airnya serta kamar ganti bersih rapi.\\ntempat parkir luas dan nyaman. …', 'kolam renangnya bagus namun hr ini yg kolam besar agak hijau, kolamnya juga di bagi dua ada untuk anak2 dan dewasa juga, kamar mandinya juga bersih hari minggu harga tiketnya 25 k', 'sudah lumayan, tetapi lebih diperhatikan untuk fasilitas km pria, karena banyak engsel pintu dan pengganjal pintu yang rusak', 'tempatnya luas. htm 25rbu hari libur', 'kolam renangnya bagus bersih untuk pakaian juga bebas tidak harus pakai pakaian renang,kolamnya juga di bagi dua ada untuk anak2 dan dewasa juga,kamar mandinya juga bersih hari minggu harga tiketnya 25 k', 'kolamnya bagus tapi jajannya kurang', 'lengkap dan profesional', 'sangat2 panas. tdk ada pepohonan, tmpt bagi pengunjung dikit. keramik pinggir kolam renang licin extra hati2 utk anak, intinya belum rekomended bagi keluarga kami.', 'tempat yg bagus.. buat anak² okelah.. harga tiket murah dan bersih tempatnya.. sayang aja airnya kolam anak² aja yg agak keruh.. klo kolam dewasa bersih banget..', 'liburan murah meriah hari minggu 25 ecu', 'kolam renang militer yang dibuka untuk umum, di masa pandemi covid-19 tetap buka namun dengan pembatasan jumlah pengunjung. kawasan patuh prokes.\\nkualitas air kolam \"selalu terjaga\", tim sarnya ramah, ruang bilas modern dan bersih, kantin ?, musholla ?, parkiran luas dan aman.', 'sangat kecewa minggu pagi tadi. saya sama istri dan anak saya 2 berniat rekreasi di kolam renang brawijaya,saya beli tiket masuk untuk ke-2 anak saya yang ingin berenang di kolam renang ini..sehabis saya beli 2 tiket dengan harga per …', 'tempat bersih dan nyaman', 'salah satu kolam renang yang menurutku enak di surabaya. terdapat 2 kolam, 1 besar dan 1 kecil. untuk minggu buka jam 7.30, tp sebelum jam 7.30 sudah banyak yg menunggu kolam buka. di hari minggu kena 25.000 untuk tiket masuk per orang …', 'temapat nya nyaman dan aman', 'tempatny luas namun masih kurang untuk tempat pengunjung dan juga permainan perlu di tambahi... itu semakin siiipp dan ramai pengunjung', 'tempat nya luas dan nyaman + bersih , tapi sayang anak dibawah 5thn di sruh bayar  pdhal di wisata lain anak di bawah 5thn free masuk nya  karcis 20.000rb / kepala …', 'aman untuk anak2, bersih, pengawasan  …', 'kolam renang berada di tepi jalan cukup mudah di akses. berada di komplek perumahan kodam cukup ramai dikunjungi oleh warga terutama dihari libur', 'bagi anda yang membutuhkan jasa pelatih renang silahkan hubungi tlp/wa : 085 233 566 286 …', 'nyaman murah meria, saran jgn datang hr libur pasti penuh, kamrn mandi nya susah klo liburan.', 'disini airnya bersih tapi,hati hati harus tau ukuran ke dalemannya ya gays …', 'bagus, ada kolam anak yang cukup besar + luncuran (slide), kolam dewasa ukuran standard internasional.. kedalaman hingga 3 m lebih air cukup jernih hrg tiket relatif murah utk kolam di kota surabaya.. …', 'kolamnya bersih,rapi.. protokol kesehatan bagus.. ada kantin, kamar ganti bersih, tersedia loker, parkir cukup luas.. bebas bawa makanan dr luar. saran aja..mgkn utk anak2 yg les renang disana bisa diberlakukan harga member gitu..misalnya..', 'tempat nya lumayan enak, saran saja lebih baik pinggir2 dikasih alas agar tidak terpeleset (krn saya paling sering melihat anak2 terpeleset) dan agar tidak panas saat jalan ke arah kolam krn hrs lepas alas kaki.', 'sudah cukup buat anak anak yang masih mengenal air sebelum ke tahap belajar berenang dengan sungguh.. lokasi mudah dijangkau dan tiket masuk sebanding dengan yang didapatkan..', 'bila ada event menunggu lama', 'tempat nya bersih dan ada permainan nya,, harga tiket pun terjangkau..', 'murah dan pasti nyaman bisa hemat saat liburan sama kuluarga', 'mohon ditambah tempat duduk serta payung(tenda) meja biar kebagian tiap pengunjung yang datang. semuanya cukup baik, dari kualitas air kolam yang tidak buat mata merah sakit, kamar ganti yang sudah baik. mohon tetap dijaga kebersihannya.', 'fasilitas kamar mandi / kamar ganti sudah jadi bagus, air kolam tidak pedih dimata.', 'kolam renang dewasa dan anak besar, ada perosotan cukup besar di kolam anak, tempat bilas bersih dan tertata. tempat duduk tersedia cukup banyak', 'kolam renangnya lengkap, ada yg buat anak kecil dan ada yg sedalam 2.7 meter hahaha . tp waktu sya kesana air nya agak keruh dan wrnanya hijau. kalau lebih sering dikuras pasti lebih bagus gan, apalagi yg tiketnya agak mahal hehe :)', 'tempatnya cukup bersih & luas, bikin nyaman.\\nada 2 pool (pool kids & pool untuk dewasa)\\nkamar mandi & ruang ganti  lumayan besar & bersih. …', 'tempat berlatih renang yang dekat bersih dengan harga terjangkau', 'tempatnya bersih, cocok untuk keluarga', 'tempanya lumayan bersihh, ruang kamar mandi/ganti rapi dan bersih. area kantin bersih dgn harga normal. masukan aja, ditambah pepohonan biar tampak asri dan mungkin perlu ditambah tempat utk berteduh, klo siangan dikit panass boss.', 'bersih,gak terlalu ramai', 'tempat nya sangat bagus,,bersih...\\n\\ntapi masukan saya cuman 1,,tolong shower nya di benarkan karena mati dan kita harus antri untuk mandi..', 'kedalaman lumayan, air jernih, kaporitnya itu lho  …', 'nyaman. bersih. suka.....', 'cukup bersih, ada tempat makan, mengejutkan harganya murah ', 'kolam bersih....ruang ganti bagus...parkir aman …', 'tiket 17.000 untuk masuk kolam ini di hari senin.  kedalaman kolam sampai 2.7 meter.  ada kolam buat anak anak juga', 'deket dr rmh sdh nyaman buat anak\" renang', 'harga tiket murah (weekend/20ribu per org). sy tiap minggu ke sini krn ngantar anak les renang. tapi, kolam kurang bersih, lantai pinggir kolam becek, lantai kantin becek,ruang bilas perempuan lantainya becek, saluran air tersumbat/banjir …', 'penjaganya ilang ilang terus', 'kolam renang termurah yang pernah kami singgahi. kalau gak salah tiket masuk 17rb-20rb untuk weekday dan weekend. untuk anak-anak/balita disarankan ada pendamping karena tidak ada pembatas untuk kolam dewasa dan anak-anak.', 'tempatnya cocok banget buat anak kecil', 'cukup bagus untuk kolam renang dengan harga murah, ruang ganti yang layak dan banyak kamar mandi (termasuk yang di luar). ukuran dan kedalaman kolam yang bagus. perlu diketahui bahwa kolam itu digunakan untuk pelatihan militer pada hari rabu dan kamis pagi. disarankan jika anda datang pada hari ini untuk datang nanti sekitar jam 10 pagi ke atas.', 'kalo ngasi kaporit tolong di ukur lagi, pedih banget di mata', 'bau kaporitnya nyengat banget...', '2minggu sekali jadi tempat  pilihan piknik keluarga,ada kemajuan,toilet uda jadi,semoga kedepannya bisa ditambah bangku,ato apalah untuk beristirahat dan berteduh...sukses selalu', 'mantap, airnya bersih, dan d pinggir kolam airnya ada pelindung sinar mataharinya', 'airnya bersih dan ada juga kolam anak kecil dan dewasa. tiket masuk 17rb hari biasa jumat sampai minggu 20rb', 'buat yang baca ini.. harga ticket di kodam mahal. ', 'bagus, tiket masuk weekday 18k, weekend atau tgl merah 20k, parkir motor dan mobil ada yg jaga, ada persewaan baju renang, dan trainer anak2 biasanya ngajar disana, air beraih dan segar, kamar ganti pria sedang direnovasi tp ada km cadangan yg vip', 'kolam renangnya tambah bagus, daripada jauh2 lumayan dekat rumah...', 'tenpat enak buat renang. baik bagi pemula , ekspert ataupun anak anak. kolam paling dalam 2,75m dan yg masih belajar bisa di kedalaman 1,5m.', 'asiikkk banyak yg renang disini. bersih.', 'lingkungan kolam renangnya kotor, banyak sampah pengunjung yang tidak dibersihkan, alat penunjang di kolam anak2 sudah banyak yang keropos dan khawatir akan melukai anak2 yang bermain. …', 'htm terjangkau tempat nyaman', 'mantap tempatnya,tapi masi kurang untuk ruang tunggunya yg harus di tambah', 'kaporit berlebihan sampai susah nyisir rambut', 'tempatnya bagus cuma perlu perbaikan lagi dan untuk ganti baju mohon ditambah tempatnya lagi kalau dihari minggu banyak pengunjungnya jadi mau ganti harus nunggu agak lama...', '.sangat bagus sekali cuman sayang kmar mndi.nya blum d prbaiki', 'tidak terasa panas apabila siang karena ada kanopinya', 'murah meriah utk rakyat. rp. 17 ribu untuk weekend. konsekuensinya terlihat lebih jorok', 'enak sih tapi sayang ruang gantinya jadi satu dengan pria apa dalam perbaikan', 'tempatnya lumayan ada 2 kolam tipe, akses parkir luas, harga normal hari biasa 17k, hari libur 20k, tmpt buat mandi outdoor bossss - _-,  disediakan ruang ganti untung udah dipisah, ada kantin harga dua kali lipat tentunya, air nya bau …', 'tempat gantinya kurang bagus kotor', 'dekat dengan rmh tempatnya jjg asyik', 'kolam renang yang cukup utk anak saya', 'kolam renang nya yg cukup luas,  dijamin puas jika anda mempunyai hobby berenang,\\nhanya saja untuk tempat duduk pengunjung masih minimalis...', 'kolamnya oke,ada wahana buat anak² tapi sayang gazebo kurang buat yg nunggu anak²nya berenang', 'tempatnya nyaman, bersih dan luas ada loker juga untuk simpan barang bawaan cukup kasih ktp dan bayar 10rb', 'pengawasnya jangan ilang terus kalo ada yang tenggelam bahaya', 'kurang terawat', 'kamar mandi & ganti antri', 'kalo gaada pengawas jangan coba-coba ke tempat yang dalam', 'ini adalah kunjungan pertama kami di akhir pekan dan itu ramai, banyak siswa junior mengambil kursus renang di sini. pada hari itu, hanya ada satu bagian ruang ganti (unisex) karena ruang ganti dibenahi', 'bagus. murah. sayang butek', 'untuk harga segitu mahal ya termasuknya', 'bagus untuk yang udah lumayan bisa renang, kalau weekend sangat ramai dan crowded', 'panas', 'syg tutupnya sampai jam 4 sore , padahal msh banyak yg pingin renang d sore hari', 'hari sabtu apa lagi hari libur penuh', 'murah meriah cocok buat keluarga besar karena bersih juga', 'tempat yg nyaman bersama keluarga , kolam renangnya bagus dan ada petugas yg selalu siap siaga jika terjadi hal\" yg tidak diinginkan', 'kualitas air bersih, cuma kurang tempat duduk', 'mie nya enak bgt kalo pake telor', 'kolam renang nya bagus , bersih . wahana untuk anak juga ada , tapi untuk kebersihan ruang ganti dan toilet butuh untuk ditingkatkan . harga tiket masuk untuk dewasa 17ribu . di kawasan kolam renang ada juga kantin yang menyediakan makanan …', 'nyaman n harga ekonomis cuman kadang airny kotor', 'airnya lumayan bersih dan harganya terjangkau', 'tempatnya enak, ramai, n harga tiket masuk ramah dikantong pastinya …', 'kamar mandinya banyak pintu yang rusak dan kotor banget, selebihnya bagus, hanya kebersihan kamar mandi tolong ditingkatkan lagi', 'tutup terlalu awal', 'tempat ny kotor kaporit ny tinggi kotoran di air ny banyak …', 'lumayan sih dengan harga 20rb di weekend hanya saja tempat duduk buat yg nunggu terbatas sekali', 'untuk kolam renang yang dewasa sangat sepi', 'sandal tdk boleh di pake di sekitar area kolam renang tpi makan di area kolam boleh....aneeehhh', 'agak serem ya kelihatannya', 'licin lantainya', 'lumayan bagus buat rombongan anak sekolah', 'kolamnya luas dan sangat bersih serta nyaman', 'kebersihan dan perawatan fasilitas perlu ditingkatkan', 'tempatnya bagus dan meskipun panas tapi ada penjaganya yang menyirami lantai agar tidak panas di kaki', 'recommended sekali untuk rekreasi keluarga dan yang punya niat olahraga renang, tempatnya bagus,bersih,airnya jernih tiket sangat terjangkau', 'asyik tp panas n kamar mandi kurang terjaga kebersihannya', 'kolam renang yang nyaman untuk latihan… kalo sepi ', 'lumayan buat nyenening anak2', 'kalau kesini hari jumat air sangat jernih, karena jadwal kuras nya hari kamis pagi', 'penjaga senyumnya mahal bnget', 'kolam renang nya bersih dan ada wahana juga buat anak kecil', 'kolam renangnya ada 2. untuk dewasa (gak ada kaporitnya) dan yg untuk anak2 (ada mainannya).\\ncocok banget buat weekend, htm 20k sesuai sm fasilitasnya. …', 'rekreasi murah meriah', 'dua puluh ribu sabtu dan minggu', 'tempat buat nunggu kurang nyaman,terlalu sedikit', 'kurang bersih', 'bagus dan bersih.dan sangat menyenangkn utk ank kecil.', 'kolam renangnya b aja, harganya lumayan mahal untuk kolam yg begitu, apalagi anak 2ty keatas harus bayar full. harga2 makanan yg tersedia relatif. tersedia penyewaan karpet 5rb dan ban kecil 10rb.', 'kolam renang murah di surabaya, tapi ramai saat weekend', 'rabu tgl 12 juni 2019 karena liburan hari raya sekarang masuk tiket nya 20rb', 'strategis, bersih, lengkap …', 'bersih,tempatnya enak dn harga terjangkai', 'tempat nya bersih, airnya bersih, kamar mandi lumayan, cuman di mata cepat perih', 'mantap...\\nlebih ditingkatkan lagi fasilitasnya...', 'agak was-was dengan barang bawaan', 'kolam renang murah dan ramai di akhir pekan. memiliki taman bermain air untuk anak-anak. ada penjual makanan, musholla, penyewaan baju renang dan penjual. tapi toilet tidak cukup bersih. parkir kendaraan cukup luas.', 'airnya perih', 'puanas pol', 'air nya dingin, sayangnya tidak ada atapnya', 'sangat luas untuk belajar berenang. bersih dan nyaman, walau di wilayah kompleks tentara brawijaya surabaya. harga masuk sangat murah, hanya dengan 15k kita dapat berenang sepuasnya. apalagi jika saat sepi pengunjung, seakan di rumah sendiri', 'renang disini enak, kolamnya besar dan bersih', 'bagian dari sport complex brawijaya. bagus dan bermanfaat bagi masyarakat..', 'kolam renangnya besar, murah, tapi ruang ganti tidak bagus, cukup kotor dan tidak nyaman', 'kolam renang yg aku favoritkan krna tidak jauh dri rumah , kolam renangnya bersih kamar mandinya juga bersih , yg paling berkesan adalah pas renang bareng sama latihannya pak tni didalam satu kolam , pak tni nya juga ramah tidak mengusir , meskipun kolam renangnya tidak luas tpi cukup menyenangkan', 'air kolam bersih, fasilitas dan tempat parkir memadai...tp perlu diperindah lg sepertinya..', 'bagus.. bersih dan ramai pengunjung.. parkirnya luas lagi..', 'kesan pertama kali main di sini. bersih air kolamnya, krn trus diisi dan kamar mandinya relatif terawat dibanding kolam publik lain dengan tarif yg sama (17rb).', 'idaman buat anak anak cuman perlu dibenahi lagi masalah fasilitas..', 'yang jelas kolam nya untuk olahraga. cukup bersih dan terawat meskipun kecil, harga nya juga terjangkau. kalau umum 17.000', 'kolam di sebelah lapangan hitam kodam brawijaya', 'mungkin panas ea.. tmpt berteduhnya kurang', 'tempat renang dengan harga yang terjangkau dan kolamnya yang bersih', 'murah. kamar mandi ok. sayang gazebonya minim sekali. kualitas air agak kotor. kebersihan sekitar kolam cukup terjaga.', 'tempatnya kurang bersih,murah sich memang masuknya,makanannya juga enak murah2', 'harga cukup murah tetapi terlihat kotor', 'cocok buat anak2 maupun dewasa', 'mau renang murah,nyaman,bersih,luas ya disini guys, kantinnya jg recomend g buat kantong bolong', 'oke lah, tapi yg 3 meter sudah agak kotor kurang diperhatikan, kamar ganti juga kurang diperhatikan. kalo pagi siang puanass wkwk', 'kolam renang lumayan bersih, sedikit kaporit sehingga tidak terlalu pedih di mata. cuman kamar mandi nya kurang diperhatikan. ada kolam renang untuk anak-anak.', 'kolam renang lumayan bersih, sedikit kaporit sehingga tidak terlalu pedih di mata. cuman kamar mandi nya kurang diperhatikan. ada kolam renang untuk anak-anak.', 'lmyn bersih tp air kdg bnyk kaporitnya', 'kebersihan kolam&kamar mandi sangat\" kurang', 'parkir luas...  dan tempat bagus untuk berenang', 'tempatnya oke sih harga juga terjangkau tapi sayang air di mata terlalu gelap percuma juga kalo pake kacamata pas nyebur', 'cukup menyenangkan unt olah raga dan bermain. tiket tergolong murah. cukup bersih sayang air di kamar bilas kecil. ada warung dan tempat parkir oke.', 'biaya > hari kerja: rp 15k, biaya akhir pekan: rp 17k tempat parkir yang luas …', 'kolam renang baru didaerah kodam 5brawijaya htm 15rb', 'murah meriah hanya sekedar untuk menyenangkan anak dan melatih anak renang hari biasa htm 15000 hari libur htm 17000', 'mantaap tapi perlu tempat duduk yang lebih banyak lagi yaaa buat yang menunggu biar ga ngeper duduknya.', 'enak cuma kurang tempat untuk berteduh', 'kolamnya lebar lumayan buat renang...', 'bagus,luas kolamnya, parkir luas,tempat mudah dijangkau,,tapi tempat teduhnya kurang,,jadi panas banget ..kursi tempat duduknya kurang banyak', 'kolam renang ternyaman yg saya lihat....kolam anak ada....dewasa ada...pelatihan untuk renang ada ..kantin terjangkau harganya...mantab dah...ga rugi ngajak keluarga atau temen temen kesini …', 'harga tiket murah. kolam renang ada tempat bermain untuk anak2. dan ada kolam standar 50 mtr. cocok untuk yang pemula dan yg ingin belajar menjadi atlit renang. kebetulan sore hari ada aktifitas club renang millenium surabaya.\\nkantin ada banyak stand.', 'lumayan dekat rumah kamar mandinya oke sih tp kalau siang panasnya agk kerasa mungkin harus di kasih tutup atas.', 'tempatnya ramai, fasilitas lumayan sih, cuma sempet sekali yg kedalaman 1.5 meter hehe, jd penuh sesak, sy tdk berani di 2 meter', 'anak saya suka sekali berenang disini.', 'tempatnya lumayan luas, lumayan buat renangnya ana anak', 'ada plototan kolam renang brawijaya sekarang tutup buka hari rabu', 'kekurangan tempat ini yaitu airnya keruh dan waktu dbatasi untuk latihan tni al. jd tidak bisa renang sesuai waktu yg kita inginkan. klebihan tempat ini murah, banyak jenis kedalaman air untuk renang, trdapat kolam air renang anak kecil', 'kolam yg cukup luas tapi ampun dah kaporitnya over baru nyemplung mata perih merah banget dan kulit jdi cpt gosong', 'panas banget', 'karena memang tempatnya luas. tapi banyak kaporitnya jadi rambut saya sulit untuk nyisirnya', 'apa ini kolam untuk umum??', 'kolam renang brawijaya.  tempat yg nyaman buat anak belajar berenang', 'kolam renang yang bagus dengan harga yang terjangkau. tersedia berbagai level kedalaman dan juga mainan untuk anak. tersedia juga toko2 yang menjual makanan dan perlengkapan renang', 'tempat atlet club renang millenium berlatih', 'cocok utk berenang buat anak & keluarga', 'tmpatnya panas sekali....kurang teduh', 'koncentrasi koprit tinggi', 'kolam renang ini letaknya pas di sebelah lapangan kodam v brawijaya. ada 2 kolam di sana. kolam anak dan kolam dewasa. tempatnya cukup bersih, sayangnya tempat untuk menunggu panas.', 'buat berenang sambil menikmati lezatnya roti john', 'senang sekali berenang disini, harga terjangkau.', 'buka untuk umum hari sabtu minggu.', 'tempatya bagus', 'tempat nya nyaman dan bagus sekali.kolam renang nya luas dan banyak wahananya.tetapi toilet dan kamar mandi nya kotor dan banyak bekas tanah atau sandal', 'tangga yg buat naik kekolam renang terlalu tinggi bikin orang jatuh...korbannya saya dan anak saya...n katanya jg banyak orang lain yg terpeleset di sana...', 'tempat nyaman buat renang sama keluarga', 'kualitas airnya sudah tidak baik digunakan,setelah renang kulit jadi perih panas dan membuat gatal', 'tempat murah cocok buat liburan, saya suka', 'kolam renangnya bagus, nyaman, luas. cocok utk keluarga ada kolam renang anak2 yg cukup luas dilengkapi permainan. airnya bersih ga perih d mata. harganya terjangkau 15rb. terletak d wilayah kodam brawijaya surabaya. gampang kok nyarinya.', 'ramai,tempat parkir panas', 'sya kasih 4 karena prusutanya cuman1', 'kurang bersih, full aroma kaporit kamar mandi plusnya tdp ruang tunggal yg sayangnya tergenang shg sulit utk menjaga kesucian', 'lokasi sangat strategis. karna berada di sekitaran komplek markas marinir', 'saya senang krn dekat rumah, bisa membantu proses tinggi hehe', 'murah meriah. terdalam 3 meter untuk dewasa', 'bersih dan menyenangkan untuk berenang bersama teman maupun keluarga.', 'kolam renangnya bagus banget', 'bersih dan yang jelas murah.', 'no comments dah hahaha  …', 'airnya jernih. prosesnya air masuk di saring - keluar di saring masuk lagi di saring. full filter', 'tersenyum itu indah,apalagi mengajak keluarga untuk bersenang-senang tidak akan pernah terlewatkan. dengan adanya kolam renang terdekat dari rumah apalagi fasilitasnya pun tidak kalah dari pada yg lain.  lebih suka mengajak keluarga kesini.', 'kolam renang yg baru sudah sangat besar dan dilengkapi dengan kolam renang khusus anak anak dengan fasilitas perosotan. namun sayang tidak dilengkapi tempat duduk yg cukup dan kamar ganti kurang bagus', 'kolam renangnya luas ada selurutan buat anak -anak', 'kolam renang yang cukup bagus. kecil, dan agak kotor sekalipun. airnya agak kehijauan. …', 'anda harus datang pada pagi hari, masih ada beberapa orang. pintu masuk murah dan rata-rata bersih. ada pop mie, teh dingin, air mineral dingin.', 'ademmmm, rulexss, santuy', 'cuman kolam renang, ga usah ngarep lebih', 'tempayt bagus harga baik', 'kurang fasilitas seperti fitnes', 'kalo liburan rame sekali', 'parkir : gratis harga tiket : - weekdays : 15.000 …', 'tiketnya murah 17rb an semua hari sama anak dan dewasa harga ticket sama.. kolamnya ada 2 ..anak dan dewasa , untuk dewasa mulai kedalaman 140cm - 3m', 'untuk harga 15k-17k sebenernya udah bagus. cuman airnya itu keruh banget, bau kaporit nya nyengat, serignya ramai. buat yang pengen renang harus cari hari yang sepi, soalnya kolamnya gak terlalu besar.', 'kolam renangnya luas.. ada yang kedalamannya lebih dari dua meter.. ada juga kolam renang untuk anak kecil.. didalam juga memyewakan ban + pompa angin, ada yang jual makanan.. so tidak kuatir kelaparan... satu lagi ruang ganti banyak.. pas kesana.. sayang flow airnya kecil', 'cocok untuk berenang dengan suasana tenang dan tidak terlalu ramai di hari kerja.\\nloket masuk cukup terjangkau juga harga makanan dan minuman relatif murah. …', 'sempit, ternyata kecil, itu kan kolam renang umum semua orang yg masuk pasti bayar. disaat ada pelatihan renang disuruh minggir, itu pun nggak cuman 5 bisa sampek 10 orang yg latihan disana. udah gitu pelatihan renang nya sampek 3 grup, …', 'harga tiket murah cuman 15.000, lumayan sepi cocok untuk yang suka tempat sepi.', 'fasilitas b aja jajan didalam worth it dan murah2 sekelas warkop cuma nungguin anak les renang aja disuruh bayar …', 'mencari kolam renang di sekitar kodam? pilihan terdekat adalah kolam renang hayam wuruk ini. …', 'kolam renang gak begitu luas tapi bagus ada 2 untuk anak 2 dan dewasa, ada kantin, harga 15k free parkir', 'pas datang bukan hari libur jadi enak sepi.\\nkolamnya ada 2....\\n1 dewasa …', 'kolam renang di tengah kota surabaya yang murah, air jernih, kolam luas, ada kursus renang bagi pemula dan di pandu pelatih yang profesional dengan tiket masuk yg relatif terjangkau', 'kolamnya lumayan buat latihan no problem... yg mau ikut club renang bisa contact saya +6285648080000', 'hanya tersedia 2 kolam renang. anak2 dan dewasa. bagus utk belajar renang krn tdk terlalu bnyk wahana permainan.', 'kerennnn betahhh murahhh meskipun rame karena barengan yg latihannn jugaaa', 'pool nya lumayan bersih... ada utk dewasa dan ada utk anak anak...', 'kolamnya cuman satu , sabtu minggu lebih ramai , hari biasa lebih menenangkan', 'murah banget, pas banget di kantong, tapi sayang sekali kolamya kotor seperti tidak terawat. begitu juga are sekitar kolamnya, tidak bersih.', 'wekend sangat enak buat memanjakan diri dan anak² untuk berenang bersama, ditambah jajanan yg sangat nafsu kita meronta ronta untuk membeli setelah renang perut jadi lapar.', 'harga tiket 15 rb. ada kolam renang anak ditambah perosotan. ada playground. meja gazebo ada yg rusak... kamar mandi jadul beberapa bersih tp sebagian kurang kebersihannya.. pintunya jg bnyak yg tidak ada kuncinya.. air kolam rata2 lah kbersihannya. sayang tiap jam 11 istirahat dan buka lagi jam 1.', 'kotor ya airnya kotor kamar mandi samgat kotor …', 'buka jam 08.00 - 16.00 htm hari biasa 15rbu kalo weekend 20rbu kalo ga salah', 'lokasi kecil, tapi nyaman buat latihan, karena kedalaman kolam sudah sesuai buat latihan.', 'kolam renang hayam wuruk. kantin ada hanya kurang lengkap menunya. tempat parkir cukup. ruang ganti / toilet ada dan bersih, loker ada di bantu juga dengan penjaganya. …', 'murah banget, cuma ada dua kolam. kedalamannya dalam satu kolam bervariasi, ukuran kolam renangnya seperti standar lomba renang. kamar gantinya banyak, ada tempat sewa kacamata dan baju renang, saat masuk ke dalam langsung kantin.', 'kolam renangnya kecil dan cm 2, kebersihan nya standard. ga ada mainannya. jadi kalo buat anak2 kurang cocok. lebih cocok untuk les renang, tempatnya sepi ga rame, tiketnya juga cm 17rb murah.', 'lumayan bersih untuk les renang..murah masuknya nyaman tempatnya', 'tempatnya cukup ramai dan kolam juga bersih. disini hanya ada 2 kolam, 1 kolam untuk anak anak dan 1 lagi kolam untuk remaja dengan kedalaman 1 - 3 meter', 'disamping kolam renang yg melatih tentara, buat umun jg bisa dan yg lg ngetren dijaman now roti john yg lg fenomenal mboook seperti orang antri sembako....', 'airnya jernih, langsung di kedalaman 2 meter bagi yang sudah bisa berenang, tapi ada juga yang kedalamannya dari 50 cm sampai 1 meter untuk yang mau belajar berenang.', 'tempatnya nyaman... bersih... harga makanannya bs dijangkau...', 'murah.. cocok utk yg belajar renang', 'nilai historynya sangat tinggi, masa kecil saya 1', 'selalu jd tempat favorit sejak sikecil usia 5th', 'semoga terus eksis dan di tingkatkan terus untuk pemeliharaan dan perawatan kolam renang nya', 'airnya keruh sepertinya tidak ada sirkulasi air dan banyak sampah botol berkeliaran di sekitar kolam renangnya', 'parkir baik @rp.3000 tiket masuk 17.000, kamar mandi cukup bersih kolam renang biasa buka jam 07.30', 'beberapa kali kesini bagian bawah kolam masih banyak lumutnya, kamar gantinya sering mati airnya dan harus lapor dulu baru di \"pancing\" airnya buat keluar', 'renang sabtu pagi.. suasananya enak dan relatif sepi dibandingkan hari minggu pagi.. karcis berenang hanya 17rb', 'bagus, kadang air bersih banget pas bru dibersihkan tp kadang agak kotor htm 17rb …', ' tp kadang agak kotor ', 'tidak terlalu ramai, apalagi weekday jadi lebih puas berenangnya', 'kolam renang bersih, dan murah. tiket cuma 25.000 saat weekend (tahun 2021). kalau mau sewa lokernya harga 10.000 dengan jaminan ktp. tempat ruang gantinya juga banyak bilik untuk mandinya. jadi gak usah khawatir antre. nilai plusnya lagi, …', 'terima privat renang minimal usia 5 thn  laki/ wanita - dewasa / anak anak/ orang tua', 'lumayan baik, tiket masuk murah', 'kedalaman kolam renang 1,5-3 m, ada kolam renang anak-anak', 'senin - jumat harga 15rb\\nkebersihan kamar mandi kurang mungkin bangunan lama ..\\nkolam anak kurang bersih .. …', 'lumayan buat pemula..kuliner yg enak diluar kolam renang', 'kesini sama suami & anak.\\nhtm 17k per orang (saya kesana weekdays, kurang tau kalau weekend berapa.\\npanas sih. panas terik banget karena tidak ada kanopi nya.', 'kolam renang ini tempatnya di jalan hayam wuruk yaitu setelah sutos arah ke gunungsari. …', 'kolam nya cepat menghijau. jadi terlohat buteg.', 'kolam renang yg tidak begitu dikenal oleh masyarakat, tapi bersih dan baik untuk perenang pemula tahap belajar.', 'area kolam renang mudah di jangkau, hrg ticket murah & kualitas air kolam sesuai harga nya..\\nhati² bagi pemula krn kolam renang hayam wuruk pada sisi utara sangat dalam..', 'paling nyaman datang saat baru buka, bisa berenang sepuas mungkin. dibanding kolam renang lain di surabaya, di sini paling sedikit obatnya sehingga aman berenang tanpa kacamata', 'buat latihan renang lumayan tetapi ga boleh pakai sandal jadi agak panas', 'utk kejernihan airnya lumayanlah. td cukup ramai krn hari libur. buat yg nyari ketenangan mending weekday hehe fasilitas dan lain2 juga termasuk lumayan', 'kolam renang ini tidak seperti kolam renang di tempat lain. di sini hanya terdapat satu kolam renang besar untuk dewasa dan satu kolam renang kecil untuk anak2 yg hanya ada satu buah perosotan sj. tidak ada permainan air lainnya. kolam …', 'fasilitasnya perlu banyak diperbaiki', 'airnya gak kayak dlu , banyak kaporitnya . kebersihannya normal tpi di kolam kurang bersih. tapi tetep aja tempat renang termurah dan terjangkau hehe', 'yg mau les renang buat putra putrix pas di sini tempatx', 'kolamnya bgus bersih ada tmpt bertduh di bwah pohon mangga yg besar dan ada juga ayunannya tp sayang airnya terlalu pekat dengan kandungan kaporit hrg makanannya pun juga tergolong mahal', 'tempatnya lumayan, harga makanan dan minuman disana juga standart cuma area untuk pengantar sangat panas kl siang', 'air kolam gak masalah dinding2 kolam berlumut tebal kamar shower terlihat tak terawat ditemukan botol plastik di dasar area kolam 2,5 m', 'bagus bagus syg tdi cm satu jam renangnya', 'pas dtg sore, air kolam sudah sangat2 keruh. banyak daun2 yg ngambang di kolam, seperti tdk dibersihkan. kamar ganti jg berlumut', 'kolam renangnya bersih ada tempat duduk sehingga bisa menaruh barang bawaan tiket masuknya juga murah harga kalau hari biasa 15 rb kalau sabtu /minggu 17 rb', 'suka renang disini..airnya bersih pas baru dibersihkan juga kolam renangnya..ga terlalu ramai jd pengawasan bisa lebih ekstra..', 'kolam nya bersih, lokasi bersih nyaman dan tenang, kantin buka', 'kolam renangnya bagus n bersih cocok untuk anak2 bermain serta kolam dewasanya cocok buat latihan', 'bagus untuk anak2 yg masih pemula,,,dan pelatih nya baik,,', 'bagus buat si anak belajar berenang,gk terlalu ramai pengunjung,murah 17/orang,akses jalan mudah,parkir is ok,cocok buat senangin buah hati', 'air kamar bilas mati, krn petugas tidak siap siaga mengecek mesin pompa airnya', 'tiketnya 17ribu ..paling dalam 3 meter kolamnya kecil rasanya kyk kolam sendiri..hari minggu airnya butek jaral pandang 2cm aja. entah beningnya hari apa ya?', 'cocok bagi pelajar ato yg mau belajar', 'kurg bgs, pns & g nyaman bgt tmptx kyk g terurus, aplgi pohon yg bikin dgin dlu itu d tebang, jd terasa pns bgt', 'maintenance kolam parah', 'kolam renang yang kurang lengkap,karena tidak terdapat permainan anak anak,lwbih tepatnya diperuntukan untuk orang yang berlatih renang', 'kolam renang ini bagus untuk belajar renang karena tidak terlalu banyak wahana permainan, dan airnya jernih dan bersih.', 'kualitas airnya bagus, tapi kamar mandinya kurang higienis', 'lumayan nyaman sih tempatnya dan harga tiket nya juga ekonomis, cuman 17k saja', 'harga murah tapi banyak kurangnya', 'kolam renangnya tidak terlalu besar cukup untuk kebersihannya', 'kolam renangnya tidak terlalu besar ', 'kolamnya banyak keramik yang pecah...udah gt banyak penjaga bapak bapak ngeliatin bikin risih', 'kamar ganti kotor......g terawat.....kolam renang kecil...', 'tiket murah mines nya kolam nya terlalu kecil dan sepi pengujung', 'kolam renang dengan htm yg murah, namun untuk kolam anak² airnya kurang bersih', 'bagus dan murah, kalau ingin berlatih berenang juga ada pelatihnya', 'kolamnya bagus , cocok untuk melatih renang kita', 'tempatnya cukup untuk anak2 belajar berenang bagi pemula', 'fasilitas masih kurang bagi anak-anak, karena cuma kolom renang saja', 'badan aing gatel, setelah berenang. bagi anda yang tahan gatel sangat rekomen tapi saya nggak.', 'sometimes kolamnya kotor, tempat ruang gantinya kurang terawat.', 'tempat lumayan...tapi petugas kebersihan ..sangat kurang.', 'karena pohon nya banyak yang ditebang jadinya agak panas', 'lumayan bagus, tapi airnya kebanyakan kaporit. sehingga tampak kurang jernih.', 'kolamnya kecil, gak seru. tp ya cocok dg harganya yang murah', 'bagus dan bersih, harga murah cukup 15ribu', 'cukup bagus kalau untuk latihan renang', 'tidak terlalu menarik tempatnya. cocok untuk belajar renang', 'murah, tempat tidak terlalu panas, cocok buat latihan renang', 'kakak extra renang disini.... tempat bersih....menurut saya bagus dan nyaman', 'lumayan bagi yg ngidam renang..', 'bagus tempatnya tapi kolamnya cuma 1. wcnya bersih', '17 ribu terlalu mahal untuk sebuah kolam renang milik tni', 'lumayan bagus, buat anak anak perlu ditambah tempat mainnya', 'disarankan untuk warga surabaya selatan, selain strategis juga bersih dan tentunya dijamin aman dan nyaman', 'sarana untuk berlatih renang dan juga bisa untuk rekreasi keluarga', 'kolam renang yg terhitung murah dikawasan surabaya selatan.', 'kolam relatif bersih dan tertib. tersedia kolam untuk anak.', 'kolamnya bagus, tapi kurang perawatan', 'cukup aja buat renang enggak buat main', 'harga terjangkau lah meskipun weekend', 'tiket masuk tergolong murah. tempatnya lumayan', 'kolam renang murah meriah. kaporitnya buanyak', 'tmpt parkir luas dpn jln raya dan mudah akses mencarinya.', 'kolam nya bagus bayarnya juga murah bagi saya', 'tiket masuknya murah, tempat basuhnya kurang terang', ' tempat basuhnya kurang terang', 'kolam renang area kodam brawijaya yang terletak di jl. hayam wuruk surabaya.', 'tempat idola buat anak anakku', 'kolam renang hayam wuruk kalau malam menjadi pusat jajanan rakyat', 'buat yang lagi pingin belajar renang, disini tempatnya', 'tiket masuk murah, kolam bersih terawat', 'bersih, nyaman dan seru disaat bersama pasangan..', 'kolam renang nya agak kurang bersih sich', 'kurang menyenangkan', 'banyak orang jualan di depannya', 'tiket oktober 2019 17rb per org', 'murah dan lumayan enak', 'harga tiket murah tetapi fasilitas jelek.', '3 meter paling dalam', 'bakso kikil didepannya mantab', 'lumayan,murah dan bersih. yaaahh...deket dan murah lah', 'tetep yang terbaik buat harga, kesehatan,untuk kalangan kita ', 'kolam renang bagus dan murah ya disini tempatnya', 'lumayan untuk rekreasi murah dekat', 'tenpatnya sepi, kolamnya bersih. enak', 'tiket terjangkau bagus untuk belajar renang', 'kamar mandi kotor bau kencing', 'kolamnya bersih dan nyaman', 'awal jobi renang dimulai disini sampai bisa renang', 'bagus, murah dan bersih', 'ticket masuknya rp. 17 rb', 'buat pembelajaran renang cocok', 'kolam renang yang nyaman', 'pedes di mata,...', 'kolam renangnya bagus luas', 'fasilitas kurang mewadahi,,, terkesan kurang perawatan', 'apakah masih buka ketika ada psbb?', 'buka jam 07.00 rabu sekarang tutup', 'murah meriah yang penting bisa nyelem2', 'lumayan, tp airnya hijau', 'cukup aja sih ndak lebih', 'tempat nya kurang menarik dan biasa aja', 'bagus kolam renangnya', 'tempatnya terbuka n luas', 'kerena tempat parkirnya luas', 'kolam renang nya bersih', 'ada penjual sate didepannya', 'agak nyesel tapi ya udah lah', 'pengalaman menarik.. dan pelayanan yang bagus', 'lumayan tp kurang bersih', 'kamar mandi banyak tapi rusak', 'recovery training with team perseka kaimana', 'air nya sangat kotor', 'lumayan tempatnya bersih', 'fasilitas harus ditambah...', 'lumayan perlu pengembangan lagi', 'tingkatkan kebersihannya dong', 'panas dan airnya mengandung kaporit', 'cocok untuk belajar renang', 'katanya buka tapi pas kesana tutup', 'harusnya ditambah water boom', 'seger2 panas2 nang suroboyo', 'tempatnya enak bersih dan aman', 'tutup nya kok cpt ya', 'airnya kotor..', 'murah n bersih', 'perlu perbaikan fasilitas', 'lumayan sepi', 'kotor saya , gatal gatal ke sana', 'lumayan murah dan enak', 'buwuruk pol', 'sampahnya jorok banget', 'bersih dan nyaman', 'lumayan menyenangkan', 'kamar mandi yang bisa cuman satu gimana ya????', 'di pojokan selalu ada ludah', 'karena banya pereman', 'tempat sepi dan tenang', 'air keran ruang gantinya ', 'perlu banyak renovasi', 'kolam renang anak2 rusak', 'renang sedikit nabrak sempit banget', 'tolong kalau pengunjungnya sudah penuh jangan di tambah lagi yang masuk in mau renang jadi ga bisa', 'tempat latian tentara ad', 'tempat yang kurang strategis', 'kurang bersih', 'banyak sarang laba\"', 'murah meriah.', 'lumayan murah', 'harganya naik?', 'kolam renang dekat sutos', 'yaaahh lumayan', 'cukup bagus', 'tempatnya kurang nyaman', 'kamar mandinya ga ada kuncinya.. mohon dibenarkan', 'tempat anak aku berenang', 'sampahnya banyak', 'murah meriah', 'sampahnya banyak', 'bagus dan  santai', 'lumayan', 'tong sampah gaada', 'tempatnya kecil tidak terlalu besar jadi sempit', 'yang jaga sewa ban suka ilang', 'hoax', 'mantab', 'bagusssss', 'jelek', 'lumayan', 'murah', 'kreatif', 'tempat tunggu kurang', 'tempat renang dan tc', 'kolam renang hayam wuruk', 'panas kurang teduh', 'kotor', 'menyenangkan..', 'kolam renang mantab', 'cocok bagi mereka yang membutuhkan kolam renang profesional.', 'bagus untuk berenang dan sedikit menyelam, area kolam terdalam berada di 2,2 meter, kamar mandinya ok, tidak bagus hanya ok.', 'kamar kecil adalah yang terburuk dan kamar mandi tidak memiliki partisi, meninggalkan anda tanpa privasi.', 'bagus, kolam renang bagus', 'tidak buruk', 'tempat yang begitu-begitu., tidak ada pembaruan perbaikan', 'kolam renang yang bagus dan bersih...', 'penjaga kolam sedikit', 'kolam besar, memiliki kedalaman beragam, cocok untuk olahraga renang', 'kolam murah & bagus, tapi toiletnya harus direnovasi', 'bagus dan menyenangkan', 'tempat yang bagus bersih', 'bagus .. butuh lebih banyak waterpark sebagai poin plus', 'kolam renang \"terbaru\" ini lebih bersih dari sebelumnya', 'sangat memalukan kamar kecil atau toilet tidak dikelola dengan baik :(', 'terlepas dari kondisi toilet yang buruk, kolam renangnya bagus!', 'membutuhkan pemeliharaan pembaharuan', 'kolam renang yang direkomendasikan.', 'tempat yang bagus untuk latihan', 'yaaah saya belajar berenang di kolam itu', 'ya tempat favorit untuk berenang..', 'tempatnya cukup bersih', 'jorok', 'ya baik', 'toiletnya tidak bersih', 'penitipan barang bayar tapi tempt tunggu dikit, gimana sih ini???', 'tempat yang indah untuk swwiiiiiiimmmm', 'kalo yang nunggu ikut masuk semuah bingung buat duduk soalnya tempat duduknya sedikit', 'bagus hanya untuk berenang karena kurang fasilitas air', 'lebih bagus dari sebelumnya', 'kamar mandi jelek', 'kolam bersih, itu benar', 'jorok', 'penjaganya tidak ada', 'tempt kotor tidak terawat. syg sekali', 'jorok', 'kursi pengunjung di tambah lahh', 'lumayan tp kamar mandinya perlu perbaikan', 'tolong di kasi apa gitu buat atas kolamnya agar ndak puanas seperti terbakar', 'kolam renang yang bagus', 'airnya sangat panas sehingga melukai mata', 'air nya perih banget ke mata kalo ngak pakek kacamata', 'kolam yang bersih', 'tolong di perhatikan kualitas air,dan tempat peminjaman alat bantu renangnya', 'kolam renang yang bagus', 'di area kolam renang fasilitas toilet. ada tapi di kunci. mohon segera di realisasi', 'alat keamanan kurang', 'tempat yang cukup nyaman bagi yang suka berenang.', 'bersih, harus bawa kaca mata renang, kaporitnya kuat, pintu masuk ti …', 'kolam renangnya luas.', 'tempat bersih, parkiran luas, pintu masuk murah…', 'harga tiketnya terjangkau, kalau mau les renang ada al …', 'tempat bersih, sayangnya kurang jualan makanan di dalam.', 'kolam renang anak-anak rusak, air keran di ruang ganti kecil kalau bisa diperbaiki lagi,', 'sempurna untuk menyegarkan di panas kami…', 'enak sih, murah meriah, tapi pas weekend kayak dawet', 'tiket bagus, enak, murah', 'harga tiket masuk sangat terjangkau…', 'kolam renang umum, harga masuknya terjangkau, sayangnya tidak ada banyak mainan', 'tempat luas, air bersih, cocok untuk anak belajar renang …', 'harap bersihkan lagi sebelum kolam renang dibuka', 'tempat masuk murah & nyaman pokoknya puas bisa berenang ', 'tempat oke, fasilitas oke, harga oke, cuma kebersihan kamar mandi perlu…', 'tempatnya bersih dan luas, harga tiketnya murah banget highly recommen…', 'inilah kolam renang yang tepat, bagi anda yang ingin intens berlatih berenang, terutama yang ingin tes kedinasan…', 'kolam renangnya besar, enak buat olahraga, parkir luas, pintu masuk murah…', 'tempatnya seru dan ramai sekali.', 'tempatnya luas, menampung banyak pengunjung.', 'kotor ', 'lumayan bersih untuk kolam renang yang tidak di daerah pegunungan', 'kolam renangnya sangat bagus dan tempatnya sangat luas.', 'mau tanya.. ada info kursus berenang untuk anak.. bisa hubungi saya???', 'kolam renangnya bagus, tapi sayangnya kamar mandinya masih kotor', 'air kolam lumayan bersih, toilet, kamar mandi, ruang ganti…', 'hari minggu agak kotor karena dikuras hari senin sampai selasa, ', 'kemarin waktu saya ke sana kolamnya kotor,', 'lebar, tapi terlalu banyak klorin membuatnya panas di kulit', 'air kolam lumayan bersih, lingkungan juga bersih karena banyak …', 'di kolam renang, gor di tribun masih kotor banyak yang membuang sampah sembarangan.', 'lebih bagus dan pak siring juga bawa anak-anak kesana untuk berenang, tingkatkan lagi kebersihannya…', 'kolam renang luas.. parkir luas.. panas banget pas ', 'kolam renangnya bersih tapi tolong perbaiki pintu kamar mandi wanita', 'terkadang air kolam renang kotor.', 'bersih dan murah.... latihan renang anak', 'tempat yang sangat luas, htm sangat murah', 'sarana olah raga murah sudah banyak diperbaiki.', 'kolam renang murah di disurabaya minim mainan anak', 'mending sekarang..  kamar mandi baru.. plus ada ruang ganti.. ', 'tempat untuk berenang atau les renang.', 'fasilitas kolam renang seperti tempat duduk tidak mengakomodir kebutuhan untuk bersantai...', 'ini sudah cukup bagus.', 'penjaga kolam sering tidak memperhatikan', 'tempat yang bagus.', 'tempatnya bersih, cukup nyaman untuk berenang, dan harganya sangat terjangkau…', 'kolamnya bagus, tapi kualitas airnya kadang jernih, kadang hijau', 'kolam renang atlet, lebih bersih dan rapi, mantap, maju terus…', 'banyak pelatih, pelatihnya ramah kadang airnya jernih, kadang tidak, kadang …', 'tempat terbaik untuk berkumpul dan berolahraga bersama keluarga atau sendirian', 'tempatnya luas dan airnya segar plus ada kolam renangnya …', 'harap perhatikan kualitas air, dan tempat pinjam …', 'cukup ok, airnya sangat dingin.', 'banyak sampah di kolam renang', 'gampang ditemui', 'kotor. banyak ludah dan masa anak dsuruh kencing dekat kolam. kurang dpantauan kebersihanya…', 'jorok', 'rame banget banyak pengunjung yang datang', 'karyawannya kurang ramah.', 'masih tutup', 'suka renang disini..airnya bersih pas baru dibersihkan juga kolam renangnya..ga terlalu ramai jd pengawasan bisa lebih ekstra..', 'kolam renang airnya asin', 'untuk satu pengawas pilih kasih banget.', 'kacau', 'saya pikir itu agak terlalu mahal.', 'kamar mandinya jelek', 'kolam renang yang buka cukup lama', 'pengawasan kurang', 'air berwarna hijau kalau musim panas ya harus dibersihkan kena panas dan banyak orang renang drpada musim hujan', 'masih bau kaporit, perlu ditingkatkan lagi .', 'shower di kamar mandi kurang keras.', 'pertama kali ke situ langsung kecewa', 'kotor', 'banyak kamar mandi yang rusak', 'suasana nya oke, tapi air nya asin ', 'hijau', 'panas', 'kecewa sama penjaga kurang ramah', ' buruk', 'agak sepi sekarang', 'kecewa sekarang makin buruk', 'itu panas', 'bikin kepleset', 'berita palsu', 'mainan anaknya di rawat dong', 'kenapa tempat duduk sedikit sekali', 'kudu lepas sandal padaal panas banget', 'aduh kolamnya bikin mata perih', 'agak kurang yaaa', 'kamar mandi tolong dong di bersihin', 'ala kadarnya', 'kenapa sepi', 'hanya lebih bersih dan lebih biru', 'hebat... kolam renangnya besar ', 'lebih baik, bau klorin masih nyengat', 'cukup menyenangkan, hanya saja karyawannya tidak ramah', 'nyaman untuk belajar berenang ', 'suasananya bagus ... murah…', 'tempat yang bagus, tapi tentang kebersihan, itu tidak bersih.', 'fasilitas kamar mandi tidak bersih', 'tempat untuk berlatih berenang dari kecil', 'murah dan ceria, tidak terlalu banyak favorit', 'cocok untuk melatih anak-anak …', 'pintu ke ruang ganti wanita rusak', 'besar, harga murah dan kolam besar', 'lumayan untuk belajar renang', 'tolong perbaiki kamar mandi', 'kotor dan bau.. kurang dirawat', 'tempatnya bagus tapi masih belum bersih', 'saya di sini ketika ada acara besar', 'pengunjung tidak disiplin membuang sampah', 'airnya jernih dan klorinnya banyak', 'kolam renangnya bersih dan fasilitasnya bagus', 'anak-anak saya menyukainya', 'bersih, nyaman, cocok untuk berenang', 'kolam renang tidak buruk', 'kolam renang favorit. .. keluarga dan bersih', 'kolam renang yang bagus. . . sangat direkomendasikan', 'kolam renangnya bagus, harganya juga bagus. . .', 'tempat keren yang bagus untuk berenang']\n"
          ]
        }
      ]
    },
    {
      "cell_type": "markdown",
      "source": [
        "**TOKENIZING**"
      ],
      "metadata": {
        "id": "3Vbro7V20fxd"
      }
    },
    {
      "cell_type": "code",
      "source": [
        "#TOKENIZING STEP\n",
        "\n",
        "from nltk.tokenize import word_tokenize #library nltk untuk proses tokenizing\n",
        "from nltk.probability import FreqDist #untuk merekam frekuensi setiap kata\n",
        "nltk.download('punkt') #nltk library tool untuk tokenizing dokumen\n",
        "\n",
        "#menghapus karakter spesial\n",
        "def hapus_karakter_spesial(data):\n",
        "  #mengganti sebuah substring tab, enter dengan substring spasi\n",
        "  data = data.replace('\\\\t',\" \").replace('\\\\n',\" \").replace('\\\\u',\" \").replace('\\\\',\" \")\n",
        "  #menghapus emoticon\n",
        "  data= data.encode('ascii', 'replace').decode('ascii')\n",
        "  #fungsi sub untuk menggantikan string || fungsi split untuk mengembalikan string yang telah dipisah\n",
        "  data= ' '.join(re.sub(\"([@#][A-Za-z0-9]+)|(\\w+:\\/\\/\\S+)\",\" \", data).split())\n",
        "  return data\n",
        "Ulasan_low = list(map(hapus_karakter_spesial, Ulasan_low))\n",
        "\n",
        "#menghapus angka\n",
        "def hapus_angka(data):\n",
        "  return re.sub(r\"\\d+\", \" \", data)\n",
        "Ulasan_low = list(map(hapus_angka, Ulasan_low))\n",
        "\n",
        "#menghilangkan tanda baca\n",
        "def punctuation(data):\n",
        "  remove = string.punctuation\n",
        "  translator= str.maketrans(remove, ' '*len(remove))\n",
        "  data = data.translate(translator)\n",
        "  return data\n",
        "Ulasan_low = list(map(punctuation, Ulasan_low))\n",
        "\n",
        "#proses tokenizing dengan punkt natural language toolkit\n",
        "def tokenizing(data):\n",
        "  return word_tokenize(data)\n",
        "Ulasan_token = list(map(tokenizing, Ulasan_low))\n"
      ],
      "metadata": {
        "id": "ZX9wEW2bmPVu",
        "colab": {
          "base_uri": "https://localhost:8080/"
        },
        "outputId": "cfb8bedd-8b37-4f7d-8823-980e50f4ffbf"
      },
      "execution_count": 5,
      "outputs": [
        {
          "output_type": "stream",
          "name": "stderr",
          "text": [
            "[nltk_data] Downloading package punkt to /root/nltk_data...\n",
            "[nltk_data]   Unzipping tokenizers/punkt.zip.\n"
          ]
        }
      ]
    },
    {
      "cell_type": "code",
      "source": [
        "print ('HASIL TOKENIZING')\n",
        "print (Ulasan_token)"
      ],
      "metadata": {
        "colab": {
          "base_uri": "https://localhost:8080/"
        },
        "id": "GNOj-BS7q4zp",
        "outputId": "4b388fce-4b13-4366-a1f9-a3c8da3bc86d"
      },
      "execution_count": null,
      "outputs": [
        {
          "output_type": "stream",
          "name": "stdout",
          "text": [
            "HASIL TOKENIZING\n",
            "[['tempatnya', 'nyaman', 'parkirnya', 'luas', 'tapi', 'kadang', 'kamar', 'mandinya', 'agak', 'kotor'], ['tempat', 'bagus', 'bersih', 'namun', 'kamar', 'mandi', 'sering', 'nya', 'kotor', 'mungkin', 'bisa', 'petugas', 'nya', 'mengecek', 'setengah', 'jam', 'sekali', 'sejam', 'sekali', 'utk', 'tetap', 'terjaga', 'kebersihannya', 'air'], ['sekarang', 'kolam', 'anak', 'panas', 'gk', 'kayak', 'dulu', 'di', 'kasih', 'hiasan', 'jd', 'adem', 'terlindung', 'dr', 'panas', 'bwt', 'anak'], ['kamar', 'mandi', 'kurang', 'bersih'], ['aku', 'suka', 'banget', 'renang', 'di', 'sana', 'aku', 'juga', 'hari', 'sabtu', 'mau', 'ke', 'sana', 'nech', 'doa', 'ini', 'aja', 'enggak', 'hujan', 'ya', 'gasy'], ['baru', 'pertama', 'kesini', 'nyesel', 'masuk', 'kebanyakan', 'aturan', 'sy', 'yg', 'ngantar', 'aja', 'pakai', 'sepatu', 'ga', 'boleh', 'istri', 'dampingi', 'anak', 'renang', 'ga', 'boleh', 'pakai', 'kaos', 'kaki'], ['ak', 'ada', 'sarana', 'fitnes'], ['banyak', 'peraturan'], ['renang', 'disini', 'lokernya', 'harus', 'pake', 'kartu', 'pelajar', 'jadi', 'gabisa', 'make', 'loger', 'padahal', 'adekku', 'masih', 'belom', 'dapet', 'ga', 'dapet', 'loker', 'akhirnya', 'uang', 'adekku', 'hilang', 'aduh', 'kzl', 'bgt'], ['jangan', 'datang', 'di', 'hari', 'minggu', 'ruaamee', 'boss'], ['mahal'], ['please', 'pak', 'senin', 'buka', 'seperti', 'jam', 'lain', 'saya', 'kerja', 'libur', 'cuma', 'hari', 'senin', 'saya', 'pengen', 'lama', 'renangnya', 'pengen', 'tinggi', 'biar', 'bisa', 'kejar', 'kartika', 'eka', 'paksi'], ['harga', 'semakin', 'naik'], ['tempatnya', 'nyaman', 'bersih', 'pegawai', 'ramah', 'dan', 'airnya', 'serta', 'kamar', 'ganti', 'bersih', 'rapi', 'tempat', 'parkir', 'luas', 'dan', 'nyaman'], ['kolam', 'renangnya', 'bagus', 'namun', 'hr', 'ini', 'yg', 'kolam', 'besar', 'agak', 'hijau', 'kolamnya', 'juga', 'di', 'bagi', 'dua', 'ada', 'untuk', 'anak', 'dan', 'dewasa', 'juga', 'kamar', 'mandinya', 'juga', 'bersih', 'hari', 'minggu', 'harga', 'tiketnya', 'k'], ['sudah', 'lumayan', 'tetapi', 'lebih', 'diperhatikan', 'untuk', 'fasilitas', 'km', 'pria', 'karena', 'banyak', 'engsel', 'pintu', 'dan', 'pengganjal', 'pintu', 'yang', 'rusak'], ['tempatnya', 'luas', 'htm', 'rbu', 'hari', 'libur'], ['kolam', 'renangnya', 'bagus', 'bersih', 'untuk', 'pakaian', 'juga', 'bebas', 'tidak', 'harus', 'pakai', 'pakaian', 'renang', 'kolamnya', 'juga', 'di', 'bagi', 'dua', 'ada', 'untuk', 'anak', 'dan', 'dewasa', 'juga', 'kamar', 'mandinya', 'juga', 'bersih', 'hari', 'minggu', 'harga', 'tiketnya', 'k'], ['kolamnya', 'bagus', 'tapi', 'jajannya', 'kurang'], ['lengkap', 'dan', 'profesional'], ['sangat', 'panas', 'tdk', 'ada', 'pepohonan', 'tmpt', 'bagi', 'pengunjung', 'dikit', 'keramik', 'pinggir', 'kolam', 'renang', 'licin', 'extra', 'hati', 'utk', 'anak', 'intinya', 'belum', 'rekomended', 'bagi', 'keluarga', 'kami'], ['tempat', 'yg', 'bagus', 'buat', 'anak', 'okelah', 'harga', 'tiket', 'murah', 'dan', 'bersih', 'tempatnya', 'sayang', 'aja', 'airnya', 'kolam', 'anak', 'aja', 'yg', 'agak', 'keruh', 'klo', 'kolam', 'dewasa', 'bersih', 'banget'], ['liburan', 'murah', 'meriah', 'hari', 'minggu', 'ecu'], ['kolam', 'renang', 'militer', 'yang', 'dibuka', 'untuk', 'umum', 'di', 'masa', 'pandemi', 'covid', 'tetap', 'buka', 'namun', 'dengan', 'pembatasan', 'jumlah', 'pengunjung', 'kawasan', 'patuh', 'prokes', 'kualitas', 'air', 'kolam', 'selalu', 'terjaga', 'tim', 'sarnya', 'ramah', 'ruang', 'bilas', 'modern', 'dan', 'bersih', 'kantin', 'musholla', 'parkiran', 'luas', 'dan', 'aman'], ['sangat', 'kecewa', 'minggu', 'pagi', 'tadi', 'saya', 'sama', 'istri', 'dan', 'anak', 'saya', 'berniat', 'rekreasi', 'di', 'kolam', 'renang', 'brawijaya', 'saya', 'beli', 'tiket', 'masuk', 'untuk', 'ke', 'anak', 'saya', 'yang', 'ingin', 'berenang', 'di', 'kolam', 'renang', 'ini', 'sehabis', 'saya', 'beli', 'tiket', 'dengan', 'harga', 'per'], ['tempat', 'bersih', 'dan', 'nyaman'], ['salah', 'satu', 'kolam', 'renang', 'yang', 'menurutku', 'enak', 'di', 'surabaya', 'terdapat', 'kolam', 'besar', 'dan', 'kecil', 'untuk', 'minggu', 'buka', 'jam', 'tp', 'sebelum', 'jam', 'sudah', 'banyak', 'yg', 'menunggu', 'kolam', 'buka', 'di', 'hari', 'minggu', 'kena', 'untuk', 'tiket', 'masuk', 'per', 'orang'], ['temapat', 'nya', 'nyaman', 'dan', 'aman'], ['tempatny', 'luas', 'namun', 'masih', 'kurang', 'untuk', 'tempat', 'pengunjung', 'dan', 'juga', 'permainan', 'perlu', 'di', 'tambahi', 'itu', 'semakin', 'siiipp', 'dan', 'ramai', 'pengunjung'], ['tempat', 'nya', 'luas', 'dan', 'nyaman', 'bersih', 'tapi', 'sayang', 'anak', 'dibawah', 'thn', 'di', 'sruh', 'bayar', 'pdhal', 'di', 'wisata', 'lain', 'anak', 'di', 'bawah', 'thn', 'free', 'masuk', 'nya', 'karcis', 'rb', 'kepala'], ['aman', 'untuk', 'anak', 'bersih', 'pengawasan'], ['kolam', 'renang', 'berada', 'di', 'tepi', 'jalan', 'cukup', 'mudah', 'di', 'akses', 'berada', 'di', 'komplek', 'perumahan', 'kodam', 'cukup', 'ramai', 'dikunjungi', 'oleh', 'warga', 'terutama', 'dihari', 'libur'], ['bagi', 'anda', 'yang', 'membutuhkan', 'jasa', 'pelatih', 'renang', 'silahkan', 'hubungi', 'tlp', 'wa'], ['nyaman', 'murah', 'meria', 'saran', 'jgn', 'datang', 'hr', 'libur', 'pasti', 'penuh', 'kamrn', 'mandi', 'nya', 'susah', 'klo', 'liburan'], ['disini', 'airnya', 'bersih', 'tapi', 'hati', 'hati', 'harus', 'tau', 'ukuran', 'ke', 'dalemannya', 'ya', 'gays'], ['bagus', 'ada', 'kolam', 'anak', 'yang', 'cukup', 'besar', 'luncuran', 'slide', 'kolam', 'dewasa', 'ukuran', 'standard', 'internasional', 'kedalaman', 'hingga', 'm', 'lebih', 'air', 'cukup', 'jernih', 'hrg', 'tiket', 'relatif', 'murah', 'utk', 'kolam', 'di', 'kota', 'surabaya'], ['kolamnya', 'bersih', 'rapi', 'protokol', 'kesehatan', 'bagus', 'ada', 'kantin', 'kamar', 'ganti', 'bersih', 'tersedia', 'loker', 'parkir', 'cukup', 'luas', 'bebas', 'bawa', 'makanan', 'dr', 'luar', 'saran', 'aja', 'mgkn', 'utk', 'anak', 'yg', 'les', 'renang', 'disana', 'bisa', 'diberlakukan', 'harga', 'member', 'gitu', 'misalnya'], ['tempat', 'nya', 'lumayan', 'enak', 'saran', 'saja', 'lebih', 'baik', 'pinggir', 'dikasih', 'alas', 'agar', 'tidak', 'terpeleset', 'krn', 'saya', 'paling', 'sering', 'melihat', 'anak', 'terpeleset', 'dan', 'agar', 'tidak', 'panas', 'saat', 'jalan', 'ke', 'arah', 'kolam', 'krn', 'hrs', 'lepas', 'alas', 'kaki'], ['sudah', 'cukup', 'buat', 'anak', 'anak', 'yang', 'masih', 'mengenal', 'air', 'sebelum', 'ke', 'tahap', 'belajar', 'berenang', 'dengan', 'sungguh', 'lokasi', 'mudah', 'dijangkau', 'dan', 'tiket', 'masuk', 'sebanding', 'dengan', 'yang', 'didapatkan'], ['bila', 'ada', 'event', 'menunggu', 'lama'], ['tempat', 'nya', 'bersih', 'dan', 'ada', 'permainan', 'nya', 'harga', 'tiket', 'pun', 'terjangkau'], ['murah', 'dan', 'pasti', 'nyaman', 'bisa', 'hemat', 'saat', 'liburan', 'sama', 'kuluarga'], ['mohon', 'ditambah', 'tempat', 'duduk', 'serta', 'payung', 'tenda', 'meja', 'biar', 'kebagian', 'tiap', 'pengunjung', 'yang', 'datang', 'semuanya', 'cukup', 'baik', 'dari', 'kualitas', 'air', 'kolam', 'yang', 'tidak', 'buat', 'mata', 'merah', 'sakit', 'kamar', 'ganti', 'yang', 'sudah', 'baik', 'mohon', 'tetap', 'dijaga', 'kebersihannya'], ['fasilitas', 'kamar', 'mandi', 'kamar', 'ganti', 'sudah', 'jadi', 'bagus', 'air', 'kolam', 'tidak', 'pedih', 'dimata'], ['kolam', 'renang', 'dewasa', 'dan', 'anak', 'besar', 'ada', 'perosotan', 'cukup', 'besar', 'di', 'kolam', 'anak', 'tempat', 'bilas', 'bersih', 'dan', 'tertata', 'tempat', 'duduk', 'tersedia', 'cukup', 'banyak'], ['kolam', 'renangnya', 'lengkap', 'ada', 'yg', 'buat', 'anak', 'kecil', 'dan', 'ada', 'yg', 'sedalam', 'meter', 'hahaha', 'tp', 'waktu', 'sya', 'kesana', 'air', 'nya', 'agak', 'keruh', 'dan', 'wrnanya', 'hijau', 'kalau', 'lebih', 'sering', 'dikuras', 'pasti', 'lebih', 'bagus', 'gan', 'apalagi', 'yg', 'tiketnya', 'agak', 'mahal', 'hehe'], ['tempatnya', 'cukup', 'bersih', 'luas', 'bikin', 'nyaman', 'ada', 'pool', 'pool', 'kids', 'pool', 'untuk', 'dewasa', 'kamar', 'mandi', 'ruang', 'ganti', 'lumayan', 'besar', 'bersih'], ['tempat', 'berlatih', 'renang', 'yang', 'dekat', 'bersih', 'dengan', 'harga', 'terjangkau'], ['tempatnya', 'bersih', 'cocok', 'untuk', 'keluarga'], ['tempanya', 'lumayan', 'bersihh', 'ruang', 'kamar', 'mandi', 'ganti', 'rapi', 'dan', 'bersih', 'area', 'kantin', 'bersih', 'dgn', 'harga', 'normal', 'masukan', 'aja', 'ditambah', 'pepohonan', 'biar', 'tampak', 'asri', 'dan', 'mungkin', 'perlu', 'ditambah', 'tempat', 'utk', 'berteduh', 'klo', 'siangan', 'dikit', 'panass', 'boss'], ['bersih', 'gak', 'terlalu', 'ramai'], ['tempat', 'nya', 'sangat', 'bagus', 'bersih', 'tapi', 'masukan', 'saya', 'cuman', 'tolong', 'shower', 'nya', 'di', 'benarkan', 'karena', 'mati', 'dan', 'kita', 'harus', 'antri', 'untuk', 'mandi'], ['kedalaman', 'lumayan', 'air', 'jernih', 'kaporitnya', 'itu', 'lho'], ['nyaman', 'bersih', 'suka'], ['cukup', 'bersih', 'ada', 'tempat', 'makan', 'mengejutkan', 'harganya', 'murah'], ['kolam', 'bersih', 'ruang', 'ganti', 'bagus', 'parkir', 'aman'], ['tiket', 'untuk', 'masuk', 'kolam', 'ini', 'di', 'hari', 'senin', 'kedalaman', 'kolam', 'sampai', 'meter', 'ada', 'kolam', 'buat', 'anak', 'anak', 'juga'], ['deket', 'dr', 'rmh', 'sdh', 'nyaman', 'buat', 'anak', 'renang'], ['harga', 'tiket', 'murah', 'weekend', 'ribu', 'per', 'org', 'sy', 'tiap', 'minggu', 'ke', 'sini', 'krn', 'ngantar', 'anak', 'les', 'renang', 'tapi', 'kolam', 'kurang', 'bersih', 'lantai', 'pinggir', 'kolam', 'becek', 'lantai', 'kantin', 'becek', 'ruang', 'bilas', 'perempuan', 'lantainya', 'becek', 'saluran', 'air', 'tersumbat', 'banjir'], ['penjaganya', 'ilang', 'ilang', 'terus'], ['kolam', 'renang', 'termurah', 'yang', 'pernah', 'kami', 'singgahi', 'kalau', 'gak', 'salah', 'tiket', 'masuk', 'rb', 'rb', 'untuk', 'weekday', 'dan', 'weekend', 'untuk', 'anak', 'anak', 'balita', 'disarankan', 'ada', 'pendamping', 'karena', 'tidak', 'ada', 'pembatas', 'untuk', 'kolam', 'dewasa', 'dan', 'anak', 'anak'], ['tempatnya', 'cocok', 'banget', 'buat', 'anak', 'kecil'], ['cukup', 'bagus', 'untuk', 'kolam', 'renang', 'dengan', 'harga', 'murah', 'ruang', 'ganti', 'yang', 'layak', 'dan', 'banyak', 'kamar', 'mandi', 'termasuk', 'yang', 'di', 'luar', 'ukuran', 'dan', 'kedalaman', 'kolam', 'yang', 'bagus', 'perlu', 'diketahui', 'bahwa', 'kolam', 'itu', 'digunakan', 'untuk', 'pelatihan', 'militer', 'pada', 'hari', 'rabu', 'dan', 'kamis', 'pagi', 'disarankan', 'jika', 'anda', 'datang', 'pada', 'hari', 'ini', 'untuk', 'datang', 'nanti', 'sekitar', 'jam', 'pagi', 'ke', 'atas'], ['kalo', 'ngasi', 'kaporit', 'tolong', 'di', 'ukur', 'lagi', 'pedih', 'banget', 'di', 'mata'], ['bau', 'kaporitnya', 'nyengat', 'banget'], ['minggu', 'sekali', 'jadi', 'tempat', 'pilihan', 'piknik', 'keluarga', 'ada', 'kemajuan', 'toilet', 'uda', 'jadi', 'semoga', 'kedepannya', 'bisa', 'ditambah', 'bangku', 'ato', 'apalah', 'untuk', 'beristirahat', 'dan', 'berteduh', 'sukses', 'selalu'], ['mantap', 'airnya', 'bersih', 'dan', 'd', 'pinggir', 'kolam', 'airnya', 'ada', 'pelindung', 'sinar', 'mataharinya'], ['airnya', 'bersih', 'dan', 'ada', 'juga', 'kolam', 'anak', 'kecil', 'dan', 'dewasa', 'tiket', 'masuk', 'rb', 'hari', 'biasa', 'jumat', 'sampai', 'minggu', 'rb'], ['buat', 'yang', 'baca', 'ini', 'harga', 'ticket', 'di', 'kodam', 'mahal'], ['bagus', 'tiket', 'masuk', 'weekday', 'k', 'weekend', 'atau', 'tgl', 'merah', 'k', 'parkir', 'motor', 'dan', 'mobil', 'ada', 'yg', 'jaga', 'ada', 'persewaan', 'baju', 'renang', 'dan', 'trainer', 'anak', 'biasanya', 'ngajar', 'disana', 'air', 'beraih', 'dan', 'segar', 'kamar', 'ganti', 'pria', 'sedang', 'direnovasi', 'tp', 'ada', 'km', 'cadangan', 'yg', 'vip'], ['kolam', 'renangnya', 'tambah', 'bagus', 'daripada', 'jauh', 'lumayan', 'dekat', 'rumah'], ['tenpat', 'enak', 'buat', 'renang', 'baik', 'bagi', 'pemula', 'ekspert', 'ataupun', 'anak', 'anak', 'kolam', 'paling', 'dalam', 'm', 'dan', 'yg', 'masih', 'belajar', 'bisa', 'di', 'kedalaman', 'm'], ['asiikkk', 'banyak', 'yg', 'renang', 'disini', 'bersih'], ['lingkungan', 'kolam', 'renangnya', 'kotor', 'banyak', 'sampah', 'pengunjung', 'yang', 'tidak', 'dibersihkan', 'alat', 'penunjang', 'di', 'kolam', 'anak', 'sudah', 'banyak', 'yang', 'keropos', 'dan', 'khawatir', 'akan', 'melukai', 'anak', 'yang', 'bermain'], ['htm', 'terjangkau', 'tempat', 'nyaman'], ['mantap', 'tempatnya', 'tapi', 'masi', 'kurang', 'untuk', 'ruang', 'tunggunya', 'yg', 'harus', 'di', 'tambah'], ['kaporit', 'berlebihan', 'sampai', 'susah', 'nyisir', 'rambut'], ['tempatnya', 'bagus', 'cuma', 'perlu', 'perbaikan', 'lagi', 'dan', 'untuk', 'ganti', 'baju', 'mohon', 'ditambah', 'tempatnya', 'lagi', 'kalau', 'dihari', 'minggu', 'banyak', 'pengunjungnya', 'jadi', 'mau', 'ganti', 'harus', 'nunggu', 'agak', 'lama'], ['sangat', 'bagus', 'sekali', 'cuman', 'sayang', 'kmar', 'mndi', 'nya', 'blum', 'd', 'prbaiki'], ['tidak', 'terasa', 'panas', 'apabila', 'siang', 'karena', 'ada', 'kanopinya'], ['murah', 'meriah', 'utk', 'rakyat', 'rp', 'ribu', 'untuk', 'weekend', 'konsekuensinya', 'terlihat', 'lebih', 'jorok'], ['enak', 'sih', 'tapi', 'sayang', 'ruang', 'gantinya', 'jadi', 'satu', 'dengan', 'pria', 'apa', 'dalam', 'perbaikan'], ['tempatnya', 'lumayan', 'ada', 'kolam', 'tipe', 'akses', 'parkir', 'luas', 'harga', 'normal', 'hari', 'biasa', 'k', 'hari', 'libur', 'k', 'tmpt', 'buat', 'mandi', 'outdoor', 'bossss', 'disediakan', 'ruang', 'ganti', 'untung', 'udah', 'dipisah', 'ada', 'kantin', 'harga', 'dua', 'kali', 'lipat', 'tentunya', 'air', 'nya', 'bau'], ['tempat', 'gantinya', 'kurang', 'bagus', 'kotor'], ['dekat', 'dengan', 'rmh', 'tempatnya', 'jjg', 'asyik'], ['kolam', 'renang', 'yang', 'cukup', 'utk', 'anak', 'saya'], ['kolam', 'renang', 'nya', 'yg', 'cukup', 'luas', 'dijamin', 'puas', 'jika', 'anda', 'mempunyai', 'hobby', 'berenang', 'hanya', 'saja', 'untuk', 'tempat', 'duduk', 'pengunjung', 'masih', 'minimalis'], ['kolamnya', 'oke', 'ada', 'wahana', 'buat', 'anak', 'tapi', 'sayang', 'gazebo', 'kurang', 'buat', 'yg', 'nunggu', 'anak', 'nya', 'berenang'], ['tempatnya', 'nyaman', 'bersih', 'dan', 'luas', 'ada', 'loker', 'juga', 'untuk', 'simpan', 'barang', 'bawaan', 'cukup', 'kasih', 'ktp', 'dan', 'bayar', 'rb'], ['pengawasnya', 'jangan', 'ilang', 'terus', 'kalo', 'ada', 'yang', 'tenggelam', 'bahaya'], ['kurang', 'terawat'], ['kamar', 'mandi', 'ganti', 'antri'], ['kalo', 'gaada', 'pengawas', 'jangan', 'coba', 'coba', 'ke', 'tempat', 'yang', 'dalam'], ['ini', 'adalah', 'kunjungan', 'pertama', 'kami', 'di', 'akhir', 'pekan', 'dan', 'itu', 'ramai', 'banyak', 'siswa', 'junior', 'mengambil', 'kursus', 'renang', 'di', 'sini', 'pada', 'hari', 'itu', 'hanya', 'ada', 'satu', 'bagian', 'ruang', 'ganti', 'unisex', 'karena', 'ruang', 'ganti', 'dibenahi'], ['bagus', 'murah', 'sayang', 'butek'], ['untuk', 'harga', 'segitu', 'mahal', 'ya', 'termasuknya'], ['bagus', 'untuk', 'yang', 'udah', 'lumayan', 'bisa', 'renang', 'kalau', 'weekend', 'sangat', 'ramai', 'dan', 'crowded'], ['panas'], ['syg', 'tutupnya', 'sampai', 'jam', 'sore', 'padahal', 'msh', 'banyak', 'yg', 'pingin', 'renang', 'd', 'sore', 'hari'], ['hari', 'sabtu', 'apa', 'lagi', 'hari', 'libur', 'penuh'], ['murah', 'meriah', 'cocok', 'buat', 'keluarga', 'besar', 'karena', 'bersih', 'juga'], ['tempat', 'yg', 'nyaman', 'bersama', 'keluarga', 'kolam', 'renangnya', 'bagus', 'dan', 'ada', 'petugas', 'yg', 'selalu', 'siap', 'siaga', 'jika', 'terjadi', 'hal', 'yg', 'tidak', 'diinginkan'], ['kualitas', 'air', 'bersih', 'cuma', 'kurang', 'tempat', 'duduk'], ['mie', 'nya', 'enak', 'bgt', 'kalo', 'pake', 'telor'], ['kolam', 'renang', 'nya', 'bagus', 'bersih', 'wahana', 'untuk', 'anak', 'juga', 'ada', 'tapi', 'untuk', 'kebersihan', 'ruang', 'ganti', 'dan', 'toilet', 'butuh', 'untuk', 'ditingkatkan', 'harga', 'tiket', 'masuk', 'untuk', 'dewasa', 'ribu', 'di', 'kawasan', 'kolam', 'renang', 'ada', 'juga', 'kantin', 'yang', 'menyediakan', 'makanan'], ['nyaman', 'n', 'harga', 'ekonomis', 'cuman', 'kadang', 'airny', 'kotor'], ['airnya', 'lumayan', 'bersih', 'dan', 'harganya', 'terjangkau'], ['tempatnya', 'enak', 'ramai', 'n', 'harga', 'tiket', 'masuk', 'ramah', 'dikantong', 'pastinya'], ['kamar', 'mandinya', 'banyak', 'pintu', 'yang', 'rusak', 'dan', 'kotor', 'banget', 'selebihnya', 'bagus', 'hanya', 'kebersihan', 'kamar', 'mandi', 'tolong', 'ditingkatkan', 'lagi'], ['tutup', 'terlalu', 'awal'], ['tempat', 'ny', 'kotor', 'kaporit', 'ny', 'tinggi', 'kotoran', 'di', 'air', 'ny', 'banyak'], ['lumayan', 'sih', 'dengan', 'harga', 'rb', 'di', 'weekend', 'hanya', 'saja', 'tempat', 'duduk', 'buat', 'yg', 'nunggu', 'terbatas', 'sekali'], ['untuk', 'kolam', 'renang', 'yang', 'dewasa', 'sangat', 'sepi'], ['sandal', 'tdk', 'boleh', 'di', 'pake', 'di', 'sekitar', 'area', 'kolam', 'renang', 'tpi', 'makan', 'di', 'area', 'kolam', 'boleh', 'aneeehhh'], ['agak', 'serem', 'ya', 'kelihatannya'], ['licin', 'lantainya'], ['lumayan', 'bagus', 'buat', 'rombongan', 'anak', 'sekolah'], ['kolamnya', 'luas', 'dan', 'sangat', 'bersih', 'serta', 'nyaman'], ['kebersihan', 'dan', 'perawatan', 'fasilitas', 'perlu', 'ditingkatkan'], ['tempatnya', 'bagus', 'dan', 'meskipun', 'panas', 'tapi', 'ada', 'penjaganya', 'yang', 'menyirami', 'lantai', 'agar', 'tidak', 'panas', 'di', 'kaki'], ['recommended', 'sekali', 'untuk', 'rekreasi', 'keluarga', 'dan', 'yang', 'punya', 'niat', 'olahraga', 'renang', 'tempatnya', 'bagus', 'bersih', 'airnya', 'jernih', 'tiket', 'sangat', 'terjangkau'], ['asyik', 'tp', 'panas', 'n', 'kamar', 'mandi', 'kurang', 'terjaga', 'kebersihannya'], ['kolam', 'renang', 'yang', 'nyaman', 'untuk', 'latihan', 'kalo', 'sepi'], ['lumayan', 'buat', 'nyenening', 'anak'], ['kalau', 'kesini', 'hari', 'jumat', 'air', 'sangat', 'jernih', 'karena', 'jadwal', 'kuras', 'nya', 'hari', 'kamis', 'pagi'], ['penjaga', 'senyumnya', 'mahal', 'bnget'], ['kolam', 'renang', 'nya', 'bersih', 'dan', 'ada', 'wahana', 'juga', 'buat', 'anak', 'kecil'], ['kolam', 'renangnya', 'ada', 'untuk', 'dewasa', 'gak', 'ada', 'kaporitnya', 'dan', 'yg', 'untuk', 'anak', 'ada', 'mainannya', 'cocok', 'banget', 'buat', 'weekend', 'htm', 'k', 'sesuai', 'sm', 'fasilitasnya'], ['rekreasi', 'murah', 'meriah'], ['dua', 'puluh', 'ribu', 'sabtu', 'dan', 'minggu'], ['tempat', 'buat', 'nunggu', 'kurang', 'nyaman', 'terlalu', 'sedikit'], ['kurang', 'bersih'], ['bagus', 'dan', 'bersih', 'dan', 'sangat', 'menyenangkn', 'utk', 'ank', 'kecil'], ['kolam', 'renangnya', 'b', 'aja', 'harganya', 'lumayan', 'mahal', 'untuk', 'kolam', 'yg', 'begitu', 'apalagi', 'anak', 'ty', 'keatas', 'harus', 'bayar', 'full', 'harga', 'makanan', 'yg', 'tersedia', 'relatif', 'tersedia', 'penyewaan', 'karpet', 'rb', 'dan', 'ban', 'kecil', 'rb'], ['kolam', 'renang', 'murah', 'di', 'surabaya', 'tapi', 'ramai', 'saat', 'weekend'], ['rabu', 'tgl', 'juni', 'karena', 'liburan', 'hari', 'raya', 'sekarang', 'masuk', 'tiket', 'nya', 'rb'], ['strategis', 'bersih', 'lengkap'], ['bersih', 'tempatnya', 'enak', 'dn', 'harga', 'terjangkai'], ['tempat', 'nya', 'bersih', 'airnya', 'bersih', 'kamar', 'mandi', 'lumayan', 'cuman', 'di', 'mata', 'cepat', 'perih'], ['mantap', 'lebih', 'ditingkatkan', 'lagi', 'fasilitasnya'], ['agak', 'was', 'was', 'dengan', 'barang', 'bawaan'], ['kolam', 'renang', 'murah', 'dan', 'ramai', 'di', 'akhir', 'pekan', 'memiliki', 'taman', 'bermain', 'air', 'untuk', 'anak', 'anak', 'ada', 'penjual', 'makanan', 'musholla', 'penyewaan', 'baju', 'renang', 'dan', 'penjual', 'tapi', 'toilet', 'tidak', 'cukup', 'bersih', 'parkir', 'kendaraan', 'cukup', 'luas'], ['airnya', 'perih'], ['puanas', 'pol'], ['air', 'nya', 'dingin', 'sayangnya', 'tidak', 'ada', 'atapnya'], ['sangat', 'luas', 'untuk', 'belajar', 'berenang', 'bersih', 'dan', 'nyaman', 'walau', 'di', 'wilayah', 'kompleks', 'tentara', 'brawijaya', 'surabaya', 'harga', 'masuk', 'sangat', 'murah', 'hanya', 'dengan', 'k', 'kita', 'dapat', 'berenang', 'sepuasnya', 'apalagi', 'jika', 'saat', 'sepi', 'pengunjung', 'seakan', 'di', 'rumah', 'sendiri'], ['renang', 'disini', 'enak', 'kolamnya', 'besar', 'dan', 'bersih'], ['bagian', 'dari', 'sport', 'complex', 'brawijaya', 'bagus', 'dan', 'bermanfaat', 'bagi', 'masyarakat'], ['kolam', 'renangnya', 'besar', 'murah', 'tapi', 'ruang', 'ganti', 'tidak', 'bagus', 'cukup', 'kotor', 'dan', 'tidak', 'nyaman'], ['kolam', 'renang', 'yg', 'aku', 'favoritkan', 'krna', 'tidak', 'jauh', 'dri', 'rumah', 'kolam', 'renangnya', 'bersih', 'kamar', 'mandinya', 'juga', 'bersih', 'yg', 'paling', 'berkesan', 'adalah', 'pas', 'renang', 'bareng', 'sama', 'latihannya', 'pak', 'tni', 'didalam', 'satu', 'kolam', 'pak', 'tni', 'nya', 'juga', 'ramah', 'tidak', 'mengusir', 'meskipun', 'kolam', 'renangnya', 'tidak', 'luas', 'tpi', 'cukup', 'menyenangkan'], ['air', 'kolam', 'bersih', 'fasilitas', 'dan', 'tempat', 'parkir', 'memadai', 'tp', 'perlu', 'diperindah', 'lg', 'sepertinya'], ['bagus', 'bersih', 'dan', 'ramai', 'pengunjung', 'parkirnya', 'luas', 'lagi'], ['kesan', 'pertama', 'kali', 'main', 'di', 'sini', 'bersih', 'air', 'kolamnya', 'krn', 'trus', 'diisi', 'dan', 'kamar', 'mandinya', 'relatif', 'terawat', 'dibanding', 'kolam', 'publik', 'lain', 'dengan', 'tarif', 'yg', 'sama', 'rb'], ['idaman', 'buat', 'anak', 'anak', 'cuman', 'perlu', 'dibenahi', 'lagi', 'masalah', 'fasilitas'], ['yang', 'jelas', 'kolam', 'nya', 'untuk', 'olahraga', 'cukup', 'bersih', 'dan', 'terawat', 'meskipun', 'kecil', 'harga', 'nya', 'juga', 'terjangkau', 'kalau', 'umum'], ['kolam', 'di', 'sebelah', 'lapangan', 'hitam', 'kodam', 'brawijaya'], ['mungkin', 'panas', 'ea', 'tmpt', 'berteduhnya', 'kurang'], ['tempat', 'renang', 'dengan', 'harga', 'yang', 'terjangkau', 'dan', 'kolamnya', 'yang', 'bersih'], ['murah', 'kamar', 'mandi', 'ok', 'sayang', 'gazebonya', 'minim', 'sekali', 'kualitas', 'air', 'agak', 'kotor', 'kebersihan', 'sekitar', 'kolam', 'cukup', 'terjaga'], ['tempatnya', 'kurang', 'bersih', 'murah', 'sich', 'memang', 'masuknya', 'makanannya', 'juga', 'enak', 'murah'], ['harga', 'cukup', 'murah', 'tetapi', 'terlihat', 'kotor'], ['cocok', 'buat', 'anak', 'maupun', 'dewasa'], ['mau', 'renang', 'murah', 'nyaman', 'bersih', 'luas', 'ya', 'disini', 'guys', 'kantinnya', 'jg', 'recomend', 'g', 'buat', 'kantong', 'bolong'], ['oke', 'lah', 'tapi', 'yg', 'meter', 'sudah', 'agak', 'kotor', 'kurang', 'diperhatikan', 'kamar', 'ganti', 'juga', 'kurang', 'diperhatikan', 'kalo', 'pagi', 'siang', 'puanass', 'wkwk'], ['kolam', 'renang', 'lumayan', 'bersih', 'sedikit', 'kaporit', 'sehingga', 'tidak', 'terlalu', 'pedih', 'di', 'mata', 'cuman', 'kamar', 'mandi', 'nya', 'kurang', 'diperhatikan', 'ada', 'kolam', 'renang', 'untuk', 'anak', 'anak'], ['kolam', 'renang', 'lumayan', 'bersih', 'sedikit', 'kaporit', 'sehingga', 'tidak', 'terlalu', 'pedih', 'di', 'mata', 'cuman', 'kamar', 'mandi', 'nya', 'kurang', 'diperhatikan', 'ada', 'kolam', 'renang', 'untuk', 'anak', 'anak'], ['lmyn', 'bersih', 'tp', 'air', 'kdg', 'bnyk', 'kaporitnya'], ['kebersihan', 'kolam', 'kamar', 'mandi', 'sangat', 'kurang'], ['parkir', 'luas', 'dan', 'tempat', 'bagus', 'untuk', 'berenang'], ['tempatnya', 'oke', 'sih', 'harga', 'juga', 'terjangkau', 'tapi', 'sayang', 'air', 'di', 'mata', 'terlalu', 'gelap', 'percuma', 'juga', 'kalo', 'pake', 'kacamata', 'pas', 'nyebur'], ['cukup', 'menyenangkan', 'unt', 'olah', 'raga', 'dan', 'bermain', 'tiket', 'tergolong', 'murah', 'cukup', 'bersih', 'sayang', 'air', 'di', 'kamar', 'bilas', 'kecil', 'ada', 'warung', 'dan', 'tempat', 'parkir', 'oke'], ['biaya', 'hari', 'kerja', 'rp', 'k', 'biaya', 'akhir', 'pekan', 'rp', 'k', 'tempat', 'parkir', 'yang', 'luas'], ['kolam', 'renang', 'baru', 'didaerah', 'kodam', 'brawijaya', 'htm', 'rb'], ['murah', 'meriah', 'hanya', 'sekedar', 'untuk', 'menyenangkan', 'anak', 'dan', 'melatih', 'anak', 'renang', 'hari', 'biasa', 'htm', 'hari', 'libur', 'htm'], ['mantaap', 'tapi', 'perlu', 'tempat', 'duduk', 'yang', 'lebih', 'banyak', 'lagi', 'yaaa', 'buat', 'yang', 'menunggu', 'biar', 'ga', 'ngeper', 'duduknya'], ['enak', 'cuma', 'kurang', 'tempat', 'untuk', 'berteduh'], ['kolamnya', 'lebar', 'lumayan', 'buat', 'renang'], ['bagus', 'luas', 'kolamnya', 'parkir', 'luas', 'tempat', 'mudah', 'dijangkau', 'tapi', 'tempat', 'teduhnya', 'kurang', 'jadi', 'panas', 'banget', 'kursi', 'tempat', 'duduknya', 'kurang', 'banyak'], ['kolam', 'renang', 'ternyaman', 'yg', 'saya', 'lihat', 'kolam', 'anak', 'ada', 'dewasa', 'ada', 'pelatihan', 'untuk', 'renang', 'ada', 'kantin', 'terjangkau', 'harganya', 'mantab', 'dah', 'ga', 'rugi', 'ngajak', 'keluarga', 'atau', 'temen', 'temen', 'kesini'], ['harga', 'tiket', 'murah', 'kolam', 'renang', 'ada', 'tempat', 'bermain', 'untuk', 'anak', 'dan', 'ada', 'kolam', 'standar', 'mtr', 'cocok', 'untuk', 'yang', 'pemula', 'dan', 'yg', 'ingin', 'belajar', 'menjadi', 'atlit', 'renang', 'kebetulan', 'sore', 'hari', 'ada', 'aktifitas', 'club', 'renang', 'millenium', 'surabaya', 'kantin', 'ada', 'banyak', 'stand'], ['lumayan', 'dekat', 'rumah', 'kamar', 'mandinya', 'oke', 'sih', 'tp', 'kalau', 'siang', 'panasnya', 'agk', 'kerasa', 'mungkin', 'harus', 'di', 'kasih', 'tutup', 'atas'], ['tempatnya', 'ramai', 'fasilitas', 'lumayan', 'sih', 'cuma', 'sempet', 'sekali', 'yg', 'kedalaman', 'meter', 'hehe', 'jd', 'penuh', 'sesak', 'sy', 'tdk', 'berani', 'di', 'meter'], ['anak', 'saya', 'suka', 'sekali', 'berenang', 'disini'], ['tempatnya', 'lumayan', 'luas', 'lumayan', 'buat', 'renangnya', 'ana', 'anak'], ['ada', 'plototan', 'kolam', 'renang', 'brawijaya', 'sekarang', 'tutup', 'buka', 'hari', 'rabu'], ['kekurangan', 'tempat', 'ini', 'yaitu', 'airnya', 'keruh', 'dan', 'waktu', 'dbatasi', 'untuk', 'latihan', 'tni', 'al', 'jd', 'tidak', 'bisa', 'renang', 'sesuai', 'waktu', 'yg', 'kita', 'inginkan', 'klebihan', 'tempat', 'ini', 'murah', 'banyak', 'jenis', 'kedalaman', 'air', 'untuk', 'renang', 'trdapat', 'kolam', 'air', 'renang', 'anak', 'kecil'], ['kolam', 'yg', 'cukup', 'luas', 'tapi', 'ampun', 'dah', 'kaporitnya', 'over', 'baru', 'nyemplung', 'mata', 'perih', 'merah', 'banget', 'dan', 'kulit', 'jdi', 'cpt', 'gosong'], ['panas', 'banget'], ['karena', 'memang', 'tempatnya', 'luas', 'tapi', 'banyak', 'kaporitnya', 'jadi', 'rambut', 'saya', 'sulit', 'untuk', 'nyisirnya'], ['apa', 'ini', 'kolam', 'untuk', 'umum'], ['kolam', 'renang', 'brawijaya', 'tempat', 'yg', 'nyaman', 'buat', 'anak', 'belajar', 'berenang'], ['kolam', 'renang', 'yang', 'bagus', 'dengan', 'harga', 'yang', 'terjangkau', 'tersedia', 'berbagai', 'level', 'kedalaman', 'dan', 'juga', 'mainan', 'untuk', 'anak', 'tersedia', 'juga', 'toko', 'yang', 'menjual', 'makanan', 'dan', 'perlengkapan', 'renang'], ['tempat', 'atlet', 'club', 'renang', 'millenium', 'berlatih'], ['cocok', 'utk', 'berenang', 'buat', 'anak', 'keluarga'], ['tmpatnya', 'panas', 'sekali', 'kurang', 'teduh'], ['koncentrasi', 'koprit', 'tinggi'], ['kolam', 'renang', 'ini', 'letaknya', 'pas', 'di', 'sebelah', 'lapangan', 'kodam', 'v', 'brawijaya', 'ada', 'kolam', 'di', 'sana', 'kolam', 'anak', 'dan', 'kolam', 'dewasa', 'tempatnya', 'cukup', 'bersih', 'sayangnya', 'tempat', 'untuk', 'menunggu', 'panas'], ['buat', 'berenang', 'sambil', 'menikmati', 'lezatnya', 'roti', 'john'], ['senang', 'sekali', 'berenang', 'disini', 'harga', 'terjangkau'], ['buka', 'untuk', 'umum', 'hari', 'sabtu', 'minggu'], ['tempatya', 'bagus'], ['tempat', 'nya', 'nyaman', 'dan', 'bagus', 'sekali', 'kolam', 'renang', 'nya', 'luas', 'dan', 'banyak', 'wahananya', 'tetapi', 'toilet', 'dan', 'kamar', 'mandi', 'nya', 'kotor', 'dan', 'banyak', 'bekas', 'tanah', 'atau', 'sandal'], ['tangga', 'yg', 'buat', 'naik', 'kekolam', 'renang', 'terlalu', 'tinggi', 'bikin', 'orang', 'jatuh', 'korbannya', 'saya', 'dan', 'anak', 'saya', 'n', 'katanya', 'jg', 'banyak', 'orang', 'lain', 'yg', 'terpeleset', 'di', 'sana'], ['tempat', 'nyaman', 'buat', 'renang', 'sama', 'keluarga'], ['kualitas', 'airnya', 'sudah', 'tidak', 'baik', 'digunakan', 'setelah', 'renang', 'kulit', 'jadi', 'perih', 'panas', 'dan', 'membuat', 'gatal'], ['tempat', 'murah', 'cocok', 'buat', 'liburan', 'saya', 'suka'], ['kolam', 'renangnya', 'bagus', 'nyaman', 'luas', 'cocok', 'utk', 'keluarga', 'ada', 'kolam', 'renang', 'anak', 'yg', 'cukup', 'luas', 'dilengkapi', 'permainan', 'airnya', 'bersih', 'ga', 'perih', 'd', 'mata', 'harganya', 'terjangkau', 'rb', 'terletak', 'd', 'wilayah', 'kodam', 'brawijaya', 'surabaya', 'gampang', 'kok', 'nyarinya'], ['ramai', 'tempat', 'parkir', 'panas'], ['sya', 'kasih', 'karena', 'prusutanya', 'cuman'], ['kurang', 'bersih', 'full', 'aroma', 'kaporit', 'kamar', 'mandi', 'plusnya', 'tdp', 'ruang', 'tunggal', 'yg', 'sayangnya', 'tergenang', 'shg', 'sulit', 'utk', 'menjaga', 'kesucian'], ['lokasi', 'sangat', 'strategis', 'karna', 'berada', 'di', 'sekitaran', 'komplek', 'markas', 'marinir'], ['saya', 'senang', 'krn', 'dekat', 'rumah', 'bisa', 'membantu', 'proses', 'tinggi', 'hehe'], ['murah', 'meriah', 'terdalam', 'meter', 'untuk', 'dewasa'], ['bersih', 'dan', 'menyenangkan', 'untuk', 'berenang', 'bersama', 'teman', 'maupun', 'keluarga'], ['kolam', 'renangnya', 'bagus', 'banget'], ['bersih', 'dan', 'yang', 'jelas', 'murah'], ['no', 'comments', 'dah', 'hahaha'], ['airnya', 'jernih', 'prosesnya', 'air', 'masuk', 'di', 'saring', 'keluar', 'di', 'saring', 'masuk', 'lagi', 'di', 'saring', 'full', 'filter'], ['tersenyum', 'itu', 'indah', 'apalagi', 'mengajak', 'keluarga', 'untuk', 'bersenang', 'senang', 'tidak', 'akan', 'pernah', 'terlewatkan', 'dengan', 'adanya', 'kolam', 'renang', 'terdekat', 'dari', 'rumah', 'apalagi', 'fasilitasnya', 'pun', 'tidak', 'kalah', 'dari', 'pada', 'yg', 'lain', 'lebih', 'suka', 'mengajak', 'keluarga', 'kesini'], ['kolam', 'renang', 'yg', 'baru', 'sudah', 'sangat', 'besar', 'dan', 'dilengkapi', 'dengan', 'kolam', 'renang', 'khusus', 'anak', 'anak', 'dengan', 'fasilitas', 'perosotan', 'namun', 'sayang', 'tidak', 'dilengkapi', 'tempat', 'duduk', 'yg', 'cukup', 'dan', 'kamar', 'ganti', 'kurang', 'bagus'], ['kolam', 'renangnya', 'luas', 'ada', 'selurutan', 'buat', 'anak', 'anak'], ['kolam', 'renang', 'yang', 'cukup', 'bagus', 'kecil', 'dan', 'agak', 'kotor', 'sekalipun', 'airnya', 'agak', 'kehijauan'], ['anda', 'harus', 'datang', 'pada', 'pagi', 'hari', 'masih', 'ada', 'beberapa', 'orang', 'pintu', 'masuk', 'murah', 'dan', 'rata', 'rata', 'bersih', 'ada', 'pop', 'mie', 'teh', 'dingin', 'air', 'mineral', 'dingin'], ['ademmmm', 'rulexss', 'santuy'], ['cuman', 'kolam', 'renang', 'ga', 'usah', 'ngarep', 'lebih'], ['tempayt', 'bagus', 'harga', 'baik'], ['kurang', 'fasilitas', 'seperti', 'fitnes'], ['kalo', 'liburan', 'rame', 'sekali'], ['parkir', 'gratis', 'harga', 'tiket', 'weekdays'], ['tiketnya', 'murah', 'rb', 'an', 'semua', 'hari', 'sama', 'anak', 'dan', 'dewasa', 'harga', 'ticket', 'sama', 'kolamnya', 'ada', 'anak', 'dan', 'dewasa', 'untuk', 'dewasa', 'mulai', 'kedalaman', 'cm', 'm'], ['untuk', 'harga', 'k', 'k', 'sebenernya', 'udah', 'bagus', 'cuman', 'airnya', 'itu', 'keruh', 'banget', 'bau', 'kaporit', 'nya', 'nyengat', 'serignya', 'ramai', 'buat', 'yang', 'pengen', 'renang', 'harus', 'cari', 'hari', 'yang', 'sepi', 'soalnya', 'kolamnya', 'gak', 'terlalu', 'besar'], ['kolam', 'renangnya', 'luas', 'ada', 'yang', 'kedalamannya', 'lebih', 'dari', 'dua', 'meter', 'ada', 'juga', 'kolam', 'renang', 'untuk', 'anak', 'kecil', 'didalam', 'juga', 'memyewakan', 'ban', 'pompa', 'angin', 'ada', 'yang', 'jual', 'makanan', 'so', 'tidak', 'kuatir', 'kelaparan', 'satu', 'lagi', 'ruang', 'ganti', 'banyak', 'pas', 'kesana', 'sayang', 'flow', 'airnya', 'kecil'], ['cocok', 'untuk', 'berenang', 'dengan', 'suasana', 'tenang', 'dan', 'tidak', 'terlalu', 'ramai', 'di', 'hari', 'kerja', 'loket', 'masuk', 'cukup', 'terjangkau', 'juga', 'harga', 'makanan', 'dan', 'minuman', 'relatif', 'murah'], ['sempit', 'ternyata', 'kecil', 'itu', 'kan', 'kolam', 'renang', 'umum', 'semua', 'orang', 'yg', 'masuk', 'pasti', 'bayar', 'disaat', 'ada', 'pelatihan', 'renang', 'disuruh', 'minggir', 'itu', 'pun', 'nggak', 'cuman', 'bisa', 'sampek', 'orang', 'yg', 'latihan', 'disana', 'udah', 'gitu', 'pelatihan', 'renang', 'nya', 'sampek', 'grup'], ['harga', 'tiket', 'murah', 'cuman', 'lumayan', 'sepi', 'cocok', 'untuk', 'yang', 'suka', 'tempat', 'sepi'], ['fasilitas', 'b', 'aja', 'jajan', 'didalam', 'worth', 'it', 'dan', 'murah', 'sekelas', 'warkop', 'cuma', 'nungguin', 'anak', 'les', 'renang', 'aja', 'disuruh', 'bayar'], ['mencari', 'kolam', 'renang', 'di', 'sekitar', 'kodam', 'pilihan', 'terdekat', 'adalah', 'kolam', 'renang', 'hayam', 'wuruk', 'ini'], ['kolam', 'renang', 'gak', 'begitu', 'luas', 'tapi', 'bagus', 'ada', 'untuk', 'anak', 'dan', 'dewasa', 'ada', 'kantin', 'harga', 'k', 'free', 'parkir'], ['pas', 'datang', 'bukan', 'hari', 'libur', 'jadi', 'enak', 'sepi', 'kolamnya', 'ada', 'dewasa'], ['kolam', 'renang', 'di', 'tengah', 'kota', 'surabaya', 'yang', 'murah', 'air', 'jernih', 'kolam', 'luas', 'ada', 'kursus', 'renang', 'bagi', 'pemula', 'dan', 'di', 'pandu', 'pelatih', 'yang', 'profesional', 'dengan', 'tiket', 'masuk', 'yg', 'relatif', 'terjangkau'], ['kolamnya', 'lumayan', 'buat', 'latihan', 'no', 'problem', 'yg', 'mau', 'ikut', 'club', 'renang', 'bisa', 'contact', 'saya'], ['hanya', 'tersedia', 'kolam', 'renang', 'anak', 'dan', 'dewasa', 'bagus', 'utk', 'belajar', 'renang', 'krn', 'tdk', 'terlalu', 'bnyk', 'wahana', 'permainan'], ['kerennnn', 'betahhh', 'murahhh', 'meskipun', 'rame', 'karena', 'barengan', 'yg', 'latihannn', 'jugaaa'], ['pool', 'nya', 'lumayan', 'bersih', 'ada', 'utk', 'dewasa', 'dan', 'ada', 'utk', 'anak', 'anak'], ['kolamnya', 'cuman', 'satu', 'sabtu', 'minggu', 'lebih', 'ramai', 'hari', 'biasa', 'lebih', 'menenangkan'], ['murah', 'banget', 'pas', 'banget', 'di', 'kantong', 'tapi', 'sayang', 'sekali', 'kolamya', 'kotor', 'seperti', 'tidak', 'terawat', 'begitu', 'juga', 'are', 'sekitar', 'kolamnya', 'tidak', 'bersih'], ['wekend', 'sangat', 'enak', 'buat', 'memanjakan', 'diri', 'dan', 'anak', 'untuk', 'berenang', 'bersama', 'ditambah', 'jajanan', 'yg', 'sangat', 'nafsu', 'kita', 'meronta', 'ronta', 'untuk', 'membeli', 'setelah', 'renang', 'perut', 'jadi', 'lapar'], ['harga', 'tiket', 'rb', 'ada', 'kolam', 'renang', 'anak', 'ditambah', 'perosotan', 'ada', 'playground', 'meja', 'gazebo', 'ada', 'yg', 'rusak', 'kamar', 'mandi', 'jadul', 'beberapa', 'bersih', 'tp', 'sebagian', 'kurang', 'kebersihannya', 'pintunya', 'jg', 'bnyak', 'yg', 'tidak', 'ada', 'kuncinya', 'air', 'kolam', 'rata', 'lah', 'kbersihannya', 'sayang', 'tiap', 'jam', 'istirahat', 'dan', 'buka', 'lagi', 'jam'], ['kotor', 'ya', 'airnya', 'kotor', 'kamar', 'mandi', 'samgat', 'kotor'], ['buka', 'jam', 'htm', 'hari', 'biasa', 'rbu', 'kalo', 'weekend', 'rbu', 'kalo', 'ga', 'salah'], ['lokasi', 'kecil', 'tapi', 'nyaman', 'buat', 'latihan', 'karena', 'kedalaman', 'kolam', 'sudah', 'sesuai', 'buat', 'latihan'], ['kolam', 'renang', 'hayam', 'wuruk', 'kantin', 'ada', 'hanya', 'kurang', 'lengkap', 'menunya', 'tempat', 'parkir', 'cukup', 'ruang', 'ganti', 'toilet', 'ada', 'dan', 'bersih', 'loker', 'ada', 'di', 'bantu', 'juga', 'dengan', 'penjaganya'], ['murah', 'banget', 'cuma', 'ada', 'dua', 'kolam', 'kedalamannya', 'dalam', 'satu', 'kolam', 'bervariasi', 'ukuran', 'kolam', 'renangnya', 'seperti', 'standar', 'lomba', 'renang', 'kamar', 'gantinya', 'banyak', 'ada', 'tempat', 'sewa', 'kacamata', 'dan', 'baju', 'renang', 'saat', 'masuk', 'ke', 'dalam', 'langsung', 'kantin'], ['kolam', 'renangnya', 'kecil', 'dan', 'cm', 'kebersihan', 'nya', 'standard', 'ga', 'ada', 'mainannya', 'jadi', 'kalo', 'buat', 'anak', 'kurang', 'cocok', 'lebih', 'cocok', 'untuk', 'les', 'renang', 'tempatnya', 'sepi', 'ga', 'rame', 'tiketnya', 'juga', 'cm', 'rb', 'murah'], ['lumayan', 'bersih', 'untuk', 'les', 'renang', 'murah', 'masuknya', 'nyaman', 'tempatnya'], ['tempatnya', 'cukup', 'ramai', 'dan', 'kolam', 'juga', 'bersih', 'disini', 'hanya', 'ada', 'kolam', 'kolam', 'untuk', 'anak', 'anak', 'dan', 'lagi', 'kolam', 'untuk', 'remaja', 'dengan', 'kedalaman', 'meter'], ['disamping', 'kolam', 'renang', 'yg', 'melatih', 'tentara', 'buat', 'umun', 'jg', 'bisa', 'dan', 'yg', 'lg', 'ngetren', 'dijaman', 'now', 'roti', 'john', 'yg', 'lg', 'fenomenal', 'mboook', 'seperti', 'orang', 'antri', 'sembako'], ['airnya', 'jernih', 'langsung', 'di', 'kedalaman', 'meter', 'bagi', 'yang', 'sudah', 'bisa', 'berenang', 'tapi', 'ada', 'juga', 'yang', 'kedalamannya', 'dari', 'cm', 'sampai', 'meter', 'untuk', 'yang', 'mau', 'belajar', 'berenang'], ['tempatnya', 'nyaman', 'bersih', 'harga', 'makanannya', 'bs', 'dijangkau'], ['murah', 'cocok', 'utk', 'yg', 'belajar', 'renang'], ['nilai', 'historynya', 'sangat', 'tinggi', 'masa', 'kecil', 'saya'], ['selalu', 'jd', 'tempat', 'favorit', 'sejak', 'sikecil', 'usia', 'th'], ['semoga', 'terus', 'eksis', 'dan', 'di', 'tingkatkan', 'terus', 'untuk', 'pemeliharaan', 'dan', 'perawatan', 'kolam', 'renang', 'nya'], ['airnya', 'keruh', 'sepertinya', 'tidak', 'ada', 'sirkulasi', 'air', 'dan', 'banyak', 'sampah', 'botol', 'berkeliaran', 'di', 'sekitar', 'kolam', 'renangnya'], ['parkir', 'baik', 'tiket', 'masuk', 'kamar', 'mandi', 'cukup', 'bersih', 'kolam', 'renang', 'biasa', 'buka', 'jam'], ['beberapa', 'kali', 'kesini', 'bagian', 'bawah', 'kolam', 'masih', 'banyak', 'lumutnya', 'kamar', 'gantinya', 'sering', 'mati', 'airnya', 'dan', 'harus', 'lapor', 'dulu', 'baru', 'di', 'pancing', 'airnya', 'buat', 'keluar'], ['renang', 'sabtu', 'pagi', 'suasananya', 'enak', 'dan', 'relatif', 'sepi', 'dibandingkan', 'hari', 'minggu', 'pagi', 'karcis', 'berenang', 'hanya', 'rb'], ['bagus', 'kadang', 'air', 'bersih', 'banget', 'pas', 'bru', 'dibersihkan', 'tp', 'kadang', 'agak', 'kotor', 'htm', 'rb'], ['tp', 'kadang', 'agak', 'kotor'], ['tidak', 'terlalu', 'ramai', 'apalagi', 'weekday', 'jadi', 'lebih', 'puas', 'berenangnya'], ['kolam', 'renang', 'bersih', 'dan', 'murah', 'tiket', 'cuma', 'saat', 'weekend', 'tahun', 'kalau', 'mau', 'sewa', 'lokernya', 'harga', 'dengan', 'jaminan', 'ktp', 'tempat', 'ruang', 'gantinya', 'juga', 'banyak', 'bilik', 'untuk', 'mandinya', 'jadi', 'gak', 'usah', 'khawatir', 'antre', 'nilai', 'plusnya', 'lagi'], ['terima', 'privat', 'renang', 'minimal', 'usia', 'thn', 'laki', 'wanita', 'dewasa', 'anak', 'anak', 'orang', 'tua'], ['lumayan', 'baik', 'tiket', 'masuk', 'murah'], ['kedalaman', 'kolam', 'renang', 'm', 'ada', 'kolam', 'renang', 'anak', 'anak'], ['senin', 'jumat', 'harga', 'rb', 'kebersihan', 'kamar', 'mandi', 'kurang', 'mungkin', 'bangunan', 'lama', 'kolam', 'anak', 'kurang', 'bersih'], ['lumayan', 'buat', 'pemula', 'kuliner', 'yg', 'enak', 'diluar', 'kolam', 'renang'], ['kesini', 'sama', 'suami', 'anak', 'htm', 'k', 'per', 'orang', 'saya', 'kesana', 'weekdays', 'kurang', 'tau', 'kalau', 'weekend', 'berapa', 'panas', 'sih', 'panas', 'terik', 'banget', 'karena', 'tidak', 'ada', 'kanopi', 'nya'], ['kolam', 'renang', 'ini', 'tempatnya', 'di', 'jalan', 'hayam', 'wuruk', 'yaitu', 'setelah', 'sutos', 'arah', 'ke', 'gunungsari'], ['kolam', 'nya', 'cepat', 'menghijau', 'jadi', 'terlohat', 'buteg'], ['kolam', 'renang', 'yg', 'tidak', 'begitu', 'dikenal', 'oleh', 'masyarakat', 'tapi', 'bersih', 'dan', 'baik', 'untuk', 'perenang', 'pemula', 'tahap', 'belajar'], ['area', 'kolam', 'renang', 'mudah', 'di', 'jangkau', 'hrg', 'ticket', 'murah', 'kualitas', 'air', 'kolam', 'sesuai', 'harga', 'nya', 'hati', 'bagi', 'pemula', 'krn', 'kolam', 'renang', 'hayam', 'wuruk', 'pada', 'sisi', 'utara', 'sangat', 'dalam'], ['paling', 'nyaman', 'datang', 'saat', 'baru', 'buka', 'bisa', 'berenang', 'sepuas', 'mungkin', 'dibanding', 'kolam', 'renang', 'lain', 'di', 'surabaya', 'di', 'sini', 'paling', 'sedikit', 'obatnya', 'sehingga', 'aman', 'berenang', 'tanpa', 'kacamata'], ['buat', 'latihan', 'renang', 'lumayan', 'tetapi', 'ga', 'boleh', 'pakai', 'sandal', 'jadi', 'agak', 'panas'], ['utk', 'kejernihan', 'airnya', 'lumayanlah', 'td', 'cukup', 'ramai', 'krn', 'hari', 'libur', 'buat', 'yg', 'nyari', 'ketenangan', 'mending', 'weekday', 'hehe', 'fasilitas', 'dan', 'lain', 'juga', 'termasuk', 'lumayan'], ['kolam', 'renang', 'ini', 'tidak', 'seperti', 'kolam', 'renang', 'di', 'tempat', 'lain', 'di', 'sini', 'hanya', 'terdapat', 'satu', 'kolam', 'renang', 'besar', 'untuk', 'dewasa', 'dan', 'satu', 'kolam', 'renang', 'kecil', 'untuk', 'anak', 'yg', 'hanya', 'ada', 'satu', 'buah', 'perosotan', 'sj', 'tidak', 'ada', 'permainan', 'air', 'lainnya', 'kolam'], ['fasilitasnya', 'perlu', 'banyak', 'diperbaiki'], ['airnya', 'gak', 'kayak', 'dlu', 'banyak', 'kaporitnya', 'kebersihannya', 'normal', 'tpi', 'di', 'kolam', 'kurang', 'bersih', 'tapi', 'tetep', 'aja', 'tempat', 'renang', 'termurah', 'dan', 'terjangkau', 'hehe'], ['yg', 'mau', 'les', 'renang', 'buat', 'putra', 'putrix', 'pas', 'di', 'sini', 'tempatx'], ['kolamnya', 'bgus', 'bersih', 'ada', 'tmpt', 'bertduh', 'di', 'bwah', 'pohon', 'mangga', 'yg', 'besar', 'dan', 'ada', 'juga', 'ayunannya', 'tp', 'sayang', 'airnya', 'terlalu', 'pekat', 'dengan', 'kandungan', 'kaporit', 'hrg', 'makanannya', 'pun', 'juga', 'tergolong', 'mahal'], ['tempatnya', 'lumayan', 'harga', 'makanan', 'dan', 'minuman', 'disana', 'juga', 'standart', 'cuma', 'area', 'untuk', 'pengantar', 'sangat', 'panas', 'kl', 'siang'], ['air', 'kolam', 'gak', 'masalah', 'dinding', 'kolam', 'berlumut', 'tebal', 'kamar', 'shower', 'terlihat', 'tak', 'terawat', 'ditemukan', 'botol', 'plastik', 'di', 'dasar', 'area', 'kolam', 'm'], ['bagus', 'bagus', 'syg', 'tdi', 'cm', 'satu', 'jam', 'renangnya'], ['pas', 'dtg', 'sore', 'air', 'kolam', 'sudah', 'sangat', 'keruh', 'banyak', 'daun', 'yg', 'ngambang', 'di', 'kolam', 'seperti', 'tdk', 'dibersihkan', 'kamar', 'ganti', 'jg', 'berlumut'], ['kolam', 'renangnya', 'bersih', 'ada', 'tempat', 'duduk', 'sehingga', 'bisa', 'menaruh', 'barang', 'bawaan', 'tiket', 'masuknya', 'juga', 'murah', 'harga', 'kalau', 'hari', 'biasa', 'rb', 'kalau', 'sabtu', 'minggu', 'rb'], ['suka', 'renang', 'disini', 'airnya', 'bersih', 'pas', 'baru', 'dibersihkan', 'juga', 'kolam', 'renangnya', 'ga', 'terlalu', 'ramai', 'jd', 'pengawasan', 'bisa', 'lebih', 'ekstra'], ['kolam', 'nya', 'bersih', 'lokasi', 'bersih', 'nyaman', 'dan', 'tenang', 'kantin', 'buka'], ['kolam', 'renangnya', 'bagus', 'n', 'bersih', 'cocok', 'untuk', 'anak', 'bermain', 'serta', 'kolam', 'dewasanya', 'cocok', 'buat', 'latihan'], ['bagus', 'untuk', 'anak', 'yg', 'masih', 'pemula', 'dan', 'pelatih', 'nya', 'baik'], ['bagus', 'buat', 'si', 'anak', 'belajar', 'berenang', 'gk', 'terlalu', 'ramai', 'pengunjung', 'murah', 'orang', 'akses', 'jalan', 'mudah', 'parkir', 'is', 'ok', 'cocok', 'buat', 'senangin', 'buah', 'hati'], ['air', 'kamar', 'bilas', 'mati', 'krn', 'petugas', 'tidak', 'siap', 'siaga', 'mengecek', 'mesin', 'pompa', 'airnya'], ['tiketnya', 'ribu', 'paling', 'dalam', 'meter', 'kolamnya', 'kecil', 'rasanya', 'kyk', 'kolam', 'sendiri', 'hari', 'minggu', 'airnya', 'butek', 'jaral', 'pandang', 'cm', 'aja', 'entah', 'beningnya', 'hari', 'apa', 'ya'], ['cocok', 'bagi', 'pelajar', 'ato', 'yg', 'mau', 'belajar'], ['kurg', 'bgs', 'pns', 'g', 'nyaman', 'bgt', 'tmptx', 'kyk', 'g', 'terurus', 'aplgi', 'pohon', 'yg', 'bikin', 'dgin', 'dlu', 'itu', 'd', 'tebang', 'jd', 'terasa', 'pns', 'bgt'], ['maintenance', 'kolam', 'parah'], ['kolam', 'renang', 'yang', 'kurang', 'lengkap', 'karena', 'tidak', 'terdapat', 'permainan', 'anak', 'anak', 'lwbih', 'tepatnya', 'diperuntukan', 'untuk', 'orang', 'yang', 'berlatih', 'renang'], ['kolam', 'renang', 'ini', 'bagus', 'untuk', 'belajar', 'renang', 'karena', 'tidak', 'terlalu', 'banyak', 'wahana', 'permainan', 'dan', 'airnya', 'jernih', 'dan', 'bersih'], ['kualitas', 'airnya', 'bagus', 'tapi', 'kamar', 'mandinya', 'kurang', 'higienis'], ['lumayan', 'nyaman', 'sih', 'tempatnya', 'dan', 'harga', 'tiket', 'nya', 'juga', 'ekonomis', 'cuman', 'k', 'saja'], ['harga', 'murah', 'tapi', 'banyak', 'kurangnya'], ['kolam', 'renangnya', 'tidak', 'terlalu', 'besar', 'cukup', 'untuk', 'kebersihannya'], ['kolam', 'renangnya', 'tidak', 'terlalu', 'besar'], ['kolamnya', 'banyak', 'keramik', 'yang', 'pecah', 'udah', 'gt', 'banyak', 'penjaga', 'bapak', 'bapak', 'ngeliatin', 'bikin', 'risih'], ['kamar', 'ganti', 'kotor', 'g', 'terawat', 'kolam', 'renang', 'kecil'], ['tiket', 'murah', 'mines', 'nya', 'kolam', 'nya', 'terlalu', 'kecil', 'dan', 'sepi', 'pengujung'], ['kolam', 'renang', 'dengan', 'htm', 'yg', 'murah', 'namun', 'untuk', 'kolam', 'anak', 'airnya', 'kurang', 'bersih'], ['bagus', 'dan', 'murah', 'kalau', 'ingin', 'berlatih', 'berenang', 'juga', 'ada', 'pelatihnya'], ['kolamnya', 'bagus', 'cocok', 'untuk', 'melatih', 'renang', 'kita'], ['tempatnya', 'cukup', 'untuk', 'anak', 'belajar', 'berenang', 'bagi', 'pemula'], ['fasilitas', 'masih', 'kurang', 'bagi', 'anak', 'anak', 'karena', 'cuma', 'kolom', 'renang', 'saja'], ['badan', 'aing', 'gatel', 'setelah', 'berenang', 'bagi', 'anda', 'yang', 'tahan', 'gatel', 'sangat', 'rekomen', 'tapi', 'saya', 'nggak'], ['sometimes', 'kolamnya', 'kotor', 'tempat', 'ruang', 'gantinya', 'kurang', 'terawat'], ['tempat', 'lumayan', 'tapi', 'petugas', 'kebersihan', 'sangat', 'kurang'], ['karena', 'pohon', 'nya', 'banyak', 'yang', 'ditebang', 'jadinya', 'agak', 'panas'], ['lumayan', 'bagus', 'tapi', 'airnya', 'kebanyakan', 'kaporit', 'sehingga', 'tampak', 'kurang', 'jernih'], ['kolamnya', 'kecil', 'gak', 'seru', 'tp', 'ya', 'cocok', 'dg', 'harganya', 'yang', 'murah'], ['bagus', 'dan', 'bersih', 'harga', 'murah', 'cukup', 'ribu'], ['cukup', 'bagus', 'kalau', 'untuk', 'latihan', 'renang'], ['tidak', 'terlalu', 'menarik', 'tempatnya', 'cocok', 'untuk', 'belajar', 'renang'], ['murah', 'tempat', 'tidak', 'terlalu', 'panas', 'cocok', 'buat', 'latihan', 'renang'], ['kakak', 'extra', 'renang', 'disini', 'tempat', 'bersih', 'menurut', 'saya', 'bagus', 'dan', 'nyaman'], ['lumayan', 'bagi', 'yg', 'ngidam', 'renang'], ['bagus', 'tempatnya', 'tapi', 'kolamnya', 'cuma', 'wcnya', 'bersih'], ['ribu', 'terlalu', 'mahal', 'untuk', 'sebuah', 'kolam', 'renang', 'milik', 'tni'], ['lumayan', 'bagus', 'buat', 'anak', 'anak', 'perlu', 'ditambah', 'tempat', 'mainnya'], ['disarankan', 'untuk', 'warga', 'surabaya', 'selatan', 'selain', 'strategis', 'juga', 'bersih', 'dan', 'tentunya', 'dijamin', 'aman', 'dan', 'nyaman'], ['sarana', 'untuk', 'berlatih', 'renang', 'dan', 'juga', 'bisa', 'untuk', 'rekreasi', 'keluarga'], ['kolam', 'renang', 'yg', 'terhitung', 'murah', 'dikawasan', 'surabaya', 'selatan'], ['kolam', 'relatif', 'bersih', 'dan', 'tertib', 'tersedia', 'kolam', 'untuk', 'anak'], ['kolamnya', 'bagus', 'tapi', 'kurang', 'perawatan'], ['cukup', 'aja', 'buat', 'renang', 'enggak', 'buat', 'main'], ['harga', 'terjangkau', 'lah', 'meskipun', 'weekend'], ['tiket', 'masuk', 'tergolong', 'murah', 'tempatnya', 'lumayan'], ['kolam', 'renang', 'murah', 'meriah', 'kaporitnya', 'buanyak'], ['tmpt', 'parkir', 'luas', 'dpn', 'jln', 'raya', 'dan', 'mudah', 'akses', 'mencarinya'], ['kolam', 'nya', 'bagus', 'bayarnya', 'juga', 'murah', 'bagi', 'saya'], ['tiket', 'masuknya', 'murah', 'tempat', 'basuhnya', 'kurang', 'terang'], ['tempat', 'basuhnya', 'kurang', 'terang'], ['kolam', 'renang', 'area', 'kodam', 'brawijaya', 'yang', 'terletak', 'di', 'jl', 'hayam', 'wuruk', 'surabaya'], ['tempat', 'idola', 'buat', 'anak', 'anakku'], ['kolam', 'renang', 'hayam', 'wuruk', 'kalau', 'malam', 'menjadi', 'pusat', 'jajanan', 'rakyat'], ['buat', 'yang', 'lagi', 'pingin', 'belajar', 'renang', 'disini', 'tempatnya'], ['tiket', 'masuk', 'murah', 'kolam', 'bersih', 'terawat'], ['bersih', 'nyaman', 'dan', 'seru', 'disaat', 'bersama', 'pasangan'], ['kolam', 'renang', 'nya', 'agak', 'kurang', 'bersih', 'sich'], ['kurang', 'menyenangkan'], ['banyak', 'orang', 'jualan', 'di', 'depannya'], ['tiket', 'oktober', 'rb', 'per', 'org'], ['murah', 'dan', 'lumayan', 'enak'], ['harga', 'tiket', 'murah', 'tetapi', 'fasilitas', 'jelek'], ['meter', 'paling', 'dalam'], ['bakso', 'kikil', 'didepannya', 'mantab'], ['lumayan', 'murah', 'dan', 'bersih', 'yaaahh', 'deket', 'dan', 'murah', 'lah'], ['tetep', 'yang', 'terbaik', 'buat', 'harga', 'kesehatan', 'untuk', 'kalangan', 'kita'], ['kolam', 'renang', 'bagus', 'dan', 'murah', 'ya', 'disini', 'tempatnya'], ['lumayan', 'untuk', 'rekreasi', 'murah', 'dekat'], ['tenpatnya', 'sepi', 'kolamnya', 'bersih', 'enak'], ['tiket', 'terjangkau', 'bagus', 'untuk', 'belajar', 'renang'], ['kamar', 'mandi', 'kotor', 'bau', 'kencing'], ['kolamnya', 'bersih', 'dan', 'nyaman'], ['awal', 'jobi', 'renang', 'dimulai', 'disini', 'sampai', 'bisa', 'renang'], ['bagus', 'murah', 'dan', 'bersih'], ['ticket', 'masuknya', 'rp', 'rb'], ['buat', 'pembelajaran', 'renang', 'cocok'], ['kolam', 'renang', 'yang', 'nyaman'], ['pedes', 'di', 'mata'], ['kolam', 'renangnya', 'bagus', 'luas'], ['fasilitas', 'kurang', 'mewadahi', 'terkesan', 'kurang', 'perawatan'], ['apakah', 'masih', 'buka', 'ketika', 'ada', 'psbb'], ['buka', 'jam', 'rabu', 'sekarang', 'tutup'], ['murah', 'meriah', 'yang', 'penting', 'bisa', 'nyelem'], ['lumayan', 'tp', 'airnya', 'hijau'], ['cukup', 'aja', 'sih', 'ndak', 'lebih'], ['tempat', 'nya', 'kurang', 'menarik', 'dan', 'biasa', 'aja'], ['bagus', 'kolam', 'renangnya'], ['tempatnya', 'terbuka', 'n', 'luas'], ['kerena', 'tempat', 'parkirnya', 'luas'], ['kolam', 'renang', 'nya', 'bersih'], ['ada', 'penjual', 'sate', 'didepannya'], ['agak', 'nyesel', 'tapi', 'ya', 'udah', 'lah'], ['pengalaman', 'menarik', 'dan', 'pelayanan', 'yang', 'bagus'], ['lumayan', 'tp', 'kurang', 'bersih'], ['kamar', 'mandi', 'banyak', 'tapi', 'rusak'], ['recovery', 'training', 'with', 'team', 'perseka', 'kaimana'], ['air', 'nya', 'sangat', 'kotor'], ['lumayan', 'tempatnya', 'bersih'], ['fasilitas', 'harus', 'ditambah'], ['lumayan', 'perlu', 'pengembangan', 'lagi'], ['tingkatkan', 'kebersihannya', 'dong'], ['panas', 'dan', 'airnya', 'mengandung', 'kaporit'], ['cocok', 'untuk', 'belajar', 'renang'], ['katanya', 'buka', 'tapi', 'pas', 'kesana', 'tutup'], ['harusnya', 'ditambah', 'water', 'boom'], ['seger', 'panas', 'nang', 'suroboyo'], ['tempatnya', 'enak', 'bersih', 'dan', 'aman'], ['tutup', 'nya', 'kok', 'cpt', 'ya'], ['airnya', 'kotor'], ['murah', 'n', 'bersih'], ['perlu', 'perbaikan', 'fasilitas'], ['lumayan', 'sepi'], ['kotor', 'saya', 'gatal', 'gatal', 'ke', 'sana'], ['lumayan', 'murah', 'dan', 'enak'], ['buwuruk', 'pol'], ['sampahnya', 'jorok', 'banget'], ['bersih', 'dan', 'nyaman'], ['lumayan', 'menyenangkan'], ['kamar', 'mandi', 'yang', 'bisa', 'cuman', 'satu', 'gimana', 'ya'], ['di', 'pojokan', 'selalu', 'ada', 'ludah'], ['karena', 'banya', 'pereman'], ['tempat', 'sepi', 'dan', 'tenang'], ['air', 'keran', 'ruang', 'gantinya'], ['perlu', 'banyak', 'renovasi'], ['kolam', 'renang', 'anak', 'rusak'], ['renang', 'sedikit', 'nabrak', 'sempit', 'banget'], ['tolong', 'kalau', 'pengunjungnya', 'sudah', 'penuh', 'jangan', 'di', 'tambah', 'lagi', 'yang', 'masuk', 'in', 'mau', 'renang', 'jadi', 'ga', 'bisa'], ['tempat', 'latian', 'tentara', 'ad'], ['tempat', 'yang', 'kurang', 'strategis'], ['kurang', 'bersih'], ['banyak', 'sarang', 'laba'], ['murah', 'meriah'], ['lumayan', 'murah'], ['harganya', 'naik'], ['kolam', 'renang', 'dekat', 'sutos'], ['yaaahh', 'lumayan'], ['cukup', 'bagus'], ['tempatnya', 'kurang', 'nyaman'], ['kamar', 'mandinya', 'ga', 'ada', 'kuncinya', 'mohon', 'dibenarkan'], ['tempat', 'anak', 'aku', 'berenang'], ['sampahnya', 'banyak'], ['murah', 'meriah'], ['sampahnya', 'banyak'], ['bagus', 'dan', 'santai'], ['lumayan'], ['tong', 'sampah', 'gaada'], ['tempatnya', 'kecil', 'tidak', 'terlalu', 'besar', 'jadi', 'sempit'], ['yang', 'jaga', 'sewa', 'ban', 'suka', 'ilang'], ['hoax'], ['mantab'], ['bagusssss'], ['jelek'], ['lumayan'], ['murah'], ['kreatif'], ['tempat', 'tunggu', 'kurang'], ['tempat', 'renang', 'dan', 'tc'], ['kolam', 'renang', 'hayam', 'wuruk'], ['panas', 'kurang', 'teduh'], ['kotor'], ['menyenangkan'], ['kolam', 'renang', 'mantab'], ['cocok', 'bagi', 'mereka', 'yang', 'membutuhkan', 'kolam', 'renang', 'profesional'], ['bagus', 'untuk', 'berenang', 'dan', 'sedikit', 'menyelam', 'area', 'kolam', 'terdalam', 'berada', 'di', 'meter', 'kamar', 'mandinya', 'ok', 'tidak', 'bagus', 'hanya', 'ok'], ['kamar', 'kecil', 'adalah', 'yang', 'terburuk', 'dan', 'kamar', 'mandi', 'tidak', 'memiliki', 'partisi', 'meninggalkan', 'anda', 'tanpa', 'privasi'], ['bagus', 'kolam', 'renang', 'bagus'], ['tidak', 'buruk'], ['tempat', 'yang', 'begitu', 'begitu', 'tidak', 'ada', 'pembaruan', 'perbaikan'], ['kolam', 'renang', 'yang', 'bagus', 'dan', 'bersih'], ['penjaga', 'kolam', 'sedikit'], ['kolam', 'besar', 'memiliki', 'kedalaman', 'beragam', 'cocok', 'untuk', 'olahraga', 'renang'], ['kolam', 'murah', 'bagus', 'tapi', 'toiletnya', 'harus', 'direnovasi'], ['bagus', 'dan', 'menyenangkan'], ['tempat', 'yang', 'bagus', 'bersih'], ['bagus', 'butuh', 'lebih', 'banyak', 'waterpark', 'sebagai', 'poin', 'plus'], ['kolam', 'renang', 'terbaru', 'ini', 'lebih', 'bersih', 'dari', 'sebelumnya'], ['sangat', 'memalukan', 'kamar', 'kecil', 'atau', 'toilet', 'tidak', 'dikelola', 'dengan', 'baik'], ['terlepas', 'dari', 'kondisi', 'toilet', 'yang', 'buruk', 'kolam', 'renangnya', 'bagus'], ['membutuhkan', 'pemeliharaan', 'pembaharuan'], ['kolam', 'renang', 'yang', 'direkomendasikan'], ['tempat', 'yang', 'bagus', 'untuk', 'latihan'], ['yaaah', 'saya', 'belajar', 'berenang', 'di', 'kolam', 'itu'], ['ya', 'tempat', 'favorit', 'untuk', 'berenang'], ['tempatnya', 'cukup', 'bersih'], ['jorok'], ['ya', 'baik'], ['toiletnya', 'tidak', 'bersih'], ['penitipan', 'barang', 'bayar', 'tapi', 'tempt', 'tunggu', 'dikit', 'gimana', 'sih', 'ini'], ['tempat', 'yang', 'indah', 'untuk', 'swwiiiiiiimmmm'], ['kalo', 'yang', 'nunggu', 'ikut', 'masuk', 'semuah', 'bingung', 'buat', 'duduk', 'soalnya', 'tempat', 'duduknya', 'sedikit'], ['bagus', 'hanya', 'untuk', 'berenang', 'karena', 'kurang', 'fasilitas', 'air'], ['lebih', 'bagus', 'dari', 'sebelumnya'], ['kamar', 'mandi', 'jelek'], ['kolam', 'bersih', 'itu', 'benar'], ['jorok'], ['penjaganya', 'tidak', 'ada'], ['tempt', 'kotor', 'tidak', 'terawat', 'syg', 'sekali'], ['jorok'], ['kursi', 'pengunjung', 'di', 'tambah', 'lahh'], ['lumayan', 'tp', 'kamar', 'mandinya', 'perlu', 'perbaikan'], ['tolong', 'di', 'kasi', 'apa', 'gitu', 'buat', 'atas', 'kolamnya', 'agar', 'ndak', 'puanas', 'seperti', 'terbakar'], ['kolam', 'renang', 'yang', 'bagus'], ['airnya', 'sangat', 'panas', 'sehingga', 'melukai', 'mata'], ['air', 'nya', 'perih', 'banget', 'ke', 'mata', 'kalo', 'ngak', 'pakek', 'kacamata'], ['kolam', 'yang', 'bersih'], ['tolong', 'di', 'perhatikan', 'kualitas', 'air', 'dan', 'tempat', 'peminjaman', 'alat', 'bantu', 'renangnya'], ['kolam', 'renang', 'yang', 'bagus'], ['di', 'area', 'kolam', 'renang', 'fasilitas', 'toilet', 'ada', 'tapi', 'di', 'kunci', 'mohon', 'segera', 'di', 'realisasi'], ['alat', 'keamanan', 'kurang'], ['tempat', 'yang', 'cukup', 'nyaman', 'bagi', 'yang', 'suka', 'berenang'], ['bersih', 'harus', 'bawa', 'kaca', 'mata', 'renang', 'kaporitnya', 'kuat', 'pintu', 'masuk', 'ti'], ['kolam', 'renangnya', 'luas'], ['tempat', 'bersih', 'parkiran', 'luas', 'pintu', 'masuk', 'murah'], ['harga', 'tiketnya', 'terjangkau', 'kalau', 'mau', 'les', 'renang', 'ada', 'al'], ['tempat', 'bersih', 'sayangnya', 'kurang', 'jualan', 'makanan', 'di', 'dalam'], ['kolam', 'renang', 'anak', 'anak', 'rusak', 'air', 'keran', 'di', 'ruang', 'ganti', 'kecil', 'kalau', 'bisa', 'diperbaiki', 'lagi'], ['sempurna', 'untuk', 'menyegarkan', 'di', 'panas', 'kami'], ['enak', 'sih', 'murah', 'meriah', 'tapi', 'pas', 'weekend', 'kayak', 'dawet'], ['tiket', 'bagus', 'enak', 'murah'], ['harga', 'tiket', 'masuk', 'sangat', 'terjangkau'], ['kolam', 'renang', 'umum', 'harga', 'masuknya', 'terjangkau', 'sayangnya', 'tidak', 'ada', 'banyak', 'mainan'], ['tempat', 'luas', 'air', 'bersih', 'cocok', 'untuk', 'anak', 'belajar', 'renang'], ['harap', 'bersihkan', 'lagi', 'sebelum', 'kolam', 'renang', 'dibuka'], ['tempat', 'masuk', 'murah', 'nyaman', 'pokoknya', 'puas', 'bisa', 'berenang'], ['tempat', 'oke', 'fasilitas', 'oke', 'harga', 'oke', 'cuma', 'kebersihan', 'kamar', 'mandi', 'perlu'], ['tempatnya', 'bersih', 'dan', 'luas', 'harga', 'tiketnya', 'murah', 'banget', 'highly', 'recommen'], ['inilah', 'kolam', 'renang', 'yang', 'tepat', 'bagi', 'anda', 'yang', 'ingin', 'intens', 'berlatih', 'berenang', 'terutama', 'yang', 'ingin', 'tes', 'kedinasan'], ['kolam', 'renangnya', 'besar', 'enak', 'buat', 'olahraga', 'parkir', 'luas', 'pintu', 'masuk', 'murah'], ['tempatnya', 'seru', 'dan', 'ramai', 'sekali'], ['tempatnya', 'luas', 'menampung', 'banyak', 'pengunjung'], ['kotor'], ['lumayan', 'bersih', 'untuk', 'kolam', 'renang', 'yang', 'tidak', 'di', 'daerah', 'pegunungan'], ['kolam', 'renangnya', 'sangat', 'bagus', 'dan', 'tempatnya', 'sangat', 'luas'], ['mau', 'tanya', 'ada', 'info', 'kursus', 'berenang', 'untuk', 'anak', 'bisa', 'hubungi', 'saya'], ['kolam', 'renangnya', 'bagus', 'tapi', 'sayangnya', 'kamar', 'mandinya', 'masih', 'kotor'], ['air', 'kolam', 'lumayan', 'bersih', 'toilet', 'kamar', 'mandi', 'ruang', 'ganti'], ['hari', 'minggu', 'agak', 'kotor', 'karena', 'dikuras', 'hari', 'senin', 'sampai', 'selasa'], ['kemarin', 'waktu', 'saya', 'ke', 'sana', 'kolamnya', 'kotor'], ['lebar', 'tapi', 'terlalu', 'banyak', 'klorin', 'membuatnya', 'panas', 'di', 'kulit'], ['air', 'kolam', 'lumayan', 'bersih', 'lingkungan', 'juga', 'bersih', 'karena', 'banyak'], ['di', 'kolam', 'renang', 'gor', 'di', 'tribun', 'masih', 'kotor', 'banyak', 'yang', 'membuang', 'sampah', 'sembarangan'], ['lebih', 'bagus', 'dan', 'pak', 'siring', 'juga', 'bawa', 'anak', 'anak', 'kesana', 'untuk', 'berenang', 'tingkatkan', 'lagi', 'kebersihannya'], ['kolam', 'renang', 'luas', 'parkir', 'luas', 'panas', 'banget', 'pas'], ['kolam', 'renangnya', 'bersih', 'tapi', 'tolong', 'perbaiki', 'pintu', 'kamar', 'mandi', 'wanita'], ['terkadang', 'air', 'kolam', 'renang', 'kotor'], ['bersih', 'dan', 'murah', 'latihan', 'renang', 'anak'], ['tempat', 'yang', 'sangat', 'luas', 'htm', 'sangat', 'murah'], ['sarana', 'olah', 'raga', 'murah', 'sudah', 'banyak', 'diperbaiki'], ['kolam', 'renang', 'murah', 'di', 'disurabaya', 'minim', 'mainan', 'anak'], ['mending', 'sekarang', 'kamar', 'mandi', 'baru', 'plus', 'ada', 'ruang', 'ganti'], ['tempat', 'untuk', 'berenang', 'atau', 'les', 'renang'], ['fasilitas', 'kolam', 'renang', 'seperti', 'tempat', 'duduk', 'tidak', 'mengakomodir', 'kebutuhan', 'untuk', 'bersantai'], ['ini', 'sudah', 'cukup', 'bagus'], ['penjaga', 'kolam', 'sering', 'tidak', 'memperhatikan'], ['tempat', 'yang', 'bagus'], ['tempatnya', 'bersih', 'cukup', 'nyaman', 'untuk', 'berenang', 'dan', 'harganya', 'sangat', 'terjangkau'], ['kolamnya', 'bagus', 'tapi', 'kualitas', 'airnya', 'kadang', 'jernih', 'kadang', 'hijau'], ['kolam', 'renang', 'atlet', 'lebih', 'bersih', 'dan', 'rapi', 'mantap', 'maju', 'terus'], ['banyak', 'pelatih', 'pelatihnya', 'ramah', 'kadang', 'airnya', 'jernih', 'kadang', 'tidak', 'kadang'], ['tempat', 'terbaik', 'untuk', 'berkumpul', 'dan', 'berolahraga', 'bersama', 'keluarga', 'atau', 'sendirian'], ['tempatnya', 'luas', 'dan', 'airnya', 'segar', 'plus', 'ada', 'kolam', 'renangnya'], ['harap', 'perhatikan', 'kualitas', 'air', 'dan', 'tempat', 'pinjam'], ['cukup', 'ok', 'airnya', 'sangat', 'dingin'], ['banyak', 'sampah', 'di', 'kolam', 'renang'], ['gampang', 'ditemui'], ['kotor', 'banyak', 'ludah', 'dan', 'masa', 'anak', 'dsuruh', 'kencing', 'dekat', 'kolam', 'kurang', 'dpantauan', 'kebersihanya'], ['jorok'], ['rame', 'banget', 'banyak', 'pengunjung', 'yang', 'datang'], ['karyawannya', 'kurang', 'ramah'], ['masih', 'tutup'], ['suka', 'renang', 'disini', 'airnya', 'bersih', 'pas', 'baru', 'dibersihkan', 'juga', 'kolam', 'renangnya', 'ga', 'terlalu', 'ramai', 'jd', 'pengawasan', 'bisa', 'lebih', 'ekstra'], ['kolam', 'renang', 'airnya', 'asin'], ['untuk', 'satu', 'pengawas', 'pilih', 'kasih', 'banget'], ['kacau'], ['saya', 'pikir', 'itu', 'agak', 'terlalu', 'mahal'], ['kamar', 'mandinya', 'jelek'], ['kolam', 'renang', 'yang', 'buka', 'cukup', 'lama'], ['pengawasan', 'kurang'], ['air', 'berwarna', 'hijau', 'kalau', 'musim', 'panas', 'ya', 'harus', 'dibersihkan', 'kena', 'panas', 'dan', 'banyak', 'orang', 'renang', 'drpada', 'musim', 'hujan'], ['masih', 'bau', 'kaporit', 'perlu', 'ditingkatkan', 'lagi'], ['shower', 'di', 'kamar', 'mandi', 'kurang', 'keras'], ['pertama', 'kali', 'ke', 'situ', 'langsung', 'kecewa'], ['kotor'], ['banyak', 'kamar', 'mandi', 'yang', 'rusak'], ['suasana', 'nya', 'oke', 'tapi', 'air', 'nya', 'asin'], ['hijau'], ['panas'], ['kecewa', 'sama', 'penjaga', 'kurang', 'ramah'], ['buruk'], ['agak', 'sepi', 'sekarang'], ['kecewa', 'sekarang', 'makin', 'buruk'], ['itu', 'panas'], ['bikin', 'kepleset'], ['berita', 'palsu'], ['mainan', 'anaknya', 'di', 'rawat', 'dong'], ['kenapa', 'tempat', 'duduk', 'sedikit', 'sekali'], ['kudu', 'lepas', 'sandal', 'padaal', 'panas', 'banget'], ['aduh', 'kolamnya', 'bikin', 'mata', 'perih'], ['agak', 'kurang', 'yaaa'], ['kamar', 'mandi', 'tolong', 'dong', 'di', 'bersihin'], ['ala', 'kadarnya'], ['kenapa', 'sepi'], ['hanya', 'lebih', 'bersih', 'dan', 'lebih', 'biru'], ['hebat', 'kolam', 'renangnya', 'besar'], ['lebih', 'baik', 'bau', 'klorin', 'masih', 'nyengat'], ['cukup', 'menyenangkan', 'hanya', 'saja', 'karyawannya', 'tidak', 'ramah'], ['nyaman', 'untuk', 'belajar', 'berenang'], ['suasananya', 'bagus', 'murah'], ['tempat', 'yang', 'bagus', 'tapi', 'tentang', 'kebersihan', 'itu', 'tidak', 'bersih'], ['fasilitas', 'kamar', 'mandi', 'tidak', 'bersih'], ['tempat', 'untuk', 'berlatih', 'berenang', 'dari', 'kecil'], ['murah', 'dan', 'ceria', 'tidak', 'terlalu', 'banyak', 'favorit'], ['cocok', 'untuk', 'melatih', 'anak', 'anak'], ['pintu', 'ke', 'ruang', 'ganti', 'wanita', 'rusak'], ['besar', 'harga', 'murah', 'dan', 'kolam', 'besar'], ['lumayan', 'untuk', 'belajar', 'renang'], ['tolong', 'perbaiki', 'kamar', 'mandi'], ['kotor', 'dan', 'bau', 'kurang', 'dirawat'], ['tempatnya', 'bagus', 'tapi', 'masih', 'belum', 'bersih'], ['saya', 'di', 'sini', 'ketika', 'ada', 'acara', 'besar'], ['pengunjung', 'tidak', 'disiplin', 'membuang', 'sampah'], ['airnya', 'jernih', 'dan', 'klorinnya', 'banyak'], ['kolam', 'renangnya', 'bersih', 'dan', 'fasilitasnya', 'bagus'], ['anak', 'anak', 'saya', 'menyukainya'], ['bersih', 'nyaman', 'cocok', 'untuk', 'berenang'], ['kolam', 'renang', 'tidak', 'buruk'], ['kolam', 'renang', 'favorit', 'keluarga', 'dan', 'bersih'], ['kolam', 'renang', 'yang', 'bagus', 'sangat', 'direkomendasikan'], ['kolam', 'renangnya', 'bagus', 'harganya', 'juga', 'bagus'], ['tempat', 'keren', 'yang', 'bagus', 'untuk', 'berenang']]\n"
          ]
        }
      ]
    },
    {
      "cell_type": "markdown",
      "source": [
        "**STOPWORD REMOVAL**"
      ],
      "metadata": {
        "id": "s3aknS7f0ipm"
      }
    },
    {
      "cell_type": "code",
      "source": [
        "#upload kamus stopwrod\n",
        "from google.colab import  files\n",
        "uploades = files.upload()"
      ],
      "metadata": {
        "colab": {
          "base_uri": "https://localhost:8080/",
          "height": 38
        },
        "id": "DJGlYxyOvALU",
        "outputId": "0294302d-c9eb-49ef-b459-74059a4ac0d4"
      },
      "execution_count": null,
      "outputs": [
        {
          "output_type": "display_data",
          "data": {
            "text/plain": [
              "<IPython.core.display.HTML object>"
            ],
            "text/html": [
              "\n",
              "     <input type=\"file\" id=\"files-fec07775-496a-40b4-96ba-f906a2bdb23a\" name=\"files[]\" multiple disabled\n",
              "        style=\"border:none\" />\n",
              "     <output id=\"result-fec07775-496a-40b4-96ba-f906a2bdb23a\">\n",
              "      Upload widget is only available when the cell has been executed in the\n",
              "      current browser session. Please rerun this cell to enable.\n",
              "      </output>\n",
              "      <script>// Copyright 2017 Google LLC\n",
              "//\n",
              "// Licensed under the Apache License, Version 2.0 (the \"License\");\n",
              "// you may not use this file except in compliance with the License.\n",
              "// You may obtain a copy of the License at\n",
              "//\n",
              "//      http://www.apache.org/licenses/LICENSE-2.0\n",
              "//\n",
              "// Unless required by applicable law or agreed to in writing, software\n",
              "// distributed under the License is distributed on an \"AS IS\" BASIS,\n",
              "// WITHOUT WARRANTIES OR CONDITIONS OF ANY KIND, either express or implied.\n",
              "// See the License for the specific language governing permissions and\n",
              "// limitations under the License.\n",
              "\n",
              "/**\n",
              " * @fileoverview Helpers for google.colab Python module.\n",
              " */\n",
              "(function(scope) {\n",
              "function span(text, styleAttributes = {}) {\n",
              "  const element = document.createElement('span');\n",
              "  element.textContent = text;\n",
              "  for (const key of Object.keys(styleAttributes)) {\n",
              "    element.style[key] = styleAttributes[key];\n",
              "  }\n",
              "  return element;\n",
              "}\n",
              "\n",
              "// Max number of bytes which will be uploaded at a time.\n",
              "const MAX_PAYLOAD_SIZE = 100 * 1024;\n",
              "\n",
              "function _uploadFiles(inputId, outputId) {\n",
              "  const steps = uploadFilesStep(inputId, outputId);\n",
              "  const outputElement = document.getElementById(outputId);\n",
              "  // Cache steps on the outputElement to make it available for the next call\n",
              "  // to uploadFilesContinue from Python.\n",
              "  outputElement.steps = steps;\n",
              "\n",
              "  return _uploadFilesContinue(outputId);\n",
              "}\n",
              "\n",
              "// This is roughly an async generator (not supported in the browser yet),\n",
              "// where there are multiple asynchronous steps and the Python side is going\n",
              "// to poll for completion of each step.\n",
              "// This uses a Promise to block the python side on completion of each step,\n",
              "// then passes the result of the previous step as the input to the next step.\n",
              "function _uploadFilesContinue(outputId) {\n",
              "  const outputElement = document.getElementById(outputId);\n",
              "  const steps = outputElement.steps;\n",
              "\n",
              "  const next = steps.next(outputElement.lastPromiseValue);\n",
              "  return Promise.resolve(next.value.promise).then((value) => {\n",
              "    // Cache the last promise value to make it available to the next\n",
              "    // step of the generator.\n",
              "    outputElement.lastPromiseValue = value;\n",
              "    return next.value.response;\n",
              "  });\n",
              "}\n",
              "\n",
              "/**\n",
              " * Generator function which is called between each async step of the upload\n",
              " * process.\n",
              " * @param {string} inputId Element ID of the input file picker element.\n",
              " * @param {string} outputId Element ID of the output display.\n",
              " * @return {!Iterable<!Object>} Iterable of next steps.\n",
              " */\n",
              "function* uploadFilesStep(inputId, outputId) {\n",
              "  const inputElement = document.getElementById(inputId);\n",
              "  inputElement.disabled = false;\n",
              "\n",
              "  const outputElement = document.getElementById(outputId);\n",
              "  outputElement.innerHTML = '';\n",
              "\n",
              "  const pickedPromise = new Promise((resolve) => {\n",
              "    inputElement.addEventListener('change', (e) => {\n",
              "      resolve(e.target.files);\n",
              "    });\n",
              "  });\n",
              "\n",
              "  const cancel = document.createElement('button');\n",
              "  inputElement.parentElement.appendChild(cancel);\n",
              "  cancel.textContent = 'Cancel upload';\n",
              "  const cancelPromise = new Promise((resolve) => {\n",
              "    cancel.onclick = () => {\n",
              "      resolve(null);\n",
              "    };\n",
              "  });\n",
              "\n",
              "  // Wait for the user to pick the files.\n",
              "  const files = yield {\n",
              "    promise: Promise.race([pickedPromise, cancelPromise]),\n",
              "    response: {\n",
              "      action: 'starting',\n",
              "    }\n",
              "  };\n",
              "\n",
              "  cancel.remove();\n",
              "\n",
              "  // Disable the input element since further picks are not allowed.\n",
              "  inputElement.disabled = true;\n",
              "\n",
              "  if (!files) {\n",
              "    return {\n",
              "      response: {\n",
              "        action: 'complete',\n",
              "      }\n",
              "    };\n",
              "  }\n",
              "\n",
              "  for (const file of files) {\n",
              "    const li = document.createElement('li');\n",
              "    li.append(span(file.name, {fontWeight: 'bold'}));\n",
              "    li.append(span(\n",
              "        `(${file.type || 'n/a'}) - ${file.size} bytes, ` +\n",
              "        `last modified: ${\n",
              "            file.lastModifiedDate ? file.lastModifiedDate.toLocaleDateString() :\n",
              "                                    'n/a'} - `));\n",
              "    const percent = span('0% done');\n",
              "    li.appendChild(percent);\n",
              "\n",
              "    outputElement.appendChild(li);\n",
              "\n",
              "    const fileDataPromise = new Promise((resolve) => {\n",
              "      const reader = new FileReader();\n",
              "      reader.onload = (e) => {\n",
              "        resolve(e.target.result);\n",
              "      };\n",
              "      reader.readAsArrayBuffer(file);\n",
              "    });\n",
              "    // Wait for the data to be ready.\n",
              "    let fileData = yield {\n",
              "      promise: fileDataPromise,\n",
              "      response: {\n",
              "        action: 'continue',\n",
              "      }\n",
              "    };\n",
              "\n",
              "    // Use a chunked sending to avoid message size limits. See b/62115660.\n",
              "    let position = 0;\n",
              "    do {\n",
              "      const length = Math.min(fileData.byteLength - position, MAX_PAYLOAD_SIZE);\n",
              "      const chunk = new Uint8Array(fileData, position, length);\n",
              "      position += length;\n",
              "\n",
              "      const base64 = btoa(String.fromCharCode.apply(null, chunk));\n",
              "      yield {\n",
              "        response: {\n",
              "          action: 'append',\n",
              "          file: file.name,\n",
              "          data: base64,\n",
              "        },\n",
              "      };\n",
              "\n",
              "      let percentDone = fileData.byteLength === 0 ?\n",
              "          100 :\n",
              "          Math.round((position / fileData.byteLength) * 100);\n",
              "      percent.textContent = `${percentDone}% done`;\n",
              "\n",
              "    } while (position < fileData.byteLength);\n",
              "  }\n",
              "\n",
              "  // All done.\n",
              "  yield {\n",
              "    response: {\n",
              "      action: 'complete',\n",
              "    }\n",
              "  };\n",
              "}\n",
              "\n",
              "scope.google = scope.google || {};\n",
              "scope.google.colab = scope.google.colab || {};\n",
              "scope.google.colab._files = {\n",
              "  _uploadFiles,\n",
              "  _uploadFilesContinue,\n",
              "};\n",
              "})(self);\n",
              "</script> "
            ]
          },
          "metadata": {}
        }
      ]
    },
    {
      "cell_type": "code",
      "source": [
        "#STOPWORD STEP\n",
        "\n",
        "nltk.download('stopwords')\n",
        "from nltk.corpus import stopwords #library nltk untuk proses stopword\n",
        "\n",
        "stopwords= stopwords.words('indonesian')#mendefinisikan bahasa yang dibunakan\n",
        "#menambah kata yang dibutuhkan untuk stopword\n",
        "stopwords.extend([\"yg\", \"dg\", \"rt\", \"dgn\", \"ny\", 'klo', 'gk', 'ak', 'aku', 'saya', 'kamu',\n",
        "                  'kalo', 'amp', 'biar', 'bikin', 'bilang', \"please\", \"meriah\", 'iya',\n",
        "                  'gak', 'ga', 'krn', 'nya', 'nih', 'sih', \"to\", \"rbu\", \"tapi\",\n",
        "                  'si', 'tau', 'tdk', 'tuh', 'utk', 'ya', 'syg', 'sekali', \"tpi\",\n",
        "                  'jd', 'jgn', 'sdh', 'aja', 'sy','nyg', 'hehe',\"tp\",'bos', 'sm',\n",
        "                  'pen', 'nan', 'loh', 'rt','yah', 'dr', \"lah\", \"sih\",\"lho\", 'sya',\n",
        "                  \"sgt\", \"bgt\", \"tau\", \"di\", \"nya\", \"ny\", \"a\", \"b\", \"k\", \"rb\",\"bos\",\n",
        "                  \"rp\", \"k\", \"n\", \"bro\", \"guys\", \"aja\", \"banget\", \"bgt\", \"dong\", \"kok\"])\n",
        "#membaca inputan kamus stopword yang telah di buat\n",
        "stop = pd.read_csv(\"stopwords.txt\", names= [\"stopwords\"], header = None)\n",
        "#menambahkan kata untuk dimasukkan dalam kamus stopword\n",
        "stopwords.extend(stop[\"stopwords\"][0].split(' '))\n",
        "stopwords = set(stopwords)\n",
        "\n",
        "#stopword dengan natural language toolkit\n",
        "def stopword_removal(data):\n",
        "    return [token for token in data if token not in stopwords]\n",
        "Ulasan_stop= list(map(stopword_removal, Ulasan_token))"
      ],
      "metadata": {
        "colab": {
          "base_uri": "https://localhost:8080/"
        },
        "id": "IR5kSxvCs2QK",
        "outputId": "3809c75f-0b83-428c-b0cb-19f0b5b5c3d3"
      },
      "execution_count": 6,
      "outputs": [
        {
          "output_type": "stream",
          "name": "stderr",
          "text": [
            "[nltk_data] Downloading package stopwords to /root/nltk_data...\n",
            "[nltk_data]   Unzipping corpora/stopwords.zip.\n"
          ]
        }
      ]
    },
    {
      "cell_type": "code",
      "source": [
        "print ('HASIL STOPWORD REMOVAL')\n",
        "print (Ulasan_stop)"
      ],
      "metadata": {
        "colab": {
          "base_uri": "https://localhost:8080/"
        },
        "id": "7dm9jPAyvpWu",
        "outputId": "7871e49d-5218-47e7-88d6-c62056281346"
      },
      "execution_count": null,
      "outputs": [
        {
          "output_type": "stream",
          "name": "stdout",
          "text": [
            "HASIL STOPWORD REMOVAL\n",
            "[['tempatnya', 'nyaman', 'parkirnya', 'luas', 'kadang', 'kamar', 'mandinya', 'kotor'], ['bagus', 'bersih', 'kamar', 'mandi', 'kotor', 'petugas', 'mengecek', 'jam', 'sejam', 'terjaga', 'kebersihannya', 'air'], ['kolam', 'anak', 'panas', 'kayak', 'kasih', 'hiasan', 'adem', 'terlindung', 'panas', 'bwt', 'anak'], ['kamar', 'mandi', 'bersih'], ['suka', 'renang', 'sabtu', 'nech', 'doa', 'hujan', 'gasy'], ['kesini', 'nyesel', 'masuk', 'kebanyakan', 'aturan', 'ngantar', 'pakai', 'sepatu', 'istri', 'dampingi', 'anak', 'renang', 'pakai', 'kaos', 'kaki'], ['sarana', 'fitnes'], ['peraturan'], ['renang', 'lokernya', 'pake', 'kartu', 'pelajar', 'gabisa', 'make', 'loger', 'adekku', 'belom', 'dapet', 'dapet', 'loker', 'uang', 'adekku', 'hilang', 'aduh', 'kzl'], ['minggu', 'ruaamee', 'boss'], ['mahal'], ['senin', 'buka', 'jam', 'kerja', 'libur', 'senin', 'pengen', 'renangnya', 'pengen', 'kejar', 'kartika', 'eka', 'paksi'], ['harga'], ['tempatnya', 'nyaman', 'bersih', 'pegawai', 'ramah', 'airnya', 'kamar', 'ganti', 'bersih', 'rapi', 'parkir', 'luas', 'nyaman'], ['kolam', 'renangnya', 'bagus', 'hr', 'kolam', 'hijau', 'kolamnya', 'anak', 'dewasa', 'kamar', 'mandinya', 'bersih', 'minggu', 'harga', 'tiketnya'], ['lumayan', 'diperhatikan', 'fasilitas', 'km', 'pria', 'engsel', 'pintu', 'pengganjal', 'pintu', 'rusak'], ['tempatnya', 'luas', 'htm', 'libur'], ['kolam', 'renangnya', 'bagus', 'bersih', 'pakaian', 'bebas', 'pakai', 'pakaian', 'renang', 'kolamnya', 'anak', 'dewasa', 'kamar', 'mandinya', 'bersih', 'minggu', 'harga', 'tiketnya'], ['kolamnya', 'bagus', 'jajannya'], ['lengkap', 'profesional'], ['panas', 'pepohonan', 'tmpt', 'pengunjung', 'dikit', 'keramik', 'pinggir', 'kolam', 'renang', 'licin', 'extra', 'hati', 'anak', 'intinya', 'rekomended', 'keluarga'], ['bagus', 'anak', 'okelah', 'harga', 'tiket', 'murah', 'bersih', 'tempatnya', 'sayang', 'airnya', 'kolam', 'anak', 'keruh', 'kolam', 'dewasa', 'bersih'], ['liburan', 'murah', 'minggu', 'ecu'], ['kolam', 'renang', 'militer', 'dibuka', 'pandemi', 'covid', 'buka', 'pembatasan', 'pengunjung', 'kawasan', 'patuh', 'prokes', 'kualitas', 'air', 'kolam', 'terjaga', 'tim', 'sarnya', 'ramah', 'ruang', 'bilas', 'modern', 'bersih', 'kantin', 'musholla', 'parkiran', 'luas', 'aman'], ['kecewa', 'minggu', 'pagi', 'istri', 'anak', 'berniat', 'rekreasi', 'kolam', 'renang', 'brawijaya', 'beli', 'tiket', 'masuk', 'anak', 'berenang', 'kolam', 'renang', 'sehabis', 'beli', 'tiket', 'harga'], ['bersih', 'nyaman'], ['salah', 'kolam', 'renang', 'menurutku', 'enak', 'surabaya', 'kolam', 'minggu', 'buka', 'jam', 'jam', 'menunggu', 'kolam', 'buka', 'minggu', 'kena', 'tiket', 'masuk', 'orang'], ['temapat', 'nyaman', 'aman'], ['tempatny', 'luas', 'pengunjung', 'permainan', 'tambahi', 'siiipp', 'ramai', 'pengunjung'], ['luas', 'nyaman', 'bersih', 'sayang', 'anak', 'dibawah', 'thn', 'sruh', 'bayar', 'pdhal', 'wisata', 'anak', 'thn', 'free', 'masuk', 'karcis', 'kepala'], ['aman', 'anak', 'bersih', 'pengawasan'], ['kolam', 'renang', 'tepi', 'jalan', 'mudah', 'akses', 'komplek', 'perumahan', 'kodam', 'ramai', 'dikunjungi', 'warga', 'dihari', 'libur'], ['membutuhkan', 'jasa', 'pelatih', 'renang', 'silahkan', 'hubungi', 'tlp', 'wa'], ['nyaman', 'murah', 'meria', 'saran', 'hr', 'libur', 'penuh', 'kamrn', 'mandi', 'susah', 'liburan'], ['airnya', 'bersih', 'hati', 'hati', 'ukuran', 'dalemannya', 'gays'], ['bagus', 'kolam', 'anak', 'luncuran', 'slide', 'kolam', 'dewasa', 'ukuran', 'standard', 'internasional', 'kedalaman', 'm', 'air', 'jernih', 'hrg', 'tiket', 'relatif', 'murah', 'kolam', 'kota', 'surabaya'], ['kolamnya', 'bersih', 'rapi', 'protokol', 'kesehatan', 'bagus', 'kantin', 'kamar', 'ganti', 'bersih', 'tersedia', 'loker', 'parkir', 'luas', 'bebas', 'bawa', 'makanan', 'saran', 'mgkn', 'anak', 'les', 'renang', 'disana', 'diberlakukan', 'harga', 'member', 'gitu'], ['lumayan', 'enak', 'saran', 'pinggir', 'dikasih', 'alas', 'terpeleset', 'anak', 'terpeleset', 'panas', 'jalan', 'arah', 'kolam', 'hrs', 'lepas', 'alas', 'kaki'], ['anak', 'anak', 'mengenal', 'air', 'tahap', 'belajar', 'berenang', 'sungguh', 'lokasi', 'mudah', 'dijangkau', 'tiket', 'masuk', 'sebanding', 'didapatkan'], ['event', 'menunggu'], ['bersih', 'permainan', 'harga', 'tiket', 'terjangkau'], ['murah', 'nyaman', 'hemat', 'liburan', 'kuluarga'], ['mohon', 'ditambah', 'duduk', 'payung', 'tenda', 'meja', 'kebagian', 'pengunjung', 'kualitas', 'air', 'kolam', 'mata', 'merah', 'sakit', 'kamar', 'ganti', 'mohon', 'dijaga', 'kebersihannya'], ['fasilitas', 'kamar', 'mandi', 'kamar', 'ganti', 'bagus', 'air', 'kolam', 'pedih', 'dimata'], ['kolam', 'renang', 'dewasa', 'anak', 'perosotan', 'kolam', 'anak', 'bilas', 'bersih', 'tertata', 'duduk', 'tersedia'], ['kolam', 'renangnya', 'lengkap', 'anak', 'sedalam', 'meter', 'hahaha', 'kesana', 'air', 'keruh', 'wrnanya', 'hijau', 'dikuras', 'bagus', 'gan', 'tiketnya', 'mahal'], ['tempatnya', 'bersih', 'luas', 'nyaman', 'pool', 'pool', 'kids', 'pool', 'dewasa', 'kamar', 'mandi', 'ruang', 'ganti', 'lumayan', 'bersih'], ['berlatih', 'renang', 'bersih', 'harga', 'terjangkau'], ['tempatnya', 'bersih', 'cocok', 'keluarga'], ['tempanya', 'lumayan', 'bersihh', 'ruang', 'kamar', 'mandi', 'ganti', 'rapi', 'bersih', 'area', 'kantin', 'bersih', 'harga', 'normal', 'masukan', 'ditambah', 'pepohonan', 'asri', 'ditambah', 'berteduh', 'siangan', 'dikit', 'panass', 'boss'], ['bersih', 'ramai'], ['bagus', 'bersih', 'masukan', 'cuman', 'tolong', 'shower', 'benarkan', 'mati', 'antri', 'mandi'], ['kedalaman', 'lumayan', 'air', 'jernih', 'kaporitnya'], ['nyaman', 'bersih', 'suka'], ['bersih', 'makan', 'mengejutkan', 'harganya', 'murah'], ['kolam', 'bersih', 'ruang', 'ganti', 'bagus', 'parkir', 'aman'], ['tiket', 'masuk', 'kolam', 'senin', 'kedalaman', 'kolam', 'meter', 'kolam', 'anak', 'anak'], ['deket', 'rmh', 'nyaman', 'anak', 'renang'], ['harga', 'tiket', 'murah', 'weekend', 'ribu', 'org', 'minggu', 'ngantar', 'anak', 'les', 'renang', 'kolam', 'bersih', 'lantai', 'pinggir', 'kolam', 'becek', 'lantai', 'kantin', 'becek', 'ruang', 'bilas', 'perempuan', 'lantainya', 'becek', 'saluran', 'air', 'tersumbat', 'banjir'], ['penjaganya', 'ilang', 'ilang'], ['kolam', 'renang', 'termurah', 'singgahi', 'salah', 'tiket', 'masuk', 'weekday', 'weekend', 'anak', 'anak', 'balita', 'disarankan', 'pendamping', 'pembatas', 'kolam', 'dewasa', 'anak', 'anak'], ['tempatnya', 'cocok', 'anak'], ['bagus', 'kolam', 'renang', 'harga', 'murah', 'ruang', 'ganti', 'layak', 'kamar', 'mandi', 'ukuran', 'kedalaman', 'kolam', 'bagus', 'kolam', 'pelatihan', 'militer', 'rabu', 'kamis', 'pagi', 'disarankan', 'jam', 'pagi'], ['ngasi', 'kaporit', 'tolong', 'ukur', 'pedih', 'mata'], ['bau', 'kaporitnya', 'nyengat'], ['minggu', 'pilihan', 'piknik', 'keluarga', 'kemajuan', 'toilet', 'uda', 'semoga', 'kedepannya', 'ditambah', 'bangku', 'ato', 'apalah', 'beristirahat', 'berteduh', 'sukses'], ['mantap', 'airnya', 'bersih', 'd', 'pinggir', 'kolam', 'airnya', 'pelindung', 'sinar', 'mataharinya'], ['airnya', 'bersih', 'kolam', 'anak', 'dewasa', 'tiket', 'masuk', 'jumat', 'minggu'], ['baca', 'harga', 'ticket', 'kodam', 'mahal'], ['bagus', 'tiket', 'masuk', 'weekday', 'weekend', 'tgl', 'merah', 'parkir', 'motor', 'mobil', 'jaga', 'persewaan', 'baju', 'renang', 'trainer', 'anak', 'ngajar', 'disana', 'air', 'beraih', 'segar', 'kamar', 'ganti', 'pria', 'direnovasi', 'km', 'cadangan', 'vip'], ['kolam', 'renangnya', 'bagus', 'lumayan', 'rumah'], ['tenpat', 'enak', 'renang', 'pemula', 'ekspert', 'anak', 'anak', 'kolam', 'm', 'belajar', 'kedalaman', 'm'], ['asiikkk', 'renang', 'bersih'], ['lingkungan', 'kolam', 'renangnya', 'kotor', 'sampah', 'pengunjung', 'dibersihkan', 'alat', 'penunjang', 'kolam', 'anak', 'keropos', 'khawatir', 'melukai', 'anak', 'bermain'], ['htm', 'terjangkau', 'nyaman'], ['mantap', 'tempatnya', 'masi', 'ruang', 'tunggunya'], ['kaporit', 'susah', 'nyisir', 'rambut'], ['tempatnya', 'bagus', 'perbaikan', 'ganti', 'baju', 'mohon', 'ditambah', 'tempatnya', 'dihari', 'minggu', 'pengunjungnya', 'ganti', 'nunggu'], ['bagus', 'cuman', 'sayang', 'kmar', 'mndi', 'blum', 'd', 'prbaiki'], ['panas', 'siang', 'kanopinya'], ['murah', 'rakyat', 'ribu', 'weekend', 'konsekuensinya', 'jorok'], ['enak', 'sayang', 'ruang', 'gantinya', 'pria', 'perbaikan'], ['tempatnya', 'lumayan', 'kolam', 'tipe', 'akses', 'parkir', 'luas', 'harga', 'normal', 'libur', 'tmpt', 'mandi', 'outdoor', 'bossss', 'disediakan', 'ruang', 'ganti', 'untung', 'udah', 'dipisah', 'kantin', 'harga', 'kali', 'lipat', 'air', 'bau'], ['gantinya', 'bagus', 'kotor'], ['rmh', 'tempatnya', 'jjg', 'asyik'], ['kolam', 'renang', 'anak'], ['kolam', 'renang', 'luas', 'dijamin', 'puas', 'hobby', 'berenang', 'duduk', 'pengunjung', 'minimalis'], ['kolamnya', 'oke', 'wahana', 'anak', 'sayang', 'gazebo', 'nunggu', 'anak', 'berenang'], ['tempatnya', 'nyaman', 'bersih', 'luas', 'loker', 'simpan', 'barang', 'bawaan', 'kasih', 'ktp', 'bayar'], ['pengawasnya', 'ilang', 'tenggelam', 'bahaya'], ['terawat'], ['kamar', 'mandi', 'ganti', 'antri'], ['gaada', 'pengawas', 'coba', 'coba'], ['kunjungan', 'pekan', 'ramai', 'siswa', 'junior', 'mengambil', 'kursus', 'renang', 'ruang', 'ganti', 'unisex', 'ruang', 'ganti', 'dibenahi'], ['bagus', 'murah', 'sayang', 'butek'], ['harga', 'segitu', 'mahal', 'termasuknya'], ['bagus', 'udah', 'lumayan', 'renang', 'weekend', 'ramai', 'crowded'], ['panas'], ['tutupnya', 'jam', 'sore', 'msh', 'pingin', 'renang', 'd', 'sore'], ['sabtu', 'libur', 'penuh'], ['murah', 'cocok', 'keluarga', 'bersih'], ['nyaman', 'keluarga', 'kolam', 'renangnya', 'bagus', 'petugas', 'siaga'], ['kualitas', 'air', 'bersih', 'duduk'], ['mie', 'enak', 'pake', 'telor'], ['kolam', 'renang', 'bagus', 'bersih', 'wahana', 'anak', 'kebersihan', 'ruang', 'ganti', 'toilet', 'butuh', 'ditingkatkan', 'harga', 'tiket', 'masuk', 'dewasa', 'ribu', 'kawasan', 'kolam', 'renang', 'kantin', 'menyediakan', 'makanan'], ['nyaman', 'harga', 'ekonomis', 'cuman', 'kadang', 'airny', 'kotor'], ['airnya', 'lumayan', 'bersih', 'harganya', 'terjangkau'], ['tempatnya', 'enak', 'ramai', 'harga', 'tiket', 'masuk', 'ramah', 'dikantong', 'pastinya'], ['kamar', 'mandinya', 'pintu', 'rusak', 'kotor', 'selebihnya', 'bagus', 'kebersihan', 'kamar', 'mandi', 'tolong', 'ditingkatkan'], ['tutup'], ['kotor', 'kaporit', 'kotoran', 'air'], ['lumayan', 'harga', 'weekend', 'duduk', 'nunggu', 'terbatas'], ['kolam', 'renang', 'dewasa', 'sepi'], ['sandal', 'pake', 'area', 'kolam', 'renang', 'makan', 'area', 'kolam', 'aneeehhh'], ['serem'], ['licin', 'lantainya'], ['lumayan', 'bagus', 'rombongan', 'anak', 'sekolah'], ['kolamnya', 'luas', 'bersih', 'nyaman'], ['kebersihan', 'perawatan', 'fasilitas', 'ditingkatkan'], ['tempatnya', 'bagus', 'panas', 'penjaganya', 'menyirami', 'lantai', 'panas', 'kaki'], ['recommended', 'rekreasi', 'keluarga', 'niat', 'olahraga', 'renang', 'tempatnya', 'bagus', 'bersih', 'airnya', 'jernih', 'tiket', 'terjangkau'], ['asyik', 'panas', 'kamar', 'mandi', 'terjaga', 'kebersihannya'], ['kolam', 'renang', 'nyaman', 'latihan', 'sepi'], ['lumayan', 'nyenening', 'anak'], ['kesini', 'jumat', 'air', 'jernih', 'jadwal', 'kuras', 'kamis', 'pagi'], ['penjaga', 'senyumnya', 'mahal', 'bnget'], ['kolam', 'renang', 'bersih', 'wahana', 'anak'], ['kolam', 'renangnya', 'dewasa', 'kaporitnya', 'anak', 'mainannya', 'cocok', 'weekend', 'htm', 'sesuai', 'fasilitasnya'], ['rekreasi', 'murah'], ['puluh', 'ribu', 'sabtu', 'minggu'], ['nunggu', 'nyaman'], ['bersih'], ['bagus', 'bersih', 'menyenangkn', 'ank'], ['kolam', 'renangnya', 'harganya', 'lumayan', 'mahal', 'kolam', 'anak', 'ty', 'keatas', 'bayar', 'full', 'harga', 'makanan', 'tersedia', 'relatif', 'tersedia', 'penyewaan', 'karpet', 'ban'], ['kolam', 'renang', 'murah', 'surabaya', 'ramai', 'weekend'], ['rabu', 'tgl', 'juni', 'liburan', 'raya', 'masuk', 'tiket'], ['strategis', 'bersih', 'lengkap'], ['bersih', 'tempatnya', 'enak', 'dn', 'harga', 'terjangkai'], ['bersih', 'airnya', 'bersih', 'kamar', 'mandi', 'lumayan', 'cuman', 'mata', 'cepat', 'perih'], ['mantap', 'ditingkatkan', 'fasilitasnya'], ['was', 'was', 'barang', 'bawaan'], ['kolam', 'renang', 'murah', 'ramai', 'pekan', 'memiliki', 'taman', 'bermain', 'air', 'anak', 'anak', 'penjual', 'makanan', 'musholla', 'penyewaan', 'baju', 'renang', 'penjual', 'toilet', 'bersih', 'parkir', 'kendaraan', 'luas'], ['airnya', 'perih'], ['puanas', 'pol'], ['air', 'dingin', 'sayangnya', 'atapnya'], ['luas', 'belajar', 'berenang', 'bersih', 'nyaman', 'wilayah', 'kompleks', 'tentara', 'brawijaya', 'surabaya', 'harga', 'masuk', 'murah', 'berenang', 'sepuasnya', 'sepi', 'pengunjung', 'seakan', 'rumah'], ['renang', 'enak', 'kolamnya', 'bersih'], ['sport', 'complex', 'brawijaya', 'bagus', 'bermanfaat', 'masyarakat'], ['kolam', 'renangnya', 'murah', 'ruang', 'ganti', 'bagus', 'kotor', 'nyaman'], ['kolam', 'renang', 'favoritkan', 'krna', 'dri', 'rumah', 'kolam', 'renangnya', 'bersih', 'kamar', 'mandinya', 'bersih', 'berkesan', 'pas', 'renang', 'bareng', 'latihannya', 'tni', 'didalam', 'kolam', 'tni', 'ramah', 'mengusir', 'kolam', 'renangnya', 'luas', 'menyenangkan'], ['air', 'kolam', 'bersih', 'fasilitas', 'parkir', 'memadai', 'diperindah', 'lg'], ['bagus', 'bersih', 'ramai', 'pengunjung', 'parkirnya', 'luas'], ['kesan', 'kali', 'main', 'bersih', 'air', 'kolamnya', 'trus', 'diisi', 'kamar', 'mandinya', 'relatif', 'terawat', 'dibanding', 'kolam', 'publik', 'tarif'], ['idaman', 'anak', 'anak', 'cuman', 'dibenahi', 'fasilitas'], ['kolam', 'olahraga', 'bersih', 'terawat', 'harga', 'terjangkau'], ['kolam', 'sebelah', 'lapangan', 'hitam', 'kodam', 'brawijaya'], ['panas', 'ea', 'tmpt', 'berteduhnya'], ['renang', 'harga', 'terjangkau', 'kolamnya', 'bersih'], ['murah', 'kamar', 'mandi', 'ok', 'sayang', 'gazebonya', 'minim', 'kualitas', 'air', 'kotor', 'kebersihan', 'kolam', 'terjaga'], ['tempatnya', 'bersih', 'murah', 'sich', 'masuknya', 'makanannya', 'enak', 'murah'], ['harga', 'murah', 'kotor'], ['cocok', 'anak', 'dewasa'], ['renang', 'murah', 'nyaman', 'bersih', 'luas', 'kantinnya', 'jg', 'recomend', 'g', 'kantong', 'bolong'], ['oke', 'meter', 'kotor', 'diperhatikan', 'kamar', 'ganti', 'diperhatikan', 'pagi', 'siang', 'puanass', 'wkwk'], ['kolam', 'renang', 'lumayan', 'bersih', 'kaporit', 'pedih', 'mata', 'cuman', 'kamar', 'mandi', 'diperhatikan', 'kolam', 'renang', 'anak', 'anak'], ['kolam', 'renang', 'lumayan', 'bersih', 'kaporit', 'pedih', 'mata', 'cuman', 'kamar', 'mandi', 'diperhatikan', 'kolam', 'renang', 'anak', 'anak'], ['lmyn', 'bersih', 'air', 'kdg', 'bnyk', 'kaporitnya'], ['kebersihan', 'kolam', 'kamar', 'mandi'], ['parkir', 'luas', 'bagus', 'berenang'], ['tempatnya', 'oke', 'harga', 'terjangkau', 'sayang', 'air', 'mata', 'gelap', 'pake', 'kacamata', 'pas', 'nyebur'], ['menyenangkan', 'unt', 'olah', 'raga', 'bermain', 'tiket', 'tergolong', 'murah', 'bersih', 'sayang', 'air', 'kamar', 'bilas', 'warung', 'parkir', 'oke'], ['biaya', 'kerja', 'biaya', 'pekan', 'parkir', 'luas'], ['kolam', 'renang', 'didaerah', 'kodam', 'brawijaya', 'htm'], ['murah', 'sekedar', 'menyenangkan', 'anak', 'melatih', 'anak', 'renang', 'htm', 'libur', 'htm'], ['mantaap', 'duduk', 'yaaa', 'menunggu', 'ngeper', 'duduknya'], ['enak', 'berteduh'], ['kolamnya', 'lebar', 'lumayan', 'renang'], ['bagus', 'luas', 'kolamnya', 'parkir', 'luas', 'mudah', 'dijangkau', 'teduhnya', 'panas', 'kursi', 'duduknya'], ['kolam', 'renang', 'ternyaman', 'lihat', 'kolam', 'anak', 'dewasa', 'pelatihan', 'renang', 'kantin', 'terjangkau', 'harganya', 'mantab', 'dah', 'rugi', 'ngajak', 'keluarga', 'temen', 'temen', 'kesini'], ['harga', 'tiket', 'murah', 'kolam', 'renang', 'bermain', 'anak', 'kolam', 'standar', 'mtr', 'cocok', 'pemula', 'belajar', 'atlit', 'renang', 'sore', 'aktifitas', 'club', 'renang', 'millenium', 'surabaya', 'kantin', 'stand'], ['lumayan', 'rumah', 'kamar', 'mandinya', 'oke', 'siang', 'panasnya', 'agk', 'kerasa', 'kasih', 'tutup'], ['tempatnya', 'ramai', 'fasilitas', 'lumayan', 'sempet', 'kedalaman', 'meter', 'penuh', 'sesak', 'berani', 'meter'], ['anak', 'suka', 'berenang'], ['tempatnya', 'lumayan', 'luas', 'lumayan', 'renangnya', 'ana', 'anak'], ['plototan', 'kolam', 'renang', 'brawijaya', 'tutup', 'buka', 'rabu'], ['kekurangan', 'airnya', 'keruh', 'dbatasi', 'latihan', 'tni', 'al', 'renang', 'sesuai', 'klebihan', 'murah', 'jenis', 'kedalaman', 'air', 'renang', 'trdapat', 'kolam', 'air', 'renang', 'anak'], ['kolam', 'luas', 'ampun', 'dah', 'kaporitnya', 'over', 'nyemplung', 'mata', 'perih', 'merah', 'kulit', 'jdi', 'cpt', 'gosong'], ['panas'], ['tempatnya', 'luas', 'kaporitnya', 'rambut', 'sulit', 'nyisirnya'], ['kolam'], ['kolam', 'renang', 'brawijaya', 'nyaman', 'anak', 'belajar', 'berenang'], ['kolam', 'renang', 'bagus', 'harga', 'terjangkau', 'tersedia', 'level', 'kedalaman', 'mainan', 'anak', 'tersedia', 'toko', 'menjual', 'makanan', 'perlengkapan', 'renang'], ['atlet', 'club', 'renang', 'millenium', 'berlatih'], ['cocok', 'berenang', 'anak', 'keluarga'], ['tmpatnya', 'panas', 'teduh'], ['koncentrasi', 'koprit'], ['kolam', 'renang', 'letaknya', 'pas', 'sebelah', 'lapangan', 'kodam', 'v', 'brawijaya', 'kolam', 'kolam', 'anak', 'kolam', 'dewasa', 'tempatnya', 'bersih', 'sayangnya', 'menunggu', 'panas'], ['berenang', 'menikmati', 'lezatnya', 'roti', 'john'], ['senang', 'berenang', 'harga', 'terjangkau'], ['buka', 'sabtu', 'minggu'], ['tempatya', 'bagus'], ['nyaman', 'bagus', 'kolam', 'renang', 'luas', 'wahananya', 'toilet', 'kamar', 'mandi', 'kotor', 'bekas', 'tanah', 'sandal'], ['tangga', 'kekolam', 'renang', 'orang', 'jatuh', 'korbannya', 'anak', 'jg', 'orang', 'terpeleset'], ['nyaman', 'renang', 'keluarga'], ['kualitas', 'airnya', 'renang', 'kulit', 'perih', 'panas', 'gatal'], ['murah', 'cocok', 'liburan', 'suka'], ['kolam', 'renangnya', 'bagus', 'nyaman', 'luas', 'cocok', 'keluarga', 'kolam', 'renang', 'anak', 'luas', 'dilengkapi', 'permainan', 'airnya', 'bersih', 'perih', 'd', 'mata', 'harganya', 'terjangkau', 'terletak', 'd', 'wilayah', 'kodam', 'brawijaya', 'surabaya', 'gampang', 'nyarinya'], ['ramai', 'parkir', 'panas'], ['kasih', 'prusutanya', 'cuman'], ['bersih', 'full', 'aroma', 'kaporit', 'kamar', 'mandi', 'plusnya', 'tdp', 'ruang', 'tunggal', 'sayangnya', 'tergenang', 'shg', 'sulit', 'menjaga', 'kesucian'], ['lokasi', 'strategis', 'karna', 'sekitaran', 'komplek', 'markas', 'marinir'], ['senang', 'rumah', 'membantu', 'proses'], ['murah', 'terdalam', 'meter', 'dewasa'], ['bersih', 'menyenangkan', 'berenang', 'teman', 'keluarga'], ['kolam', 'renangnya', 'bagus'], ['bersih', 'murah'], ['no', 'comments', 'dah', 'hahaha'], ['airnya', 'jernih', 'prosesnya', 'air', 'masuk', 'saring', 'saring', 'masuk', 'saring', 'full', 'filter'], ['tersenyum', 'indah', 'mengajak', 'keluarga', 'bersenang', 'senang', 'terlewatkan', 'kolam', 'renang', 'terdekat', 'rumah', 'fasilitasnya', 'kalah', 'suka', 'mengajak', 'keluarga', 'kesini'], ['kolam', 'renang', 'dilengkapi', 'kolam', 'renang', 'khusus', 'anak', 'anak', 'fasilitas', 'perosotan', 'sayang', 'dilengkapi', 'duduk', 'kamar', 'ganti', 'bagus'], ['kolam', 'renangnya', 'luas', 'selurutan', 'anak', 'anak'], ['kolam', 'renang', 'bagus', 'kotor', 'airnya', 'kehijauan'], ['pagi', 'orang', 'pintu', 'masuk', 'murah', 'bersih', 'pop', 'mie', 'teh', 'dingin', 'air', 'mineral', 'dingin'], ['ademmmm', 'rulexss', 'santuy'], ['cuman', 'kolam', 'renang', 'ngarep'], ['tempayt', 'bagus', 'harga'], ['fasilitas', 'fitnes'], ['liburan', 'rame'], ['parkir', 'gratis', 'harga', 'tiket', 'weekdays'], ['tiketnya', 'murah', 'an', 'anak', 'dewasa', 'harga', 'ticket', 'kolamnya', 'anak', 'dewasa', 'dewasa', 'kedalaman', 'cm', 'm'], ['harga', 'sebenernya', 'udah', 'bagus', 'cuman', 'airnya', 'keruh', 'bau', 'kaporit', 'nyengat', 'serignya', 'ramai', 'pengen', 'renang', 'cari', 'sepi', 'kolamnya'], ['kolam', 'renangnya', 'luas', 'kedalamannya', 'meter', 'kolam', 'renang', 'anak', 'didalam', 'memyewakan', 'ban', 'pompa', 'angin', 'jual', 'makanan', 'so', 'kuatir', 'kelaparan', 'ruang', 'ganti', 'pas', 'kesana', 'sayang', 'flow', 'airnya'], ['cocok', 'berenang', 'suasana', 'tenang', 'ramai', 'kerja', 'loket', 'masuk', 'terjangkau', 'harga', 'makanan', 'minuman', 'relatif', 'murah'], ['sempit', 'kolam', 'renang', 'orang', 'masuk', 'bayar', 'disaat', 'pelatihan', 'renang', 'disuruh', 'minggir', 'nggak', 'cuman', 'sampek', 'orang', 'latihan', 'disana', 'udah', 'gitu', 'pelatihan', 'renang', 'sampek', 'grup'], ['harga', 'tiket', 'murah', 'cuman', 'lumayan', 'sepi', 'cocok', 'suka', 'sepi'], ['fasilitas', 'jajan', 'didalam', 'worth', 'it', 'murah', 'sekelas', 'warkop', 'nungguin', 'anak', 'les', 'renang', 'disuruh', 'bayar'], ['mencari', 'kolam', 'renang', 'kodam', 'pilihan', 'terdekat', 'kolam', 'renang', 'hayam', 'wuruk'], ['kolam', 'renang', 'luas', 'bagus', 'anak', 'dewasa', 'kantin', 'harga', 'free', 'parkir'], ['pas', 'libur', 'enak', 'sepi', 'kolamnya', 'dewasa'], ['kolam', 'renang', 'kota', 'surabaya', 'murah', 'air', 'jernih', 'kolam', 'luas', 'kursus', 'renang', 'pemula', 'pandu', 'pelatih', 'profesional', 'tiket', 'masuk', 'relatif', 'terjangkau'], ['kolamnya', 'lumayan', 'latihan', 'no', 'problem', 'club', 'renang', 'contact'], ['tersedia', 'kolam', 'renang', 'anak', 'dewasa', 'bagus', 'belajar', 'renang', 'bnyk', 'wahana', 'permainan'], ['kerennnn', 'betahhh', 'murahhh', 'rame', 'barengan', 'latihannn', 'jugaaa'], ['pool', 'lumayan', 'bersih', 'dewasa', 'anak', 'anak'], ['kolamnya', 'cuman', 'sabtu', 'minggu', 'ramai', 'menenangkan'], ['murah', 'pas', 'kantong', 'sayang', 'kolamya', 'kotor', 'terawat', 'are', 'kolamnya', 'bersih'], ['wekend', 'enak', 'memanjakan', 'anak', 'berenang', 'ditambah', 'jajanan', 'nafsu', 'meronta', 'ronta', 'membeli', 'renang', 'perut', 'lapar'], ['harga', 'tiket', 'kolam', 'renang', 'anak', 'ditambah', 'perosotan', 'playground', 'meja', 'gazebo', 'rusak', 'kamar', 'mandi', 'jadul', 'bersih', 'kebersihannya', 'pintunya', 'jg', 'bnyak', 'kuncinya', 'air', 'kolam', 'kbersihannya', 'sayang', 'jam', 'istirahat', 'buka', 'jam'], ['kotor', 'airnya', 'kotor', 'kamar', 'mandi', 'samgat', 'kotor'], ['buka', 'jam', 'htm', 'weekend', 'salah'], ['lokasi', 'nyaman', 'latihan', 'kedalaman', 'kolam', 'sesuai', 'latihan'], ['kolam', 'renang', 'hayam', 'wuruk', 'kantin', 'lengkap', 'menunya', 'parkir', 'ruang', 'ganti', 'toilet', 'bersih', 'loker', 'bantu', 'penjaganya'], ['murah', 'kolam', 'kedalamannya', 'kolam', 'bervariasi', 'ukuran', 'kolam', 'renangnya', 'standar', 'lomba', 'renang', 'kamar', 'gantinya', 'sewa', 'kacamata', 'baju', 'renang', 'masuk', 'langsung', 'kantin'], ['kolam', 'renangnya', 'cm', 'kebersihan', 'standard', 'mainannya', 'anak', 'cocok', 'cocok', 'les', 'renang', 'tempatnya', 'sepi', 'rame', 'tiketnya', 'cm', 'murah'], ['lumayan', 'bersih', 'les', 'renang', 'murah', 'masuknya', 'nyaman', 'tempatnya'], ['tempatnya', 'ramai', 'kolam', 'bersih', 'kolam', 'kolam', 'anak', 'anak', 'kolam', 'remaja', 'kedalaman', 'meter'], ['disamping', 'kolam', 'renang', 'melatih', 'tentara', 'umun', 'jg', 'lg', 'ngetren', 'dijaman', 'now', 'roti', 'john', 'lg', 'fenomenal', 'mboook', 'orang', 'antri', 'sembako'], ['airnya', 'jernih', 'langsung', 'kedalaman', 'meter', 'berenang', 'kedalamannya', 'cm', 'meter', 'belajar', 'berenang'], ['tempatnya', 'nyaman', 'bersih', 'harga', 'makanannya', 'bs', 'dijangkau'], ['murah', 'cocok', 'belajar', 'renang'], ['nilai', 'historynya'], ['favorit', 'sikecil', 'usia', 'th'], ['semoga', 'eksis', 'tingkatkan', 'pemeliharaan', 'perawatan', 'kolam', 'renang'], ['airnya', 'keruh', 'sirkulasi', 'air', 'sampah', 'botol', 'berkeliaran', 'kolam', 'renangnya'], ['parkir', 'tiket', 'masuk', 'kamar', 'mandi', 'bersih', 'kolam', 'renang', 'buka', 'jam'], ['kali', 'kesini', 'kolam', 'lumutnya', 'kamar', 'gantinya', 'mati', 'airnya', 'lapor', 'pancing', 'airnya'], ['renang', 'sabtu', 'pagi', 'suasananya', 'enak', 'relatif', 'sepi', 'dibandingkan', 'minggu', 'pagi', 'karcis', 'berenang'], ['bagus', 'kadang', 'air', 'bersih', 'pas', 'bru', 'dibersihkan', 'kadang', 'kotor', 'htm'], ['kadang', 'kotor'], ['ramai', 'weekday', 'puas', 'berenangnya'], ['kolam', 'renang', 'bersih', 'murah', 'tiket', 'weekend', 'sewa', 'lokernya', 'harga', 'jaminan', 'ktp', 'ruang', 'gantinya', 'bilik', 'mandinya', 'khawatir', 'antre', 'nilai', 'plusnya'], ['terima', 'privat', 'renang', 'minimal', 'usia', 'thn', 'laki', 'wanita', 'dewasa', 'anak', 'anak', 'orang', 'tua'], ['lumayan', 'tiket', 'masuk', 'murah'], ['kedalaman', 'kolam', 'renang', 'm', 'kolam', 'renang', 'anak', 'anak'], ['senin', 'jumat', 'harga', 'kebersihan', 'kamar', 'mandi', 'bangunan', 'kolam', 'anak', 'bersih'], ['lumayan', 'pemula', 'kuliner', 'enak', 'diluar', 'kolam', 'renang'], ['kesini', 'suami', 'anak', 'htm', 'orang', 'kesana', 'weekdays', 'weekend', 'panas', 'panas', 'terik', 'kanopi'], ['kolam', 'renang', 'tempatnya', 'jalan', 'hayam', 'wuruk', 'sutos', 'arah', 'gunungsari'], ['kolam', 'cepat', 'menghijau', 'terlohat', 'buteg'], ['kolam', 'renang', 'dikenal', 'masyarakat', 'bersih', 'perenang', 'pemula', 'tahap', 'belajar'], ['area', 'kolam', 'renang', 'mudah', 'jangkau', 'hrg', 'ticket', 'murah', 'kualitas', 'air', 'kolam', 'sesuai', 'harga', 'hati', 'pemula', 'kolam', 'renang', 'hayam', 'wuruk', 'sisi', 'utara'], ['nyaman', 'buka', 'berenang', 'sepuas', 'dibanding', 'kolam', 'renang', 'surabaya', 'obatnya', 'aman', 'berenang', 'kacamata'], ['latihan', 'renang', 'lumayan', 'pakai', 'sandal', 'panas'], ['kejernihan', 'airnya', 'lumayanlah', 'td', 'ramai', 'libur', 'nyari', 'ketenangan', 'mending', 'weekday', 'fasilitas', 'lumayan'], ['kolam', 'renang', 'kolam', 'renang', 'kolam', 'renang', 'dewasa', 'kolam', 'renang', 'anak', 'buah', 'perosotan', 'sj', 'permainan', 'air', 'kolam'], ['fasilitasnya', 'diperbaiki'], ['airnya', 'kayak', 'dlu', 'kaporitnya', 'kebersihannya', 'normal', 'kolam', 'bersih', 'tetep', 'renang', 'termurah', 'terjangkau'], ['les', 'renang', 'putra', 'putrix', 'pas', 'tempatx'], ['kolamnya', 'bgus', 'bersih', 'tmpt', 'bertduh', 'bwah', 'pohon', 'mangga', 'ayunannya', 'sayang', 'airnya', 'pekat', 'kandungan', 'kaporit', 'hrg', 'makanannya', 'tergolong', 'mahal'], ['tempatnya', 'lumayan', 'harga', 'makanan', 'minuman', 'disana', 'standart', 'area', 'pengantar', 'panas', 'kl', 'siang'], ['air', 'kolam', 'dinding', 'kolam', 'berlumut', 'tebal', 'kamar', 'shower', 'terawat', 'ditemukan', 'botol', 'plastik', 'dasar', 'area', 'kolam', 'm'], ['bagus', 'bagus', 'tdi', 'cm', 'jam', 'renangnya'], ['pas', 'dtg', 'sore', 'air', 'kolam', 'keruh', 'daun', 'ngambang', 'kolam', 'dibersihkan', 'kamar', 'ganti', 'jg', 'berlumut'], ['kolam', 'renangnya', 'bersih', 'duduk', 'menaruh', 'barang', 'bawaan', 'tiket', 'masuknya', 'murah', 'harga', 'sabtu', 'minggu'], ['suka', 'renang', 'airnya', 'bersih', 'pas', 'dibersihkan', 'kolam', 'renangnya', 'ramai', 'pengawasan', 'ekstra'], ['kolam', 'bersih', 'lokasi', 'bersih', 'nyaman', 'tenang', 'kantin', 'buka'], ['kolam', 'renangnya', 'bagus', 'bersih', 'cocok', 'anak', 'bermain', 'kolam', 'dewasanya', 'cocok', 'latihan'], ['bagus', 'anak', 'pemula', 'pelatih'], ['bagus', 'anak', 'belajar', 'berenang', 'ramai', 'pengunjung', 'murah', 'orang', 'akses', 'jalan', 'mudah', 'parkir', 'is', 'ok', 'cocok', 'senangin', 'buah', 'hati'], ['air', 'kamar', 'bilas', 'mati', 'petugas', 'siaga', 'mengecek', 'mesin', 'pompa', 'airnya'], ['tiketnya', 'ribu', 'meter', 'kolamnya', 'kyk', 'kolam', 'minggu', 'airnya', 'butek', 'jaral', 'pandang', 'cm', 'beningnya'], ['cocok', 'pelajar', 'ato', 'belajar'], ['kurg', 'bgs', 'pns', 'g', 'nyaman', 'tmptx', 'kyk', 'g', 'terurus', 'aplgi', 'pohon', 'dgin', 'dlu', 'd', 'tebang', 'pns'], ['maintenance', 'kolam', 'parah'], ['kolam', 'renang', 'lengkap', 'permainan', 'anak', 'anak', 'lwbih', 'tepatnya', 'diperuntukan', 'orang', 'berlatih', 'renang'], ['kolam', 'renang', 'bagus', 'belajar', 'renang', 'wahana', 'permainan', 'airnya', 'jernih', 'bersih'], ['kualitas', 'airnya', 'bagus', 'kamar', 'mandinya', 'higienis'], ['lumayan', 'nyaman', 'tempatnya', 'harga', 'tiket', 'ekonomis', 'cuman'], ['harga', 'murah', 'kurangnya'], ['kolam', 'renangnya', 'kebersihannya'], ['kolam', 'renangnya'], ['kolamnya', 'keramik', 'pecah', 'udah', 'gt', 'penjaga', 'ngeliatin', 'risih'], ['kamar', 'ganti', 'kotor', 'g', 'terawat', 'kolam', 'renang'], ['tiket', 'murah', 'mines', 'kolam', 'sepi', 'pengujung'], ['kolam', 'renang', 'htm', 'murah', 'kolam', 'anak', 'airnya', 'bersih'], ['bagus', 'murah', 'berlatih', 'berenang', 'pelatihnya'], ['kolamnya', 'bagus', 'cocok', 'melatih', 'renang'], ['tempatnya', 'anak', 'belajar', 'berenang', 'pemula'], ['fasilitas', 'anak', 'anak', 'kolom', 'renang'], ['badan', 'aing', 'gatel', 'berenang', 'tahan', 'gatel', 'rekomen', 'nggak'], ['sometimes', 'kolamnya', 'kotor', 'ruang', 'gantinya', 'terawat'], ['lumayan', 'petugas', 'kebersihan'], ['pohon', 'ditebang', 'panas'], ['lumayan', 'bagus', 'airnya', 'kebanyakan', 'kaporit', 'jernih'], ['kolamnya', 'seru', 'cocok', 'harganya', 'murah'], ['bagus', 'bersih', 'harga', 'murah', 'ribu'], ['bagus', 'latihan', 'renang'], ['menarik', 'tempatnya', 'cocok', 'belajar', 'renang'], ['murah', 'panas', 'cocok', 'latihan', 'renang'], ['kakak', 'extra', 'renang', 'bersih', 'bagus', 'nyaman'], ['lumayan', 'ngidam', 'renang'], ['bagus', 'tempatnya', 'kolamnya', 'wcnya', 'bersih'], ['ribu', 'mahal', 'kolam', 'renang', 'milik', 'tni'], ['lumayan', 'bagus', 'anak', 'anak', 'ditambah', 'mainnya'], ['disarankan', 'warga', 'surabaya', 'selatan', 'strategis', 'bersih', 'dijamin', 'aman', 'nyaman'], ['sarana', 'berlatih', 'renang', 'rekreasi', 'keluarga'], ['kolam', 'renang', 'terhitung', 'murah', 'dikawasan', 'surabaya', 'selatan'], ['kolam', 'relatif', 'bersih', 'tertib', 'tersedia', 'kolam', 'anak'], ['kolamnya', 'bagus', 'perawatan'], ['renang', 'main'], ['harga', 'terjangkau', 'weekend'], ['tiket', 'masuk', 'tergolong', 'murah', 'tempatnya', 'lumayan'], ['kolam', 'renang', 'murah', 'kaporitnya', 'buanyak'], ['tmpt', 'parkir', 'luas', 'dpn', 'jln', 'raya', 'mudah', 'akses', 'mencarinya'], ['kolam', 'bagus', 'bayarnya', 'murah'], ['tiket', 'masuknya', 'murah', 'basuhnya', 'terang'], ['basuhnya', 'terang'], ['kolam', 'renang', 'area', 'kodam', 'brawijaya', 'terletak', 'jl', 'hayam', 'wuruk', 'surabaya'], ['idola', 'anak', 'anakku'], ['kolam', 'renang', 'hayam', 'wuruk', 'malam', 'pusat', 'jajanan', 'rakyat'], ['pingin', 'belajar', 'renang', 'tempatnya'], ['tiket', 'masuk', 'murah', 'kolam', 'bersih', 'terawat'], ['bersih', 'nyaman', 'seru', 'disaat', 'pasangan'], ['kolam', 'renang', 'bersih', 'sich'], ['menyenangkan'], ['orang', 'jualan', 'depannya'], ['tiket', 'oktober', 'org'], ['murah', 'lumayan', 'enak'], ['harga', 'tiket', 'murah', 'fasilitas', 'jelek'], ['meter'], ['bakso', 'kikil', 'didepannya', 'mantab'], ['lumayan', 'murah', 'bersih', 'yaaahh', 'deket', 'murah'], ['tetep', 'terbaik', 'harga', 'kesehatan', 'kalangan'], ['kolam', 'renang', 'bagus', 'murah', 'tempatnya'], ['lumayan', 'rekreasi', 'murah'], ['tenpatnya', 'sepi', 'kolamnya', 'bersih', 'enak'], ['tiket', 'terjangkau', 'bagus', 'belajar', 'renang'], ['kamar', 'mandi', 'kotor', 'bau', 'kencing'], ['kolamnya', 'bersih', 'nyaman'], ['jobi', 'renang', 'renang'], ['bagus', 'murah', 'bersih'], ['ticket', 'masuknya'], ['pembelajaran', 'renang', 'cocok'], ['kolam', 'renang', 'nyaman'], ['pedes', 'mata'], ['kolam', 'renangnya', 'bagus', 'luas'], ['fasilitas', 'mewadahi', 'terkesan', 'perawatan'], ['buka', 'psbb'], ['buka', 'jam', 'rabu', 'tutup'], ['murah', 'nyelem'], ['lumayan', 'airnya', 'hijau'], ['ndak'], ['menarik'], ['bagus', 'kolam', 'renangnya'], ['tempatnya', 'terbuka', 'luas'], ['kerena', 'parkirnya', 'luas'], ['kolam', 'renang', 'bersih'], ['penjual', 'sate', 'didepannya'], ['nyesel', 'udah'], ['pengalaman', 'menarik', 'pelayanan', 'bagus'], ['lumayan', 'bersih'], ['kamar', 'mandi', 'rusak'], ['recovery', 'training', 'with', 'team', 'perseka', 'kaimana'], ['air', 'kotor'], ['lumayan', 'tempatnya', 'bersih'], ['fasilitas', 'ditambah'], ['lumayan', 'pengembangan'], ['tingkatkan', 'kebersihannya'], ['panas', 'airnya', 'mengandung', 'kaporit'], ['cocok', 'belajar', 'renang'], ['buka', 'pas', 'kesana', 'tutup'], ['ditambah', 'water', 'boom'], ['seger', 'panas', 'nang', 'suroboyo'], ['tempatnya', 'enak', 'bersih', 'aman'], ['tutup', 'cpt'], ['airnya', 'kotor'], ['murah', 'bersih'], ['perbaikan', 'fasilitas'], ['lumayan', 'sepi'], ['kotor', 'gatal', 'gatal'], ['lumayan', 'murah', 'enak'], ['buwuruk', 'pol'], ['sampahnya', 'jorok'], ['bersih', 'nyaman'], ['lumayan', 'menyenangkan'], ['kamar', 'mandi', 'cuman', 'gimana'], ['pojokan', 'ludah'], ['banya', 'pereman'], ['sepi', 'tenang'], ['air', 'keran', 'ruang', 'gantinya'], ['renovasi'], ['kolam', 'renang', 'anak', 'rusak'], ['renang', 'nabrak', 'sempit'], ['tolong', 'pengunjungnya', 'penuh', 'masuk', 'in', 'renang'], ['latian', 'tentara', 'ad'], ['strategis'], ['bersih'], ['sarang', 'laba'], ['murah'], ['lumayan', 'murah'], ['harganya'], ['kolam', 'renang', 'sutos'], ['yaaahh', 'lumayan'], ['bagus'], ['tempatnya', 'nyaman'], ['kamar', 'mandinya', 'kuncinya', 'mohon', 'dibenarkan'], ['anak', 'berenang'], ['sampahnya'], ['murah'], ['sampahnya'], ['bagus', 'santai'], ['lumayan'], ['tong', 'sampah', 'gaada'], ['tempatnya', 'sempit'], ['jaga', 'sewa', 'ban', 'suka', 'ilang'], ['hoax'], ['mantab'], ['bagusssss'], ['jelek'], ['lumayan'], ['murah'], ['kreatif'], ['tunggu'], ['renang', 'tc'], ['kolam', 'renang', 'hayam', 'wuruk'], ['panas', 'teduh'], ['kotor'], ['menyenangkan'], ['kolam', 'renang', 'mantab'], ['cocok', 'membutuhkan', 'kolam', 'renang', 'profesional'], ['bagus', 'berenang', 'menyelam', 'area', 'kolam', 'terdalam', 'meter', 'kamar', 'mandinya', 'ok', 'bagus', 'ok'], ['kamar', 'terburuk', 'kamar', 'mandi', 'memiliki', 'partisi', 'meninggalkan', 'privasi'], ['bagus', 'kolam', 'renang', 'bagus'], ['buruk'], ['pembaruan', 'perbaikan'], ['kolam', 'renang', 'bagus', 'bersih'], ['penjaga', 'kolam'], ['kolam', 'memiliki', 'kedalaman', 'beragam', 'cocok', 'olahraga', 'renang'], ['kolam', 'murah', 'bagus', 'toiletnya', 'direnovasi'], ['bagus', 'menyenangkan'], ['bagus', 'bersih'], ['bagus', 'butuh', 'waterpark', 'poin', 'plus'], ['kolam', 'renang', 'terbaru', 'bersih'], ['memalukan', 'kamar', 'toilet', 'dikelola'], ['terlepas', 'kondisi', 'toilet', 'buruk', 'kolam', 'renangnya', 'bagus'], ['membutuhkan', 'pemeliharaan', 'pembaharuan'], ['kolam', 'renang', 'direkomendasikan'], ['bagus', 'latihan'], ['yaaah', 'belajar', 'berenang', 'kolam'], ['favorit', 'berenang'], ['tempatnya', 'bersih'], ['jorok'], [], ['toiletnya', 'bersih'], ['penitipan', 'barang', 'bayar', 'tempt', 'tunggu', 'dikit', 'gimana'], ['indah', 'swwiiiiiiimmmm'], ['nunggu', 'masuk', 'semuah', 'bingung', 'duduk', 'duduknya'], ['bagus', 'berenang', 'fasilitas', 'air'], ['bagus'], ['kamar', 'mandi', 'jelek'], ['kolam', 'bersih'], ['jorok'], ['penjaganya'], ['tempt', 'kotor', 'terawat'], ['jorok'], ['kursi', 'pengunjung', 'lahh'], ['lumayan', 'kamar', 'mandinya', 'perbaikan'], ['tolong', 'kasi', 'gitu', 'kolamnya', 'ndak', 'puanas', 'terbakar'], ['kolam', 'renang', 'bagus'], ['airnya', 'panas', 'melukai', 'mata'], ['air', 'perih', 'mata', 'ngak', 'pakek', 'kacamata'], ['kolam', 'bersih'], ['tolong', 'perhatikan', 'kualitas', 'air', 'peminjaman', 'alat', 'bantu', 'renangnya'], ['kolam', 'renang', 'bagus'], ['area', 'kolam', 'renang', 'fasilitas', 'toilet', 'kunci', 'mohon', 'realisasi'], ['alat', 'keamanan'], ['nyaman', 'suka', 'berenang'], ['bersih', 'bawa', 'kaca', 'mata', 'renang', 'kaporitnya', 'kuat', 'pintu', 'masuk', 'ti'], ['kolam', 'renangnya', 'luas'], ['bersih', 'parkiran', 'luas', 'pintu', 'masuk', 'murah'], ['harga', 'tiketnya', 'terjangkau', 'les', 'renang', 'al'], ['bersih', 'sayangnya', 'jualan', 'makanan'], ['kolam', 'renang', 'anak', 'anak', 'rusak', 'air', 'keran', 'ruang', 'ganti', 'diperbaiki'], ['sempurna', 'menyegarkan', 'panas'], ['enak', 'murah', 'pas', 'weekend', 'kayak', 'dawet'], ['tiket', 'bagus', 'enak', 'murah'], ['harga', 'tiket', 'masuk', 'terjangkau'], ['kolam', 'renang', 'harga', 'masuknya', 'terjangkau', 'sayangnya', 'mainan'], ['luas', 'air', 'bersih', 'cocok', 'anak', 'belajar', 'renang'], ['harap', 'bersihkan', 'kolam', 'renang', 'dibuka'], ['masuk', 'murah', 'nyaman', 'pokoknya', 'puas', 'berenang'], ['oke', 'fasilitas', 'oke', 'harga', 'oke', 'kebersihan', 'kamar', 'mandi'], ['tempatnya', 'bersih', 'luas', 'harga', 'tiketnya', 'murah', 'highly', 'recommen'], ['kolam', 'renang', 'intens', 'berlatih', 'berenang', 'tes', 'kedinasan'], ['kolam', 'renangnya', 'enak', 'olahraga', 'parkir', 'luas', 'pintu', 'masuk', 'murah'], ['tempatnya', 'seru', 'ramai'], ['tempatnya', 'luas', 'menampung', 'pengunjung'], ['kotor'], ['lumayan', 'bersih', 'kolam', 'renang', 'daerah', 'pegunungan'], ['kolam', 'renangnya', 'bagus', 'tempatnya', 'luas'], ['info', 'kursus', 'berenang', 'anak', 'hubungi'], ['kolam', 'renangnya', 'bagus', 'sayangnya', 'kamar', 'mandinya', 'kotor'], ['air', 'kolam', 'lumayan', 'bersih', 'toilet', 'kamar', 'mandi', 'ruang', 'ganti'], ['minggu', 'kotor', 'dikuras', 'senin', 'selasa'], ['kemarin', 'kolamnya', 'kotor'], ['lebar', 'klorin', 'membuatnya', 'panas', 'kulit'], ['air', 'kolam', 'lumayan', 'bersih', 'lingkungan', 'bersih'], ['kolam', 'renang', 'gor', 'tribun', 'kotor', 'membuang', 'sampah', 'sembarangan'], ['bagus', 'siring', 'bawa', 'anak', 'anak', 'kesana', 'berenang', 'tingkatkan', 'kebersihannya'], ['kolam', 'renang', 'luas', 'parkir', 'luas', 'panas', 'pas'], ['kolam', 'renangnya', 'bersih', 'tolong', 'perbaiki', 'pintu', 'kamar', 'mandi', 'wanita'], ['terkadang', 'air', 'kolam', 'renang', 'kotor'], ['bersih', 'murah', 'latihan', 'renang', 'anak'], ['luas', 'htm', 'murah'], ['sarana', 'olah', 'raga', 'murah', 'diperbaiki'], ['kolam', 'renang', 'murah', 'disurabaya', 'minim', 'mainan', 'anak'], ['mending', 'kamar', 'mandi', 'plus', 'ruang', 'ganti'], ['berenang', 'les', 'renang'], ['fasilitas', 'kolam', 'renang', 'duduk', 'mengakomodir', 'kebutuhan', 'bersantai'], ['bagus'], ['penjaga', 'kolam', 'memperhatikan'], ['bagus'], ['tempatnya', 'bersih', 'nyaman', 'berenang', 'harganya', 'terjangkau'], ['kolamnya', 'bagus', 'kualitas', 'airnya', 'kadang', 'jernih', 'kadang', 'hijau'], ['kolam', 'renang', 'atlet', 'bersih', 'rapi', 'mantap', 'maju'], ['pelatih', 'pelatihnya', 'ramah', 'kadang', 'airnya', 'jernih', 'kadang', 'kadang'], ['terbaik', 'berkumpul', 'berolahraga', 'keluarga'], ['tempatnya', 'luas', 'airnya', 'segar', 'plus', 'kolam', 'renangnya'], ['harap', 'perhatikan', 'kualitas', 'air', 'pinjam'], ['ok', 'airnya', 'dingin'], ['sampah', 'kolam', 'renang'], ['gampang', 'ditemui'], ['kotor', 'ludah', 'anak', 'dsuruh', 'kencing', 'kolam', 'dpantauan', 'kebersihanya'], ['jorok'], ['rame', 'pengunjung'], ['karyawannya', 'ramah'], ['tutup'], ['suka', 'renang', 'airnya', 'bersih', 'pas', 'dibersihkan', 'kolam', 'renangnya', 'ramai', 'pengawasan', 'ekstra'], ['kolam', 'renang', 'airnya', 'asin'], ['pengawas', 'pilih', 'kasih'], ['kacau'], ['pikir', 'mahal'], ['kamar', 'mandinya', 'jelek'], ['kolam', 'renang', 'buka'], ['pengawasan'], ['air', 'berwarna', 'hijau', 'musim', 'panas', 'dibersihkan', 'kena', 'panas', 'orang', 'renang', 'drpada', 'musim', 'hujan'], ['bau', 'kaporit', 'ditingkatkan'], ['shower', 'kamar', 'mandi', 'keras'], ['kali', 'situ', 'langsung', 'kecewa'], ['kotor'], ['kamar', 'mandi', 'rusak'], ['suasana', 'oke', 'air', 'asin'], ['hijau'], ['panas'], ['kecewa', 'penjaga', 'ramah'], ['buruk'], ['sepi'], ['kecewa', 'buruk'], ['panas'], ['kepleset'], ['berita', 'palsu'], ['mainan', 'anaknya', 'rawat'], ['duduk'], ['kudu', 'lepas', 'sandal', 'padaal', 'panas'], ['aduh', 'kolamnya', 'mata', 'perih'], ['yaaa'], ['kamar', 'mandi', 'tolong', 'bersihin'], ['ala', 'kadarnya'], ['sepi'], ['bersih', 'biru'], ['hebat', 'kolam', 'renangnya'], ['bau', 'klorin', 'nyengat'], ['menyenangkan', 'karyawannya', 'ramah'], ['nyaman', 'belajar', 'berenang'], ['suasananya', 'bagus', 'murah'], ['bagus', 'kebersihan', 'bersih'], ['fasilitas', 'kamar', 'mandi', 'bersih'], ['berlatih', 'berenang'], ['murah', 'ceria', 'favorit'], ['cocok', 'melatih', 'anak', 'anak'], ['pintu', 'ruang', 'ganti', 'wanita', 'rusak'], ['harga', 'murah', 'kolam'], ['lumayan', 'belajar', 'renang'], ['tolong', 'perbaiki', 'kamar', 'mandi'], ['kotor', 'bau', 'dirawat'], ['tempatnya', 'bagus', 'bersih'], ['acara'], ['pengunjung', 'disiplin', 'membuang', 'sampah'], ['airnya', 'jernih', 'klorinnya'], ['kolam', 'renangnya', 'bersih', 'fasilitasnya', 'bagus'], ['anak', 'anak', 'menyukainya'], ['bersih', 'nyaman', 'cocok', 'berenang'], ['kolam', 'renang', 'buruk'], ['kolam', 'renang', 'favorit', 'keluarga', 'bersih'], ['kolam', 'renang', 'bagus', 'direkomendasikan'], ['kolam', 'renangnya', 'bagus', 'harganya', 'bagus'], ['keren', 'bagus', 'berenang']]\n"
          ]
        }
      ]
    },
    {
      "cell_type": "markdown",
      "source": [
        "# **STEMMING**"
      ],
      "metadata": {
        "id": "BE_asYBIoE45"
      }
    },
    {
      "cell_type": "markdown",
      "source": [
        "**NORMALISASI**"
      ],
      "metadata": {
        "id": "nhUnQizZ0mb0"
      }
    },
    {
      "cell_type": "code",
      "source": [
        "#sebelum melakukan stemming akan dilakukan normalisasi bahasa baku sesuai KBBI\n",
        "#menginput kamus normalisasi yang telah di buat\n",
        "normalized= pd.read_excel(\"kamus_bahasa.xlsx\")\n",
        "normalized_ulasan = {}\n",
        "\n",
        "#looping untuk mengecek setiap kata dalam ulasan apakah ada yang sama dengan kamus\n",
        "for index, row in normalized.iterrows():\n",
        "    if row[0] not in normalized_ulasan:\n",
        "        normalized_ulasan[row[0]] = row[1]\n",
        "\n",
        "#data yang sama dengan kamus normalisasi maka akan dilakukan proses normalisasi\n",
        "def normalized_term(data):\n",
        "    return [normalized_ulasan[data] if data in normalized_ulasan else data for data in data]\n",
        "Ulasan_norm= list(map(normalized_term, Ulasan_stop))"
      ],
      "metadata": {
        "id": "FAts8elOyuCv"
      },
      "execution_count": null,
      "outputs": []
    },
    {
      "cell_type": "code",
      "source": [
        "print ('HASIL NORMALISASI')\n",
        "print (Ulasan_norm)"
      ],
      "metadata": {
        "colab": {
          "base_uri": "https://localhost:8080/"
        },
        "id": "siloecUxy-2j",
        "outputId": "a291c84a-fa15-45db-bdcf-a5b1cf6d335e"
      },
      "execution_count": null,
      "outputs": [
        {
          "output_type": "stream",
          "name": "stdout",
          "text": [
            "HASIL NORMALISASI\n",
            "[['tempatnya', 'nyaman', 'parkirnya', 'luas', 'kadang', 'kamar', 'mandinya', 'kotor'], ['bagus', 'bersih', 'kamar', 'mandi', 'kotor', 'petugas', 'memeriksa', 'jam', 'sejam', 'terjaga', 'kebersihannya', 'air'], ['kolam', 'anak', 'panas', 'kayak', 'beri', 'hiasan', 'dingin', 'terlindung', 'panas', 'untuk', 'anak'], ['kamar', 'mandi', 'bersih'], ['suka', 'renang', 'sabtu', 'ini', 'doa', 'hujan', 'tidak'], ['kesini', 'menyesal', 'masuk', 'kebanyakan', 'aturan', 'antar', 'pakai', 'sepatu', 'istri', 'dampingi', 'anak', 'renang', 'pakai', 'kaos', 'kaki'], ['rekomendasi', 'fitnes'], ['peraturan'], ['renang', 'lokernya', 'pakai', 'kartu', 'pelajar', 'tidak bisa', 'memakai', 'loger', 'adik saya', 'belom', 'dapat', 'dapat', 'loker', 'uang', 'adik saya', 'hilang', 'aduh', 'kecewa'], ['minggu', 'ramai', 'bos'], ['mahal'], ['senin', 'buka', 'jam', 'kerja', 'libur', 'senin', 'ingin', 'renangnya', 'ingin', 'kejar', 'kartika', 'eka', 'paksi'], ['harga'], ['tempatnya', 'nyaman', 'bersih', 'pegawai', 'ramah', 'airnya', 'kamar', 'ganti', 'bersih', 'rapi', 'parkir', 'luas', 'nyaman'], ['kolam', 'renangnya', 'bagus', 'hari', 'kolam', 'hijau', 'kolam', 'anak', 'dewasa', 'kamar', 'mandinya', 'bersih', 'minggu', 'harga', 'tiketnya'], ['lumayan', 'perhatian', 'fasilitas', 'mandi', 'pria', 'engsel', 'pintu', 'pengganjal', 'pintu', 'rusak'], ['tempatnya', 'luas', 'tiket', 'libur'], ['kolam', 'renangnya', 'bagus', 'bersih', 'pakaian', 'bebas', 'pakai', 'pakaian', 'renang', 'kolam', 'anak', 'dewasa', 'kamar', 'mandinya', 'bersih', 'minggu', 'harga', 'tiketnya'], ['kolam', 'bagus', 'jajan'], ['lengkap', 'profesional'], ['panas', 'pepohonan', 'tempat', 'kunjung', 'sedikit', 'keramik', 'pinggir', 'kolam', 'renang', 'licin', 'lebih', 'hati', 'anak', 'intinya', 'rekomendasi', 'keluarga'], ['bagus', 'anak', 'oke', 'harga', 'tiket', 'murah', 'bersih', 'tempatnya', 'kecewa', 'airnya', 'kolam', 'anak', 'keruh', 'kolam', 'dewasa', 'bersih'], ['liburan', 'murah', 'minggu', 'ribu'], ['kolam', 'renang', 'militer', 'dibuka', 'pandemi', 'covid', 'buka', 'pembatasan', 'kunjung', 'kawasan', 'patuh', 'protokol', 'kualitas', 'air', 'kolam', 'terjaga', 'tim', 'sarnya', 'ramah', 'ruang', 'bilas', 'modern', 'bersih', 'kantin', 'musala', 'parkiran', 'luas', 'aman'], ['kecewa', 'minggu', 'pagi', 'istri', 'anak', 'berniat', 'rekreasi', 'kolam', 'renang', 'brawijaya', 'beli', 'tiket', 'masuk', 'anak', 'berenang', 'kolam', 'renang', 'sehabis', 'beli', 'tiket', 'harga'], ['bersih', 'nyaman'], ['salah', 'kolam', 'renang', 'menurutku', 'enak', 'surabaya', 'kolam', 'minggu', 'buka', 'jam', 'jam', 'menunggu', 'kolam', 'buka', 'minggu', 'kena', 'tiket', 'masuk', 'orang'], ['temapat', 'nyaman', 'aman'], ['tempatny', 'luas', 'kunjung', 'permainan', 'tambah', 'baik', 'ramai', 'kunjung'], ['luas', 'nyaman', 'bersih', 'kecewa', 'anak', 'di bawah', 'tahun', 'sruh', 'bayar', 'padahal', 'wisata', 'anak', 'tahun', 'gratis', 'masuk', 'karcis', 'kepala'], ['aman', 'anak', 'bersih', 'pengawasan'], ['kolam', 'renang', 'tepi', 'jalan', 'mudah', 'akses', 'kompleks', 'perumahan', 'kodam', 'ramai', 'dikunjungi', 'warga', 'hari', 'libur'], ['membutuhkan', 'jasa', 'pelatih', 'renang', 'silahkan', 'hubungi', 'tlp', 'wa'], ['nyaman', 'murah', 'meriah', 'saran', 'hari', 'libur', 'penuh', 'kemarin', 'mandi', 'susah', 'liburan'], ['airnya', 'bersih', 'hati', 'hati', 'ukuran', 'dalemannya', 'teman'], ['bagus', 'kolam', 'anak', 'perosotan', 'slide', 'kolam', 'dewasa', 'ukuran', 'standar', 'internasional', 'kedalaman', 'meter', 'air', 'jernih', 'harga', 'tiket', 'relatif', 'murah', 'kolam', 'kota', 'surabaya'], ['kolam', 'bersih', 'rapi', 'protokol', 'kesehatan', 'bagus', 'kantin', 'kamar', 'ganti', 'bersih', 'tersedia', 'loker', 'parkir', 'luas', 'bebas', 'bawa', 'makanan', 'saran', 'mungkin', 'anak', 'les', 'renang', 'di sana', 'diberlakukan', 'harga', 'member', 'gitu'], ['lumayan', 'enak', 'saran', 'pinggir', 'diberi', 'alas', 'terpeleset', 'anak', 'terpeleset', 'panas', 'jalan', 'arah', 'kolam', 'harus', 'lepas', 'alas', 'kaki'], ['anak', 'anak', 'mengenal', 'air', 'tahap', 'belajar', 'berenang', 'sungguh', 'lokasi', 'mudah', 'dijangkau', 'tiket', 'masuk', 'sebanding', 'didapatkan'], ['event', 'menunggu'], ['bersih', 'permainan', 'harga', 'tiket', 'terjangkau'], ['murah', 'nyaman', 'hemat', 'liburan', 'kuluarga'], ['mohon', 'ditambah', 'duduk', 'payung', 'tenda', 'meja', 'kebagian', 'kunjung', 'kualitas', 'air', 'kolam', 'mata', 'merah', 'sakit', 'kamar', 'ganti', 'mohon', 'dijaga', 'kebersihannya'], ['fasilitas', 'kamar', 'mandi', 'kamar', 'ganti', 'bagus', 'air', 'kolam', 'pedih', 'dimata'], ['kolam', 'renang', 'dewasa', 'anak', 'perosotan', 'kolam', 'anak', 'bilas', 'bersih', 'tertata', 'duduk', 'tersedia'], ['kolam', 'renangnya', 'lengkap', 'anak', 'sedalam', 'meter', 'hahaha', 'kesana', 'air', 'keruh', 'warnanya', 'hijau', 'dikuras', 'bagus', 'teman', 'tiketnya', 'mahal'], ['tempatnya', 'bersih', 'luas', 'nyaman', 'kolam', 'kolam', 'anak', 'kolam', 'dewasa', 'kamar', 'mandi', 'ruang', 'ganti', 'lumayan', 'bersih'], ['berlatih', 'renang', 'bersih', 'harga', 'terjangkau'], ['tempatnya', 'bersih', 'cocok', 'keluarga'], ['tempanya', 'lumayan', 'bersih', 'ruang', 'kamar', 'mandi', 'ganti', 'rapi', 'bersih', 'area', 'kantin', 'bersih', 'harga', 'normal', 'masukan', 'ditambah', 'pepohonan', 'asri', 'ditambah', 'berteduh', 'siangan', 'sedikit', 'panass', 'bos'], ['bersih', 'ramai'], ['bagus', 'bersih', 'masukan', 'hanya', 'tolong', 'shower', 'benarkan', 'mati', 'antre', 'mandi'], ['kedalaman', 'lumayan', 'air', 'jernih', 'kaporitnya'], ['nyaman', 'bersih', 'suka'], ['bersih', 'makan', 'mengejutkan', 'harganya', 'murah'], ['kolam', 'bersih', 'ruang', 'ganti', 'bagus', 'parkir', 'aman'], ['tiket', 'masuk', 'kolam', 'senin', 'kedalaman', 'kolam', 'meter', 'kolam', 'anak', 'anak'], ['dekat', 'rumah', 'nyaman', 'anak', 'renang'], ['harga', 'tiket', 'murah', 'libur', 'ribu', 'orang', 'minggu', 'antar', 'anak', 'les', 'renang', 'kolam', 'bersih', 'lantai', 'pinggir', 'kolam', 'becek', 'lantai', 'kantin', 'becek', 'ruang', 'bilas', 'perempuan', 'lantainya', 'becek', 'saluran', 'air', 'tersumbat', 'banjir'], ['penjaganya', 'hilang', 'hilang'], ['kolam', 'renang', 'termurah', 'singgahi', 'salah', 'tiket', 'masuk', 'hari kerja', 'libur', 'anak', 'anak', 'balita', 'disarankan', 'pendamping', 'pembatas', 'kolam', 'dewasa', 'anak', 'anak'], ['tempatnya', 'cocok', 'anak'], ['bagus', 'kolam', 'renang', 'harga', 'murah', 'ruang', 'ganti', 'layak', 'kamar', 'mandi', 'ukuran', 'kedalaman', 'kolam', 'bagus', 'kolam', 'pelatihan', 'militer', 'rabu', 'kamis', 'pagi', 'disarankan', 'jam', 'pagi'], ['ngasi', 'kaporit', 'tolong', 'ukur', 'pedih', 'mata'], ['bau', 'kaporitnya', 'menyengat'], ['minggu', 'pilihan', 'piknik', 'keluarga', 'kemajuan', 'toilet', 'sudah', 'semoga', 'kedepannya', 'ditambah', 'bangku', 'atau', 'semacamnya', 'beristirahat', 'berteduh', 'sukses'], ['bagus', 'airnya', 'bersih', 'di', 'pinggir', 'kolam', 'airnya', 'pelindung', 'sinar', 'mataharinya'], ['airnya', 'bersih', 'kolam', 'anak', 'dewasa', 'tiket', 'masuk', 'jumat', 'minggu'], ['baca', 'harga', 'tiket', 'kodam', 'mahal'], ['bagus', 'tiket', 'masuk', 'hari kerja', 'libur', 'tanggal', 'merah', 'parkir', 'motor', 'mobil', 'jaga', 'persewaan', 'baju', 'renang', 'pelatih', 'anak', 'mengajar', 'di sana', 'air', 'bersih', 'segar', 'kamar', 'ganti', 'pria', 'direnovasi', 'mandi', 'cadangan', 'vip'], ['kolam', 'renangnya', 'bagus', 'lumayan', 'rumah'], ['tempat', 'enak', 'renang', 'pemula', 'ekspert', 'anak', 'anak', 'kolam', 'meter', 'belajar', 'kedalaman', 'meter'], ['menyenangkan', 'renang', 'bersih'], ['lingkungan', 'kolam', 'renangnya', 'kotor', 'sampah', 'kunjung', 'dibersihkan', 'alat', 'penunjang', 'kolam', 'anak', 'keropos', 'khawatir', 'melukai', 'anak', 'bermain'], ['tiket', 'terjangkau', 'nyaman'], ['bagus', 'tempatnya', 'masih', 'ruang', 'tunggunya'], ['kaporit', 'susah', 'nyisir', 'rambut'], ['tempatnya', 'bagus', 'perbaikan', 'ganti', 'baju', 'mohon', 'ditambah', 'tempatnya', 'hari', 'minggu', 'pengunjungnya', 'ganti', 'menunggu'], ['bagus', 'hanya', 'kecewa', 'kamar ', 'madi', 'belum', 'di', 'perbaikan'], ['panas', 'siang', 'kanopinya'], ['murah', 'rakyat', 'ribu', 'libur', 'konsekuensinya', 'jorok'], ['enak', 'kecewa', 'ruang', 'gantinya', 'pria', 'perbaikan'], ['tempatnya', 'lumayan', 'kolam', 'tipe', 'akses', 'parkir', 'luas', 'harga', 'normal', 'libur', 'tempat', 'mandi', 'outdoor', 'bos', 'disediakan', 'ruang', 'ganti', 'untung', 'sudah', 'dipisah', 'kantin', 'harga', 'kali', 'lipat', 'air', 'bau'], ['gantinya', 'bagus', 'kotor'], ['rumah', 'tempatnya', 'juga', 'menyenangkan'], ['kolam', 'renang', 'anak'], ['kolam', 'renang', 'luas', 'dijamin', 'puas', 'hobi', 'berenang', 'duduk', 'kunjung', 'minimalis'], ['kolam', 'bagus', 'wahana', 'anak', 'kecewa', 'gazebo', 'menunggu', 'anak', 'berenang'], ['tempatnya', 'nyaman', 'bersih', 'luas', 'loker', 'simpan', 'barang', 'bawaan', 'beri', 'ktp', 'bayar'], ['pengawasnya', 'hilang', 'tenggelam', 'bahaya'], ['terawat'], ['kamar', 'mandi', 'ganti', 'antre'], ['gaada', 'pengawas', 'coba', 'coba'], ['kunjungan', 'pekan', 'ramai', 'siswa', 'junior', 'mengambil', 'kursus', 'renang', 'ruang', 'ganti', 'unisex', 'ruang', 'ganti', 'dibenahi'], ['bagus', 'murah', 'kecewa', 'keruh'], ['harga', 'segitu', 'mahal', 'termasuknya'], ['bagus', 'sudah', 'lumayan', 'renang', 'libur', 'ramai', 'penuh'], ['panas'], ['tutupnya', 'jam', 'sore', 'masih', 'ingin', 'renang', 'di', 'sore'], ['sabtu', 'libur', 'penuh'], ['murah', 'cocok', 'keluarga', 'bersih'], ['nyaman', 'keluarga', 'kolam', 'renangnya', 'bagus', 'petugas', 'siaga'], ['kualitas', 'air', 'bersih', 'duduk'], ['mie', 'enak', 'pakai', 'telur'], ['kolam', 'renang', 'bagus', 'bersih', 'wahana', 'anak', 'kebersihan', 'ruang', 'ganti', 'toilet', 'butuh', 'ditingkatkan', 'harga', 'tiket', 'masuk', 'dewasa', 'ribu', 'kawasan', 'kolam', 'renang', 'kantin', 'menyediakan', 'makanan'], ['nyaman', 'harga', 'ekonomis', 'hanya', 'kadang', 'airnya', 'kotor'], ['airnya', 'lumayan', 'bersih', 'harganya', 'terjangkau'], ['tempatnya', 'enak', 'ramai', 'harga', 'tiket', 'masuk', 'ramah', 'dikantong', 'pastinya'], ['kamar', 'mandinya', 'pintu', 'rusak', 'kotor', 'selebihnya', 'bagus', 'kebersihan', 'kamar', 'mandi', 'tolong', 'ditingkatkan'], ['tutup'], ['kotor', 'kaporit', 'kotoran', 'air'], ['lumayan', 'harga', 'libur', 'duduk', 'menunggu', 'terbatas'], ['kolam', 'renang', 'dewasa', 'sepi'], ['sandal', 'pakai', 'area', 'kolam', 'renang', 'makan', 'area', 'kolam', 'aneh'], ['serem'], ['licin', 'lantainya'], ['lumayan', 'bagus', 'rombongan', 'anak', 'sekolah'], ['kolam', 'luas', 'bersih', 'nyaman'], ['kebersihan', 'perawatan', 'fasilitas', 'ditingkatkan'], ['tempatnya', 'bagus', 'panas', 'penjaganya', 'menyirami', 'lantai', 'panas', 'kaki'], ['rekomendasi', 'rekreasi', 'keluarga', 'niat', 'olahraga', 'renang', 'tempatnya', 'bagus', 'bersih', 'airnya', 'jernih', 'tiket', 'terjangkau'], ['menyenangkan', 'panas', 'kamar', 'mandi', 'terjaga', 'kebersihannya'], ['kolam', 'renang', 'nyaman', 'latihan', 'sepi'], ['lumayan', 'nyenening', 'anak'], ['kesini', 'jumat', 'air', 'jernih', 'jadwal', 'kuras', 'kamis', 'pagi'], ['penjaga', 'senyumnya', 'mahal', 'sangat'], ['kolam', 'renang', 'bersih', 'wahana', 'anak'], ['kolam', 'renangnya', 'dewasa', 'kaporitnya', 'anak', 'mainannya', 'cocok', 'libur', 'tiket', 'sesuai', 'fasilitasnya'], ['rekreasi', 'murah'], ['puluh', 'ribu', 'sabtu', 'minggu'], ['menunggu', 'nyaman'], ['bersih'], ['bagus', 'bersih', 'menyenangkn', 'anak'], ['kolam', 'renangnya', 'harganya', 'lumayan', 'mahal', 'kolam', 'anak', 'tahun', 'keatas', 'bayar', 'penuh', 'harga', 'makanan', 'tersedia', 'relatif', 'tersedia', 'penyewaan', 'karpet', 'ban'], ['kolam', 'renang', 'murah', 'surabaya', 'ramai', 'libur'], ['rabu', 'tanggal', 'juni', 'liburan', 'raya', 'masuk', 'tiket'], ['strategis', 'bersih', 'lengkap'], ['bersih', 'tempatnya', 'enak', 'dan', 'harga', 'terjangkau'], ['bersih', 'airnya', 'bersih', 'kamar', 'mandi', 'lumayan', 'hanya', 'mata', 'cepat', 'perih'], ['bagus', 'ditingkatkan', 'fasilitasnya'], ['was', 'was', 'barang', 'bawaan'], ['kolam', 'renang', 'murah', 'ramai', 'pekan', 'milik', 'taman', 'bermain', 'air', 'anak', 'anak', 'penjual', 'makanan', 'musala', 'penyewaan', 'baju', 'renang', 'penjual', 'toilet', 'bersih', 'parkir', 'kendaraan', 'luas'], ['airnya', 'perih'], ['panas', 'sangat'], ['air', 'dingin', 'sayangnya', 'atapnya'], ['luas', 'belajar', 'berenang', 'bersih', 'nyaman', 'wilayah', 'kompleks', 'tentara', 'brawijaya', 'surabaya', 'harga', 'masuk', 'murah', 'berenang', 'sepuasnya', 'sepi', 'kunjung', 'seakan', 'rumah'], ['renang', 'enak', 'kolam', 'bersih'], ['olahraga', 'kompleks', 'brawijaya', 'bagus', 'bermanfaat', 'masyarakat'], ['kolam', 'renangnya', 'murah', 'ruang', 'ganti', 'bagus', 'kotor', 'nyaman'], ['kolam', 'renang', 'favoritkan', 'karena', 'dri', 'rumah', 'kolam', 'renangnya', 'bersih', 'kamar', 'mandinya', 'bersih', 'berkesan', 'tepat', 'renang', 'bareng', 'latihannya', 'tentara', 'didalam', 'kolam', 'tentara', 'ramah', 'mengusir', 'kolam', 'renangnya', 'luas', 'menyenangkan'], ['air', 'kolam', 'bersih', 'fasilitas', 'parkir', 'memadai', 'diperindah', 'lagi'], ['bagus', 'bersih', 'ramai', 'kunjung', 'parkirnya', 'luas'], ['kesan', 'kali', 'main', 'bersih', 'air', 'kolam', 'terus', 'diisi', 'kamar', 'mandinya', 'relatif', 'terawat', 'dibanding', 'kolam', 'publik', 'tarif'], ['idaman', 'anak', 'anak', 'hanya', 'dibenahi', 'fasilitas'], ['kolam', 'olahraga', 'bersih', 'terawat', 'harga', 'terjangkau'], ['kolam', 'sebelah', 'lapangan', 'hitam', 'kodam', 'brawijaya'], ['panas', 'iya', 'tempat', 'berteduhnya'], ['renang', 'harga', 'terjangkau', 'kolam', 'bersih'], ['murah', 'kamar', 'mandi', 'baik', 'kecewa', 'gazebonya', 'minim', 'kualitas', 'air', 'kotor', 'kebersihan', 'kolam', 'terjaga'], ['tempatnya', 'bersih', 'murah', 'sih', 'masuknya', 'makanannya', 'enak', 'murah'], ['harga', 'murah', 'kotor'], ['cocok', 'anak', 'dewasa'], ['renang', 'murah', 'nyaman', 'bersih', 'luas', 'kantinnya', 'juga', 'rekomendasi', 'tidak', 'kantong', 'bolong'], ['bagus', 'meter', 'kotor', 'perhatian', 'kamar', 'ganti', 'perhatian', 'pagi', 'siang', 'panas', 'wkwk'], ['kolam', 'renang', 'lumayan', 'bersih', 'kaporit', 'pedih', 'mata', 'hanya', 'kamar', 'mandi', 'perhatian', 'kolam', 'renang', 'anak', 'anak'], ['kolam', 'renang', 'lumayan', 'bersih', 'kaporit', 'pedih', 'mata', 'hanya', 'kamar', 'mandi', 'perhatian', 'kolam', 'renang', 'anak', 'anak'], ['lumayan', 'bersih', 'air', 'kadang', 'banyak', 'kaporitnya'], ['kebersihan', 'kolam', 'kamar', 'mandi'], ['parkir', 'luas', 'bagus', 'berenang'], ['tempatnya', 'bagus', 'harga', 'terjangkau', 'kecewa', 'air', 'mata', 'gelap', 'pakai', 'kacamata', 'tepat', 'berendam'], ['menyenangkan', 'untuk', 'olah', 'raga', 'bermain', 'tiket', 'tergolong', 'murah', 'bersih', 'kecewa', 'air', 'kamar', 'bilas', 'warung', 'parkir', 'bagus'], ['biaya', 'kerja', 'biaya', 'pekan', 'parkir', 'luas'], ['kolam', 'renang', 'didaerah', 'kodam', 'brawijaya', 'tiket'], ['murah', 'sekedar', 'menyenangkan', 'anak', 'melatih', 'anak', 'renang', 'tiket', 'libur', 'tiket'], ['baik', 'duduk', 'iya', 'menunggu', 'dibawah', 'duduknya'], ['enak', 'berteduh'], ['kolam', 'lebar', 'lumayan', 'renang'], ['bagus', 'luas', 'kolam', 'parkir', 'luas', 'mudah', 'dijangkau', 'teduhnya', 'panas', 'kursi', 'duduknya'], ['kolam', 'renang', 'ternyaman', 'lihat', 'kolam', 'anak', 'dewasa', 'pelatihan', 'renang', 'kantin', 'terjangkau', 'harganya', 'baik', 'sangat', 'rugi', 'ngajak', 'keluarga', 'temen', 'temen', 'kesini'], ['harga', 'tiket', 'murah', 'kolam', 'renang', 'bermain', 'anak', 'kolam', 'standar', 'meter', 'cocok', 'pemula', 'belajar', 'atlet', 'renang', 'sore', 'aktifitas', 'klub', 'renang', 'kekinian', 'surabaya', 'kantin', 'stand'], ['lumayan', 'rumah', 'kamar', 'mandinya', 'bagus', 'siang', 'panasnya', 'agk', 'kerasa', 'beri', 'tutup'], ['tempatnya', 'ramai', 'fasilitas', 'lumayan', 'sempat', 'kedalaman', 'meter', 'penuh', 'sesak', 'berani', 'meter'], ['anak', 'suka', 'berenang'], ['tempatnya', 'lumayan', 'luas', 'lumayan', 'renangnya', 'anak', 'anak'], ['perosotan', 'kolam', 'renang', 'brawijaya', 'tutup', 'buka', 'rabu'], ['kekurangan', 'airnya', 'keruh', 'dibatasi', 'latihan', 'tentara', 'al', 'renang', 'sesuai', 'kelebihan', 'murah', 'jenis', 'kedalaman', 'air', 'renang', 'trdapat', 'kolam', 'air', 'renang', 'anak'], ['kolam', 'luas', 'ampun', 'sangat', 'kaporitnya', 'berlebihan', 'berendam', 'mata', 'perih', 'merah', 'kulit', 'jdi', 'cepat', 'hitam'], ['panas'], ['tempatnya', 'luas', 'kaporitnya', 'rambut', 'sulit', 'sisir'], ['kolam'], ['kolam', 'renang', 'brawijaya', 'nyaman', 'anak', 'belajar', 'berenang'], ['kolam', 'renang', 'bagus', 'harga', 'terjangkau', 'tersedia', 'level', 'kedalaman', 'mainan', 'anak', 'tersedia', 'toko', 'menjual', 'makanan', 'perlengkapan', 'renang'], ['atlet', 'klub', 'renang', 'kekinian', 'berlatih'], ['cocok', 'berenang', 'anak', 'keluarga'], ['tmpatnya', 'panas', 'teduh'], ['konsentrasi', 'koprit'], ['kolam', 'renang', 'letaknya', 'tepat', 'sebelah', 'lapangan', 'kodam', 'v', 'brawijaya', 'kolam', 'kolam', 'anak', 'kolam', 'dewasa', 'tempatnya', 'bersih', 'sayangnya', 'menunggu', 'panas'], ['berenang', 'menikmati', 'lezatnya', 'roti', 'john'], ['senang', 'berenang', 'harga', 'terjangkau'], ['buka', 'sabtu', 'minggu'], ['tempatya', 'bagus'], ['nyaman', 'bagus', 'kolam', 'renang', 'luas', 'wahananya', 'toilet', 'kamar', 'mandi', 'kotor', 'bekas', 'tanah', 'sandal'], ['tangga', 'kekolam', 'renang', 'orang', 'jatuh', 'korbannya', 'anak', 'juga', 'orang', 'terpeleset'], ['nyaman', 'renang', 'keluarga'], ['kualitas', 'airnya', 'renang', 'kulit', 'perih', 'panas', 'gatal'], ['murah', 'cocok', 'liburan', 'suka'], ['kolam', 'renangnya', 'bagus', 'nyaman', 'luas', 'cocok', 'keluarga', 'kolam', 'renang', 'anak', 'luas', 'dilengkapi', 'permainan', 'airnya', 'bersih', 'perih', 'di', 'mata', 'harganya', 'terjangkau', 'terletak', 'di', 'wilayah', 'kodam', 'brawijaya', 'surabaya', 'mudah', 'nyarinya'], ['ramai', 'parkir', 'panas'], ['beri', 'prusutanya', 'hanya'], ['bersih', 'penuh', 'aroma', 'kaporit', 'kamar', 'mandi', 'plusnya', 'terdapat', 'ruang', 'tunggal', 'sayangnya', 'tergenang', 'sehingga', 'sulit', 'menjaga', 'kesucian'], ['lokasi', 'strategis', 'karena', 'sekitaran', 'kompleks', 'markas', 'marinir'], ['senang', 'rumah', 'membantu', 'proses'], ['murah', 'terdalam', 'meter', 'dewasa'], ['bersih', 'menyenangkan', 'berenang', 'teman', 'keluarga'], ['kolam', 'renangnya', 'bagus'], ['bersih', 'murah'], ['tidak', 'komentar', 'sangat', 'hahaha'], ['airnya', 'jernih', 'prosesnya', 'air', 'masuk', 'saring', 'saring', 'masuk', 'saring', 'penuh', 'saring'], ['tersenyum', 'indah', 'mengajak', 'keluarga', 'bersenang', 'senang', 'terlewatkan', 'kolam', 'renang', 'terdekat', 'rumah', 'fasilitasnya', 'kalah', 'suka', 'mengajak', 'keluarga', 'kesini'], ['kolam', 'renang', 'dilengkapi', 'kolam', 'renang', 'khusus', 'anak', 'anak', 'fasilitas', 'perosotan', 'kecewa', 'dilengkapi', 'duduk', 'kamar', 'ganti', 'bagus'], ['kolam', 'renangnya', 'luas', 'perosotan', 'anak', 'anak'], ['kolam', 'renang', 'bagus', 'kotor', 'airnya', 'kehijauan'], ['pagi', 'orang', 'pintu', 'masuk', 'murah', 'bersih', 'pop', 'mie', 'teh', 'dingin', 'air', 'mineral', 'dingin'], ['dingin', 'santai', 'santai'], ['hanya', 'kolam', 'renang', 'berharap'], ['tempayt', 'bagus', 'harga'], ['fasilitas', 'fitnes'], ['liburan', 'ramai'], ['parkir', 'gratis', 'harga', 'tiket', 'weekdays'], ['tiketnya', 'murah', 'an', 'anak', 'dewasa', 'harga', 'tiket', 'kolam', 'anak', 'dewasa', 'dewasa', 'kedalaman', 'hanya', 'meter'], ['harga', 'sebenarnya', 'sudah', 'bagus', 'hanya', 'airnya', 'keruh', 'bau', 'kaporit', 'menyengat', 'sering', 'ramai', 'ingin', 'renang', 'cari', 'sepi', 'kolam'], ['kolam', 'renangnya', 'luas', 'kedalamannya', 'meter', 'kolam', 'renang', 'anak', 'didalam', 'menyewakan', 'ban', 'pompa', 'angin', 'jual', 'makanan', 'so', 'kuatir', 'kelaparan', 'ruang', 'ganti', 'tepat', 'kesana', 'kecewa', 'flow', 'airnya'], ['cocok', 'berenang', 'suasana', 'tenang', 'ramai', 'kerja', 'loket', 'masuk', 'terjangkau', 'harga', 'makanan', 'minuman', 'relatif', 'murah'], ['sempit', 'kolam', 'renang', 'orang', 'masuk', 'bayar', 'disaat', 'pelatihan', 'renang', 'disuruh', 'minggir', 'tidak', 'hanya', 'sampek', 'orang', 'latihan', 'di sana', 'sudah', 'gitu', 'pelatihan', 'renang', 'sampek', 'grup'], ['harga', 'tiket', 'murah', 'hanya', 'lumayan', 'sepi', 'cocok', 'suka', 'sepi'], ['fasilitas', 'jajan', 'didalam', 'worth', 'it', 'murah', 'sekelas', 'warkop', 'nungguin', 'anak', 'les', 'renang', 'disuruh', 'bayar'], ['mencari', 'kolam', 'renang', 'kodam', 'pilihan', 'terdekat', 'kolam', 'renang', 'hayam', 'wuruk'], ['kolam', 'renang', 'luas', 'bagus', 'anak', 'dewasa', 'kantin', 'harga', 'gratis', 'parkir'], ['tepat', 'libur', 'enak', 'sepi', 'kolam', 'dewasa'], ['kolam', 'renang', 'kota', 'surabaya', 'murah', 'air', 'jernih', 'kolam', 'luas', 'kursus', 'renang', 'pemula', 'pandu', 'pelatih', 'profesional', 'tiket', 'masuk', 'relatif', 'terjangkau'], ['kolam', 'lumayan', 'latihan', 'tidak', 'masalah', 'klub', 'renang', 'kontak'], ['tersedia', 'kolam', 'renang', 'anak', 'dewasa', 'bagus', 'belajar', 'renang', 'banyak', 'wahana', 'permainan'], ['keren', 'betah', 'murahhh', 'ramai', 'bersamaan', 'latihan', 'juga'], ['kolam', 'lumayan', 'bersih', 'dewasa', 'anak', 'anak'], ['kolam', 'hanya', 'sabtu', 'minggu', 'ramai', 'menenangkan'], ['murah', 'tepat', 'kantong', 'kecewa', 'kolamya', 'kotor', 'terawat', 'are', 'kolam', 'bersih'], ['wekend', 'enak', 'memanjakan', 'anak', 'berenang', 'ditambah', 'jajanan', 'nafsu', 'meronta', 'ronta', 'membeli', 'renang', 'perut', 'lapar'], ['harga', 'tiket', 'kolam', 'renang', 'anak', 'ditambah', 'perosotan', 'bermain', 'meja', 'gazebo', 'rusak', 'kamar', 'mandi', 'jadul', 'bersih', 'kebersihannya', 'pintunya', 'juga', 'bnyak', 'kuncinya', 'air', 'kolam', 'kbersihannya', 'kecewa', 'jam', 'istirahat', 'buka', 'jam'], ['kotor', 'airnya', 'kotor', 'kamar', 'mandi', 'samgat', 'kotor'], ['buka', 'jam', 'tiket', 'libur', 'salah'], ['lokasi', 'nyaman', 'latihan', 'kedalaman', 'kolam', 'sesuai', 'latihan'], ['kolam', 'renang', 'hayam', 'wuruk', 'kantin', 'lengkap', 'menunya', 'parkir', 'ruang', 'ganti', 'toilet', 'bersih', 'loker', 'bantu', 'penjaganya'], ['murah', 'kolam', 'kedalamannya', 'kolam', 'bervariasi', 'ukuran', 'kolam', 'renangnya', 'standar', 'lomba', 'renang', 'kamar', 'gantinya', 'sewa', 'kacamata', 'baju', 'renang', 'masuk', 'langsung', 'kantin'], ['kolam', 'renangnya', 'hanya', 'kebersihan', 'standar', 'mainannya', 'anak', 'cocok', 'cocok', 'les', 'renang', 'tempatnya', 'sepi', 'ramai', 'tiketnya', 'hanya', 'murah'], ['lumayan', 'bersih', 'les', 'renang', 'murah', 'masuknya', 'nyaman', 'tempatnya'], ['tempatnya', 'ramai', 'kolam', 'bersih', 'kolam', 'kolam', 'anak', 'anak', 'kolam', 'remaja', 'kedalaman', 'meter'], ['disamping', 'kolam', 'renang', 'melatih', 'tentara', 'umun', 'juga', 'lagi', 'ngetren', 'dijaman', 'now', 'roti', 'john', 'lagi', 'fenomenal', 'mboook', 'orang', 'antre', 'sembako'], ['airnya', 'jernih', 'langsung', 'kedalaman', 'meter', 'berenang', 'kedalamannya', 'hanya', 'meter', 'belajar', 'berenang'], ['tempatnya', 'nyaman', 'bersih', 'harga', 'makanannya', 'dapat', 'dijangkau'], ['murah', 'cocok', 'belajar', 'renang'], ['nilai', 'sejarah'], ['favorit', 'sikecil', 'usia', 'th'], ['semoga', 'populer', 'tingkatkan', 'pemeliharaan', 'perawatan', 'kolam', 'renang'], ['airnya', 'keruh', 'sirkulasi', 'air', 'sampah', 'botol', 'berkeliaran', 'kolam', 'renangnya'], ['parkir', 'tiket', 'masuk', 'kamar', 'mandi', 'bersih', 'kolam', 'renang', 'buka', 'jam'], ['kali', 'kesini', 'kolam', 'lumutnya', 'kamar', 'gantinya', 'mati', 'airnya', 'lapor', 'pancing', 'airnya'], ['renang', 'sabtu', 'pagi', 'suasananya', 'enak', 'relatif', 'sepi', 'dibandingkan', 'minggu', 'pagi', 'karcis', 'berenang'], ['bagus', 'kadang', 'air', 'bersih', 'tepat', 'bru', 'dibersihkan', 'kadang', 'kotor', 'tiket'], ['kadang', 'kotor'], ['ramai', 'hari kerja', 'puas', 'berenangnya'], ['kolam', 'renang', 'bersih', 'murah', 'tiket', 'libur', 'sewa', 'lokernya', 'harga', 'jaminan', 'ktp', 'ruang', 'gantinya', 'bilik', 'mandinya', 'khawatir', 'antre', 'nilai', 'plusnya'], ['terima', 'privat', 'renang', 'minimal', 'usia', 'tahun', 'laki', 'wanita', 'dewasa', 'anak', 'anak', 'orang', 'tua'], ['lumayan', 'tiket', 'masuk', 'murah'], ['kedalaman', 'kolam', 'renang', 'meter', 'kolam', 'renang', 'anak', 'anak'], ['senin', 'jumat', 'harga', 'kebersihan', 'kamar', 'mandi', 'bangunan', 'kolam', 'anak', 'bersih'], ['lumayan', 'pemula', 'kuliner', 'enak', 'diluar', 'kolam', 'renang'], ['kesini', 'suami', 'anak', 'tiket', 'orang', 'kesana', 'weekdays', 'libur', 'panas', 'panas', 'terik', 'kanopi'], ['kolam', 'renang', 'tempatnya', 'jalan', 'hayam', 'wuruk', 'sutos', 'arah', 'gunungsari'], ['kolam', 'cepat', 'menghijau', 'terlihat', 'keruh'], ['kolam', 'renang', 'dikenal', 'masyarakat', 'bersih', 'perenang', 'pemula', 'tahap', 'belajar'], ['area', 'kolam', 'renang', 'mudah', 'jangkau', 'harga', 'tiket', 'murah', 'kualitas', 'air', 'kolam', 'sesuai', 'harga', 'hati', 'pemula', 'kolam', 'renang', 'hayam', 'wuruk', 'sisi', 'utara'], ['nyaman', 'buka', 'berenang', 'sepuas', 'dibanding', 'kolam', 'renang', 'surabaya', 'obatnya', 'aman', 'berenang', 'kacamata'], ['latihan', 'renang', 'lumayan', 'pakai', 'sandal', 'panas'], ['kejernihan', 'airnya', 'lumayan lah', 'td', 'ramai', 'libur', 'nyari', 'ketenangan', 'mending', 'hari kerja', 'fasilitas', 'lumayan'], ['kolam', 'renang', 'kolam', 'renang', 'kolam', 'renang', 'dewasa', 'kolam', 'renang', 'anak', 'buah', 'perosotan', 'sj', 'permainan', 'air', 'kolam'], ['fasilitasnya', 'diperbaiki'], ['airnya', 'kayak', 'dahulu', 'kaporitnya', 'kebersihannya', 'normal', 'kolam', 'bersih', 'tetep', 'renang', 'termurah', 'terjangkau'], ['les', 'renang', 'putra', 'putrinya', 'tepat', 'tempatx'], ['kolam', 'bgus', 'bersih', 'tempat', 'bertduh', 'bawah', 'pohon', 'mangga', 'ayunannya', 'kecewa', 'airnya', 'pekat', 'kandungan', 'kaporit', 'harga', 'makanannya', 'tergolong', 'mahal'], ['tempatnya', 'lumayan', 'harga', 'makanan', 'minuman', 'di sana', 'standar', 'area', 'pengantar', 'panas', 'kl', 'siang'], ['air', 'kolam', 'dinding', 'kolam', 'berlumut', 'tebal', 'kamar', 'shower', 'terawat', 'ditemukan', 'botol', 'plastik', 'dasar', 'area', 'kolam', 'meter'], ['bagus', 'bagus', 'tdi', 'hanya', 'jam', 'renangnya'], ['tepat', 'dtg', 'sore', 'air', 'kolam', 'keruh', 'daun', 'mengapung', 'kolam', 'dibersihkan', 'kamar', 'ganti', 'juga', 'berlumut'], ['kolam', 'renangnya', 'bersih', 'duduk', 'menaruh', 'barang', 'bawaan', 'tiket', 'masuknya', 'murah', 'harga', 'sabtu', 'minggu'], ['suka', 'renang', 'airnya', 'bersih', 'tepat', 'dibersihkan', 'kolam', 'renangnya', 'ramai', 'pengawasan', 'ekstra'], ['kolam', 'bersih', 'lokasi', 'bersih', 'nyaman', 'tenang', 'kantin', 'buka'], ['kolam', 'renangnya', 'bagus', 'bersih', 'cocok', 'anak', 'bermain', 'kolam', 'dewasanya', 'cocok', 'latihan'], ['bagus', 'anak', 'pemula', 'pelatih'], ['bagus', 'anak', 'belajar', 'berenang', 'ramai', 'kunjung', 'murah', 'orang', 'akses', 'jalan', 'mudah', 'parkir', 'is', 'baik', 'cocok', 'menyenangkan', 'buah', 'hati'], ['air', 'kamar', 'bilas', 'mati', 'petugas', 'siaga', 'memeriksa', 'mesin', 'pompa', 'airnya'], ['tiketnya', 'ribu', 'meter', 'kolam', 'seperti', 'kolam', 'minggu', 'airnya', 'keruh', 'jaral', 'pandang', 'hanya', 'beningnya'], ['cocok', 'pelajar', 'atau', 'belajar'], ['kurg', 'bgs', 'panas', 'tidak', 'nyaman', 'tmptx', 'seperti', 'tidak', 'terurus', 'apalagi', 'pohon', 'dingin', 'dahulu', 'di', 'tebang', 'panas'], ['perawatan', 'kolam', 'parah'], ['kolam', 'renang', 'lengkap', 'permainan', 'anak', 'anak', 'lebih', 'tepatnya', 'diperuntukan', 'orang', 'berlatih', 'renang'], ['kolam', 'renang', 'bagus', 'belajar', 'renang', 'wahana', 'permainan', 'airnya', 'jernih', 'bersih'], ['kualitas', 'airnya', 'bagus', 'kamar', 'mandinya', 'higienis'], ['lumayan', 'nyaman', 'tempatnya', 'harga', 'tiket', 'ekonomis', 'hanya'], ['harga', 'murah', 'kurangnya'], ['kolam', 'renangnya', 'kebersihannya'], ['kolam', 'renangnya'], ['kolam', 'keramik', 'pecah', 'sudah', 'seperti itu', 'penjaga', 'melihat', 'risih'], ['kamar', 'ganti', 'kotor', 'tidak', 'terawat', 'kolam', 'renang'], ['tiket', 'murah', 'kurang', 'kolam', 'sepi', 'pengujung'], ['kolam', 'renang', 'tiket', 'murah', 'kolam', 'anak', 'airnya', 'bersih'], ['bagus', 'murah', 'berlatih', 'berenang', 'pelatihnya'], ['kolam', 'bagus', 'cocok', 'melatih', 'renang'], ['tempatnya', 'anak', 'belajar', 'berenang', 'pemula'], ['fasilitas', 'anak', 'anak', 'kolom', 'renang'], ['badan', 'saya', 'gatal', 'berenang', 'tahan', 'gatal', 'rekomendasi', 'tidak'], ['suatu waktu', 'kolam', 'kotor', 'ruang', 'gantinya', 'terawat'], ['lumayan', 'petugas', 'kebersihan'], ['pohon', 'ditebang', 'panas'], ['lumayan', 'bagus', 'airnya', 'kebanyakan', 'kaporit', 'jernih'], ['kolam', 'seru', 'cocok', 'harganya', 'murah'], ['bagus', 'bersih', 'harga', 'murah', 'ribu'], ['bagus', 'latihan', 'renang'], ['menarik', 'tempatnya', 'cocok', 'belajar', 'renang'], ['murah', 'panas', 'cocok', 'latihan', 'renang'], ['kakak', 'lebih', 'renang', 'bersih', 'bagus', 'nyaman'], ['lumayan', 'ingin', 'renang'], ['bagus', 'tempatnya', 'kolam', 'toiletnya', 'bersih'], ['ribu', 'mahal', 'kolam', 'renang', 'milik', 'tentara'], ['lumayan', 'bagus', 'anak', 'anak', 'ditambah', 'mainnya'], ['disarankan', 'warga', 'surabaya', 'selatan', 'strategis', 'bersih', 'dijamin', 'aman', 'nyaman'], ['rekomendasi', 'berlatih', 'renang', 'rekreasi', 'keluarga'], ['kolam', 'renang', 'terhitung', 'murah', 'dikawasan', 'surabaya', 'selatan'], ['kolam', 'relatif', 'bersih', 'tertib', 'tersedia', 'kolam', 'anak'], ['kolam', 'bagus', 'perawatan'], ['renang', 'main'], ['harga', 'terjangkau', 'libur'], ['tiket', 'masuk', 'tergolong', 'murah', 'tempatnya', 'lumayan'], ['kolam', 'renang', 'murah', 'kaporitnya', 'banyak'], ['tempat', 'parkir', 'luas', 'depan', 'jalan', 'raya', 'mudah', 'akses', 'mencarinya'], ['kolam', 'bagus', 'bayarnya', 'murah'], ['tiket', 'masuknya', 'murah', 'basuhnya', 'terang'], ['basuhnya', 'terang'], ['kolam', 'renang', 'area', 'kodam', 'brawijaya', 'terletak', 'jl', 'hayam', 'wuruk', 'surabaya'], ['idola', 'anak', 'anakku'], ['kolam', 'renang', 'hayam', 'wuruk', 'malam', 'pusat', 'jajanan', 'rakyat'], ['ingin', 'belajar', 'renang', 'tempatnya'], ['tiket', 'masuk', 'murah', 'kolam', 'bersih', 'terawat'], ['bersih', 'nyaman', 'seru', 'disaat', 'pasangan'], ['kolam', 'renang', 'bersih', 'sih'], ['menyenangkan'], ['orang', 'jualan', 'depannya'], ['tiket', 'oktober', 'orang'], ['murah', 'lumayan', 'enak'], ['harga', 'tiket', 'murah', 'fasilitas', 'jelek'], ['meter'], ['bakso', 'kikil', 'didepannya', 'baik'], ['lumayan', 'murah', 'bersih', 'kecewa', 'dekat', 'murah'], ['tetep', 'terbaik', 'harga', 'kesehatan', 'kalangan'], ['kolam', 'renang', 'bagus', 'murah', 'tempatnya'], ['lumayan', 'rekreasi', 'murah'], ['tempat', 'sepi', 'kolam', 'bersih', 'enak'], ['tiket', 'terjangkau', 'bagus', 'belajar', 'renang'], ['kamar', 'mandi', 'kotor', 'bau', 'kencing'], ['kolam', 'bersih', 'nyaman'], ['hobi', 'renang', 'renang'], ['bagus', 'murah', 'bersih'], ['tiket', 'masuknya'], ['pembelajaran', 'renang', 'cocok'], ['kolam', 'renang', 'nyaman'], ['pedas', 'mata'], ['kolam', 'renangnya', 'bagus', 'luas'], ['fasilitas', 'mewadahi', 'terkesan', 'perawatan'], ['buka', 'pembatasan'], ['buka', 'jam', 'rabu', 'tutup'], ['murah', 'menyelam'], ['lumayan', 'airnya', 'hijau'], ['tidak'], ['menarik'], ['bagus', 'kolam', 'renangnya'], ['tempatnya', 'terbuka', 'luas'], ['kerena', 'parkirnya', 'luas'], ['kolam', 'renang', 'bersih'], ['penjual', 'sate', 'didepannya'], ['menyesal', 'sudah'], ['pengalaman', 'menarik', 'pelayanan', 'bagus'], ['lumayan', 'bersih'], ['kamar', 'mandi', 'rusak'], ['pemulihan', 'latihan', 'bersama', 'tim', 'perseka', 'kaimana'], ['air', 'kotor'], ['lumayan', 'tempatnya', 'bersih'], ['fasilitas', 'ditambah'], ['lumayan', 'pengembangan'], ['tingkatkan', 'kebersihannya'], ['panas', 'airnya', 'mengandung', 'kaporit'], ['cocok', 'belajar', 'renang'], ['buka', 'tepat', 'kesana', 'tutup'], ['ditambah', 'airnya', 'boom'], ['segar', 'panas', 'nang', 'suroboyo'], ['tempatnya', 'enak', 'bersih', 'aman'], ['tutup', 'cepat'], ['airnya', 'kotor'], ['murah', 'bersih'], ['perbaikan', 'fasilitas'], ['lumayan', 'sepi'], ['kotor', 'gatal', 'gatal'], ['lumayan', 'murah', 'enak'], ['buruk', 'sangat'], ['sampahnya', 'jorok'], ['bersih', 'nyaman'], ['lumayan', 'menyenangkan'], ['kamar', 'mandi', 'hanya', 'gimana'], ['pojokan', 'ludah'], ['banyak', 'preman'], ['sepi', 'tenang'], ['air', 'keran', 'ruang', 'gantinya'], ['renovasi'], ['kolam', 'renang', 'anak', 'rusak'], ['renang', 'nabrak', 'sempit'], ['tolong', 'pengunjungnya', 'penuh', 'masuk', 'in', 'renang'], ['latian', 'tentara', 'darat'], ['strategis'], ['bersih'], ['sarang', 'laba'], ['murah'], ['lumayan', 'murah'], ['harganya'], ['kolam', 'renang', 'sutos'], ['kecewa', 'lumayan'], ['bagus'], ['tempatnya', 'nyaman'], ['kamar', 'mandinya', 'kuncinya', 'mohon', 'dibenarkan'], ['anak', 'berenang'], ['sampahnya'], ['murah'], ['sampahnya'], ['bagus', 'santai'], ['lumayan'], ['tempat', 'sampah', 'gaada'], ['tempatnya', 'sempit'], ['jaga', 'sewa', 'ban', 'suka', 'hilang'], ['berita palsu'], ['baik'], ['bagus'], ['jelek'], ['lumayan'], ['murah'], ['kreatif'], ['tunggu'], ['renang', 'latihan'], ['kolam', 'renang', 'hayam', 'wuruk'], ['panas', 'teduh'], ['kotor'], ['menyenangkan'], ['kolam', 'renang', 'baik'], ['cocok', 'membutuhkan', 'kolam', 'renang', 'profesional'], ['bagus', 'berenang', 'menyelam', 'area', 'kolam', 'terdalam', 'meter', 'kamar', 'mandinya', 'baik', 'bagus', 'baik'], ['kamar', 'terburuk', 'kamar', 'mandi', 'milik', 'partisi', 'meninggalkan', 'privasi'], ['bagus', 'kolam', 'renang', 'bagus'], ['buruk'], ['pembaruan', 'perbaikan'], ['kolam', 'renang', 'bagus', 'bersih'], ['penjaga', 'kolam'], ['kolam', 'milik', 'kedalaman', 'beragam', 'cocok', 'olahraga', 'renang'], ['kolam', 'murah', 'bagus', 'toiletnya', 'direnovasi'], ['bagus', 'menyenangkan'], ['bagus', 'bersih'], ['bagus', 'butuh', 'permainan', 'poin', 'plus'], ['kolam', 'renang', 'terbaru', 'bersih'], ['memalukan', 'kamar', 'toilet', 'dikelola'], ['terlepas', 'kondisi', 'toilet', 'buruk', 'kolam', 'renangnya', 'bagus'], ['membutuhkan', 'pemeliharaan', 'pembaruan'], ['kolam', 'renang', 'direkomendasikan'], ['bagus', 'latihan'], ['yaaah', 'belajar', 'berenang', 'kolam'], ['favorit', 'berenang'], ['tempatnya', 'bersih'], ['jorok'], [], ['toiletnya', 'bersih'], ['penitipan', 'barang', 'bayar', 'tempat', 'tunggu', 'sedikit', 'gimana'], ['indah', 'renang'], ['menunggu', 'masuk', 'semua', 'bingung', 'duduk', 'duduknya'], ['bagus', 'berenang', 'fasilitas', 'air'], ['bagus'], ['kamar', 'mandi', 'jelek'], ['kolam', 'bersih'], ['jorok'], ['penjaganya'], ['tempat', 'kotor', 'terawat'], ['jorok'], ['kursi', 'kunjung', 'lah'], ['lumayan', 'kamar', 'mandinya', 'perbaikan'], ['tolong', 'beri', 'gitu', 'kolam', 'tidak', 'panas', 'terbakar'], ['kolam', 'renang', 'bagus'], ['airnya', 'panas', 'melukai', 'mata'], ['air', 'perih', 'mata', 'ngak', 'pakek', 'kacamata'], ['kolam', 'bersih'], ['tolong', 'perhatikan', 'kualitas', 'air', 'peminjaman', 'alat', 'bantu', 'renangnya'], ['kolam', 'renang', 'bagus'], ['area', 'kolam', 'renang', 'fasilitas', 'toilet', 'kunci', 'mohon', 'realisasi'], ['alat', 'keamanan'], ['nyaman', 'suka', 'berenang'], ['bersih', 'bawa', 'kaca', 'mata', 'renang', 'kaporitnya', 'kuat', 'pintu', 'masuk', 'ti'], ['kolam', 'renangnya', 'luas'], ['bersih', 'parkiran', 'luas', 'pintu', 'masuk', 'murah'], ['harga', 'tiketnya', 'terjangkau', 'les', 'renang', 'al'], ['bersih', 'sayangnya', 'jualan', 'makanan'], ['kolam', 'renang', 'anak', 'anak', 'rusak', 'air', 'keran', 'ruang', 'ganti', 'diperbaiki'], ['sempurna', 'menyegarkan', 'panas'], ['enak', 'murah', 'tepat', 'libur', 'kayak', 'dawet'], ['tiket', 'bagus', 'enak', 'murah'], ['harga', 'tiket', 'masuk', 'terjangkau'], ['kolam', 'renang', 'harga', 'masuknya', 'terjangkau', 'sayangnya', 'mainan'], ['luas', 'air', 'bersih', 'cocok', 'anak', 'belajar', 'renang'], ['harap', 'bersihkan', 'kolam', 'renang', 'dibuka'], ['masuk', 'murah', 'nyaman', 'inti', 'puas', 'berenang'], ['bagus', 'fasilitas', 'bagus', 'harga', 'bagus', 'kebersihan', 'kamar', 'mandi'], ['tempatnya', 'bersih', 'luas', 'harga', 'tiketnya', 'murah', 'highly', 'rekomendasi'], ['kolam', 'renang', 'intens', 'berlatih', 'berenang', 'tes', 'kedinasan'], ['kolam', 'renangnya', 'enak', 'olahraga', 'parkir', 'luas', 'pintu', 'masuk', 'murah'], ['tempatnya', 'seru', 'ramai'], ['tempatnya', 'luas', 'menampung', 'kunjung'], ['kotor'], ['lumayan', 'bersih', 'kolam', 'renang', 'daerah', 'pegunungan'], ['kolam', 'renangnya', 'bagus', 'tempatnya', 'luas'], ['info', 'kursus', 'berenang', 'anak', 'hubungi'], ['kolam', 'renangnya', 'bagus', 'sayangnya', 'kamar', 'mandinya', 'kotor'], ['air', 'kolam', 'lumayan', 'bersih', 'toilet', 'kamar', 'mandi', 'ruang', 'ganti'], ['minggu', 'kotor', 'dikuras', 'senin', 'selasa'], ['kemarin', 'kolam', 'kotor'], ['lebar', 'klorin', 'membuatnya', 'panas', 'kulit'], ['air', 'kolam', 'lumayan', 'bersih', 'lingkungan', 'bersih'], ['kolam', 'renang', 'gor', 'tribun', 'kotor', 'membuang', 'sampah', 'sembarangan'], ['bagus', 'siring', 'bawa', 'anak', 'anak', 'kesana', 'berenang', 'tingkatkan', 'kebersihannya'], ['kolam', 'renang', 'luas', 'parkir', 'luas', 'panas', 'tepat'], ['kolam', 'renangnya', 'bersih', 'tolong', 'perbaiki', 'pintu', 'kamar', 'mandi', 'wanita'], ['terkadang', 'air', 'kolam', 'renang', 'kotor'], ['bersih', 'murah', 'latihan', 'renang', 'anak'], ['luas', 'tiket', 'murah'], ['rekomendasi', 'olah', 'raga', 'murah', 'diperbaiki'], ['kolam', 'renang', 'murah', 'surabaya', 'minim', 'mainan', 'anak'], ['mending', 'kamar', 'mandi', 'plus', 'ruang', 'ganti'], ['berenang', 'les', 'renang'], ['fasilitas', 'kolam', 'renang', 'duduk', 'mengakomodir', 'kebutuhan', 'bersantai'], ['bagus'], ['penjaga', 'kolam', 'memperhatikan'], ['bagus'], ['tempatnya', 'bersih', 'nyaman', 'berenang', 'harganya', 'terjangkau'], ['kolam', 'bagus', 'kualitas', 'airnya', 'kadang', 'jernih', 'kadang', 'hijau'], ['kolam', 'renang', 'atlet', 'bersih', 'rapi', 'bagus', 'maju'], ['pelatih', 'pelatihnya', 'ramah', 'kadang', 'airnya', 'jernih', 'kadang', 'kadang'], ['terbaik', 'berkumpul', 'berolahraga', 'keluarga'], ['tempatnya', 'luas', 'airnya', 'segar', 'plus', 'kolam', 'renangnya'], ['harap', 'perhatikan', 'kualitas', 'air', 'pinjam'], ['baik', 'airnya', 'dingin'], ['sampah', 'kolam', 'renang'], ['mudah', 'ditemui'], ['kotor', 'ludah', 'anak', 'dsuruh', 'kencing', 'kolam', 'dpantauan', 'kebersihanya'], ['jorok'], ['ramai', 'kunjung'], ['karyawannya', 'ramah'], ['tutup'], ['suka', 'renang', 'airnya', 'bersih', 'tepat', 'dibersihkan', 'kolam', 'renangnya', 'ramai', 'pengawasan', 'ekstra'], ['kolam', 'renang', 'airnya', 'asin'], ['pengawas', 'pilih', 'beri'], ['kacau'], ['pikir', 'mahal'], ['kamar', 'mandinya', 'jelek'], ['kolam', 'renang', 'buka'], ['pengawasan'], ['air', 'berwarna', 'hijau', 'musim', 'panas', 'dibersihkan', 'kena', 'panas', 'orang', 'renang', 'drpada', 'musim', 'hujan'], ['bau', 'kaporit', 'ditingkatkan'], ['shower', 'kamar', 'mandi', 'keras'], ['kali', 'situ', 'langsung', 'kecewa'], ['kotor'], ['kamar', 'mandi', 'rusak'], ['suasana', 'bagus', 'air', 'asin'], ['hijau'], ['panas'], ['kecewa', 'penjaga', 'ramah'], ['buruk'], ['sepi'], ['kecewa', 'buruk'], ['panas'], ['kepleset'], ['berita', 'palsu'], ['mainan', 'anaknya', 'rawat'], ['duduk'], ['wajib', 'lepas', 'sandal', 'padahal', 'panas'], ['aduh', 'kolam', 'mata', 'perih'], ['iya'], ['kamar', 'mandi', 'tolong', 'bersihin'], ['ala', 'kadarnya'], ['sepi'], ['bersih', 'biru'], ['hebat', 'kolam', 'renangnya'], ['bau', 'klorin', 'menyengat'], ['menyenangkan', 'karyawannya', 'ramah'], ['nyaman', 'belajar', 'berenang'], ['suasananya', 'bagus', 'murah'], ['bagus', 'kebersihan', 'bersih'], ['fasilitas', 'kamar', 'mandi', 'bersih'], ['berlatih', 'berenang'], ['murah', 'ceria', 'favorit'], ['cocok', 'melatih', 'anak', 'anak'], ['pintu', 'ruang', 'ganti', 'wanita', 'rusak'], ['harga', 'murah', 'kolam'], ['lumayan', 'belajar', 'renang'], ['tolong', 'perbaiki', 'kamar', 'mandi'], ['kotor', 'bau', 'dirawat'], ['tempatnya', 'bagus', 'bersih'], ['acara'], ['kunjung', 'disiplin', 'membuang', 'sampah'], ['airnya', 'jernih', 'klorinnya'], ['kolam', 'renangnya', 'bersih', 'fasilitasnya', 'bagus'], ['anak', 'anak', 'menyukainya'], ['bersih', 'nyaman', 'cocok', 'berenang'], ['kolam', 'renang', 'buruk'], ['kolam', 'renang', 'favorit', 'keluarga', 'bersih'], ['kolam', 'renang', 'bagus', 'direkomendasikan'], ['kolam', 'renangnya', 'bagus', 'harganya', 'bagus'], ['keren', 'bagus', 'berenang']]\n"
          ]
        }
      ]
    },
    {
      "cell_type": "markdown",
      "source": [
        "**STEMMING**"
      ],
      "metadata": {
        "id": "uGWRM2Uf0qxt"
      }
    },
    {
      "cell_type": "code",
      "source": [
        "#library untuk melakukan pencarian kata dasar untuk bahasa indonesia\n",
        "!pip install Sastrawi"
      ],
      "metadata": {
        "colab": {
          "base_uri": "https://localhost:8080/"
        },
        "id": "wI2zdUofu-iC",
        "outputId": "370ed12a-e7fa-4e4e-f621-d677d56723fe"
      },
      "execution_count": 7,
      "outputs": [
        {
          "output_type": "stream",
          "name": "stdout",
          "text": [
            "Collecting Sastrawi\n",
            "  Downloading Sastrawi-1.0.1-py2.py3-none-any.whl (209 kB)\n",
            "\u001b[?25l     \u001b[90m━━━━━━━━━━━━━━━━━━━━━━━━━━━━━━━━━━━━━━━━\u001b[0m \u001b[32m0.0/209.7 kB\u001b[0m \u001b[31m?\u001b[0m eta \u001b[36m-:--:--\u001b[0m\r\u001b[2K     \u001b[91m━━━━━━━━━━━━━\u001b[0m\u001b[91m╸\u001b[0m\u001b[90m━━━━━━━━━━━━━━━━━━━━━━━━━━\u001b[0m \u001b[32m71.7/209.7 kB\u001b[0m \u001b[31m2.0 MB/s\u001b[0m eta \u001b[36m0:00:01\u001b[0m\r\u001b[2K     \u001b[90m━━━━━━━━━━━━━━━━━━━━━━━━━━━━━━━━━━━━━━━\u001b[0m \u001b[32m209.7/209.7 kB\u001b[0m \u001b[31m3.4 MB/s\u001b[0m eta \u001b[36m0:00:00\u001b[0m\n",
            "\u001b[?25hInstalling collected packages: Sastrawi\n",
            "Successfully installed Sastrawi-1.0.1\n"
          ]
        }
      ]
    },
    {
      "cell_type": "code",
      "source": [
        "#sebelum melakukan stemming akan dilakukan normalisasi bahasa baku sesuai KBBI\n",
        "#menginput kamus normalisasi yang telah di buat\n",
        "normalized= pd.read_excel(\"kamus_bahasa.xlsx\")\n",
        "normalized_ulasan = {}\n",
        "\n",
        "#looping untuk mengecek setiap kata dalam ulasan apakah ada yang sama dengan kamus\n",
        "for index, row in normalized.iterrows():\n",
        "    if row[0] not in normalized_ulasan:\n",
        "        normalized_ulasan[row[0]] = row[1]\n",
        "\n",
        "#data yang sama dengan kamus normalisasi maka akan dilakukan proses normalisasi\n",
        "def normalized_term(data):\n",
        "    return [normalized_ulasan[data] if data in normalized_ulasan else data for data in data]\n",
        "Ulasan_norm= list(map(normalized_term, Ulasan_stop))\n",
        "\n",
        "#menginpor ibrary untuk mencari kata dasar bahasa indonesia\n",
        "from Sastrawi.Stemmer.StemmerFactory import StemmerFactory\n",
        "factory = StemmerFactory()\n",
        "stemmer = factory.create_stemmer()\n",
        "\n",
        "#fungsi untuk melakukan pengecekan pada setiap kata apakah perlu untuk dicari kata dasar atau tidak\n",
        "def stemming(data):\n",
        "  stemming_result = []\n",
        "  for word in data:\n",
        "    stemming_result.append(stemmer.stem(word))\n",
        "  return stemming_result\n",
        "Ulasan_stem= list(map(stemming, Ulasan_norm))"
      ],
      "metadata": {
        "id": "lAKDrp0j5xX0"
      },
      "execution_count": 8,
      "outputs": []
    },
    {
      "cell_type": "code",
      "source": [
        "print ('HASIL STEMMING')\n",
        "print (Ulasan_stem)"
      ],
      "metadata": {
        "colab": {
          "base_uri": "https://localhost:8080/"
        },
        "id": "X0qkmgt36CEA",
        "outputId": "54e08429-1059-424c-e001-1ad31b7a69d9"
      },
      "execution_count": null,
      "outputs": [
        {
          "output_type": "stream",
          "name": "stdout",
          "text": [
            "HASIL STEMMING\n",
            "[['tempat', 'nyaman', 'parkir', 'luas', 'kadang', 'kamar', 'mandi', 'kotor'], ['bagus', 'bersih', 'kamar', 'mandi', 'kotor', 'tugas', 'periksa', 'jam', 'jam', 'jaga', 'bersih', 'air'], ['kolam', 'anak', 'panas', 'kayak', 'beri', 'hias', 'dingin', 'lindung', 'panas', 'untuk', 'anak'], ['kamar', 'mandi', 'bersih'], ['suka', 'renang', 'sabtu', 'ini', 'doa', 'hujan', 'tidak'], ['kesini', 'sesal', 'masuk', 'banyak', 'atur', 'antar', 'pakai', 'sepatu', 'istri', 'damping', 'anak', 'renang', 'pakai', 'kaos', 'kaki'], ['rekomendasi', 'fitnes'], ['atur'], ['renang', 'lokernya', 'pakai', 'kartu', 'ajar', 'tidak bisa', 'pakai', 'loger', 'adik saya', 'bom', 'dapat', 'dapat', 'loker', 'uang', 'adik saya', 'hilang', 'aduh', 'kecewa'], ['minggu', 'ramai', 'bos'], ['mahal'], ['senin', 'buka', 'jam', 'kerja', 'libur', 'senin', 'ingin', 'renang', 'ingin', 'kejar', 'kartika', 'eka', 'paksi'], ['harga'], ['tempat', 'nyaman', 'bersih', 'pegawai', 'ramah', 'air', 'kamar', 'ganti', 'bersih', 'rapi', 'parkir', 'luas', 'nyaman'], ['kolam', 'renang', 'bagus', 'hari', 'kolam', 'hijau', 'kolam', 'anak', 'dewasa', 'kamar', 'mandi', 'bersih', 'minggu', 'harga', 'tiket'], ['lumayan', 'perhati', 'fasilitas', 'mandi', 'pria', 'engsel', 'pintu', 'ganjal', 'pintu', 'rusak'], ['tempat', 'luas', 'tiket', 'libur'], ['kolam', 'renang', 'bagus', 'bersih', 'pakai', 'bebas', 'pakai', 'pakai', 'renang', 'kolam', 'anak', 'dewasa', 'kamar', 'mandi', 'bersih', 'minggu', 'harga', 'tiket'], ['kolam', 'bagus', 'jajan'], ['lengkap', 'profesional'], ['panas', 'pohon', 'tempat', 'kunjung', 'sedikit', 'keramik', 'pinggir', 'kolam', 'renang', 'licin', 'lebih', 'hati', 'anak', 'inti', 'rekomendasi', 'keluarga'], ['bagus', 'anak', 'oke', 'harga', 'tiket', 'murah', 'bersih', 'tempat', 'kecewa', 'air', 'kolam', 'anak', 'keruh', 'kolam', 'dewasa', 'bersih'], ['libur', 'murah', 'minggu', 'ribu'], ['kolam', 'renang', 'militer', 'buka', 'pandemi', 'covid', 'buka', 'batas', 'kunjung', 'kawasan', 'patuh', 'protokol', 'kualitas', 'air', 'kolam', 'jaga', 'tim', 'sar', 'ramah', 'ruang', 'bilas', 'modern', 'bersih', 'kantin', 'musala', 'parkir', 'luas', 'aman'], ['kecewa', 'minggu', 'pagi', 'istri', 'anak', 'niat', 'rekreasi', 'kolam', 'renang', 'brawijaya', 'beli', 'tiket', 'masuk', 'anak', 'renang', 'kolam', 'renang', 'habis', 'beli', 'tiket', 'harga'], ['bersih', 'nyaman'], ['salah', 'kolam', 'renang', 'turut', 'enak', 'surabaya', 'kolam', 'minggu', 'buka', 'jam', 'jam', 'tunggu', 'kolam', 'buka', 'minggu', 'kena', 'tiket', 'masuk', 'orang'], ['temapat', 'nyaman', 'aman'], ['tempatny', 'luas', 'kunjung', 'main', 'tambah', 'baik', 'ramai', 'kunjung'], ['luas', 'nyaman', 'bersih', 'kecewa', 'anak', 'di bawah', 'tahun', 'sruh', 'bayar', 'padahal', 'wisata', 'anak', 'tahun', 'gratis', 'masuk', 'karcis', 'kepala'], ['aman', 'anak', 'bersih', 'awas'], ['kolam', 'renang', 'tepi', 'jalan', 'mudah', 'akses', 'kompleks', 'rumah', 'kodam', 'ramai', 'kunjung', 'warga', 'hari', 'libur'], ['butuh', 'jasa', 'latih', 'renang', 'silah', 'hubung', 'tlp', 'wa'], ['nyaman', 'murah', 'riah', 'saran', 'hari', 'libur', 'penuh', 'kemarin', 'mandi', 'susah', 'libur'], ['air', 'bersih', 'hati', 'hati', 'ukur', 'dalem', 'teman'], ['bagus', 'kolam', 'anak', 'perosot', 'slide', 'kolam', 'dewasa', 'ukur', 'standar', 'internasional', 'dalam', 'meter', 'air', 'jernih', 'harga', 'tiket', 'relatif', 'murah', 'kolam', 'kota', 'surabaya'], ['kolam', 'bersih', 'rapi', 'protokol', 'sehat', 'bagus', 'kantin', 'kamar', 'ganti', 'bersih', 'sedia', 'loker', 'parkir', 'luas', 'bebas', 'bawa', 'makan', 'saran', 'mungkin', 'anak', 'les', 'renang', 'di sana', 'laku', 'harga', 'member', 'gitu'], ['lumayan', 'enak', 'saran', 'pinggir', 'beri', 'alas', 'peleset', 'anak', 'peleset', 'panas', 'jalan', 'arah', 'kolam', 'harus', 'lepas', 'alas', 'kaki'], ['anak', 'anak', 'kenal', 'air', 'tahap', 'ajar', 'renang', 'sungguh', 'lokasi', 'mudah', 'jangkau', 'tiket', 'masuk', 'banding', 'dapat'], ['event', 'tunggu'], ['bersih', 'main', 'harga', 'tiket', 'jangkau'], ['murah', 'nyaman', 'hemat', 'libur', 'kuluarga'], ['mohon', 'tambah', 'duduk', 'payung', 'tenda', 'meja', 'bagi', 'kunjung', 'kualitas', 'air', 'kolam', 'mata', 'merah', 'sakit', 'kamar', 'ganti', 'mohon', 'jaga', 'bersih'], ['fasilitas', 'kamar', 'mandi', 'kamar', 'ganti', 'bagus', 'air', 'kolam', 'pedih', 'mata'], ['kolam', 'renang', 'dewasa', 'anak', 'perosot', 'kolam', 'anak', 'bilas', 'bersih', 'tata', 'duduk', 'sedia'], ['kolam', 'renang', 'lengkap', 'anak', 'dalam', 'meter', 'hahaha', 'kesana', 'air', 'keruh', 'warna', 'hijau', 'kuras', 'bagus', 'teman', 'tiket', 'mahal'], ['tempat', 'bersih', 'luas', 'nyaman', 'kolam', 'kolam', 'anak', 'kolam', 'dewasa', 'kamar', 'mandi', 'ruang', 'ganti', 'lumayan', 'bersih'], ['latih', 'renang', 'bersih', 'harga', 'jangkau'], ['tempat', 'bersih', 'cocok', 'keluarga'], ['tempa', 'lumayan', 'bersih', 'ruang', 'kamar', 'mandi', 'ganti', 'rapi', 'bersih', 'area', 'kantin', 'bersih', 'harga', 'normal', 'masuk', 'tambah', 'pohon', 'asri', 'tambah', 'teduh', 'siang', 'sedikit', 'panass', 'bos'], ['bersih', 'ramai'], ['bagus', 'bersih', 'masuk', 'hanya', 'tolong', 'shower', 'benar', 'mati', 'antre', 'mandi'], ['dalam', 'lumayan', 'air', 'jernih', 'kaporit'], ['nyaman', 'bersih', 'suka'], ['bersih', 'makan', 'kejut', 'harga', 'murah'], ['kolam', 'bersih', 'ruang', 'ganti', 'bagus', 'parkir', 'aman'], ['tiket', 'masuk', 'kolam', 'senin', 'dalam', 'kolam', 'meter', 'kolam', 'anak', 'anak'], ['dekat', 'rumah', 'nyaman', 'anak', 'renang'], ['harga', 'tiket', 'murah', 'libur', 'ribu', 'orang', 'minggu', 'antar', 'anak', 'les', 'renang', 'kolam', 'bersih', 'lantai', 'pinggir', 'kolam', 'becek', 'lantai', 'kantin', 'becek', 'ruang', 'bilas', 'perempuan', 'lantai', 'becek', 'salur', 'air', 'sumbat', 'banjir'], ['jaga', 'hilang', 'hilang'], ['kolam', 'renang', 'murah', 'singgah', 'salah', 'tiket', 'masuk', 'hari kerja', 'libur', 'anak', 'anak', 'balita', 'saran', 'damping', 'batas', 'kolam', 'dewasa', 'anak', 'anak'], ['tempat', 'cocok', 'anak'], ['bagus', 'kolam', 'renang', 'harga', 'murah', 'ruang', 'ganti', 'layak', 'kamar', 'mandi', 'ukur', 'dalam', 'kolam', 'bagus', 'kolam', 'latih', 'militer', 'rabu', 'kamis', 'pagi', 'saran', 'jam', 'pagi'], ['ngasi', 'kaporit', 'tolong', 'ukur', 'pedih', 'mata'], ['bau', 'kaporit', 'sengat'], ['minggu', 'pilih', 'piknik', 'keluarga', 'maju', 'toilet', 'sudah', 'moga', 'depan', 'tambah', 'bangku', 'atau', 'macam', 'istirahat', 'teduh', 'sukses'], ['bagus', 'air', 'bersih', 'di', 'pinggir', 'kolam', 'air', 'lindung', 'sinar', 'matahari'], ['air', 'bersih', 'kolam', 'anak', 'dewasa', 'tiket', 'masuk', 'jumat', 'minggu'], ['baca', 'harga', 'tiket', 'kodam', 'mahal'], ['bagus', 'tiket', 'masuk', 'hari kerja', 'libur', 'tanggal', 'merah', 'parkir', 'motor', 'mobil', 'jaga', 'sewa', 'baju', 'renang', 'latih', 'anak', 'ajar', 'di sana', 'air', 'bersih', 'segar', 'kamar', 'ganti', 'pria', 'renovasi', 'mandi', 'cadang', 'vip'], ['kolam', 'renang', 'bagus', 'lumayan', 'rumah'], ['tempat', 'enak', 'renang', 'mula', 'ekspert', 'anak', 'anak', 'kolam', 'meter', 'ajar', 'dalam', 'meter'], ['senang', 'renang', 'bersih'], ['lingkung', 'kolam', 'renang', 'kotor', 'sampah', 'kunjung', 'bersih', 'alat', 'tunjang', 'kolam', 'anak', 'keropos', 'khawatir', 'luka', 'anak', 'main'], ['tiket', 'jangkau', 'nyaman'], ['bagus', 'tempat', 'masih', 'ruang', 'tunggu'], ['kaporit', 'susah', 'nyisir', 'rambut'], ['tempat', 'bagus', 'baik', 'ganti', 'baju', 'mohon', 'tambah', 'tempat', 'hari', 'minggu', 'unjung', 'ganti', 'tunggu'], ['bagus', 'hanya', 'kecewa', 'kamar', 'madi', 'belum', 'di', 'baik'], ['panas', 'siang', 'kanopi'], ['murah', 'rakyat', 'ribu', 'libur', 'konsekuensi', 'jorok'], ['enak', 'kecewa', 'ruang', 'ganti', 'pria', 'baik'], ['tempat', 'lumayan', 'kolam', 'tipe', 'akses', 'parkir', 'luas', 'harga', 'normal', 'libur', 'tempat', 'mandi', 'outdoor', 'bos', 'sedia', 'ruang', 'ganti', 'untung', 'sudah', 'pisah', 'kantin', 'harga', 'kali', 'lipat', 'air', 'bau'], ['ganti', 'bagus', 'kotor'], ['rumah', 'tempat', 'juga', 'senang'], ['kolam', 'renang', 'anak'], ['kolam', 'renang', 'luas', 'jamin', 'puas', 'hobi', 'renang', 'duduk', 'kunjung', 'minimal'], ['kolam', 'bagus', 'wahana', 'anak', 'kecewa', 'gazebo', 'tunggu', 'anak', 'renang'], ['tempat', 'nyaman', 'bersih', 'luas', 'loker', 'simpan', 'barang', 'bawa', 'beri', 'ktp', 'bayar'], ['awas', 'hilang', 'tenggelam', 'bahaya'], ['awat'], ['kamar', 'mandi', 'ganti', 'antre'], ['gaada', 'awas', 'coba', 'coba'], ['kunjung', 'pekan', 'ramai', 'siswa', 'junior', 'ambil', 'kursus', 'renang', 'ruang', 'ganti', 'unisex', 'ruang', 'ganti', 'benah'], ['bagus', 'murah', 'kecewa', 'keruh'], ['harga', 'segitu', 'mahal', 'masuk'], ['bagus', 'sudah', 'lumayan', 'renang', 'libur', 'ramai', 'penuh'], ['panas'], ['tutup', 'jam', 'sore', 'masih', 'ingin', 'renang', 'di', 'sore'], ['sabtu', 'libur', 'penuh'], ['murah', 'cocok', 'keluarga', 'bersih'], ['nyaman', 'keluarga', 'kolam', 'renang', 'bagus', 'tugas', 'siaga'], ['kualitas', 'air', 'bersih', 'duduk'], ['mie', 'enak', 'pakai', 'telur'], ['kolam', 'renang', 'bagus', 'bersih', 'wahana', 'anak', 'bersih', 'ruang', 'ganti', 'toilet', 'butuh', 'tingkat', 'harga', 'tiket', 'masuk', 'dewasa', 'ribu', 'kawasan', 'kolam', 'renang', 'kantin', 'sedia', 'makan'], ['nyaman', 'harga', 'ekonomis', 'hanya', 'kadang', 'air', 'kotor'], ['air', 'lumayan', 'bersih', 'harga', 'jangkau'], ['tempat', 'enak', 'ramai', 'harga', 'tiket', 'masuk', 'ramah', 'kantong', 'pasti'], ['kamar', 'mandi', 'pintu', 'rusak', 'kotor', 'lebih', 'bagus', 'bersih', 'kamar', 'mandi', 'tolong', 'tingkat'], ['tutup'], ['kotor', 'kaporit', 'kotor', 'air'], ['lumayan', 'harga', 'libur', 'duduk', 'tunggu', 'batas'], ['kolam', 'renang', 'dewasa', 'sepi'], ['sandal', 'pakai', 'area', 'kolam', 'renang', 'makan', 'area', 'kolam', 'aneh'], ['rem'], ['licin', 'lantai'], ['lumayan', 'bagus', 'rombong', 'anak', 'sekolah'], ['kolam', 'luas', 'bersih', 'nyaman'], ['bersih', 'awat', 'fasilitas', 'tingkat'], ['tempat', 'bagus', 'panas', 'jaga', 'siram', 'lantai', 'panas', 'kaki'], ['rekomendasi', 'rekreasi', 'keluarga', 'niat', 'olahraga', 'renang', 'tempat', 'bagus', 'bersih', 'air', 'jernih', 'tiket', 'jangkau'], ['senang', 'panas', 'kamar', 'mandi', 'jaga', 'bersih'], ['kolam', 'renang', 'nyaman', 'latih', 'sepi'], ['lumayan', 'nyenening', 'anak'], ['kesini', 'jumat', 'air', 'jernih', 'jadwal', 'kuras', 'kamis', 'pagi'], ['jaga', 'senyum', 'mahal', 'sangat'], ['kolam', 'renang', 'bersih', 'wahana', 'anak'], ['kolam', 'renang', 'dewasa', 'kaporit', 'anak', 'main', 'cocok', 'libur', 'tiket', 'sesuai', 'fasilitas'], ['rekreasi', 'murah'], ['puluh', 'ribu', 'sabtu', 'minggu'], ['tunggu', 'nyaman'], ['bersih'], ['bagus', 'bersih', 'menyenangkn', 'anak'], ['kolam', 'renang', 'harga', 'lumayan', 'mahal', 'kolam', 'anak', 'tahun', 'atas', 'bayar', 'penuh', 'harga', 'makan', 'sedia', 'relatif', 'sedia', 'sewa', 'karpet', 'ban'], ['kolam', 'renang', 'murah', 'surabaya', 'ramai', 'libur'], ['rabu', 'tanggal', 'juni', 'libur', 'raya', 'masuk', 'tiket'], ['strategis', 'bersih', 'lengkap'], ['bersih', 'tempat', 'enak', 'dan', 'harga', 'jangkau'], ['bersih', 'air', 'bersih', 'kamar', 'mandi', 'lumayan', 'hanya', 'mata', 'cepat', 'perih'], ['bagus', 'tingkat', 'fasilitas'], ['was', 'was', 'barang', 'bawa'], ['kolam', 'renang', 'murah', 'ramai', 'pekan', 'milik', 'taman', 'main', 'air', 'anak', 'anak', 'jual', 'makan', 'musala', 'sewa', 'baju', 'renang', 'jual', 'toilet', 'bersih', 'parkir', 'kendara', 'luas'], ['air', 'perih'], ['panas', 'sangat'], ['air', 'dingin', 'sayang', 'atap'], ['luas', 'ajar', 'renang', 'bersih', 'nyaman', 'wilayah', 'kompleks', 'tentara', 'brawijaya', 'surabaya', 'harga', 'masuk', 'murah', 'renang', 'puas', 'sepi', 'kunjung', 'akan', 'rumah'], ['renang', 'enak', 'kolam', 'bersih'], ['olahraga', 'kompleks', 'brawijaya', 'bagus', 'manfaat', 'masyarakat'], ['kolam', 'renang', 'murah', 'ruang', 'ganti', 'bagus', 'kotor', 'nyaman'], ['kolam', 'renang', 'favorit', 'karena', 'dri', 'rumah', 'kolam', 'renang', 'bersih', 'kamar', 'mandi', 'bersih', 'kesan', 'tepat', 'renang', 'bareng', 'latih', 'tentara', 'dalam', 'kolam', 'tentara', 'ramah', 'usir', 'kolam', 'renang', 'luas', 'senang'], ['air', 'kolam', 'bersih', 'fasilitas', 'parkir', 'pada', 'indah', 'lagi'], ['bagus', 'bersih', 'ramai', 'kunjung', 'parkir', 'luas'], ['kesan', 'kali', 'main', 'bersih', 'air', 'kolam', 'terus', 'isi', 'kamar', 'mandi', 'relatif', 'awat', 'banding', 'kolam', 'publik', 'tarif'], ['idam', 'anak', 'anak', 'hanya', 'benah', 'fasilitas'], ['kolam', 'olahraga', 'bersih', 'awat', 'harga', 'jangkau'], ['kolam', 'belah', 'lapang', 'hitam', 'kodam', 'brawijaya'], ['panas', 'iya', 'tempat', 'teduh'], ['renang', 'harga', 'jangkau', 'kolam', 'bersih'], ['murah', 'kamar', 'mandi', 'baik', 'kecewa', 'gazebonya', 'minim', 'kualitas', 'air', 'kotor', 'bersih', 'kolam', 'jaga'], ['tempat', 'bersih', 'murah', 'sih', 'masuk', 'makan', 'enak', 'murah'], ['harga', 'murah', 'kotor'], ['cocok', 'anak', 'dewasa'], ['renang', 'murah', 'nyaman', 'bersih', 'luas', 'kantin', 'juga', 'rekomendasi', 'tidak', 'kantong', 'bolong'], ['bagus', 'meter', 'kotor', 'perhati', 'kamar', 'ganti', 'perhati', 'pagi', 'siang', 'panas', 'wkwk'], ['kolam', 'renang', 'lumayan', 'bersih', 'kaporit', 'pedih', 'mata', 'hanya', 'kamar', 'mandi', 'perhati', 'kolam', 'renang', 'anak', 'anak'], ['kolam', 'renang', 'lumayan', 'bersih', 'kaporit', 'pedih', 'mata', 'hanya', 'kamar', 'mandi', 'perhati', 'kolam', 'renang', 'anak', 'anak'], ['lumayan', 'bersih', 'air', 'kadang', 'banyak', 'kaporit'], ['bersih', 'kolam', 'kamar', 'mandi'], ['parkir', 'luas', 'bagus', 'renang'], ['tempat', 'bagus', 'harga', 'jangkau', 'kecewa', 'air', 'mata', 'gelap', 'pakai', 'kacamata', 'tepat', 'rendam'], ['senang', 'untuk', 'olah', 'raga', 'main', 'tiket', 'golong', 'murah', 'bersih', 'kecewa', 'air', 'kamar', 'bilas', 'warung', 'parkir', 'bagus'], ['biaya', 'kerja', 'biaya', 'pekan', 'parkir', 'luas'], ['kolam', 'renang', 'daerah', 'kodam', 'brawijaya', 'tiket'], ['murah', 'dar', 'senang', 'anak', 'latih', 'anak', 'renang', 'tiket', 'libur', 'tiket'], ['baik', 'duduk', 'iya', 'tunggu', 'bawah', 'duduk'], ['enak', 'teduh'], ['kolam', 'lebar', 'lumayan', 'renang'], ['bagus', 'luas', 'kolam', 'parkir', 'luas', 'mudah', 'jangkau', 'teduh', 'panas', 'kursi', 'duduk'], ['kolam', 'renang', 'nyaman', 'lihat', 'kolam', 'anak', 'dewasa', 'latih', 'renang', 'kantin', 'jangkau', 'harga', 'baik', 'sangat', 'rugi', 'ngajak', 'keluarga', 'temen', 'temen', 'kesini'], ['harga', 'tiket', 'murah', 'kolam', 'renang', 'main', 'anak', 'kolam', 'standar', 'meter', 'cocok', 'mula', 'ajar', 'atlet', 'renang', 'sore', 'aktifitas', 'klub', 'renang', 'kini', 'surabaya', 'kantin', 'stand'], ['lumayan', 'rumah', 'kamar', 'mandi', 'bagus', 'siang', 'panas', 'agk', 'rasa', 'beri', 'tutup'], ['tempat', 'ramai', 'fasilitas', 'lumayan', 'sempat', 'dalam', 'meter', 'penuh', 'sesak', 'berani', 'meter'], ['anak', 'suka', 'renang'], ['tempat', 'lumayan', 'luas', 'lumayan', 'renang', 'anak', 'anak'], ['perosot', 'kolam', 'renang', 'brawijaya', 'tutup', 'buka', 'rabu'], ['kurang', 'air', 'keruh', 'batas', 'latih', 'tentara', 'al', 'renang', 'sesuai', 'lebih', 'murah', 'jenis', 'dalam', 'air', 'renang', 'trdapat', 'kolam', 'air', 'renang', 'anak'], ['kolam', 'luas', 'ampun', 'sangat', 'kaporit', 'lebih', 'rendam', 'mata', 'perih', 'merah', 'kulit', 'jdi', 'cepat', 'hitam'], ['panas'], ['tempat', 'luas', 'kaporit', 'rambut', 'sulit', 'sisir'], ['kolam'], ['kolam', 'renang', 'brawijaya', 'nyaman', 'anak', 'ajar', 'renang'], ['kolam', 'renang', 'bagus', 'harga', 'jangkau', 'sedia', 'level', 'dalam', 'main', 'anak', 'sedia', 'toko', 'jual', 'makan', 'lengkap', 'renang'], ['atlet', 'klub', 'renang', 'kini', 'latih'], ['cocok', 'renang', 'anak', 'keluarga'], ['tmpatnya', 'panas', 'teduh'], ['konsentrasi', 'koprit'], ['kolam', 'renang', 'letak', 'tepat', 'belah', 'lapang', 'kodam', 'v', 'brawijaya', 'kolam', 'kolam', 'anak', 'kolam', 'dewasa', 'tempat', 'bersih', 'sayang', 'tunggu', 'panas'], ['renang', 'nikmat', 'lezat', 'roti', 'john'], ['senang', 'renang', 'harga', 'jangkau'], ['buka', 'sabtu', 'minggu'], ['tempatya', 'bagus'], ['nyaman', 'bagus', 'kolam', 'renang', 'luas', 'wahana', 'toilet', 'kamar', 'mandi', 'kotor', 'bekas', 'tanah', 'sandal'], ['tangga', 'kolam', 'renang', 'orang', 'jatuh', 'korban', 'anak', 'juga', 'orang', 'peleset'], ['nyaman', 'renang', 'keluarga'], ['kualitas', 'air', 'renang', 'kulit', 'perih', 'panas', 'gatal'], ['murah', 'cocok', 'libur', 'suka'], ['kolam', 'renang', 'bagus', 'nyaman', 'luas', 'cocok', 'keluarga', 'kolam', 'renang', 'anak', 'luas', 'lengkap', 'main', 'air', 'bersih', 'perih', 'di', 'mata', 'harga', 'jangkau', 'letak', 'di', 'wilayah', 'kodam', 'brawijaya', 'surabaya', 'mudah', 'nyarinya'], ['ramai', 'parkir', 'panas'], ['beri', 'prusutanya', 'hanya'], ['bersih', 'penuh', 'aroma', 'kaporit', 'kamar', 'mandi', 'plus', 'dapat', 'ruang', 'tunggal', 'sayang', 'genang', 'sehingga', 'sulit', 'jaga', 'suci'], ['lokasi', 'strategis', 'karena', 'sekitar', 'kompleks', 'markas', 'marinir'], ['senang', 'rumah', 'bantu', 'proses'], ['murah', 'dalam', 'meter', 'dewasa'], ['bersih', 'senang', 'renang', 'teman', 'keluarga'], ['kolam', 'renang', 'bagus'], ['bersih', 'murah'], ['tidak', 'komentar', 'sangat', 'hahaha'], ['air', 'jernih', 'proses', 'air', 'masuk', 'saring', 'saring', 'masuk', 'saring', 'penuh', 'saring'], ['senyum', 'indah', 'ajak', 'keluarga', 'senang', 'senang', 'lewat', 'kolam', 'renang', 'dekat', 'rumah', 'fasilitas', 'kalah', 'suka', 'ajak', 'keluarga', 'kesini'], ['kolam', 'renang', 'lengkap', 'kolam', 'renang', 'khusus', 'anak', 'anak', 'fasilitas', 'perosot', 'kecewa', 'lengkap', 'duduk', 'kamar', 'ganti', 'bagus'], ['kolam', 'renang', 'luas', 'perosot', 'anak', 'anak'], ['kolam', 'renang', 'bagus', 'kotor', 'air', 'hijau'], ['pagi', 'orang', 'pintu', 'masuk', 'murah', 'bersih', 'pop', 'mie', 'teh', 'dingin', 'air', 'mineral', 'dingin'], ['dingin', 'santai', 'santai'], ['hanya', 'kolam', 'renang', 'harap'], ['tempayt', 'bagus', 'harga'], ['fasilitas', 'fitnes'], ['libur', 'ramai'], ['parkir', 'gratis', 'harga', 'tiket', 'weekdays'], ['tiket', 'murah', 'an', 'anak', 'dewasa', 'harga', 'tiket', 'kolam', 'anak', 'dewasa', 'dewasa', 'dalam', 'hanya', 'meter'], ['harga', 'benar', 'sudah', 'bagus', 'hanya', 'air', 'keruh', 'bau', 'kaporit', 'sengat', 'sering', 'ramai', 'ingin', 'renang', 'cari', 'sepi', 'kolam'], ['kolam', 'renang', 'luas', 'dalam', 'meter', 'kolam', 'renang', 'anak', 'dalam', 'sewa', 'ban', 'pompa', 'angin', 'jual', 'makan', 'so', 'kuatir', 'lapar', 'ruang', 'ganti', 'tepat', 'kesana', 'kecewa', 'flow', 'air'], ['cocok', 'renang', 'suasana', 'tenang', 'ramai', 'kerja', 'loket', 'masuk', 'jangkau', 'harga', 'makan', 'minum', 'relatif', 'murah'], ['sempit', 'kolam', 'renang', 'orang', 'masuk', 'bayar', 'saat', 'latih', 'renang', 'suruh', 'minggir', 'tidak', 'hanya', 'sampek', 'orang', 'latih', 'di sana', 'sudah', 'gitu', 'latih', 'renang', 'sampek', 'grup'], ['harga', 'tiket', 'murah', 'hanya', 'lumayan', 'sepi', 'cocok', 'suka', 'sepi'], ['fasilitas', 'jajan', 'dalam', 'worth', 'it', 'murah', 'kelas', 'warkop', 'nungguin', 'anak', 'les', 'renang', 'suruh', 'bayar'], ['cari', 'kolam', 'renang', 'kodam', 'pilih', 'dekat', 'kolam', 'renang', 'hayam', 'wuruk'], ['kolam', 'renang', 'luas', 'bagus', 'anak', 'dewasa', 'kantin', 'harga', 'gratis', 'parkir'], ['tepat', 'libur', 'enak', 'sepi', 'kolam', 'dewasa'], ['kolam', 'renang', 'kota', 'surabaya', 'murah', 'air', 'jernih', 'kolam', 'luas', 'kursus', 'renang', 'mula', 'pandu', 'latih', 'profesional', 'tiket', 'masuk', 'relatif', 'jangkau'], ['kolam', 'lumayan', 'latih', 'tidak', 'masalah', 'klub', 'renang', 'kontak'], ['sedia', 'kolam', 'renang', 'anak', 'dewasa', 'bagus', 'ajar', 'renang', 'banyak', 'wahana', 'main'], ['keren', 'betah', 'murahhh', 'ramai', 'sama', 'latih', 'juga'], ['kolam', 'lumayan', 'bersih', 'dewasa', 'anak', 'anak'], ['kolam', 'hanya', 'sabtu', 'minggu', 'ramai', 'tenang'], ['murah', 'tepat', 'kantong', 'kecewa', 'kolamya', 'kotor', 'awat', 'are', 'kolam', 'bersih'], ['wekend', 'enak', 'manja', 'anak', 'renang', 'tambah', 'jajan', 'nafsu', 'ronta', 'ronta', 'beli', 'renang', 'perut', 'lapar'], ['harga', 'tiket', 'kolam', 'renang', 'anak', 'tambah', 'perosot', 'main', 'meja', 'gazebo', 'rusak', 'kamar', 'mandi', 'jadul', 'bersih', 'bersih', 'pintu', 'juga', 'bnyak', 'kunci', 'air', 'kolam', 'kbersihannya', 'kecewa', 'jam', 'istirahat', 'buka', 'jam'], ['kotor', 'air', 'kotor', 'kamar', 'mandi', 'samgat', 'kotor'], ['buka', 'jam', 'tiket', 'libur', 'salah'], ['lokasi', 'nyaman', 'latih', 'dalam', 'kolam', 'sesuai', 'latih'], ['kolam', 'renang', 'hayam', 'wuruk', 'kantin', 'lengkap', 'menu', 'parkir', 'ruang', 'ganti', 'toilet', 'bersih', 'loker', 'bantu', 'jaga'], ['murah', 'kolam', 'dalam', 'kolam', 'variasi', 'ukur', 'kolam', 'renang', 'standar', 'lomba', 'renang', 'kamar', 'ganti', 'sewa', 'kacamata', 'baju', 'renang', 'masuk', 'langsung', 'kantin'], ['kolam', 'renang', 'hanya', 'bersih', 'standar', 'main', 'anak', 'cocok', 'cocok', 'les', 'renang', 'tempat', 'sepi', 'ramai', 'tiket', 'hanya', 'murah'], ['lumayan', 'bersih', 'les', 'renang', 'murah', 'masuk', 'nyaman', 'tempat'], ['tempat', 'ramai', 'kolam', 'bersih', 'kolam', 'kolam', 'anak', 'anak', 'kolam', 'remaja', 'dalam', 'meter'], ['samping', 'kolam', 'renang', 'latih', 'tentara', 'umun', 'juga', 'lagi', 'ngetren', 'jam', 'now', 'roti', 'john', 'lagi', 'fenomenal', 'mboook', 'orang', 'antre', 'sembako'], ['air', 'jernih', 'langsung', 'dalam', 'meter', 'renang', 'dalam', 'hanya', 'meter', 'ajar', 'renang'], ['tempat', 'nyaman', 'bersih', 'harga', 'makan', 'dapat', 'jangkau'], ['murah', 'cocok', 'ajar', 'renang'], ['nilai', 'sejarah'], ['favorit', 'sikecil', 'usia', 'th'], ['moga', 'populer', 'tingkat', 'pelihara', 'awat', 'kolam', 'renang'], ['air', 'keruh', 'sirkulasi', 'air', 'sampah', 'botol', 'liar', 'kolam', 'renang'], ['parkir', 'tiket', 'masuk', 'kamar', 'mandi', 'bersih', 'kolam', 'renang', 'buka', 'jam'], ['kali', 'kesini', 'kolam', 'lumut', 'kamar', 'ganti', 'mati', 'air', 'lapor', 'pancing', 'air'], ['renang', 'sabtu', 'pagi', 'suasana', 'enak', 'relatif', 'sepi', 'banding', 'minggu', 'pagi', 'karcis', 'renang'], ['bagus', 'kadang', 'air', 'bersih', 'tepat', 'bru', 'bersih', 'kadang', 'kotor', 'tiket'], ['kadang', 'kotor'], ['ramai', 'hari kerja', 'puas', 'renang'], ['kolam', 'renang', 'bersih', 'murah', 'tiket', 'libur', 'sewa', 'lokernya', 'harga', 'jamin', 'ktp', 'ruang', 'ganti', 'bilik', 'mandi', 'khawatir', 'antre', 'nilai', 'plus'], ['terima', 'privat', 'renang', 'minimal', 'usia', 'tahun', 'laki', 'wanita', 'dewasa', 'anak', 'anak', 'orang', 'tua'], ['lumayan', 'tiket', 'masuk', 'murah'], ['dalam', 'kolam', 'renang', 'meter', 'kolam', 'renang', 'anak', 'anak'], ['senin', 'jumat', 'harga', 'bersih', 'kamar', 'mandi', 'bangun', 'kolam', 'anak', 'bersih'], ['lumayan', 'mula', 'kuliner', 'enak', 'luar', 'kolam', 'renang'], ['kesini', 'suami', 'anak', 'tiket', 'orang', 'kesana', 'weekdays', 'libur', 'panas', 'panas', 'terik', 'kanopi'], ['kolam', 'renang', 'tempat', 'jalan', 'hayam', 'wuruk', 'sutos', 'arah', 'gunungsari'], ['kolam', 'cepat', 'hijau', 'lihat', 'keruh'], ['kolam', 'renang', 'kenal', 'masyarakat', 'bersih', 'renang', 'mula', 'tahap', 'ajar'], ['area', 'kolam', 'renang', 'mudah', 'jangkau', 'harga', 'tiket', 'murah', 'kualitas', 'air', 'kolam', 'sesuai', 'harga', 'hati', 'mula', 'kolam', 'renang', 'hayam', 'wuruk', 'sisi', 'utara'], ['nyaman', 'buka', 'renang', 'puas', 'banding', 'kolam', 'renang', 'surabaya', 'obat', 'aman', 'renang', 'kacamata'], ['latih', 'renang', 'lumayan', 'pakai', 'sandal', 'panas'], ['jernih', 'air', 'lumayan lah', 'td', 'ramai', 'libur', 'nyari', 'tenang', 'mending', 'hari kerja', 'fasilitas', 'lumayan'], ['kolam', 'renang', 'kolam', 'renang', 'kolam', 'renang', 'dewasa', 'kolam', 'renang', 'anak', 'buah', 'perosot', 'sj', 'main', 'air', 'kolam'], ['fasilitas', 'baik'], ['air', 'kayak', 'dahulu', 'kaporit', 'bersih', 'normal', 'kolam', 'bersih', 'tetep', 'renang', 'murah', 'jangkau'], ['les', 'renang', 'putra', 'putri', 'tepat', 'tempatx'], ['kolam', 'bgus', 'bersih', 'tempat', 'bertduh', 'bawah', 'pohon', 'mangga', 'ayun', 'kecewa', 'air', 'pekat', 'kandung', 'kaporit', 'harga', 'makan', 'golong', 'mahal'], ['tempat', 'lumayan', 'harga', 'makan', 'minum', 'di sana', 'standar', 'area', 'antar', 'panas', 'kl', 'siang'], ['air', 'kolam', 'dinding', 'kolam', 'lumut', 'tebal', 'kamar', 'shower', 'awat', 'temu', 'botol', 'plastik', 'dasar', 'area', 'kolam', 'meter'], ['bagus', 'bagus', 'tdi', 'hanya', 'jam', 'renang'], ['tepat', 'dtg', 'sore', 'air', 'kolam', 'keruh', 'daun', 'apung', 'kolam', 'bersih', 'kamar', 'ganti', 'juga', 'lumut'], ['kolam', 'renang', 'bersih', 'duduk', 'taruh', 'barang', 'bawa', 'tiket', 'masuk', 'murah', 'harga', 'sabtu', 'minggu'], ['suka', 'renang', 'air', 'bersih', 'tepat', 'bersih', 'kolam', 'renang', 'ramai', 'awas', 'ekstra'], ['kolam', 'bersih', 'lokasi', 'bersih', 'nyaman', 'tenang', 'kantin', 'buka'], ['kolam', 'renang', 'bagus', 'bersih', 'cocok', 'anak', 'main', 'kolam', 'dewasa', 'cocok', 'latih'], ['bagus', 'anak', 'mula', 'latih'], ['bagus', 'anak', 'ajar', 'renang', 'ramai', 'kunjung', 'murah', 'orang', 'akses', 'jalan', 'mudah', 'parkir', 'is', 'baik', 'cocok', 'senang', 'buah', 'hati'], ['air', 'kamar', 'bilas', 'mati', 'tugas', 'siaga', 'periksa', 'mesin', 'pompa', 'air'], ['tiket', 'ribu', 'meter', 'kolam', 'seperti', 'kolam', 'minggu', 'air', 'keruh', 'jaral', 'pandang', 'hanya', 'bening'], ['cocok', 'ajar', 'atau', 'ajar'], ['kurg', 'bgs', 'panas', 'tidak', 'nyaman', 'tmptx', 'seperti', 'tidak', 'urus', 'apalagi', 'pohon', 'dingin', 'dahulu', 'di', 'tebang', 'panas'], ['awat', 'kolam', 'parah'], ['kolam', 'renang', 'lengkap', 'main', 'anak', 'anak', 'lebih', 'tepat', 'untuk', 'orang', 'latih', 'renang'], ['kolam', 'renang', 'bagus', 'ajar', 'renang', 'wahana', 'main', 'air', 'jernih', 'bersih'], ['kualitas', 'air', 'bagus', 'kamar', 'mandi', 'higienis'], ['lumayan', 'nyaman', 'tempat', 'harga', 'tiket', 'ekonomis', 'hanya'], ['harga', 'murah', 'kurang'], ['kolam', 'renang', 'bersih'], ['kolam', 'renang'], ['kolam', 'keramik', 'pecah', 'sudah', 'seperti itu', 'jaga', 'lihat', 'risih'], ['kamar', 'ganti', 'kotor', 'tidak', 'awat', 'kolam', 'renang'], ['tiket', 'murah', 'kurang', 'kolam', 'sepi', 'ujung'], ['kolam', 'renang', 'tiket', 'murah', 'kolam', 'anak', 'air', 'bersih'], ['bagus', 'murah', 'latih', 'renang', 'latih'], ['kolam', 'bagus', 'cocok', 'latih', 'renang'], ['tempat', 'anak', 'ajar', 'renang', 'mula'], ['fasilitas', 'anak', 'anak', 'kolom', 'renang'], ['badan', 'saya', 'gatal', 'renang', 'tahan', 'gatal', 'rekomendasi', 'tidak'], ['suatu waktu', 'kolam', 'kotor', 'ruang', 'ganti', 'awat'], ['lumayan', 'tugas', 'bersih'], ['pohon', 'tebang', 'panas'], ['lumayan', 'bagus', 'air', 'banyak', 'kaporit', 'jernih'], ['kolam', 'seru', 'cocok', 'harga', 'murah'], ['bagus', 'bersih', 'harga', 'murah', 'ribu'], ['bagus', 'latih', 'renang'], ['tarik', 'tempat', 'cocok', 'ajar', 'renang'], ['murah', 'panas', 'cocok', 'latih', 'renang'], ['kakak', 'lebih', 'renang', 'bersih', 'bagus', 'nyaman'], ['lumayan', 'ingin', 'renang'], ['bagus', 'tempat', 'kolam', 'toilet', 'bersih'], ['ribu', 'mahal', 'kolam', 'renang', 'milik', 'tentara'], ['lumayan', 'bagus', 'anak', 'anak', 'tambah', 'main'], ['saran', 'warga', 'surabaya', 'selatan', 'strategis', 'bersih', 'jamin', 'aman', 'nyaman'], ['rekomendasi', 'latih', 'renang', 'rekreasi', 'keluarga'], ['kolam', 'renang', 'hitung', 'murah', 'kawasan', 'surabaya', 'selatan'], ['kolam', 'relatif', 'bersih', 'tertib', 'sedia', 'kolam', 'anak'], ['kolam', 'bagus', 'awat'], ['renang', 'main'], ['harga', 'jangkau', 'libur'], ['tiket', 'masuk', 'golong', 'murah', 'tempat', 'lumayan'], ['kolam', 'renang', 'murah', 'kaporit', 'banyak'], ['tempat', 'parkir', 'luas', 'depan', 'jalan', 'raya', 'mudah', 'akses', 'cari'], ['kolam', 'bagus', 'bayar', 'murah'], ['tiket', 'masuk', 'murah', 'basuh', 'terang'], ['basuh', 'terang'], ['kolam', 'renang', 'area', 'kodam', 'brawijaya', 'letak', 'jl', 'hayam', 'wuruk', 'surabaya'], ['idola', 'anak', 'anak'], ['kolam', 'renang', 'hayam', 'wuruk', 'malam', 'pusat', 'jajan', 'rakyat'], ['ingin', 'ajar', 'renang', 'tempat'], ['tiket', 'masuk', 'murah', 'kolam', 'bersih', 'awat'], ['bersih', 'nyaman', 'seru', 'saat', 'pasang'], ['kolam', 'renang', 'bersih', 'sih'], ['senang'], ['orang', 'jual', 'depan'], ['tiket', 'oktober', 'orang'], ['murah', 'lumayan', 'enak'], ['harga', 'tiket', 'murah', 'fasilitas', 'jelek'], ['meter'], ['bakso', 'kikil', 'depan', 'baik'], ['lumayan', 'murah', 'bersih', 'kecewa', 'dekat', 'murah'], ['tetep', 'baik', 'harga', 'sehat', 'kalang'], ['kolam', 'renang', 'bagus', 'murah', 'tempat'], ['lumayan', 'rekreasi', 'murah'], ['tempat', 'sepi', 'kolam', 'bersih', 'enak'], ['tiket', 'jangkau', 'bagus', 'ajar', 'renang'], ['kamar', 'mandi', 'kotor', 'bau', 'kencing'], ['kolam', 'bersih', 'nyaman'], ['hobi', 'renang', 'renang'], ['bagus', 'murah', 'bersih'], ['tiket', 'masuk'], ['ajar', 'renang', 'cocok'], ['kolam', 'renang', 'nyaman'], ['pedas', 'mata'], ['kolam', 'renang', 'bagus', 'luas'], ['fasilitas', 'wadah', 'kes', 'awat'], ['buka', 'batas'], ['buka', 'jam', 'rabu', 'tutup'], ['murah', 'selam'], ['lumayan', 'air', 'hijau'], ['tidak'], ['tarik'], ['bagus', 'kolam', 'renang'], ['tempat', 'buka', 'luas'], ['rena', 'parkir', 'luas'], ['kolam', 'renang', 'bersih'], ['jual', 'sate', 'depan'], ['sesal', 'sudah'], ['alam', 'tarik', 'layan', 'bagus'], ['lumayan', 'bersih'], ['kamar', 'mandi', 'rusak'], ['pulih', 'latih', 'sama', 'tim', 'seka', 'kaimana'], ['air', 'kotor'], ['lumayan', 'tempat', 'bersih'], ['fasilitas', 'tambah'], ['lumayan', 'kembang'], ['tingkat', 'bersih'], ['panas', 'air', 'kandung', 'kaporit'], ['cocok', 'ajar', 'renang'], ['buka', 'tepat', 'kesana', 'tutup'], ['tambah', 'air', 'boom'], ['segar', 'panas', 'nang', 'suroboyo'], ['tempat', 'enak', 'bersih', 'aman'], ['tutup', 'cepat'], ['air', 'kotor'], ['murah', 'bersih'], ['baik', 'fasilitas'], ['lumayan', 'sepi'], ['kotor', 'gatal', 'gatal'], ['lumayan', 'murah', 'enak'], ['buruk', 'sangat'], ['sampah', 'jorok'], ['bersih', 'nyaman'], ['lumayan', 'senang'], ['kamar', 'mandi', 'hanya', 'gimana'], ['pojok', 'ludah'], ['banyak', 'preman'], ['sepi', 'tenang'], ['air', 'keran', 'ruang', 'ganti'], ['renovasi'], ['kolam', 'renang', 'anak', 'rusak'], ['renang', 'nabrak', 'sempit'], ['tolong', 'unjung', 'penuh', 'masuk', 'in', 'renang'], ['latian', 'tentara', 'darat'], ['strategis'], ['bersih'], ['sarang', 'laba'], ['murah'], ['lumayan', 'murah'], ['harga'], ['kolam', 'renang', 'sutos'], ['kecewa', 'lumayan'], ['bagus'], ['tempat', 'nyaman'], ['kamar', 'mandi', 'kunci', 'mohon', 'benar'], ['anak', 'renang'], ['sampah'], ['murah'], ['sampah'], ['bagus', 'santai'], ['lumayan'], ['tempat', 'sampah', 'gaada'], ['tempat', 'sempit'], ['jaga', 'sewa', 'ban', 'suka', 'hilang'], ['berita palsu'], ['baik'], ['bagus'], ['jelek'], ['lumayan'], ['murah'], ['kreatif'], ['tunggu'], ['renang', 'latih'], ['kolam', 'renang', 'hayam', 'wuruk'], ['panas', 'teduh'], ['kotor'], ['senang'], ['kolam', 'renang', 'baik'], ['cocok', 'butuh', 'kolam', 'renang', 'profesional'], ['bagus', 'renang', 'selam', 'area', 'kolam', 'dalam', 'meter', 'kamar', 'mandi', 'baik', 'bagus', 'baik'], ['kamar', 'buruk', 'kamar', 'mandi', 'milik', 'partisi', 'tinggal', 'privasi'], ['bagus', 'kolam', 'renang', 'bagus'], ['buruk'], ['baru', 'baik'], ['kolam', 'renang', 'bagus', 'bersih'], ['jaga', 'kolam'], ['kolam', 'milik', 'dalam', 'agam', 'cocok', 'olahraga', 'renang'], ['kolam', 'murah', 'bagus', 'toilet', 'renovasi'], ['bagus', 'senang'], ['bagus', 'bersih'], ['bagus', 'butuh', 'main', 'poin', 'plus'], ['kolam', 'renang', 'baru', 'bersih'], ['malu', 'kamar', 'toilet', 'kelola'], ['lepas', 'kondisi', 'toilet', 'buruk', 'kolam', 'renang', 'bagus'], ['butuh', 'pelihara', 'baru'], ['kolam', 'renang', 'rekomendasi'], ['bagus', 'latih'], ['yaaah', 'ajar', 'renang', 'kolam'], ['favorit', 'renang'], ['tempat', 'bersih'], ['jorok'], [], ['toilet', 'bersih'], ['titip', 'barang', 'bayar', 'tempat', 'tunggu', 'sedikit', 'gimana'], ['indah', 'renang'], ['tunggu', 'masuk', 'semua', 'bingung', 'duduk', 'duduk'], ['bagus', 'renang', 'fasilitas', 'air'], ['bagus'], ['kamar', 'mandi', 'jelek'], ['kolam', 'bersih'], ['jorok'], ['jaga'], ['tempat', 'kotor', 'awat'], ['jorok'], ['kursi', 'kunjung', 'lah'], ['lumayan', 'kamar', 'mandi', 'baik'], ['tolong', 'beri', 'gitu', 'kolam', 'tidak', 'panas', 'bakar'], ['kolam', 'renang', 'bagus'], ['air', 'panas', 'luka', 'mata'], ['air', 'perih', 'mata', 'ngak', 'pakek', 'kacamata'], ['kolam', 'bersih'], ['tolong', 'perhati', 'kualitas', 'air', 'pinjam', 'alat', 'bantu', 'renang'], ['kolam', 'renang', 'bagus'], ['area', 'kolam', 'renang', 'fasilitas', 'toilet', 'kunci', 'mohon', 'realisasi'], ['alat', 'aman'], ['nyaman', 'suka', 'renang'], ['bersih', 'bawa', 'kaca', 'mata', 'renang', 'kaporit', 'kuat', 'pintu', 'masuk', 'ti'], ['kolam', 'renang', 'luas'], ['bersih', 'parkir', 'luas', 'pintu', 'masuk', 'murah'], ['harga', 'tiket', 'jangkau', 'les', 'renang', 'al'], ['bersih', 'sayang', 'jual', 'makan'], ['kolam', 'renang', 'anak', 'anak', 'rusak', 'air', 'keran', 'ruang', 'ganti', 'baik'], ['sempurna', 'segar', 'panas'], ['enak', 'murah', 'tepat', 'libur', 'kayak', 'dawet'], ['tiket', 'bagus', 'enak', 'murah'], ['harga', 'tiket', 'masuk', 'jangkau'], ['kolam', 'renang', 'harga', 'masuk', 'jangkau', 'sayang', 'main'], ['luas', 'air', 'bersih', 'cocok', 'anak', 'ajar', 'renang'], ['harap', 'sih', 'kolam', 'renang', 'buka'], ['masuk', 'murah', 'nyaman', 'inti', 'puas', 'renang'], ['bagus', 'fasilitas', 'bagus', 'harga', 'bagus', 'bersih', 'kamar', 'mandi'], ['tempat', 'bersih', 'luas', 'harga', 'tiket', 'murah', 'highly', 'rekomendasi'], ['kolam', 'renang', 'intens', 'latih', 'renang', 'tes', 'dinas'], ['kolam', 'renang', 'enak', 'olahraga', 'parkir', 'luas', 'pintu', 'masuk', 'murah'], ['tempat', 'seru', 'ramai'], ['tempat', 'luas', 'tampung', 'kunjung'], ['kotor'], ['lumayan', 'bersih', 'kolam', 'renang', 'daerah', 'gunung'], ['kolam', 'renang', 'bagus', 'tempat', 'luas'], ['info', 'kursus', 'renang', 'anak', 'hubung'], ['kolam', 'renang', 'bagus', 'sayang', 'kamar', 'mandi', 'kotor'], ['air', 'kolam', 'lumayan', 'bersih', 'toilet', 'kamar', 'mandi', 'ruang', 'ganti'], ['minggu', 'kotor', 'kuras', 'senin', 'selasa'], ['kemarin', 'kolam', 'kotor'], ['lebar', 'klorin', 'buat', 'panas', 'kulit'], ['air', 'kolam', 'lumayan', 'bersih', 'lingkung', 'bersih'], ['kolam', 'renang', 'gor', 'tribun', 'kotor', 'buang', 'sampah', 'sembarang'], ['bagus', 'siring', 'bawa', 'anak', 'anak', 'kesana', 'renang', 'tingkat', 'bersih'], ['kolam', 'renang', 'luas', 'parkir', 'luas', 'panas', 'tepat'], ['kolam', 'renang', 'bersih', 'tolong', 'baik', 'pintu', 'kamar', 'mandi', 'wanita'], ['terkadang', 'air', 'kolam', 'renang', 'kotor'], ['bersih', 'murah', 'latih', 'renang', 'anak'], ['luas', 'tiket', 'murah'], ['rekomendasi', 'olah', 'raga', 'murah', 'baik'], ['kolam', 'renang', 'murah', 'surabaya', 'minim', 'main', 'anak'], ['mending', 'kamar', 'mandi', 'plus', 'ruang', 'ganti'], ['renang', 'les', 'renang'], ['fasilitas', 'kolam', 'renang', 'duduk', 'mengakomodir', 'butuh', 'santa'], ['bagus'], ['jaga', 'kolam', 'perhati'], ['bagus'], ['tempat', 'bersih', 'nyaman', 'renang', 'harga', 'jangkau'], ['kolam', 'bagus', 'kualitas', 'air', 'kadang', 'jernih', 'kadang', 'hijau'], ['kolam', 'renang', 'atlet', 'bersih', 'rapi', 'bagus', 'maju'], ['latih', 'latih', 'ramah', 'kadang', 'air', 'jernih', 'kadang', 'kadang'], ['baik', 'kumpul', 'olahraga', 'keluarga'], ['tempat', 'luas', 'air', 'segar', 'plus', 'kolam', 'renang'], ['harap', 'perhati', 'kualitas', 'air', 'pinjam'], ['baik', 'air', 'dingin'], ['sampah', 'kolam', 'renang'], ['mudah', 'temu'], ['kotor', 'ludah', 'anak', 'dsuruh', 'kencing', 'kolam', 'dpantauan', 'kebersihanya'], ['jorok'], ['ramai', 'kunjung'], ['karyawannya', 'ramah'], ['tutup'], ['suka', 'renang', 'air', 'bersih', 'tepat', 'bersih', 'kolam', 'renang', 'ramai', 'awas', 'ekstra'], ['kolam', 'renang', 'air', 'asin'], ['awas', 'pilih', 'beri'], ['kacau'], ['pikir', 'mahal'], ['kamar', 'mandi', 'jelek'], ['kolam', 'renang', 'buka'], ['awas'], ['air', 'warna', 'hijau', 'musim', 'panas', 'bersih', 'kena', 'panas', 'orang', 'renang', 'drpada', 'musim', 'hujan'], ['bau', 'kaporit', 'tingkat'], ['shower', 'kamar', 'mandi', 'keras'], ['kali', 'situ', 'langsung', 'kecewa'], ['kotor'], ['kamar', 'mandi', 'rusak'], ['suasana', 'bagus', 'air', 'asin'], ['hijau'], ['panas'], ['kecewa', 'jaga', 'ramah'], ['buruk'], ['sepi'], ['kecewa', 'buruk'], ['panas'], ['kepleset'], ['berita', 'palsu'], ['main', 'anak', 'rawat'], ['duduk'], ['wajib', 'lepas', 'sandal', 'padahal', 'panas'], ['aduh', 'kolam', 'mata', 'perih'], ['iya'], ['kamar', 'mandi', 'tolong', 'bersihin'], ['ala', 'kadar'], ['sepi'], ['bersih', 'biru'], ['hebat', 'kolam', 'renang'], ['bau', 'klorin', 'sengat'], ['senang', 'karyawannya', 'ramah'], ['nyaman', 'ajar', 'renang'], ['suasana', 'bagus', 'murah'], ['bagus', 'bersih', 'bersih'], ['fasilitas', 'kamar', 'mandi', 'bersih'], ['latih', 'renang'], ['murah', 'ceria', 'favorit'], ['cocok', 'latih', 'anak', 'anak'], ['pintu', 'ruang', 'ganti', 'wanita', 'rusak'], ['harga', 'murah', 'kolam'], ['lumayan', 'ajar', 'renang'], ['tolong', 'baik', 'kamar', 'mandi'], ['kotor', 'bau', 'rawat'], ['tempat', 'bagus', 'bersih'], ['acara'], ['kunjung', 'disiplin', 'buang', 'sampah'], ['air', 'jernih', 'klorin'], ['kolam', 'renang', 'bersih', 'fasilitas', 'bagus'], ['anak', 'anak', 'suka'], ['bersih', 'nyaman', 'cocok', 'renang'], ['kolam', 'renang', 'buruk'], ['kolam', 'renang', 'favorit', 'keluarga', 'bersih'], ['kolam', 'renang', 'bagus', 'rekomendasi'], ['kolam', 'renang', 'bagus', 'harga', 'bagus'], ['keren', 'bagus', 'renang']]\n"
          ]
        }
      ]
    },
    {
      "cell_type": "markdown",
      "source": [
        "# **DOWNLOAD DATA UNTUK TF-IDF DAN WORD CLOUD**"
      ],
      "metadata": {
        "id": "TVA24PaUXLy0"
      }
    },
    {
      "cell_type": "code",
      "source": [
        "df= pd.DataFrame(data_final)\n",
        "print (df)"
      ],
      "metadata": {
        "colab": {
          "base_uri": "https://localhost:8080/"
        },
        "id": "3WwJSZr_ZvA5",
        "outputId": "a49b918f-5f39-414c-ed4b-9327fa9be570"
      },
      "execution_count": null,
      "outputs": [
        {
          "output_type": "stream",
          "name": "stdout",
          "text": [
            "                                                     0\n",
            "0    tempat nyaman parkir luas kadang kamar mandi k...\n",
            "1    bagus bersih kamar mandi kotor tugas periksa j...\n",
            "2    kolam anak panas kayak beri hias dingin lindun...\n",
            "3                                   kamar mandi bersih\n",
            "4                suka renang sabtu ini doa hujan tidak\n",
            "..                                                 ...\n",
            "622                                 kolam renang buruk\n",
            "623               kolam renang favorit keluarga bersih\n",
            "624                     kolam renang bagus rekomendasi\n",
            "625                     kolam renang bagus harga bagus\n",
            "626                                 keren bagus renang\n",
            "\n",
            "[627 rows x 1 columns]\n"
          ]
        }
      ]
    },
    {
      "cell_type": "code",
      "source": [
        "df.to_excel(\"preprop.xlsx\")"
      ],
      "metadata": {
        "id": "yVhuewRnaIWQ"
      },
      "execution_count": null,
      "outputs": []
    },
    {
      "cell_type": "markdown",
      "source": [
        "# **READ DATA YANG TELAH DI DOWNLOAD**"
      ],
      "metadata": {
        "id": "PSinGXFEXbST"
      }
    },
    {
      "cell_type": "code",
      "source": [
        "df= pd.read_excel('preprop.xlsx')  #menampilkan data yang telah ditambahkan\n",
        "df.head(1000) #menampilkan sebanyak data teratas"
      ],
      "metadata": {
        "id": "ecnTYqkqdEUw",
        "colab": {
          "base_uri": "https://localhost:8080/",
          "height": 423
        },
        "outputId": "a8bd1672-3f71-4f1b-9cc5-d64fa121cf20"
      },
      "execution_count": 9,
      "outputs": [
        {
          "output_type": "execute_result",
          "data": {
            "text/plain": [
              "                                                Ulasan    Label  \\\n",
              "0    tempat nyaman parkir luas kadang kamar mandi k...  Negatif   \n",
              "1    bagus bersih kamar mandi kotor tugas periksa j...  Negatif   \n",
              "2    kolam anak panas kayak beri hias dingin lindun...  Negatif   \n",
              "3                                   kamar mandi bersih  Negatif   \n",
              "4                suka renang sabtu ini doa hujan tidak  Positif   \n",
              "..                                                 ...      ...   \n",
              "622                                 kolam renang buruk  Positif   \n",
              "623               kolam renang favorit keluarga bersih  Positif   \n",
              "624                     kolam renang bagus rekomendasi  Positif   \n",
              "625                     kolam renang bagus harga bagus  Positif   \n",
              "626                                 keren bagus renang  Positif   \n",
              "\n",
              "    Aspek RCA (Fishbone Diagram)  \n",
              "0       kebersihan (cleanliness)  \n",
              "1           pelayanan (manpower)  \n",
              "2       lingkungan (environment)  \n",
              "3       kebersihan (cleanliness)  \n",
              "4       lingkungan (environment)  \n",
              "..                           ...  \n",
              "622         fasilitas (facility)  \n",
              "623     kebersihan (cleanliness)  \n",
              "624         fasilitas (facility)  \n",
              "625                harga (price)  \n",
              "626         fasilitas (facility)  \n",
              "\n",
              "[627 rows x 3 columns]"
            ],
            "text/html": [
              "\n",
              "\n",
              "  <div id=\"df-fef3bf69-4abf-4506-8a27-bf1fb040e120\">\n",
              "    <div class=\"colab-df-container\">\n",
              "      <div>\n",
              "<style scoped>\n",
              "    .dataframe tbody tr th:only-of-type {\n",
              "        vertical-align: middle;\n",
              "    }\n",
              "\n",
              "    .dataframe tbody tr th {\n",
              "        vertical-align: top;\n",
              "    }\n",
              "\n",
              "    .dataframe thead th {\n",
              "        text-align: right;\n",
              "    }\n",
              "</style>\n",
              "<table border=\"1\" class=\"dataframe\">\n",
              "  <thead>\n",
              "    <tr style=\"text-align: right;\">\n",
              "      <th></th>\n",
              "      <th>Ulasan</th>\n",
              "      <th>Label</th>\n",
              "      <th>Aspek RCA (Fishbone Diagram)</th>\n",
              "    </tr>\n",
              "  </thead>\n",
              "  <tbody>\n",
              "    <tr>\n",
              "      <th>0</th>\n",
              "      <td>tempat nyaman parkir luas kadang kamar mandi k...</td>\n",
              "      <td>Negatif</td>\n",
              "      <td>kebersihan (cleanliness)</td>\n",
              "    </tr>\n",
              "    <tr>\n",
              "      <th>1</th>\n",
              "      <td>bagus bersih kamar mandi kotor tugas periksa j...</td>\n",
              "      <td>Negatif</td>\n",
              "      <td>pelayanan (manpower)</td>\n",
              "    </tr>\n",
              "    <tr>\n",
              "      <th>2</th>\n",
              "      <td>kolam anak panas kayak beri hias dingin lindun...</td>\n",
              "      <td>Negatif</td>\n",
              "      <td>lingkungan (environment)</td>\n",
              "    </tr>\n",
              "    <tr>\n",
              "      <th>3</th>\n",
              "      <td>kamar mandi bersih</td>\n",
              "      <td>Negatif</td>\n",
              "      <td>kebersihan (cleanliness)</td>\n",
              "    </tr>\n",
              "    <tr>\n",
              "      <th>4</th>\n",
              "      <td>suka renang sabtu ini doa hujan tidak</td>\n",
              "      <td>Positif</td>\n",
              "      <td>lingkungan (environment)</td>\n",
              "    </tr>\n",
              "    <tr>\n",
              "      <th>...</th>\n",
              "      <td>...</td>\n",
              "      <td>...</td>\n",
              "      <td>...</td>\n",
              "    </tr>\n",
              "    <tr>\n",
              "      <th>622</th>\n",
              "      <td>kolam renang buruk</td>\n",
              "      <td>Positif</td>\n",
              "      <td>fasilitas (facility)</td>\n",
              "    </tr>\n",
              "    <tr>\n",
              "      <th>623</th>\n",
              "      <td>kolam renang favorit keluarga bersih</td>\n",
              "      <td>Positif</td>\n",
              "      <td>kebersihan (cleanliness)</td>\n",
              "    </tr>\n",
              "    <tr>\n",
              "      <th>624</th>\n",
              "      <td>kolam renang bagus rekomendasi</td>\n",
              "      <td>Positif</td>\n",
              "      <td>fasilitas (facility)</td>\n",
              "    </tr>\n",
              "    <tr>\n",
              "      <th>625</th>\n",
              "      <td>kolam renang bagus harga bagus</td>\n",
              "      <td>Positif</td>\n",
              "      <td>harga (price)</td>\n",
              "    </tr>\n",
              "    <tr>\n",
              "      <th>626</th>\n",
              "      <td>keren bagus renang</td>\n",
              "      <td>Positif</td>\n",
              "      <td>fasilitas (facility)</td>\n",
              "    </tr>\n",
              "  </tbody>\n",
              "</table>\n",
              "<p>627 rows × 3 columns</p>\n",
              "</div>\n",
              "      <button class=\"colab-df-convert\" onclick=\"convertToInteractive('df-fef3bf69-4abf-4506-8a27-bf1fb040e120')\"\n",
              "              title=\"Convert this dataframe to an interactive table.\"\n",
              "              style=\"display:none;\">\n",
              "\n",
              "  <svg xmlns=\"http://www.w3.org/2000/svg\" height=\"24px\"viewBox=\"0 0 24 24\"\n",
              "       width=\"24px\">\n",
              "    <path d=\"M0 0h24v24H0V0z\" fill=\"none\"/>\n",
              "    <path d=\"M18.56 5.44l.94 2.06.94-2.06 2.06-.94-2.06-.94-.94-2.06-.94 2.06-2.06.94zm-11 1L8.5 8.5l.94-2.06 2.06-.94-2.06-.94L8.5 2.5l-.94 2.06-2.06.94zm10 10l.94 2.06.94-2.06 2.06-.94-2.06-.94-.94-2.06-.94 2.06-2.06.94z\"/><path d=\"M17.41 7.96l-1.37-1.37c-.4-.4-.92-.59-1.43-.59-.52 0-1.04.2-1.43.59L10.3 9.45l-7.72 7.72c-.78.78-.78 2.05 0 2.83L4 21.41c.39.39.9.59 1.41.59.51 0 1.02-.2 1.41-.59l7.78-7.78 2.81-2.81c.8-.78.8-2.07 0-2.86zM5.41 20L4 18.59l7.72-7.72 1.47 1.35L5.41 20z\"/>\n",
              "  </svg>\n",
              "      </button>\n",
              "\n",
              "\n",
              "\n",
              "    <div id=\"df-15baf1f2-3ef3-416f-9ec9-cb9d230b8499\">\n",
              "      <button class=\"colab-df-quickchart\" onclick=\"quickchart('df-15baf1f2-3ef3-416f-9ec9-cb9d230b8499')\"\n",
              "              title=\"Suggest charts.\"\n",
              "              style=\"display:none;\">\n",
              "\n",
              "<svg xmlns=\"http://www.w3.org/2000/svg\" height=\"24px\"viewBox=\"0 0 24 24\"\n",
              "     width=\"24px\">\n",
              "    <g>\n",
              "        <path d=\"M19 3H5c-1.1 0-2 .9-2 2v14c0 1.1.9 2 2 2h14c1.1 0 2-.9 2-2V5c0-1.1-.9-2-2-2zM9 17H7v-7h2v7zm4 0h-2V7h2v10zm4 0h-2v-4h2v4z\"/>\n",
              "    </g>\n",
              "</svg>\n",
              "      </button>\n",
              "    </div>\n",
              "\n",
              "<style>\n",
              "  .colab-df-quickchart {\n",
              "    background-color: #E8F0FE;\n",
              "    border: none;\n",
              "    border-radius: 50%;\n",
              "    cursor: pointer;\n",
              "    display: none;\n",
              "    fill: #1967D2;\n",
              "    height: 32px;\n",
              "    padding: 0 0 0 0;\n",
              "    width: 32px;\n",
              "  }\n",
              "\n",
              "  .colab-df-quickchart:hover {\n",
              "    background-color: #E2EBFA;\n",
              "    box-shadow: 0px 1px 2px rgba(60, 64, 67, 0.3), 0px 1px 3px 1px rgba(60, 64, 67, 0.15);\n",
              "    fill: #174EA6;\n",
              "  }\n",
              "\n",
              "  [theme=dark] .colab-df-quickchart {\n",
              "    background-color: #3B4455;\n",
              "    fill: #D2E3FC;\n",
              "  }\n",
              "\n",
              "  [theme=dark] .colab-df-quickchart:hover {\n",
              "    background-color: #434B5C;\n",
              "    box-shadow: 0px 1px 3px 1px rgba(0, 0, 0, 0.15);\n",
              "    filter: drop-shadow(0px 1px 2px rgba(0, 0, 0, 0.3));\n",
              "    fill: #FFFFFF;\n",
              "  }\n",
              "</style>\n",
              "\n",
              "    <script>\n",
              "      async function quickchart(key) {\n",
              "        const containerElement = document.querySelector('#' + key);\n",
              "        const charts = await google.colab.kernel.invokeFunction(\n",
              "            'suggestCharts', [key], {});\n",
              "      }\n",
              "    </script>\n",
              "\n",
              "      <script>\n",
              "\n",
              "function displayQuickchartButton(domScope) {\n",
              "  let quickchartButtonEl =\n",
              "    domScope.querySelector('#df-15baf1f2-3ef3-416f-9ec9-cb9d230b8499 button.colab-df-quickchart');\n",
              "  quickchartButtonEl.style.display =\n",
              "    google.colab.kernel.accessAllowed ? 'block' : 'none';\n",
              "}\n",
              "\n",
              "        displayQuickchartButton(document);\n",
              "      </script>\n",
              "      <style>\n",
              "    .colab-df-container {\n",
              "      display:flex;\n",
              "      flex-wrap:wrap;\n",
              "      gap: 12px;\n",
              "    }\n",
              "\n",
              "    .colab-df-convert {\n",
              "      background-color: #E8F0FE;\n",
              "      border: none;\n",
              "      border-radius: 50%;\n",
              "      cursor: pointer;\n",
              "      display: none;\n",
              "      fill: #1967D2;\n",
              "      height: 32px;\n",
              "      padding: 0 0 0 0;\n",
              "      width: 32px;\n",
              "    }\n",
              "\n",
              "    .colab-df-convert:hover {\n",
              "      background-color: #E2EBFA;\n",
              "      box-shadow: 0px 1px 2px rgba(60, 64, 67, 0.3), 0px 1px 3px 1px rgba(60, 64, 67, 0.15);\n",
              "      fill: #174EA6;\n",
              "    }\n",
              "\n",
              "    [theme=dark] .colab-df-convert {\n",
              "      background-color: #3B4455;\n",
              "      fill: #D2E3FC;\n",
              "    }\n",
              "\n",
              "    [theme=dark] .colab-df-convert:hover {\n",
              "      background-color: #434B5C;\n",
              "      box-shadow: 0px 1px 3px 1px rgba(0, 0, 0, 0.15);\n",
              "      filter: drop-shadow(0px 1px 2px rgba(0, 0, 0, 0.3));\n",
              "      fill: #FFFFFF;\n",
              "    }\n",
              "  </style>\n",
              "\n",
              "      <script>\n",
              "        const buttonEl =\n",
              "          document.querySelector('#df-fef3bf69-4abf-4506-8a27-bf1fb040e120 button.colab-df-convert');\n",
              "        buttonEl.style.display =\n",
              "          google.colab.kernel.accessAllowed ? 'block' : 'none';\n",
              "\n",
              "        async function convertToInteractive(key) {\n",
              "          const element = document.querySelector('#df-fef3bf69-4abf-4506-8a27-bf1fb040e120');\n",
              "          const dataTable =\n",
              "            await google.colab.kernel.invokeFunction('convertToInteractive',\n",
              "                                                     [key], {});\n",
              "          if (!dataTable) return;\n",
              "\n",
              "          const docLinkHtml = 'Like what you see? Visit the ' +\n",
              "            '<a target=\"_blank\" href=https://colab.research.google.com/notebooks/data_table.ipynb>data table notebook</a>'\n",
              "            + ' to learn more about interactive tables.';\n",
              "          element.innerHTML = '';\n",
              "          dataTable['output_type'] = 'display_data';\n",
              "          await google.colab.output.renderOutput(dataTable, element);\n",
              "          const docLink = document.createElement('div');\n",
              "          docLink.innerHTML = docLinkHtml;\n",
              "          element.appendChild(docLink);\n",
              "        }\n",
              "      </script>\n",
              "    </div>\n",
              "  </div>\n"
            ]
          },
          "metadata": {},
          "execution_count": 9
        }
      ]
    },
    {
      "cell_type": "markdown",
      "source": [
        "# **PENGUJIAN KNN SELURUH DATA**"
      ],
      "metadata": {
        "id": "nwJhUxuiQZZd"
      }
    },
    {
      "cell_type": "markdown",
      "source": [
        "TF-IDF DATA PREPROCESSING"
      ],
      "metadata": {
        "id": "jHlo5k3JIQvR"
      }
    },
    {
      "cell_type": "code",
      "source": [
        "#menghitung TF-IDF dari corpus sklearn dengan modul TfidfVectorizer\n",
        "from sklearn.feature_extraction.text import TfidfVectorizer\n",
        "\n",
        "vectorizer = TfidfVectorizer(smooth_idf=False, norm=None)\n",
        "#X=vectorizer.fit_transform(df_show_aspek_clean.drop([\"Label\"], axis=1))\n",
        "#Y= df_show_aspek_clean[\"Label\"]\n",
        "X = vectorizer.fit_transform(df['Ulasan'].values.astype('U')).toarray() #mendefinisikan X adalah data final\n",
        "Y = df['Label'].values #mendefinisikan Y adalah label dokumen \"positif\" atau \"negatif\""
      ],
      "metadata": {
        "id": "SafhDIATQecf"
      },
      "execution_count": 10,
      "outputs": []
    },
    {
      "cell_type": "code",
      "source": [
        "#melakukan pemisahan antara pembagian testing dan training untuk validasi hasil\n",
        "\n",
        "from sklearn.model_selection import train_test_split\n",
        "from sklearn.preprocessing import StandardScaler\n",
        "from sklearn.neighbors import KNeighborsClassifier\n",
        "\n",
        "X_train, X_test, y_train, y_test = train_test_split(X, Y, test_size= 0.20, stratify= Y, random_state=42)\n",
        "\n",
        "scaler = StandardScaler(with_mean=False)\n",
        "scaled_X_train = scaler.fit_transform(X_train)\n",
        "scaled_X_test = scaler.fit_transform(X_test)\n"
      ],
      "metadata": {
        "id": "orpRi0mOQtpm"
      },
      "execution_count": 11,
      "outputs": []
    },
    {
      "cell_type": "code",
      "source": [
        "#mencoba mencari akurasi terbaik\n",
        "from sklearn.model_selection import StratifiedKFold\n",
        "from sklearn.neighbors import KNeighborsClassifier\n",
        "from sklearn.model_selection import cross_val_score\n",
        "\n",
        "accuracies= []\n",
        "precision = []\n",
        "recalls=[]\n",
        "kfold= StratifiedKFold(n_splits=5, shuffle=True, random_state= 42)\n",
        "\n",
        "for k in range (1,26):\n",
        "  knn = KNeighborsClassifier(n_neighbors = k)\n",
        "  knn.fit(scaled_X_train, y_train)\n",
        "  accuracy=(cross_val_score(knn, X, Y, cv=kfold, scoring='accuracy'))\n",
        "  accuracyy= accuracy.mean()\n",
        "  presisi= (cross_val_score(knn, X, Y, cv=kfold, scoring='precision_macro'))\n",
        "  presisii=presisi.mean()\n",
        "  recall = (cross_val_score(knn, X, Y, cv=kfold, scoring='recall_macro'))\n",
        "  recalll= recall.mean()\n",
        "  accuracies.append(accuracyy)\n",
        "  precision.append(presisii)\n",
        "  recalls.append(recalll)\n",
        "  print(\"Nilai Accuracy\")\n",
        "  print(\"k=\" , k, accuracy, np.round(accuracies[k-1], 2))\n",
        "  print(\"\\nNilai Precision\")\n",
        "  print(\"k=\" , k, presisi, np.round(precision[k-1], 2))\n",
        "  print(\"\\nNilai Recall\")\n",
        "  print(\"k=\" , k, recall, np.round(recalls[k-1], 2))\n",
        "  print()"
      ],
      "metadata": {
        "colab": {
          "base_uri": "https://localhost:8080/"
        },
        "id": "m0jLLrClciC_",
        "outputId": "8e419153-4c06-4a76-96fa-9be87ddae748"
      },
      "execution_count": 12,
      "outputs": [
        {
          "output_type": "stream",
          "name": "stdout",
          "text": [
            "Nilai Accuracy\n",
            "k= 1 [0.76984127 0.66666667 0.752      0.736      0.728     ] 0.73\n",
            "\n",
            "Nilai Precision\n",
            "k= 1 [0.76984127 0.67544346 0.75980129 0.7384696  0.7275641 ] 0.73\n",
            "\n",
            "Nilai Recall\n",
            "k= 1 [0.77045455 0.65984848 0.74807692 0.73333333 0.7275641 ] 0.73\n",
            "\n",
            "Nilai Accuracy\n",
            "k= 2 [0.77777778 0.65079365 0.72       0.728      0.72      ] 0.72\n",
            "\n",
            "Nilai Precision\n",
            "k= 2 [0.79526316 0.65740741 0.72984721 0.73155315 0.72450828] 0.73\n",
            "\n",
            "Nilai Recall\n",
            "k= 2 [0.78333333 0.65454545 0.72371795 0.73012821 0.7224359 ] 0.72\n",
            "\n",
            "Nilai Accuracy\n",
            "k= 3 [0.8015873  0.76190476 0.744      0.712      0.776     ] 0.76\n",
            "\n",
            "Nilai Precision\n",
            "k= 3 [0.80345711 0.79215116 0.74582681 0.72586981 0.77691511] 0.77\n",
            "\n",
            "Nilai Recall\n",
            "k= 3 [0.79924242 0.75378788 0.74166667 0.70641026 0.77435897] 0.76\n",
            "\n",
            "Nilai Accuracy\n",
            "k= 4 [0.8015873  0.76190476 0.752      0.72       0.752     ] 0.76\n",
            "\n",
            "Nilai Precision\n",
            "k= 4 [0.80129016 0.76842105 0.75217614 0.72913257 0.75320513] 0.76\n",
            "\n",
            "Nilai Recall\n",
            "k= 4 [0.80075758 0.75757576 0.7525641  0.71538462 0.75320513] 0.76\n",
            "\n",
            "Nilai Accuracy\n",
            "k= 5 [0.77777778 0.71428571 0.72       0.688      0.632     ] 0.71\n",
            "\n",
            "Nilai Precision\n",
            "k= 5 [0.78222453 0.79081633 0.75414619 0.72222222 0.64670296] 0.74\n",
            "\n",
            "Nilai Recall\n",
            "k= 5 [0.77424242 0.70151515 0.71217949 0.67948718 0.62435897] 0.7\n",
            "\n",
            "Nilai Accuracy\n",
            "k= 6 [0.78571429 0.70634921 0.704      0.672      0.616     ] 0.7\n",
            "\n",
            "Nilai Precision\n",
            "k= 6 [0.7853529  0.76179966 0.7094522  0.69156231 0.625     ] 0.71\n",
            "\n",
            "Nilai Recall\n",
            "k= 6 [0.78484848 0.69469697 0.7        0.66474359 0.60897436] 0.69\n",
            "\n",
            "Nilai Accuracy\n",
            "k= 7 [0.71428571 0.68253968 0.704      0.656      0.64      ] 0.68\n",
            "\n",
            "Nilai Precision\n",
            "k= 7 [0.75       0.78977273 0.75995196 0.68857049 0.68139368] 0.73\n",
            "\n",
            "Nilai Recall\n",
            "k= 7 [0.70454545 0.66742424 0.69423077 0.64679487 0.62948718] 0.67\n",
            "\n",
            "Nilai Accuracy\n",
            "k= 8 [0.74603175 0.68253968 0.72       0.672      0.672     ] 0.7\n",
            "\n",
            "Nilai Precision\n",
            "k= 8 [0.77383721 0.78977273 0.77091568 0.70238095 0.6965602 ] 0.75\n",
            "\n",
            "Nilai Recall\n",
            "k= 8 [0.73787879 0.66742424 0.71089744 0.66346154 0.66410256] 0.69\n",
            "\n",
            "Nilai Accuracy\n",
            "k= 9 [0.6984127  0.65873016 0.664      0.624      0.672     ] 0.66\n",
            "\n",
            "Nilai Precision\n",
            "k= 9 [0.76785714 0.77742253 0.74443069 0.69803114 0.7262931 ] 0.74\n",
            "\n",
            "Nilai Recall\n",
            "k= 9 [0.68560606 0.64242424 0.65192308 0.61089744 0.66153846] 0.65\n",
            "\n",
            "Nilai Accuracy\n",
            "k= 10 [0.71428571 0.65873016 0.68       0.656      0.68      ] 0.68\n",
            "\n",
            "Nilai Precision\n",
            "k= 10 [0.778125   0.74060785 0.75543901 0.725      0.73245614] 0.75\n",
            "\n",
            "Nilai Recall\n",
            "k= 10 [0.70227273 0.64393939 0.66858974 0.64423077 0.66987179] 0.67\n",
            "\n",
            "Nilai Accuracy\n",
            "k= 11 [0.67460317 0.64285714 0.656      0.632      0.672     ] 0.66\n",
            "\n",
            "Nilai Precision\n",
            "k= 11 [0.78571429 0.76875337 0.73870418 0.73883697 0.75      ] 0.76\n",
            "\n",
            "Nilai Recall\n",
            "k= 11 [0.65909091 0.62575758 0.64358974 0.61794872 0.66025641] 0.64\n",
            "\n",
            "Nilai Accuracy\n",
            "k= 12 [0.66666667 0.66666667 0.656      0.648      0.672     ] 0.66\n",
            "\n",
            "Nilai Precision\n",
            "k= 12 [0.76223776 0.78160377 0.73870418 0.73278906 0.73715042] 0.75\n",
            "\n",
            "Nilai Recall\n",
            "k= 12 [0.65151515 0.65075758 0.64358974 0.63525641 0.66089744] 0.65\n",
            "\n",
            "Nilai Accuracy\n",
            "k= 13 [0.62698413 0.64285714 0.616      0.624      0.624     ] 0.63\n",
            "\n",
            "Nilai Precision\n",
            "k= 13 [0.73475445 0.76875337 0.72649083 0.73284314 0.75757576] 0.74\n",
            "\n",
            "Nilai Recall\n",
            "k= 13 [0.60984848 0.62575758 0.60128205 0.60961538 0.60897436] 0.61\n",
            "\n",
            "Nilai Accuracy\n",
            "k= 14 [0.64285714 0.65079365 0.616      0.632      0.64      ] 0.64\n",
            "\n",
            "Nilai Precision\n",
            "k= 14 [0.72857143 0.77314815 0.70638629 0.73883697 0.76688453] 0.74\n",
            "\n",
            "Nilai Recall\n",
            "k= 14 [0.62727273 0.63409091 0.60192308 0.61794872 0.62564103] 0.62\n",
            "\n",
            "Nilai Accuracy\n",
            "k= 15 [0.58730159 0.57936508 0.584      0.6        0.576     ] 0.59\n",
            "\n",
            "Nilai Precision\n",
            "k= 15 [0.73017241 0.72222222 0.69542773 0.74151917 0.72030651] 0.72\n",
            "\n",
            "Nilai Recall\n",
            "k= 15 [0.56742424 0.55909091 0.56794872 0.58397436 0.55897436] 0.57\n",
            "\n",
            "Nilai Accuracy\n",
            "k= 16 [0.58730159 0.57936508 0.64       0.6        0.632     ] 0.61\n",
            "\n",
            "Nilai Precision\n",
            "k= 16 [0.69736842 0.72222222 0.74453823 0.71235521 0.73883697] 0.72\n",
            "\n",
            "Nilai Recall\n",
            "k= 16 [0.56818182 0.55909091 0.62628205 0.58461538 0.61794872] 0.59\n",
            "\n",
            "Nilai Accuracy\n",
            "k= 17 [0.57142857 0.56349206 0.592      0.568      0.608     ] 0.58\n",
            "\n",
            "Nilai Precision\n",
            "k= 17 [0.775      0.70168067 0.73524721 0.71100427 0.74725275] 0.73\n",
            "\n",
            "Nilai Recall\n",
            "k= 17 [0.55       0.54242424 0.57564103 0.55064103 0.59230769] 0.56\n",
            "\n",
            "Nilai Accuracy\n",
            "k= 18 [0.57142857 0.56349206 0.6        0.584      0.608     ] 0.59\n",
            "\n",
            "Nilai Precision\n",
            "k= 18 [0.775      0.70168067 0.74151917 0.72826087 0.71969697] 0.73\n",
            "\n",
            "Nilai Recall\n",
            "k= 18 [0.55       0.54242424 0.58397436 0.56730769 0.59294872] 0.57\n",
            "\n",
            "Nilai Accuracy\n",
            "k= 19 [0.54761905 0.54761905 0.592      0.56       0.592     ] 0.57\n",
            "\n",
            "Nilai Precision\n",
            "k= 19 [0.76829268 0.76829268 0.73524721 0.69975787 0.78017241] 0.75\n",
            "\n",
            "Nilai Recall\n",
            "k= 19 [0.525      0.525      0.57564103 0.54230769 0.575     ] 0.55\n",
            "\n",
            "Nilai Accuracy\n",
            "k= 20 [0.54761905 0.55555556 0.584      0.56       0.6       ] 0.57\n",
            "\n",
            "Nilai Precision\n",
            "k= 20 [0.76829268 0.7704918  0.69542773 0.69975787 0.74151917] 0.74\n",
            "\n",
            "Nilai Recall\n",
            "k= 20 [0.525      0.53333333 0.56794872 0.54230769 0.58397436] 0.55\n",
            "\n",
            "Nilai Accuracy\n",
            "k= 21 [0.54761905 0.54761905 0.584      0.56       0.584     ] 0.56\n",
            "\n",
            "Nilai Precision\n",
            "k= 21 [0.76829268 0.76829268 0.72826087 0.69975787 0.77777778] 0.75\n",
            "\n",
            "Nilai Recall\n",
            "k= 21 [0.525      0.525      0.56730769 0.54230769 0.56666667] 0.55\n",
            "\n",
            "Nilai Accuracy\n",
            "k= 22 [0.55555556 0.56349206 0.592      0.56       0.608     ] 0.58\n",
            "\n",
            "Nilai Precision\n",
            "k= 22 [0.7704918  0.77272727 0.73524721 0.69975787 0.78508772] 0.75\n",
            "\n",
            "Nilai Recall\n",
            "k= 22 [0.53333333 0.54166667 0.57564103 0.54230769 0.59166667] 0.56\n",
            "\n",
            "Nilai Accuracy\n",
            "k= 23 [0.53174603 0.55555556 0.568      0.544      0.552     ] 0.55\n",
            "\n",
            "Nilai Precision\n",
            "k= 23 [0.764      0.7704918  0.71100427 0.66666667 0.76859504] 0.74\n",
            "\n",
            "Nilai Recall\n",
            "k= 23 [0.50833333 0.53333333 0.55064103 0.52564103 0.53333333] 0.53\n",
            "\n",
            "Nilai Accuracy\n",
            "k= 24 [0.55555556 0.55555556 0.592      0.552      0.56      ] 0.56\n",
            "\n",
            "Nilai Precision\n",
            "k= 24 [0.7704918  0.7704918  0.73524721 0.68557423 0.77083333] 0.75\n",
            "\n",
            "Nilai Recall\n",
            "k= 24 [0.53333333 0.53333333 0.57564103 0.53397436 0.54166667] 0.54\n",
            "\n",
            "Nilai Accuracy\n",
            "k= 25 [0.53968254 0.53968254 0.56       0.544      0.536     ] 0.54\n",
            "\n",
            "Nilai Precision\n",
            "k= 25 [0.76612903 0.76612903 0.69975787 0.66666667 0.76422764] 0.73\n",
            "\n",
            "Nilai Recall\n",
            "k= 25 [0.51666667 0.51666667 0.54230769 0.52564103 0.51666667] 0.52\n",
            "\n"
          ]
        }
      ]
    },
    {
      "cell_type": "markdown",
      "source": [
        "# **PENGELOMPOKAN BERDASARKAN ASPEK**"
      ],
      "metadata": {
        "id": "a4HFCCWbKBvv"
      }
    },
    {
      "cell_type": "code",
      "source": [
        "df_show_aspek_clean = df.groupby(\"Aspek RCA (Fishbone Diagram)\").get_group(\"kebersihan (cleanliness)\")\n",
        "#df_show_aspek_clean .head(1000)"
      ],
      "metadata": {
        "id": "GM4YICDWc719"
      },
      "execution_count": 13,
      "outputs": []
    },
    {
      "cell_type": "code",
      "source": [
        "df_show_aspek_manpower = df.groupby(\"Aspek RCA (Fishbone Diagram)\").get_group(\"pelayanan (manpower)\")\n",
        "#df_show_aspek_manpower .head(1000)"
      ],
      "metadata": {
        "id": "W4LFgZWAdYWK"
      },
      "execution_count": 14,
      "outputs": []
    },
    {
      "cell_type": "code",
      "source": [
        "df_show_aspek_envi = df.groupby(\"Aspek RCA (Fishbone Diagram)\").get_group(\"lingkungan (environment)\")\n",
        "#df_show_aspek_envi .head(1000)"
      ],
      "metadata": {
        "id": "p3wIsOk6dbNS"
      },
      "execution_count": 15,
      "outputs": []
    },
    {
      "cell_type": "code",
      "source": [
        "df_show_aspek_fasi = df.groupby(\"Aspek RCA (Fishbone Diagram)\").get_group(\"fasilitas (facility)\")\n",
        "#df_show_aspek_fasi .head(1000)"
      ],
      "metadata": {
        "id": "2XNM7z2udep1"
      },
      "execution_count": 16,
      "outputs": []
    },
    {
      "cell_type": "code",
      "source": [
        "df_show_aspek_harga = df.groupby(\"Aspek RCA (Fishbone Diagram)\").get_group(\"harga (price)\")\n",
        "#df_show_aspek_harga .head(1000)"
      ],
      "metadata": {
        "id": "ne-hthX7dioL"
      },
      "execution_count": 17,
      "outputs": []
    },
    {
      "cell_type": "code",
      "source": [
        "df_show_aspek_methods = df.groupby(\"Aspek RCA (Fishbone Diagram)\").get_group(\"metode (methods)\")\n",
        "#df_show_aspek_methods .head(1000)"
      ],
      "metadata": {
        "id": "YjDXIAmKdk50"
      },
      "execution_count": 18,
      "outputs": []
    },
    {
      "cell_type": "code",
      "source": [
        "df_show_aspek_pengukuran = df.groupby(\"Aspek RCA (Fishbone Diagram)\").get_group(\"pengukuran (measurement)\")\n",
        "#df_show_aspek_pengukuran.head(1000)"
      ],
      "metadata": {
        "id": "SwkYhO28dnHs"
      },
      "execution_count": 51,
      "outputs": []
    },
    {
      "cell_type": "markdown",
      "source": [
        "# **PENGUJIAN KNN SETIAP ASPEK**"
      ],
      "metadata": {
        "id": "i9jRN9DtKjXN"
      }
    },
    {
      "cell_type": "markdown",
      "source": [
        "TF-IDF DATA PREPROCESSING"
      ],
      "metadata": {
        "id": "19F5XHW8KjXO"
      }
    },
    {
      "cell_type": "code",
      "source": [
        "#menghitung TF-IDF dari corpus sklearn dengan modul TfidfVectorizer\n",
        "from sklearn.feature_extraction.text import TfidfVectorizer\n",
        "\n",
        "vectorizer = TfidfVectorizer(smooth_idf=False, norm=None)\n",
        "X=vectorizer.fit_transform(df_show_aspek_pengukuran[\"Ulasan\"])\n",
        "Y= df_show_aspek_pengukuran[\"Label\"]"
      ],
      "metadata": {
        "id": "ypkRLgnoKjXP"
      },
      "execution_count": 35,
      "outputs": []
    },
    {
      "cell_type": "code",
      "source": [
        "#melakukan pemisahan antara pembagian testing dan training untuk validasi hasil\n",
        "\n",
        "from sklearn.model_selection import train_test_split\n",
        "from sklearn.preprocessing import StandardScaler\n",
        "from sklearn.neighbors import KNeighborsClassifier\n",
        "\n",
        "X_train, X_test, y_train, y_test = train_test_split(X, Y, test_size= 0.20, stratify= Y, random_state=42)\n",
        "\n",
        "scaler = StandardScaler(with_mean=False)\n",
        "scaled_X_train = scaler.fit_transform(X_train)\n",
        "scaled_X_test = scaler.fit_transform(X_test)\n"
      ],
      "metadata": {
        "id": "RGYiQdtuKjXQ"
      },
      "execution_count": 36,
      "outputs": []
    },
    {
      "cell_type": "code",
      "source": [
        "import warnings\n",
        "from sklearn.exceptions import UndefinedMetricWarning\n",
        "warnings.filterwarnings('ignore', category=UndefinedMetricWarning, module='sklearn.metrics._classification',\n",
        "                        message=\"Precision is ill-defined and being set to 0.0 in labels with no predicted samples. Use `zero_division` parameter to control this behavior.\")\n",
        "\n",
        "\n",
        "warnings.filterwarnings('ignore', category=UndefinedMetricWarning)"
      ],
      "metadata": {
        "id": "18kglweiPBQ-"
      },
      "execution_count": 49,
      "outputs": []
    },
    {
      "cell_type": "code",
      "source": [
        "#mencoba mencari akurasi terbaik\n",
        "from sklearn.model_selection import StratifiedKFold\n",
        "from sklearn.neighbors import KNeighborsClassifier\n",
        "from sklearn.model_selection import cross_val_score\n",
        "\n",
        "accuracies= []\n",
        "precision = []\n",
        "recalls=[]\n",
        "kfold= StratifiedKFold(n_splits=5, shuffle=True, random_state= 42)\n",
        "\n",
        "for k in range (1,26):\n",
        "  knn = KNeighborsClassifier(n_neighbors = k)\n",
        "  knn.fit(scaled_X_train, y_train)\n",
        "  accuracy=(cross_val_score(knn, X, Y, cv=kfold, scoring='accuracy'))\n",
        "  accuracyy= accuracy.mean()\n",
        "  presisi= (cross_val_score(knn, X, Y, cv=kfold, scoring='precision_macro'))\n",
        "  presisii=presisi.mean()\n",
        "  recall = (cross_val_score(knn, X, Y, cv=kfold, scoring='recall_macro'))\n",
        "  recalll= recall.mean()\n",
        "  accuracies.append(accuracyy)\n",
        "  precision.append(presisii)\n",
        "  recalls.append(recalll)\n",
        "\n",
        "for k in range (1,26):\n",
        "    print (\"k = \", k, \" => akurasi = \", np.round(accuracies[k-1], 2), \" => precision = \", np.round(precision[k-1], 2), \" => recall = \", np.round(recalls[k-1], 2))"
      ],
      "metadata": {
        "colab": {
          "base_uri": "https://localhost:8080/"
        },
        "outputId": "ab8ad8a3-6e58-4aac-94c1-071eb87041e8",
        "id": "Qi6svy2MKjXQ"
      },
      "execution_count": 50,
      "outputs": [
        {
          "output_type": "stream",
          "name": "stdout",
          "text": [
            "k =  1  => akurasi =  0.8  => precision =  0.75  => recall =  0.68\n",
            "k =  2  => akurasi =  0.78  => precision =  0.49  => recall =  0.53\n",
            "k =  3  => akurasi =  0.77  => precision =  0.55  => recall =  0.58\n",
            "k =  4  => akurasi =  0.78  => precision =  0.49  => recall =  0.53\n",
            "k =  5  => akurasi =  0.82  => precision =  0.7  => recall =  0.6\n",
            "k =  6  => akurasi =  0.77  => precision =  0.38  => recall =  0.5\n",
            "k =  7  => akurasi =  0.78  => precision =  0.49  => recall =  0.53\n",
            "k =  8  => akurasi =  0.77  => precision =  0.38  => recall =  0.5\n",
            "k =  9  => akurasi =  0.77  => precision =  0.38  => recall =  0.5\n",
            "k =  10  => akurasi =  0.77  => precision =  0.38  => recall =  0.5\n",
            "k =  11  => akurasi =  0.77  => precision =  0.38  => recall =  0.5\n",
            "k =  12  => akurasi =  0.77  => precision =  0.38  => recall =  0.5\n",
            "k =  13  => akurasi =  0.77  => precision =  0.38  => recall =  0.5\n",
            "k =  14  => akurasi =  0.77  => precision =  0.38  => recall =  0.5\n",
            "k =  15  => akurasi =  0.77  => precision =  0.38  => recall =  0.5\n",
            "k =  16  => akurasi =  0.77  => precision =  0.38  => recall =  0.5\n",
            "k =  17  => akurasi =  0.77  => precision =  0.38  => recall =  0.5\n",
            "k =  18  => akurasi =  0.77  => precision =  0.38  => recall =  0.5\n",
            "k =  19  => akurasi =  0.77  => precision =  0.38  => recall =  0.5\n",
            "k =  20  => akurasi =  0.77  => precision =  0.38  => recall =  0.5\n",
            "k =  21  => akurasi =  0.77  => precision =  0.38  => recall =  0.5\n",
            "k =  22  => akurasi =  0.77  => precision =  0.38  => recall =  0.5\n",
            "k =  23  => akurasi =  0.77  => precision =  0.38  => recall =  0.5\n",
            "k =  24  => akurasi =  0.77  => precision =  0.38  => recall =  0.5\n",
            "k =  25  => akurasi =  0.77  => precision =  0.38  => recall =  0.5\n"
          ]
        }
      ]
    },
    {
      "cell_type": "markdown",
      "source": [
        "# **WORD CLOUD**"
      ],
      "metadata": {
        "id": "mLOP0rvXc0gG"
      }
    },
    {
      "cell_type": "code",
      "source": [
        "import matplotlib.pyplot as plt\n",
        "\n",
        "#from subprocess import check_output\n",
        "from wordcloud import WordCloud, STOPWORDS\n",
        "\n",
        "#stopwords = set(STOPWORDS)\n",
        "data = df_show_aspek_harga.groupby(\"Label\").get_group(\"Negatif\")\n",
        "wordcloud = WordCloud(background_color='black',\n",
        "                      stopwords=stopwords,\n",
        "                      max_font_size=70,\n",
        "                      random_state=42\n",
        "                      ).generate(str(data['Ulasan']))\n",
        "print(wordcloud)\n",
        "plt.imshow(wordcloud)\n",
        "plt.axis('off')\n",
        "plt.show()\n"
      ],
      "metadata": {
        "colab": {
          "base_uri": "https://localhost:8080/",
          "height": 303
        },
        "id": "4FIve9indryc",
        "outputId": "400d4b7d-aed5-4e23-e015-f8cf94234d00"
      },
      "execution_count": null,
      "outputs": [
        {
          "output_type": "stream",
          "name": "stdout",
          "text": [
            "<wordcloud.wordcloud.WordCloud object at 0x7aa17a6c75e0>\n"
          ]
        },
        {
          "output_type": "display_data",
          "data": {
            "text/plain": [
              "<Figure size 640x480 with 1 Axes>"
            ],
            "image/png": "[encoded data removed]"
          },
          "metadata": {}
        }
      ]
    },
    {
      "cell_type": "markdown",
      "source": [
        "# **REPORT & MATRIX**"
      ],
      "metadata": {
        "id": "BMzlXnBGJgAh"
      }
    },
    {
      "cell_type": "markdown",
      "source": [
        "**Melihat classification report k-fold**"
      ],
      "metadata": {
        "id": "hOgaSohhaKQt"
      }
    },
    {
      "cell_type": "code",
      "source": [
        "from sklearn.model_selection import cross_val_predict\n",
        "from sklearn.metrics import classification_report\n",
        "from sklearn.metrics import accuracy_score\n",
        "\n",
        "\n",
        "kfold= StratifiedKFold(n_splits=5, shuffle=True, random_state= 42)\n",
        "\n",
        "knn = KNeighborsClassifier(n_neighbors = 4)\n",
        "knn.fit(scaled_X_train, y_train)\n",
        "prediction = cross_val_predict(knn, X, Y, cv=kfold)\n",
        "reporrt = classification_report(Y,prediction)\n",
        "print('\\n Accuracy: ', accuracy_score(Y, prediction), )\n",
        "print(reporrt)"
      ],
      "metadata": {
        "colab": {
          "base_uri": "https://localhost:8080/"
        },
        "id": "5Oe9SKmaYT4R",
        "outputId": "2c6c4b94-0c31-498c-a1fe-da7ea8d20c19"
      },
      "execution_count": null,
      "outputs": [
        {
          "output_type": "stream",
          "name": "stdout",
          "text": [
            "\n",
            " Accuracy:  0.7575757575757576\n",
            "              precision    recall  f1-score   support\n",
            "\n",
            "     Negatif       0.76      0.72      0.74       300\n",
            "     Positif       0.76      0.79      0.77       327\n",
            "\n",
            "    accuracy                           0.76       627\n",
            "   macro avg       0.76      0.76      0.76       627\n",
            "weighted avg       0.76      0.76      0.76       627\n",
            "\n"
          ]
        }
      ]
    },
    {
      "cell_type": "markdown",
      "source": [
        "**Confusion matrix**"
      ],
      "metadata": {
        "id": "PWKqPhklfxgK"
      }
    },
    {
      "cell_type": "code",
      "source": [
        "import matplotlib.pyplot as plt\n",
        "from sklearn.datasets import load_breast_cancer\n",
        "from sklearn.linear_model import LogisticRegression\n",
        "from sklearn.metrics import confusion_matrix #library untuk menampilkan confussion matrix\n",
        "import seaborn as sns #visualisasi matrix\n",
        "kfold= StratifiedKFold(n_splits=5, shuffle=True, random_state= 42)\n",
        "\n",
        "knn = KNeighborsClassifier(n_neighbors = 4)\n",
        "prediction = cross_val_predict(knn, X, Y, cv=kfold)\n",
        "conf_matrix= confusion_matrix(Y, prediction)\n",
        "sns.heatmap(conf_matrix, annot=True, cmap='Blues', fmt='g')\n",
        "plt.title('Confusion Matrix K-NN k=4')\n",
        "plt.xlabel('Predicted Classes')\n",
        "plt.ylabel('Actual Classes')"
      ],
      "metadata": {
        "colab": {
          "base_uri": "https://localhost:8080/",
          "height": 490
        },
        "id": "VOt02O9Tf1BF",
        "outputId": "c53724a6-93b6-4b9d-f13d-233ee8709cbd"
      },
      "execution_count": null,
      "outputs": [
        {
          "output_type": "execute_result",
          "data": {
            "text/plain": [
              "Text(50.722222222222214, 0.5, 'Actual Classes')"
            ]
          },
          "metadata": {},
          "execution_count": 68
        },
        {
          "output_type": "display_data",
          "data": {
            "text/plain": [
              "<Figure size 640x480 with 2 Axes>"
            ],
            "image/png": "[encoded data removed]"
          },
          "metadata": {}
        }
      ]
    },
    {
      "cell_type": "markdown",
      "source": [
        "**Melihat pembagian k-fold**"
      ],
      "metadata": {
        "id": "PnhFXaC9buLZ"
      }
    },
    {
      "cell_type": "code",
      "source": [
        "from sklearn.model_selection import KFold\n",
        "\n",
        "k = 5\n",
        "kf= KFold(n_splits = k)\n",
        "for train_index, test_index in kf.split(X):\n",
        "  X_train, X_test = train_index, test_index\n",
        "  print(\"Ini X\" , \"Train:\", X_train, \"\\nini X\" , \"Test:\", X_test)\n",
        "  print()\n",
        "for train_index, test_index in kf.split(Y):\n",
        "  Y_train, Y_test = train_index, test_index\n",
        "  print(\"ini Y\" , \"Train:\", Y_train, \"\\nini Y\" , \"Test:\", Y_test)\n",
        "  print()"
      ],
      "metadata": {
        "colab": {
          "base_uri": "https://localhost:8080/"
        },
        "id": "YMH6BmlraOlE",
        "outputId": "39276f77-a7e7-4148-948b-7d5943c4b9f1"
      },
      "execution_count": null,
      "outputs": [
        {
          "output_type": "stream",
          "name": "stdout",
          "text": [
            "Ini X Train: [126 127 128 129 130 131 132 133 134 135 136 137 138 139 140 141 142 143\n",
            " 144 145 146 147 148 149 150 151 152 153 154 155 156 157 158 159 160 161\n",
            " 162 163 164 165 166 167 168 169 170 171 172 173 174 175 176 177 178 179\n",
            " 180 181 182 183 184 185 186 187 188 189 190 191 192 193 194 195 196 197\n",
            " 198 199 200 201 202 203 204 205 206 207 208 209 210 211 212 213 214 215\n",
            " 216 217 218 219 220 221 222 223 224 225 226 227 228 229 230 231 232 233\n",
            " 234 235 236 237 238 239 240 241 242 243 244 245 246 247 248 249 250 251\n",
            " 252 253 254 255 256 257 258 259 260 261 262 263 264 265 266 267 268 269\n",
            " 270 271 272 273 274 275 276 277 278 279 280 281 282 283 284 285 286 287\n",
            " 288 289 290 291 292 293 294 295 296 297 298 299 300 301 302 303 304 305\n",
            " 306 307 308 309 310 311 312 313 314 315 316 317 318 319 320 321 322 323\n",
            " 324 325 326 327 328 329 330 331 332 333 334 335 336 337 338 339 340 341\n",
            " 342 343 344 345 346 347 348 349 350 351 352 353 354 355 356 357 358 359\n",
            " 360 361 362 363 364 365 366 367 368 369 370 371 372 373 374 375 376 377\n",
            " 378 379 380 381 382 383 384 385 386 387 388 389 390 391 392 393 394 395\n",
            " 396 397 398 399 400 401 402 403 404 405 406 407 408 409 410 411 412 413\n",
            " 414 415 416 417 418 419 420 421 422 423 424 425 426 427 428 429 430 431\n",
            " 432 433 434 435 436 437 438 439 440 441 442 443 444 445 446 447 448 449\n",
            " 450 451 452 453 454 455 456 457 458 459 460 461 462 463 464 465 466 467\n",
            " 468 469 470 471 472 473 474 475 476 477 478 479 480 481 482 483 484 485\n",
            " 486 487 488 489 490 491 492 493 494 495 496 497 498 499 500 501 502 503\n",
            " 504 505 506 507 508 509 510 511 512 513 514 515 516 517 518 519 520 521\n",
            " 522 523 524 525 526 527 528 529 530 531 532 533 534 535 536 537 538 539\n",
            " 540 541 542 543 544 545 546 547 548 549 550 551 552 553 554 555 556 557\n",
            " 558 559 560 561 562 563 564 565 566 567 568 569 570 571 572 573 574 575\n",
            " 576 577 578 579 580 581 582 583 584 585 586 587 588 589 590 591 592 593\n",
            " 594 595 596 597 598 599 600 601 602 603 604 605 606 607 608 609 610 611\n",
            " 612 613 614 615 616 617 618 619 620 621 622 623 624 625 626] \n",
            "ini X Test: [  0   1   2   3   4   5   6   7   8   9  10  11  12  13  14  15  16  17\n",
            "  18  19  20  21  22  23  24  25  26  27  28  29  30  31  32  33  34  35\n",
            "  36  37  38  39  40  41  42  43  44  45  46  47  48  49  50  51  52  53\n",
            "  54  55  56  57  58  59  60  61  62  63  64  65  66  67  68  69  70  71\n",
            "  72  73  74  75  76  77  78  79  80  81  82  83  84  85  86  87  88  89\n",
            "  90  91  92  93  94  95  96  97  98  99 100 101 102 103 104 105 106 107\n",
            " 108 109 110 111 112 113 114 115 116 117 118 119 120 121 122 123 124 125]\n",
            "\n",
            "Ini X Train: [  0   1   2   3   4   5   6   7   8   9  10  11  12  13  14  15  16  17\n",
            "  18  19  20  21  22  23  24  25  26  27  28  29  30  31  32  33  34  35\n",
            "  36  37  38  39  40  41  42  43  44  45  46  47  48  49  50  51  52  53\n",
            "  54  55  56  57  58  59  60  61  62  63  64  65  66  67  68  69  70  71\n",
            "  72  73  74  75  76  77  78  79  80  81  82  83  84  85  86  87  88  89\n",
            "  90  91  92  93  94  95  96  97  98  99 100 101 102 103 104 105 106 107\n",
            " 108 109 110 111 112 113 114 115 116 117 118 119 120 121 122 123 124 125\n",
            " 252 253 254 255 256 257 258 259 260 261 262 263 264 265 266 267 268 269\n",
            " 270 271 272 273 274 275 276 277 278 279 280 281 282 283 284 285 286 287\n",
            " 288 289 290 291 292 293 294 295 296 297 298 299 300 301 302 303 304 305\n",
            " 306 307 308 309 310 311 312 313 314 315 316 317 318 319 320 321 322 323\n",
            " 324 325 326 327 328 329 330 331 332 333 334 335 336 337 338 339 340 341\n",
            " 342 343 344 345 346 347 348 349 350 351 352 353 354 355 356 357 358 359\n",
            " 360 361 362 363 364 365 366 367 368 369 370 371 372 373 374 375 376 377\n",
            " 378 379 380 381 382 383 384 385 386 387 388 389 390 391 392 393 394 395\n",
            " 396 397 398 399 400 401 402 403 404 405 406 407 408 409 410 411 412 413\n",
            " 414 415 416 417 418 419 420 421 422 423 424 425 426 427 428 429 430 431\n",
            " 432 433 434 435 436 437 438 439 440 441 442 443 444 445 446 447 448 449\n",
            " 450 451 452 453 454 455 456 457 458 459 460 461 462 463 464 465 466 467\n",
            " 468 469 470 471 472 473 474 475 476 477 478 479 480 481 482 483 484 485\n",
            " 486 487 488 489 490 491 492 493 494 495 496 497 498 499 500 501 502 503\n",
            " 504 505 506 507 508 509 510 511 512 513 514 515 516 517 518 519 520 521\n",
            " 522 523 524 525 526 527 528 529 530 531 532 533 534 535 536 537 538 539\n",
            " 540 541 542 543 544 545 546 547 548 549 550 551 552 553 554 555 556 557\n",
            " 558 559 560 561 562 563 564 565 566 567 568 569 570 571 572 573 574 575\n",
            " 576 577 578 579 580 581 582 583 584 585 586 587 588 589 590 591 592 593\n",
            " 594 595 596 597 598 599 600 601 602 603 604 605 606 607 608 609 610 611\n",
            " 612 613 614 615 616 617 618 619 620 621 622 623 624 625 626] \n",
            "ini X Test: [126 127 128 129 130 131 132 133 134 135 136 137 138 139 140 141 142 143\n",
            " 144 145 146 147 148 149 150 151 152 153 154 155 156 157 158 159 160 161\n",
            " 162 163 164 165 166 167 168 169 170 171 172 173 174 175 176 177 178 179\n",
            " 180 181 182 183 184 185 186 187 188 189 190 191 192 193 194 195 196 197\n",
            " 198 199 200 201 202 203 204 205 206 207 208 209 210 211 212 213 214 215\n",
            " 216 217 218 219 220 221 222 223 224 225 226 227 228 229 230 231 232 233\n",
            " 234 235 236 237 238 239 240 241 242 243 244 245 246 247 248 249 250 251]\n",
            "\n",
            "Ini X Train: [  0   1   2   3   4   5   6   7   8   9  10  11  12  13  14  15  16  17\n",
            "  18  19  20  21  22  23  24  25  26  27  28  29  30  31  32  33  34  35\n",
            "  36  37  38  39  40  41  42  43  44  45  46  47  48  49  50  51  52  53\n",
            "  54  55  56  57  58  59  60  61  62  63  64  65  66  67  68  69  70  71\n",
            "  72  73  74  75  76  77  78  79  80  81  82  83  84  85  86  87  88  89\n",
            "  90  91  92  93  94  95  96  97  98  99 100 101 102 103 104 105 106 107\n",
            " 108 109 110 111 112 113 114 115 116 117 118 119 120 121 122 123 124 125\n",
            " 126 127 128 129 130 131 132 133 134 135 136 137 138 139 140 141 142 143\n",
            " 144 145 146 147 148 149 150 151 152 153 154 155 156 157 158 159 160 161\n",
            " 162 163 164 165 166 167 168 169 170 171 172 173 174 175 176 177 178 179\n",
            " 180 181 182 183 184 185 186 187 188 189 190 191 192 193 194 195 196 197\n",
            " 198 199 200 201 202 203 204 205 206 207 208 209 210 211 212 213 214 215\n",
            " 216 217 218 219 220 221 222 223 224 225 226 227 228 229 230 231 232 233\n",
            " 234 235 236 237 238 239 240 241 242 243 244 245 246 247 248 249 250 251\n",
            " 377 378 379 380 381 382 383 384 385 386 387 388 389 390 391 392 393 394\n",
            " 395 396 397 398 399 400 401 402 403 404 405 406 407 408 409 410 411 412\n",
            " 413 414 415 416 417 418 419 420 421 422 423 424 425 426 427 428 429 430\n",
            " 431 432 433 434 435 436 437 438 439 440 441 442 443 444 445 446 447 448\n",
            " 449 450 451 452 453 454 455 456 457 458 459 460 461 462 463 464 465 466\n",
            " 467 468 469 470 471 472 473 474 475 476 477 478 479 480 481 482 483 484\n",
            " 485 486 487 488 489 490 491 492 493 494 495 496 497 498 499 500 501 502\n",
            " 503 504 505 506 507 508 509 510 511 512 513 514 515 516 517 518 519 520\n",
            " 521 522 523 524 525 526 527 528 529 530 531 532 533 534 535 536 537 538\n",
            " 539 540 541 542 543 544 545 546 547 548 549 550 551 552 553 554 555 556\n",
            " 557 558 559 560 561 562 563 564 565 566 567 568 569 570 571 572 573 574\n",
            " 575 576 577 578 579 580 581 582 583 584 585 586 587 588 589 590 591 592\n",
            " 593 594 595 596 597 598 599 600 601 602 603 604 605 606 607 608 609 610\n",
            " 611 612 613 614 615 616 617 618 619 620 621 622 623 624 625 626] \n",
            "ini X Test: [252 253 254 255 256 257 258 259 260 261 262 263 264 265 266 267 268 269\n",
            " 270 271 272 273 274 275 276 277 278 279 280 281 282 283 284 285 286 287\n",
            " 288 289 290 291 292 293 294 295 296 297 298 299 300 301 302 303 304 305\n",
            " 306 307 308 309 310 311 312 313 314 315 316 317 318 319 320 321 322 323\n",
            " 324 325 326 327 328 329 330 331 332 333 334 335 336 337 338 339 340 341\n",
            " 342 343 344 345 346 347 348 349 350 351 352 353 354 355 356 357 358 359\n",
            " 360 361 362 363 364 365 366 367 368 369 370 371 372 373 374 375 376]\n",
            "\n",
            "Ini X Train: [  0   1   2   3   4   5   6   7   8   9  10  11  12  13  14  15  16  17\n",
            "  18  19  20  21  22  23  24  25  26  27  28  29  30  31  32  33  34  35\n",
            "  36  37  38  39  40  41  42  43  44  45  46  47  48  49  50  51  52  53\n",
            "  54  55  56  57  58  59  60  61  62  63  64  65  66  67  68  69  70  71\n",
            "  72  73  74  75  76  77  78  79  80  81  82  83  84  85  86  87  88  89\n",
            "  90  91  92  93  94  95  96  97  98  99 100 101 102 103 104 105 106 107\n",
            " 108 109 110 111 112 113 114 115 116 117 118 119 120 121 122 123 124 125\n",
            " 126 127 128 129 130 131 132 133 134 135 136 137 138 139 140 141 142 143\n",
            " 144 145 146 147 148 149 150 151 152 153 154 155 156 157 158 159 160 161\n",
            " 162 163 164 165 166 167 168 169 170 171 172 173 174 175 176 177 178 179\n",
            " 180 181 182 183 184 185 186 187 188 189 190 191 192 193 194 195 196 197\n",
            " 198 199 200 201 202 203 204 205 206 207 208 209 210 211 212 213 214 215\n",
            " 216 217 218 219 220 221 222 223 224 225 226 227 228 229 230 231 232 233\n",
            " 234 235 236 237 238 239 240 241 242 243 244 245 246 247 248 249 250 251\n",
            " 252 253 254 255 256 257 258 259 260 261 262 263 264 265 266 267 268 269\n",
            " 270 271 272 273 274 275 276 277 278 279 280 281 282 283 284 285 286 287\n",
            " 288 289 290 291 292 293 294 295 296 297 298 299 300 301 302 303 304 305\n",
            " 306 307 308 309 310 311 312 313 314 315 316 317 318 319 320 321 322 323\n",
            " 324 325 326 327 328 329 330 331 332 333 334 335 336 337 338 339 340 341\n",
            " 342 343 344 345 346 347 348 349 350 351 352 353 354 355 356 357 358 359\n",
            " 360 361 362 363 364 365 366 367 368 369 370 371 372 373 374 375 376 502\n",
            " 503 504 505 506 507 508 509 510 511 512 513 514 515 516 517 518 519 520\n",
            " 521 522 523 524 525 526 527 528 529 530 531 532 533 534 535 536 537 538\n",
            " 539 540 541 542 543 544 545 546 547 548 549 550 551 552 553 554 555 556\n",
            " 557 558 559 560 561 562 563 564 565 566 567 568 569 570 571 572 573 574\n",
            " 575 576 577 578 579 580 581 582 583 584 585 586 587 588 589 590 591 592\n",
            " 593 594 595 596 597 598 599 600 601 602 603 604 605 606 607 608 609 610\n",
            " 611 612 613 614 615 616 617 618 619 620 621 622 623 624 625 626] \n",
            "ini X Test: [377 378 379 380 381 382 383 384 385 386 387 388 389 390 391 392 393 394\n",
            " 395 396 397 398 399 400 401 402 403 404 405 406 407 408 409 410 411 412\n",
            " 413 414 415 416 417 418 419 420 421 422 423 424 425 426 427 428 429 430\n",
            " 431 432 433 434 435 436 437 438 439 440 441 442 443 444 445 446 447 448\n",
            " 449 450 451 452 453 454 455 456 457 458 459 460 461 462 463 464 465 466\n",
            " 467 468 469 470 471 472 473 474 475 476 477 478 479 480 481 482 483 484\n",
            " 485 486 487 488 489 490 491 492 493 494 495 496 497 498 499 500 501]\n",
            "\n",
            "Ini X Train: [  0   1   2   3   4   5   6   7   8   9  10  11  12  13  14  15  16  17\n",
            "  18  19  20  21  22  23  24  25  26  27  28  29  30  31  32  33  34  35\n",
            "  36  37  38  39  40  41  42  43  44  45  46  47  48  49  50  51  52  53\n",
            "  54  55  56  57  58  59  60  61  62  63  64  65  66  67  68  69  70  71\n",
            "  72  73  74  75  76  77  78  79  80  81  82  83  84  85  86  87  88  89\n",
            "  90  91  92  93  94  95  96  97  98  99 100 101 102 103 104 105 106 107\n",
            " 108 109 110 111 112 113 114 115 116 117 118 119 120 121 122 123 124 125\n",
            " 126 127 128 129 130 131 132 133 134 135 136 137 138 139 140 141 142 143\n",
            " 144 145 146 147 148 149 150 151 152 153 154 155 156 157 158 159 160 161\n",
            " 162 163 164 165 166 167 168 169 170 171 172 173 174 175 176 177 178 179\n",
            " 180 181 182 183 184 185 186 187 188 189 190 191 192 193 194 195 196 197\n",
            " 198 199 200 201 202 203 204 205 206 207 208 209 210 211 212 213 214 215\n",
            " 216 217 218 219 220 221 222 223 224 225 226 227 228 229 230 231 232 233\n",
            " 234 235 236 237 238 239 240 241 242 243 244 245 246 247 248 249 250 251\n",
            " 252 253 254 255 256 257 258 259 260 261 262 263 264 265 266 267 268 269\n",
            " 270 271 272 273 274 275 276 277 278 279 280 281 282 283 284 285 286 287\n",
            " 288 289 290 291 292 293 294 295 296 297 298 299 300 301 302 303 304 305\n",
            " 306 307 308 309 310 311 312 313 314 315 316 317 318 319 320 321 322 323\n",
            " 324 325 326 327 328 329 330 331 332 333 334 335 336 337 338 339 340 341\n",
            " 342 343 344 345 346 347 348 349 350 351 352 353 354 355 356 357 358 359\n",
            " 360 361 362 363 364 365 366 367 368 369 370 371 372 373 374 375 376 377\n",
            " 378 379 380 381 382 383 384 385 386 387 388 389 390 391 392 393 394 395\n",
            " 396 397 398 399 400 401 402 403 404 405 406 407 408 409 410 411 412 413\n",
            " 414 415 416 417 418 419 420 421 422 423 424 425 426 427 428 429 430 431\n",
            " 432 433 434 435 436 437 438 439 440 441 442 443 444 445 446 447 448 449\n",
            " 450 451 452 453 454 455 456 457 458 459 460 461 462 463 464 465 466 467\n",
            " 468 469 470 471 472 473 474 475 476 477 478 479 480 481 482 483 484 485\n",
            " 486 487 488 489 490 491 492 493 494 495 496 497 498 499 500 501] \n",
            "ini X Test: [502 503 504 505 506 507 508 509 510 511 512 513 514 515 516 517 518 519\n",
            " 520 521 522 523 524 525 526 527 528 529 530 531 532 533 534 535 536 537\n",
            " 538 539 540 541 542 543 544 545 546 547 548 549 550 551 552 553 554 555\n",
            " 556 557 558 559 560 561 562 563 564 565 566 567 568 569 570 571 572 573\n",
            " 574 575 576 577 578 579 580 581 582 583 584 585 586 587 588 589 590 591\n",
            " 592 593 594 595 596 597 598 599 600 601 602 603 604 605 606 607 608 609\n",
            " 610 611 612 613 614 615 616 617 618 619 620 621 622 623 624 625 626]\n",
            "\n",
            "ini Y Train: [126 127 128 129 130 131 132 133 134 135 136 137 138 139 140 141 142 143\n",
            " 144 145 146 147 148 149 150 151 152 153 154 155 156 157 158 159 160 161\n",
            " 162 163 164 165 166 167 168 169 170 171 172 173 174 175 176 177 178 179\n",
            " 180 181 182 183 184 185 186 187 188 189 190 191 192 193 194 195 196 197\n",
            " 198 199 200 201 202 203 204 205 206 207 208 209 210 211 212 213 214 215\n",
            " 216 217 218 219 220 221 222 223 224 225 226 227 228 229 230 231 232 233\n",
            " 234 235 236 237 238 239 240 241 242 243 244 245 246 247 248 249 250 251\n",
            " 252 253 254 255 256 257 258 259 260 261 262 263 264 265 266 267 268 269\n",
            " 270 271 272 273 274 275 276 277 278 279 280 281 282 283 284 285 286 287\n",
            " 288 289 290 291 292 293 294 295 296 297 298 299 300 301 302 303 304 305\n",
            " 306 307 308 309 310 311 312 313 314 315 316 317 318 319 320 321 322 323\n",
            " 324 325 326 327 328 329 330 331 332 333 334 335 336 337 338 339 340 341\n",
            " 342 343 344 345 346 347 348 349 350 351 352 353 354 355 356 357 358 359\n",
            " 360 361 362 363 364 365 366 367 368 369 370 371 372 373 374 375 376 377\n",
            " 378 379 380 381 382 383 384 385 386 387 388 389 390 391 392 393 394 395\n",
            " 396 397 398 399 400 401 402 403 404 405 406 407 408 409 410 411 412 413\n",
            " 414 415 416 417 418 419 420 421 422 423 424 425 426 427 428 429 430 431\n",
            " 432 433 434 435 436 437 438 439 440 441 442 443 444 445 446 447 448 449\n",
            " 450 451 452 453 454 455 456 457 458 459 460 461 462 463 464 465 466 467\n",
            " 468 469 470 471 472 473 474 475 476 477 478 479 480 481 482 483 484 485\n",
            " 486 487 488 489 490 491 492 493 494 495 496 497 498 499 500 501 502 503\n",
            " 504 505 506 507 508 509 510 511 512 513 514 515 516 517 518 519 520 521\n",
            " 522 523 524 525 526 527 528 529 530 531 532 533 534 535 536 537 538 539\n",
            " 540 541 542 543 544 545 546 547 548 549 550 551 552 553 554 555 556 557\n",
            " 558 559 560 561 562 563 564 565 566 567 568 569 570 571 572 573 574 575\n",
            " 576 577 578 579 580 581 582 583 584 585 586 587 588 589 590 591 592 593\n",
            " 594 595 596 597 598 599 600 601 602 603 604 605 606 607 608 609 610 611\n",
            " 612 613 614 615 616 617 618 619 620 621 622 623 624 625 626] \n",
            "ini Y Test: [  0   1   2   3   4   5   6   7   8   9  10  11  12  13  14  15  16  17\n",
            "  18  19  20  21  22  23  24  25  26  27  28  29  30  31  32  33  34  35\n",
            "  36  37  38  39  40  41  42  43  44  45  46  47  48  49  50  51  52  53\n",
            "  54  55  56  57  58  59  60  61  62  63  64  65  66  67  68  69  70  71\n",
            "  72  73  74  75  76  77  78  79  80  81  82  83  84  85  86  87  88  89\n",
            "  90  91  92  93  94  95  96  97  98  99 100 101 102 103 104 105 106 107\n",
            " 108 109 110 111 112 113 114 115 116 117 118 119 120 121 122 123 124 125]\n",
            "\n",
            "ini Y Train: [  0   1   2   3   4   5   6   7   8   9  10  11  12  13  14  15  16  17\n",
            "  18  19  20  21  22  23  24  25  26  27  28  29  30  31  32  33  34  35\n",
            "  36  37  38  39  40  41  42  43  44  45  46  47  48  49  50  51  52  53\n",
            "  54  55  56  57  58  59  60  61  62  63  64  65  66  67  68  69  70  71\n",
            "  72  73  74  75  76  77  78  79  80  81  82  83  84  85  86  87  88  89\n",
            "  90  91  92  93  94  95  96  97  98  99 100 101 102 103 104 105 106 107\n",
            " 108 109 110 111 112 113 114 115 116 117 118 119 120 121 122 123 124 125\n",
            " 252 253 254 255 256 257 258 259 260 261 262 263 264 265 266 267 268 269\n",
            " 270 271 272 273 274 275 276 277 278 279 280 281 282 283 284 285 286 287\n",
            " 288 289 290 291 292 293 294 295 296 297 298 299 300 301 302 303 304 305\n",
            " 306 307 308 309 310 311 312 313 314 315 316 317 318 319 320 321 322 323\n",
            " 324 325 326 327 328 329 330 331 332 333 334 335 336 337 338 339 340 341\n",
            " 342 343 344 345 346 347 348 349 350 351 352 353 354 355 356 357 358 359\n",
            " 360 361 362 363 364 365 366 367 368 369 370 371 372 373 374 375 376 377\n",
            " 378 379 380 381 382 383 384 385 386 387 388 389 390 391 392 393 394 395\n",
            " 396 397 398 399 400 401 402 403 404 405 406 407 408 409 410 411 412 413\n",
            " 414 415 416 417 418 419 420 421 422 423 424 425 426 427 428 429 430 431\n",
            " 432 433 434 435 436 437 438 439 440 441 442 443 444 445 446 447 448 449\n",
            " 450 451 452 453 454 455 456 457 458 459 460 461 462 463 464 465 466 467\n",
            " 468 469 470 471 472 473 474 475 476 477 478 479 480 481 482 483 484 485\n",
            " 486 487 488 489 490 491 492 493 494 495 496 497 498 499 500 501 502 503\n",
            " 504 505 506 507 508 509 510 511 512 513 514 515 516 517 518 519 520 521\n",
            " 522 523 524 525 526 527 528 529 530 531 532 533 534 535 536 537 538 539\n",
            " 540 541 542 543 544 545 546 547 548 549 550 551 552 553 554 555 556 557\n",
            " 558 559 560 561 562 563 564 565 566 567 568 569 570 571 572 573 574 575\n",
            " 576 577 578 579 580 581 582 583 584 585 586 587 588 589 590 591 592 593\n",
            " 594 595 596 597 598 599 600 601 602 603 604 605 606 607 608 609 610 611\n",
            " 612 613 614 615 616 617 618 619 620 621 622 623 624 625 626] \n",
            "ini Y Test: [126 127 128 129 130 131 132 133 134 135 136 137 138 139 140 141 142 143\n",
            " 144 145 146 147 148 149 150 151 152 153 154 155 156 157 158 159 160 161\n",
            " 162 163 164 165 166 167 168 169 170 171 172 173 174 175 176 177 178 179\n",
            " 180 181 182 183 184 185 186 187 188 189 190 191 192 193 194 195 196 197\n",
            " 198 199 200 201 202 203 204 205 206 207 208 209 210 211 212 213 214 215\n",
            " 216 217 218 219 220 221 222 223 224 225 226 227 228 229 230 231 232 233\n",
            " 234 235 236 237 238 239 240 241 242 243 244 245 246 247 248 249 250 251]\n",
            "\n",
            "ini Y Train: [  0   1   2   3   4   5   6   7   8   9  10  11  12  13  14  15  16  17\n",
            "  18  19  20  21  22  23  24  25  26  27  28  29  30  31  32  33  34  35\n",
            "  36  37  38  39  40  41  42  43  44  45  46  47  48  49  50  51  52  53\n",
            "  54  55  56  57  58  59  60  61  62  63  64  65  66  67  68  69  70  71\n",
            "  72  73  74  75  76  77  78  79  80  81  82  83  84  85  86  87  88  89\n",
            "  90  91  92  93  94  95  96  97  98  99 100 101 102 103 104 105 106 107\n",
            " 108 109 110 111 112 113 114 115 116 117 118 119 120 121 122 123 124 125\n",
            " 126 127 128 129 130 131 132 133 134 135 136 137 138 139 140 141 142 143\n",
            " 144 145 146 147 148 149 150 151 152 153 154 155 156 157 158 159 160 161\n",
            " 162 163 164 165 166 167 168 169 170 171 172 173 174 175 176 177 178 179\n",
            " 180 181 182 183 184 185 186 187 188 189 190 191 192 193 194 195 196 197\n",
            " 198 199 200 201 202 203 204 205 206 207 208 209 210 211 212 213 214 215\n",
            " 216 217 218 219 220 221 222 223 224 225 226 227 228 229 230 231 232 233\n",
            " 234 235 236 237 238 239 240 241 242 243 244 245 246 247 248 249 250 251\n",
            " 377 378 379 380 381 382 383 384 385 386 387 388 389 390 391 392 393 394\n",
            " 395 396 397 398 399 400 401 402 403 404 405 406 407 408 409 410 411 412\n",
            " 413 414 415 416 417 418 419 420 421 422 423 424 425 426 427 428 429 430\n",
            " 431 432 433 434 435 436 437 438 439 440 441 442 443 444 445 446 447 448\n",
            " 449 450 451 452 453 454 455 456 457 458 459 460 461 462 463 464 465 466\n",
            " 467 468 469 470 471 472 473 474 475 476 477 478 479 480 481 482 483 484\n",
            " 485 486 487 488 489 490 491 492 493 494 495 496 497 498 499 500 501 502\n",
            " 503 504 505 506 507 508 509 510 511 512 513 514 515 516 517 518 519 520\n",
            " 521 522 523 524 525 526 527 528 529 530 531 532 533 534 535 536 537 538\n",
            " 539 540 541 542 543 544 545 546 547 548 549 550 551 552 553 554 555 556\n",
            " 557 558 559 560 561 562 563 564 565 566 567 568 569 570 571 572 573 574\n",
            " 575 576 577 578 579 580 581 582 583 584 585 586 587 588 589 590 591 592\n",
            " 593 594 595 596 597 598 599 600 601 602 603 604 605 606 607 608 609 610\n",
            " 611 612 613 614 615 616 617 618 619 620 621 622 623 624 625 626] \n",
            "ini Y Test: [252 253 254 255 256 257 258 259 260 261 262 263 264 265 266 267 268 269\n",
            " 270 271 272 273 274 275 276 277 278 279 280 281 282 283 284 285 286 287\n",
            " 288 289 290 291 292 293 294 295 296 297 298 299 300 301 302 303 304 305\n",
            " 306 307 308 309 310 311 312 313 314 315 316 317 318 319 320 321 322 323\n",
            " 324 325 326 327 328 329 330 331 332 333 334 335 336 337 338 339 340 341\n",
            " 342 343 344 345 346 347 348 349 350 351 352 353 354 355 356 357 358 359\n",
            " 360 361 362 363 364 365 366 367 368 369 370 371 372 373 374 375 376]\n",
            "\n",
            "ini Y Train: [  0   1   2   3   4   5   6   7   8   9  10  11  12  13  14  15  16  17\n",
            "  18  19  20  21  22  23  24  25  26  27  28  29  30  31  32  33  34  35\n",
            "  36  37  38  39  40  41  42  43  44  45  46  47  48  49  50  51  52  53\n",
            "  54  55  56  57  58  59  60  61  62  63  64  65  66  67  68  69  70  71\n",
            "  72  73  74  75  76  77  78  79  80  81  82  83  84  85  86  87  88  89\n",
            "  90  91  92  93  94  95  96  97  98  99 100 101 102 103 104 105 106 107\n",
            " 108 109 110 111 112 113 114 115 116 117 118 119 120 121 122 123 124 125\n",
            " 126 127 128 129 130 131 132 133 134 135 136 137 138 139 140 141 142 143\n",
            " 144 145 146 147 148 149 150 151 152 153 154 155 156 157 158 159 160 161\n",
            " 162 163 164 165 166 167 168 169 170 171 172 173 174 175 176 177 178 179\n",
            " 180 181 182 183 184 185 186 187 188 189 190 191 192 193 194 195 196 197\n",
            " 198 199 200 201 202 203 204 205 206 207 208 209 210 211 212 213 214 215\n",
            " 216 217 218 219 220 221 222 223 224 225 226 227 228 229 230 231 232 233\n",
            " 234 235 236 237 238 239 240 241 242 243 244 245 246 247 248 249 250 251\n",
            " 252 253 254 255 256 257 258 259 260 261 262 263 264 265 266 267 268 269\n",
            " 270 271 272 273 274 275 276 277 278 279 280 281 282 283 284 285 286 287\n",
            " 288 289 290 291 292 293 294 295 296 297 298 299 300 301 302 303 304 305\n",
            " 306 307 308 309 310 311 312 313 314 315 316 317 318 319 320 321 322 323\n",
            " 324 325 326 327 328 329 330 331 332 333 334 335 336 337 338 339 340 341\n",
            " 342 343 344 345 346 347 348 349 350 351 352 353 354 355 356 357 358 359\n",
            " 360 361 362 363 364 365 366 367 368 369 370 371 372 373 374 375 376 502\n",
            " 503 504 505 506 507 508 509 510 511 512 513 514 515 516 517 518 519 520\n",
            " 521 522 523 524 525 526 527 528 529 530 531 532 533 534 535 536 537 538\n",
            " 539 540 541 542 543 544 545 546 547 548 549 550 551 552 553 554 555 556\n",
            " 557 558 559 560 561 562 563 564 565 566 567 568 569 570 571 572 573 574\n",
            " 575 576 577 578 579 580 581 582 583 584 585 586 587 588 589 590 591 592\n",
            " 593 594 595 596 597 598 599 600 601 602 603 604 605 606 607 608 609 610\n",
            " 611 612 613 614 615 616 617 618 619 620 621 622 623 624 625 626] \n",
            "ini Y Test: [377 378 379 380 381 382 383 384 385 386 387 388 389 390 391 392 393 394\n",
            " 395 396 397 398 399 400 401 402 403 404 405 406 407 408 409 410 411 412\n",
            " 413 414 415 416 417 418 419 420 421 422 423 424 425 426 427 428 429 430\n",
            " 431 432 433 434 435 436 437 438 439 440 441 442 443 444 445 446 447 448\n",
            " 449 450 451 452 453 454 455 456 457 458 459 460 461 462 463 464 465 466\n",
            " 467 468 469 470 471 472 473 474 475 476 477 478 479 480 481 482 483 484\n",
            " 485 486 487 488 489 490 491 492 493 494 495 496 497 498 499 500 501]\n",
            "\n",
            "ini Y Train: [  0   1   2   3   4   5   6   7   8   9  10  11  12  13  14  15  16  17\n",
            "  18  19  20  21  22  23  24  25  26  27  28  29  30  31  32  33  34  35\n",
            "  36  37  38  39  40  41  42  43  44  45  46  47  48  49  50  51  52  53\n",
            "  54  55  56  57  58  59  60  61  62  63  64  65  66  67  68  69  70  71\n",
            "  72  73  74  75  76  77  78  79  80  81  82  83  84  85  86  87  88  89\n",
            "  90  91  92  93  94  95  96  97  98  99 100 101 102 103 104 105 106 107\n",
            " 108 109 110 111 112 113 114 115 116 117 118 119 120 121 122 123 124 125\n",
            " 126 127 128 129 130 131 132 133 134 135 136 137 138 139 140 141 142 143\n",
            " 144 145 146 147 148 149 150 151 152 153 154 155 156 157 158 159 160 161\n",
            " 162 163 164 165 166 167 168 169 170 171 172 173 174 175 176 177 178 179\n",
            " 180 181 182 183 184 185 186 187 188 189 190 191 192 193 194 195 196 197\n",
            " 198 199 200 201 202 203 204 205 206 207 208 209 210 211 212 213 214 215\n",
            " 216 217 218 219 220 221 222 223 224 225 226 227 228 229 230 231 232 233\n",
            " 234 235 236 237 238 239 240 241 242 243 244 245 246 247 248 249 250 251\n",
            " 252 253 254 255 256 257 258 259 260 261 262 263 264 265 266 267 268 269\n",
            " 270 271 272 273 274 275 276 277 278 279 280 281 282 283 284 285 286 287\n",
            " 288 289 290 291 292 293 294 295 296 297 298 299 300 301 302 303 304 305\n",
            " 306 307 308 309 310 311 312 313 314 315 316 317 318 319 320 321 322 323\n",
            " 324 325 326 327 328 329 330 331 332 333 334 335 336 337 338 339 340 341\n",
            " 342 343 344 345 346 347 348 349 350 351 352 353 354 355 356 357 358 359\n",
            " 360 361 362 363 364 365 366 367 368 369 370 371 372 373 374 375 376 377\n",
            " 378 379 380 381 382 383 384 385 386 387 388 389 390 391 392 393 394 395\n",
            " 396 397 398 399 400 401 402 403 404 405 406 407 408 409 410 411 412 413\n",
            " 414 415 416 417 418 419 420 421 422 423 424 425 426 427 428 429 430 431\n",
            " 432 433 434 435 436 437 438 439 440 441 442 443 444 445 446 447 448 449\n",
            " 450 451 452 453 454 455 456 457 458 459 460 461 462 463 464 465 466 467\n",
            " 468 469 470 471 472 473 474 475 476 477 478 479 480 481 482 483 484 485\n",
            " 486 487 488 489 490 491 492 493 494 495 496 497 498 499 500 501] \n",
            "ini Y Test: [502 503 504 505 506 507 508 509 510 511 512 513 514 515 516 517 518 519\n",
            " 520 521 522 523 524 525 526 527 528 529 530 531 532 533 534 535 536 537\n",
            " 538 539 540 541 542 543 544 545 546 547 548 549 550 551 552 553 554 555\n",
            " 556 557 558 559 560 561 562 563 564 565 566 567 568 569 570 571 572 573\n",
            " 574 575 576 577 578 579 580 581 582 583 584 585 586 587 588 589 590 591\n",
            " 592 593 594 595 596 597 598 599 600 601 602 603 604 605 606 607 608 609\n",
            " 610 611 612 613 614 615 616 617 618 619 620 621 622 623 624 625 626]\n",
            "\n"
          ]
        }
      ]
    },
    {
      "cell_type": "markdown",
      "source": [
        "# **TF-IDF LIBRARY SKLEARN**"
      ],
      "metadata": {
        "id": "MHvGNeffziMA"
      }
    },
    {
      "cell_type": "code",
      "source": [
        "#library yang dapat membantu untuk melakukan pembelajaran mesin -> k-means, Tf-IDF\n",
        "!pip install scikit-learn"
      ],
      "metadata": {
        "colab": {
          "base_uri": "https://localhost:8080/"
        },
        "id": "l3YbiHnNr_Nf",
        "outputId": "a69191e4-8daa-4426-88e9-640d49c7d3a2"
      },
      "execution_count": null,
      "outputs": [
        {
          "output_type": "stream",
          "name": "stdout",
          "text": [
            "Requirement already satisfied: scikit-learn in /usr/local/lib/python3.10/dist-packages (1.2.2)\n",
            "Requirement already satisfied: numpy>=1.17.3 in /usr/local/lib/python3.10/dist-packages (from scikit-learn) (1.22.4)\n",
            "Requirement already satisfied: scipy>=1.3.2 in /usr/local/lib/python3.10/dist-packages (from scikit-learn) (1.10.1)\n",
            "Requirement already satisfied: joblib>=1.1.1 in /usr/local/lib/python3.10/dist-packages (from scikit-learn) (1.3.1)\n",
            "Requirement already satisfied: threadpoolctl>=2.0.0 in /usr/local/lib/python3.10/dist-packages (from scikit-learn) (3.1.0)\n"
          ]
        }
      ]
    },
    {
      "cell_type": "code",
      "source": [
        "#hasil data akan dilakukan perubahan bentuk list untuk melakukan tf-idf agar dapat menghitung frekuensi kata pada satu dokumen\n",
        "data_final = []\n",
        "for sublist in Ulasan_stem:\n",
        "  data_final.append(\" \".join(sublist))\n",
        "print(data_final)"
      ],
      "metadata": {
        "colab": {
          "base_uri": "https://localhost:8080/"
        },
        "id": "RfaxrPeeHoAg",
        "outputId": "f1f5c188-58a7-412b-f54b-5915428a8dec"
      },
      "execution_count": null,
      "outputs": [
        {
          "output_type": "stream",
          "name": "stdout",
          "text": [
            "['tempat nyaman parkir luas kadang kamar mandi kotor', 'bagus bersih kamar mandi kotor tugas periksa jam jam jaga bersih air', 'kolam anak panas kayak beri hias dingin lindung panas untuk anak', 'kamar mandi bersih', 'suka renang sabtu ini doa hujan tidak', 'kesini sesal masuk banyak atur antar pakai sepatu istri damping anak renang pakai kaos kaki', 'rekomendasi fitnes', 'atur', 'renang lokernya pakai kartu ajar tidak bisa pakai loger adik saya bom dapat dapat loker uang adik saya hilang aduh kecewa', 'minggu ramai bos', 'mahal', 'senin buka jam kerja libur senin ingin renang ingin kejar kartika eka paksi', 'harga', 'tempat nyaman bersih pegawai ramah air kamar ganti bersih rapi parkir luas nyaman', 'kolam renang bagus hari kolam hijau kolam anak dewasa kamar mandi bersih minggu harga tiket', 'lumayan perhati fasilitas mandi pria engsel pintu ganjal pintu rusak', 'tempat luas tiket libur', 'kolam renang bagus bersih pakai bebas pakai pakai renang kolam anak dewasa kamar mandi bersih minggu harga tiket', 'kolam bagus jajan', 'lengkap profesional', 'panas pohon tempat kunjung sedikit keramik pinggir kolam renang licin lebih hati anak inti rekomendasi keluarga', 'bagus anak oke harga tiket murah bersih tempat kecewa air kolam anak keruh kolam dewasa bersih', 'libur murah minggu ribu', 'kolam renang militer buka pandemi covid buka batas kunjung kawasan patuh protokol kualitas air kolam jaga tim sar ramah ruang bilas modern bersih kantin musala parkir luas aman', 'kecewa minggu pagi istri anak niat rekreasi kolam renang brawijaya beli tiket masuk anak renang kolam renang habis beli tiket harga', 'bersih nyaman', 'salah kolam renang turut enak surabaya kolam minggu buka jam jam tunggu kolam buka minggu kena tiket masuk orang', 'temapat nyaman aman', 'tempatny luas kunjung main tambah baik ramai kunjung', 'luas nyaman bersih kecewa anak di bawah tahun sruh bayar padahal wisata anak tahun gratis masuk karcis kepala', 'aman anak bersih awas', 'kolam renang tepi jalan mudah akses kompleks rumah kodam ramai kunjung warga hari libur', 'butuh jasa latih renang silah hubung tlp wa', 'nyaman murah riah saran hari libur penuh kemarin mandi susah libur', 'air bersih hati hati ukur dalem teman', 'bagus kolam anak perosot slide kolam dewasa ukur standar internasional dalam meter air jernih harga tiket relatif murah kolam kota surabaya', 'kolam bersih rapi protokol sehat bagus kantin kamar ganti bersih sedia loker parkir luas bebas bawa makan saran mungkin anak les renang di sana laku harga member gitu', 'lumayan enak saran pinggir beri alas peleset anak peleset panas jalan arah kolam harus lepas alas kaki', 'anak anak kenal air tahap ajar renang sungguh lokasi mudah jangkau tiket masuk banding dapat', 'event tunggu', 'bersih main harga tiket jangkau', 'murah nyaman hemat libur kuluarga', 'mohon tambah duduk payung tenda meja bagi kunjung kualitas air kolam mata merah sakit kamar ganti mohon jaga bersih', 'fasilitas kamar mandi kamar ganti bagus air kolam pedih mata', 'kolam renang dewasa anak perosot kolam anak bilas bersih tata duduk sedia', 'kolam renang lengkap anak dalam meter hahaha kesana air keruh warna hijau kuras bagus teman tiket mahal', 'tempat bersih luas nyaman kolam kolam anak kolam dewasa kamar mandi ruang ganti lumayan bersih', 'latih renang bersih harga jangkau', 'tempat bersih cocok keluarga', 'tempa lumayan bersih ruang kamar mandi ganti rapi bersih area kantin bersih harga normal masuk tambah pohon asri tambah teduh siang sedikit panass bos', 'bersih ramai', 'bagus bersih masuk hanya tolong shower benar mati antre mandi', 'dalam lumayan air jernih kaporit', 'nyaman bersih suka', 'bersih makan kejut harga murah', 'kolam bersih ruang ganti bagus parkir aman', 'tiket masuk kolam senin dalam kolam meter kolam anak anak', 'dekat rumah nyaman anak renang', 'harga tiket murah libur ribu orang minggu antar anak les renang kolam bersih lantai pinggir kolam becek lantai kantin becek ruang bilas perempuan lantai becek salur air sumbat banjir', 'jaga hilang hilang', 'kolam renang murah singgah salah tiket masuk hari kerja libur anak anak balita saran damping batas kolam dewasa anak anak', 'tempat cocok anak', 'bagus kolam renang harga murah ruang ganti layak kamar mandi ukur dalam kolam bagus kolam latih militer rabu kamis pagi saran jam pagi', 'ngasi kaporit tolong ukur pedih mata', 'bau kaporit sengat', 'minggu pilih piknik keluarga maju toilet sudah moga depan tambah bangku atau macam istirahat teduh sukses', 'bagus air bersih di pinggir kolam air lindung sinar matahari', 'air bersih kolam anak dewasa tiket masuk jumat minggu', 'baca harga tiket kodam mahal', 'bagus tiket masuk hari kerja libur tanggal merah parkir motor mobil jaga sewa baju renang latih anak ajar di sana air bersih segar kamar ganti pria renovasi mandi cadang vip', 'kolam renang bagus lumayan rumah', 'tempat enak renang mula ekspert anak anak kolam meter ajar dalam meter', 'senang renang bersih', 'lingkung kolam renang kotor sampah kunjung bersih alat tunjang kolam anak keropos khawatir luka anak main', 'tiket jangkau nyaman', 'bagus tempat masih ruang tunggu', 'kaporit susah nyisir rambut', 'tempat bagus baik ganti baju mohon tambah tempat hari minggu unjung ganti tunggu', 'bagus hanya kecewa kamar madi belum di baik', 'panas siang kanopi', 'murah rakyat ribu libur konsekuensi jorok', 'enak kecewa ruang ganti pria baik', 'tempat lumayan kolam tipe akses parkir luas harga normal libur tempat mandi outdoor bos sedia ruang ganti untung sudah pisah kantin harga kali lipat air bau', 'ganti bagus kotor', 'rumah tempat juga senang', 'kolam renang anak', 'kolam renang luas jamin puas hobi renang duduk kunjung minimal', 'kolam bagus wahana anak kecewa gazebo tunggu anak renang', 'tempat nyaman bersih luas loker simpan barang bawa beri ktp bayar', 'awas hilang tenggelam bahaya', 'awat', 'kamar mandi ganti antre', 'gaada awas coba coba', 'kunjung pekan ramai siswa junior ambil kursus renang ruang ganti unisex ruang ganti benah', 'bagus murah kecewa keruh', 'harga segitu mahal masuk', 'bagus sudah lumayan renang libur ramai penuh', 'panas', 'tutup jam sore masih ingin renang di sore', 'sabtu libur penuh', 'murah cocok keluarga bersih', 'nyaman keluarga kolam renang bagus tugas siaga', 'kualitas air bersih duduk', 'mie enak pakai telur', 'kolam renang bagus bersih wahana anak bersih ruang ganti toilet butuh tingkat harga tiket masuk dewasa ribu kawasan kolam renang kantin sedia makan', 'nyaman harga ekonomis hanya kadang air kotor', 'air lumayan bersih harga jangkau', 'tempat enak ramai harga tiket masuk ramah kantong pasti', 'kamar mandi pintu rusak kotor lebih bagus bersih kamar mandi tolong tingkat', 'tutup', 'kotor kaporit kotor air', 'lumayan harga libur duduk tunggu batas', 'kolam renang dewasa sepi', 'sandal pakai area kolam renang makan area kolam aneh', 'rem', 'licin lantai', 'lumayan bagus rombong anak sekolah', 'kolam luas bersih nyaman', 'bersih awat fasilitas tingkat', 'tempat bagus panas jaga siram lantai panas kaki', 'rekomendasi rekreasi keluarga niat olahraga renang tempat bagus bersih air jernih tiket jangkau', 'senang panas kamar mandi jaga bersih', 'kolam renang nyaman latih sepi', 'lumayan nyenening anak', 'kesini jumat air jernih jadwal kuras kamis pagi', 'jaga senyum mahal sangat', 'kolam renang bersih wahana anak', 'kolam renang dewasa kaporit anak main cocok libur tiket sesuai fasilitas', 'rekreasi murah', 'puluh ribu sabtu minggu', 'tunggu nyaman', 'bersih', 'bagus bersih menyenangkn anak', 'kolam renang harga lumayan mahal kolam anak tahun atas bayar penuh harga makan sedia relatif sedia sewa karpet ban', 'kolam renang murah surabaya ramai libur', 'rabu tanggal juni libur raya masuk tiket', 'strategis bersih lengkap', 'bersih tempat enak dan harga jangkau', 'bersih air bersih kamar mandi lumayan hanya mata cepat perih', 'bagus tingkat fasilitas', 'was was barang bawa', 'kolam renang murah ramai pekan milik taman main air anak anak jual makan musala sewa baju renang jual toilet bersih parkir kendara luas', 'air perih', 'panas sangat', 'air dingin sayang atap', 'luas ajar renang bersih nyaman wilayah kompleks tentara brawijaya surabaya harga masuk murah renang puas sepi kunjung akan rumah', 'renang enak kolam bersih', 'olahraga kompleks brawijaya bagus manfaat masyarakat', 'kolam renang murah ruang ganti bagus kotor nyaman', 'kolam renang favorit karena dri rumah kolam renang bersih kamar mandi bersih kesan tepat renang bareng latih tentara dalam kolam tentara ramah usir kolam renang luas senang', 'air kolam bersih fasilitas parkir pada indah lagi', 'bagus bersih ramai kunjung parkir luas', 'kesan kali main bersih air kolam terus isi kamar mandi relatif awat banding kolam publik tarif', 'idam anak anak hanya benah fasilitas', 'kolam olahraga bersih awat harga jangkau', 'kolam belah lapang hitam kodam brawijaya', 'panas iya tempat teduh', 'renang harga jangkau kolam bersih', 'murah kamar mandi baik kecewa gazebonya minim kualitas air kotor bersih kolam jaga', 'tempat bersih murah sih masuk makan enak murah', 'harga murah kotor', 'cocok anak dewasa', 'renang murah nyaman bersih luas kantin juga rekomendasi tidak kantong bolong', 'bagus meter kotor perhati kamar ganti perhati pagi siang panas wkwk', 'kolam renang lumayan bersih kaporit pedih mata hanya kamar mandi perhati kolam renang anak anak', 'kolam renang lumayan bersih kaporit pedih mata hanya kamar mandi perhati kolam renang anak anak', 'lumayan bersih air kadang banyak kaporit', 'bersih kolam kamar mandi', 'parkir luas bagus renang', 'tempat bagus harga jangkau kecewa air mata gelap pakai kacamata tepat rendam', 'senang untuk olah raga main tiket golong murah bersih kecewa air kamar bilas warung parkir bagus', 'biaya kerja biaya pekan parkir luas', 'kolam renang daerah kodam brawijaya tiket', 'murah dar senang anak latih anak renang tiket libur tiket', 'baik duduk iya tunggu bawah duduk', 'enak teduh', 'kolam lebar lumayan renang', 'bagus luas kolam parkir luas mudah jangkau teduh panas kursi duduk', 'kolam renang nyaman lihat kolam anak dewasa latih renang kantin jangkau harga baik sangat rugi ngajak keluarga temen temen kesini', 'harga tiket murah kolam renang main anak kolam standar meter cocok mula ajar atlet renang sore aktifitas klub renang kini surabaya kantin stand', 'lumayan rumah kamar mandi bagus siang panas agk rasa beri tutup', 'tempat ramai fasilitas lumayan sempat dalam meter penuh sesak berani meter', 'anak suka renang', 'tempat lumayan luas lumayan renang anak anak', 'perosot kolam renang brawijaya tutup buka rabu', 'kurang air keruh batas latih tentara al renang sesuai lebih murah jenis dalam air renang trdapat kolam air renang anak', 'kolam luas ampun sangat kaporit lebih rendam mata perih merah kulit jdi cepat hitam', 'panas', 'tempat luas kaporit rambut sulit sisir', 'kolam', 'kolam renang brawijaya nyaman anak ajar renang', 'kolam renang bagus harga jangkau sedia level dalam main anak sedia toko jual makan lengkap renang', 'atlet klub renang kini latih', 'cocok renang anak keluarga', 'tmpatnya panas teduh', 'konsentrasi koprit', 'kolam renang letak tepat belah lapang kodam v brawijaya kolam kolam anak kolam dewasa tempat bersih sayang tunggu panas', 'renang nikmat lezat roti john', 'senang renang harga jangkau', 'buka sabtu minggu', 'tempatya bagus', 'nyaman bagus kolam renang luas wahana toilet kamar mandi kotor bekas tanah sandal', 'tangga kolam renang orang jatuh korban anak juga orang peleset', 'nyaman renang keluarga', 'kualitas air renang kulit perih panas gatal', 'murah cocok libur suka', 'kolam renang bagus nyaman luas cocok keluarga kolam renang anak luas lengkap main air bersih perih di mata harga jangkau letak di wilayah kodam brawijaya surabaya mudah nyarinya', 'ramai parkir panas', 'beri prusutanya hanya', 'bersih penuh aroma kaporit kamar mandi plus dapat ruang tunggal sayang genang sehingga sulit jaga suci', 'lokasi strategis karena sekitar kompleks markas marinir', 'senang rumah bantu proses', 'murah dalam meter dewasa', 'bersih senang renang teman keluarga', 'kolam renang bagus', 'bersih murah', 'tidak komentar sangat hahaha', 'air jernih proses air masuk saring saring masuk saring penuh saring', 'senyum indah ajak keluarga senang senang lewat kolam renang dekat rumah fasilitas kalah suka ajak keluarga kesini', 'kolam renang lengkap kolam renang khusus anak anak fasilitas perosot kecewa lengkap duduk kamar ganti bagus', 'kolam renang luas perosot anak anak', 'kolam renang bagus kotor air hijau', 'pagi orang pintu masuk murah bersih pop mie teh dingin air mineral dingin', 'dingin santai santai', 'hanya kolam renang harap', 'tempayt bagus harga', 'fasilitas fitnes', 'libur ramai', 'parkir gratis harga tiket weekdays', 'tiket murah an anak dewasa harga tiket kolam anak dewasa dewasa dalam hanya meter', 'harga benar sudah bagus hanya air keruh bau kaporit sengat sering ramai ingin renang cari sepi kolam', 'kolam renang luas dalam meter kolam renang anak dalam sewa ban pompa angin jual makan so kuatir lapar ruang ganti tepat kesana kecewa flow air', 'cocok renang suasana tenang ramai kerja loket masuk jangkau harga makan minum relatif murah', 'sempit kolam renang orang masuk bayar saat latih renang suruh minggir tidak hanya sampek orang latih di sana sudah gitu latih renang sampek grup', 'harga tiket murah hanya lumayan sepi cocok suka sepi', 'fasilitas jajan dalam worth it murah kelas warkop nungguin anak les renang suruh bayar', 'cari kolam renang kodam pilih dekat kolam renang hayam wuruk', 'kolam renang luas bagus anak dewasa kantin harga gratis parkir', 'tepat libur enak sepi kolam dewasa', 'kolam renang kota surabaya murah air jernih kolam luas kursus renang mula pandu latih profesional tiket masuk relatif jangkau', 'kolam lumayan latih tidak masalah klub renang kontak', 'sedia kolam renang anak dewasa bagus ajar renang banyak wahana main', 'keren betah murahhh ramai sama latih juga', 'kolam lumayan bersih dewasa anak anak', 'kolam hanya sabtu minggu ramai tenang', 'murah tepat kantong kecewa kolamya kotor awat are kolam bersih', 'wekend enak manja anak renang tambah jajan nafsu ronta ronta beli renang perut lapar', 'harga tiket kolam renang anak tambah perosot main meja gazebo rusak kamar mandi jadul bersih bersih pintu juga bnyak kunci air kolam kbersihannya kecewa jam istirahat buka jam', 'kotor air kotor kamar mandi samgat kotor', 'buka jam tiket libur salah', 'lokasi nyaman latih dalam kolam sesuai latih', 'kolam renang hayam wuruk kantin lengkap menu parkir ruang ganti toilet bersih loker bantu jaga', 'murah kolam dalam kolam variasi ukur kolam renang standar lomba renang kamar ganti sewa kacamata baju renang masuk langsung kantin', 'kolam renang hanya bersih standar main anak cocok cocok les renang tempat sepi ramai tiket hanya murah', 'lumayan bersih les renang murah masuk nyaman tempat', 'tempat ramai kolam bersih kolam kolam anak anak kolam remaja dalam meter', 'samping kolam renang latih tentara umun juga lagi ngetren jam now roti john lagi fenomenal mboook orang antre sembako', 'air jernih langsung dalam meter renang dalam hanya meter ajar renang', 'tempat nyaman bersih harga makan dapat jangkau', 'murah cocok ajar renang', 'nilai sejarah', 'favorit sikecil usia th', 'moga populer tingkat pelihara awat kolam renang', 'air keruh sirkulasi air sampah botol liar kolam renang', 'parkir tiket masuk kamar mandi bersih kolam renang buka jam', 'kali kesini kolam lumut kamar ganti mati air lapor pancing air', 'renang sabtu pagi suasana enak relatif sepi banding minggu pagi karcis renang', 'bagus kadang air bersih tepat bru bersih kadang kotor tiket', 'kadang kotor', 'ramai hari kerja puas renang', 'kolam renang bersih murah tiket libur sewa lokernya harga jamin ktp ruang ganti bilik mandi khawatir antre nilai plus', 'terima privat renang minimal usia tahun laki wanita dewasa anak anak orang tua', 'lumayan tiket masuk murah', 'dalam kolam renang meter kolam renang anak anak', 'senin jumat harga bersih kamar mandi bangun kolam anak bersih', 'lumayan mula kuliner enak luar kolam renang', 'kesini suami anak tiket orang kesana weekdays libur panas panas terik kanopi', 'kolam renang tempat jalan hayam wuruk sutos arah gunungsari', 'kolam cepat hijau lihat keruh', 'kolam renang kenal masyarakat bersih renang mula tahap ajar', 'area kolam renang mudah jangkau harga tiket murah kualitas air kolam sesuai harga hati mula kolam renang hayam wuruk sisi utara', 'nyaman buka renang puas banding kolam renang surabaya obat aman renang kacamata', 'latih renang lumayan pakai sandal panas', 'jernih air lumayan lah td ramai libur nyari tenang mending hari kerja fasilitas lumayan', 'kolam renang kolam renang kolam renang dewasa kolam renang anak buah perosot sj main air kolam', 'fasilitas baik', 'air kayak dahulu kaporit bersih normal kolam bersih tetep renang murah jangkau', 'les renang putra putri tepat tempatx', 'kolam bgus bersih tempat bertduh bawah pohon mangga ayun kecewa air pekat kandung kaporit harga makan golong mahal', 'tempat lumayan harga makan minum di sana standar area antar panas kl siang', 'air kolam dinding kolam lumut tebal kamar shower awat temu botol plastik dasar area kolam meter', 'bagus bagus tdi hanya jam renang', 'tepat dtg sore air kolam keruh daun apung kolam bersih kamar ganti juga lumut', 'kolam renang bersih duduk taruh barang bawa tiket masuk murah harga sabtu minggu', 'suka renang air bersih tepat bersih kolam renang ramai awas ekstra', 'kolam bersih lokasi bersih nyaman tenang kantin buka', 'kolam renang bagus bersih cocok anak main kolam dewasa cocok latih', 'bagus anak mula latih', 'bagus anak ajar renang ramai kunjung murah orang akses jalan mudah parkir is baik cocok senang buah hati', 'air kamar bilas mati tugas siaga periksa mesin pompa air', 'tiket ribu meter kolam seperti kolam minggu air keruh jaral pandang hanya bening', 'cocok ajar atau ajar', 'kurg bgs panas tidak nyaman tmptx seperti tidak urus apalagi pohon dingin dahulu di tebang panas', 'awat kolam parah', 'kolam renang lengkap main anak anak lebih tepat untuk orang latih renang', 'kolam renang bagus ajar renang wahana main air jernih bersih', 'kualitas air bagus kamar mandi higienis', 'lumayan nyaman tempat harga tiket ekonomis hanya', 'harga murah kurang', 'kolam renang bersih', 'kolam renang', 'kolam keramik pecah sudah seperti itu jaga lihat risih', 'kamar ganti kotor tidak awat kolam renang', 'tiket murah kurang kolam sepi ujung', 'kolam renang tiket murah kolam anak air bersih', 'bagus murah latih renang latih', 'kolam bagus cocok latih renang', 'tempat anak ajar renang mula', 'fasilitas anak anak kolom renang', 'badan saya gatal renang tahan gatal rekomendasi tidak', 'suatu waktu kolam kotor ruang ganti awat', 'lumayan tugas bersih', 'pohon tebang panas', 'lumayan bagus air banyak kaporit jernih', 'kolam seru cocok harga murah', 'bagus bersih harga murah ribu', 'bagus latih renang', 'tarik tempat cocok ajar renang', 'murah panas cocok latih renang', 'kakak lebih renang bersih bagus nyaman', 'lumayan ingin renang', 'bagus tempat kolam toilet bersih', 'ribu mahal kolam renang milik tentara', 'lumayan bagus anak anak tambah main', 'saran warga surabaya selatan strategis bersih jamin aman nyaman', 'rekomendasi latih renang rekreasi keluarga', 'kolam renang hitung murah kawasan surabaya selatan', 'kolam relatif bersih tertib sedia kolam anak', 'kolam bagus awat', 'renang main', 'harga jangkau libur', 'tiket masuk golong murah tempat lumayan', 'kolam renang murah kaporit banyak', 'tempat parkir luas depan jalan raya mudah akses cari', 'kolam bagus bayar murah', 'tiket masuk murah basuh terang', 'basuh terang', 'kolam renang area kodam brawijaya letak jl hayam wuruk surabaya', 'idola anak anak', 'kolam renang hayam wuruk malam pusat jajan rakyat', 'ingin ajar renang tempat', 'tiket masuk murah kolam bersih awat', 'bersih nyaman seru saat pasang', 'kolam renang bersih sih', 'senang', 'orang jual depan', 'tiket oktober orang', 'murah lumayan enak', 'harga tiket murah fasilitas jelek', 'meter', 'bakso kikil depan baik', 'lumayan murah bersih kecewa dekat murah', 'tetep baik harga sehat kalang', 'kolam renang bagus murah tempat', 'lumayan rekreasi murah', 'tempat sepi kolam bersih enak', 'tiket jangkau bagus ajar renang', 'kamar mandi kotor bau kencing', 'kolam bersih nyaman', 'hobi renang renang', 'bagus murah bersih', 'tiket masuk', 'ajar renang cocok', 'kolam renang nyaman', 'pedas mata', 'kolam renang bagus luas', 'fasilitas wadah kes awat', 'buka batas', 'buka jam rabu tutup', 'murah selam', 'lumayan air hijau', 'tidak', 'tarik', 'bagus kolam renang', 'tempat buka luas', 'rena parkir luas', 'kolam renang bersih', 'jual sate depan', 'sesal sudah', 'alam tarik layan bagus', 'lumayan bersih', 'kamar mandi rusak', 'pulih latih sama tim seka kaimana', 'air kotor', 'lumayan tempat bersih', 'fasilitas tambah', 'lumayan kembang', 'tingkat bersih', 'panas air kandung kaporit', 'cocok ajar renang', 'buka tepat kesana tutup', 'tambah air boom', 'segar panas nang suroboyo', 'tempat enak bersih aman', 'tutup cepat', 'air kotor', 'murah bersih', 'baik fasilitas', 'lumayan sepi', 'kotor gatal gatal', 'lumayan murah enak', 'buruk sangat', 'sampah jorok', 'bersih nyaman', 'lumayan senang', 'kamar mandi hanya gimana', 'pojok ludah', 'banyak preman', 'sepi tenang', 'air keran ruang ganti', 'renovasi', 'kolam renang anak rusak', 'renang nabrak sempit', 'tolong unjung penuh masuk in renang', 'latian tentara darat', 'strategis', 'bersih', 'sarang laba', 'murah', 'lumayan murah', 'harga', 'kolam renang sutos', 'kecewa lumayan', 'bagus', 'tempat nyaman', 'kamar mandi kunci mohon benar', 'anak renang', 'sampah', 'murah', 'sampah', 'bagus santai', 'lumayan', 'tempat sampah gaada', 'tempat sempit', 'jaga sewa ban suka hilang', 'berita palsu', 'baik', 'bagus', 'jelek', 'lumayan', 'murah', 'kreatif', 'tunggu', 'renang latih', 'kolam renang hayam wuruk', 'panas teduh', 'kotor', 'senang', 'kolam renang baik', 'cocok butuh kolam renang profesional', 'bagus renang selam area kolam dalam meter kamar mandi baik bagus baik', 'kamar buruk kamar mandi milik partisi tinggal privasi', 'bagus kolam renang bagus', 'buruk', 'baru baik', 'kolam renang bagus bersih', 'jaga kolam', 'kolam milik dalam agam cocok olahraga renang', 'kolam murah bagus toilet renovasi', 'bagus senang', 'bagus bersih', 'bagus butuh main poin plus', 'kolam renang baru bersih', 'malu kamar toilet kelola', 'lepas kondisi toilet buruk kolam renang bagus', 'butuh pelihara baru', 'kolam renang rekomendasi', 'bagus latih', 'yaaah ajar renang kolam', 'favorit renang', 'tempat bersih', 'jorok', '', 'toilet bersih', 'titip barang bayar tempat tunggu sedikit gimana', 'indah renang', 'tunggu masuk semua bingung duduk duduk', 'bagus renang fasilitas air', 'bagus', 'kamar mandi jelek', 'kolam bersih', 'jorok', 'jaga', 'tempat kotor awat', 'jorok', 'kursi kunjung lah', 'lumayan kamar mandi baik', 'tolong beri gitu kolam tidak panas bakar', 'kolam renang bagus', 'air panas luka mata', 'air perih mata ngak pakek kacamata', 'kolam bersih', 'tolong perhati kualitas air pinjam alat bantu renang', 'kolam renang bagus', 'area kolam renang fasilitas toilet kunci mohon realisasi', 'alat aman', 'nyaman suka renang', 'bersih bawa kaca mata renang kaporit kuat pintu masuk ti', 'kolam renang luas', 'bersih parkir luas pintu masuk murah', 'harga tiket jangkau les renang al', 'bersih sayang jual makan', 'kolam renang anak anak rusak air keran ruang ganti baik', 'sempurna segar panas', 'enak murah tepat libur kayak dawet', 'tiket bagus enak murah', 'harga tiket masuk jangkau', 'kolam renang harga masuk jangkau sayang main', 'luas air bersih cocok anak ajar renang', 'harap sih kolam renang buka', 'masuk murah nyaman inti puas renang', 'bagus fasilitas bagus harga bagus bersih kamar mandi', 'tempat bersih luas harga tiket murah highly rekomendasi', 'kolam renang intens latih renang tes dinas', 'kolam renang enak olahraga parkir luas pintu masuk murah', 'tempat seru ramai', 'tempat luas tampung kunjung', 'kotor', 'lumayan bersih kolam renang daerah gunung', 'kolam renang bagus tempat luas', 'info kursus renang anak hubung', 'kolam renang bagus sayang kamar mandi kotor', 'air kolam lumayan bersih toilet kamar mandi ruang ganti', 'minggu kotor kuras senin selasa', 'kemarin kolam kotor', 'lebar klorin buat panas kulit', 'air kolam lumayan bersih lingkung bersih', 'kolam renang gor tribun kotor buang sampah sembarang', 'bagus siring bawa anak anak kesana renang tingkat bersih', 'kolam renang luas parkir luas panas tepat', 'kolam renang bersih tolong baik pintu kamar mandi wanita', 'terkadang air kolam renang kotor', 'bersih murah latih renang anak', 'luas tiket murah', 'rekomendasi olah raga murah baik', 'kolam renang murah surabaya minim main anak', 'mending kamar mandi plus ruang ganti', 'renang les renang', 'fasilitas kolam renang duduk mengakomodir butuh santa', 'bagus', 'jaga kolam perhati', 'bagus', 'tempat bersih nyaman renang harga jangkau', 'kolam bagus kualitas air kadang jernih kadang hijau', 'kolam renang atlet bersih rapi bagus maju', 'latih latih ramah kadang air jernih kadang kadang', 'baik kumpul olahraga keluarga', 'tempat luas air segar plus kolam renang', 'harap perhati kualitas air pinjam', 'baik air dingin', 'sampah kolam renang', 'mudah temu', 'kotor ludah anak dsuruh kencing kolam dpantauan kebersihanya', 'jorok', 'ramai kunjung', 'karyawannya ramah', 'tutup', 'suka renang air bersih tepat bersih kolam renang ramai awas ekstra', 'kolam renang air asin', 'awas pilih beri', 'kacau', 'pikir mahal', 'kamar mandi jelek', 'kolam renang buka', 'awas', 'air warna hijau musim panas bersih kena panas orang renang drpada musim hujan', 'bau kaporit tingkat', 'shower kamar mandi keras', 'kali situ langsung kecewa', 'kotor', 'kamar mandi rusak', 'suasana bagus air asin', 'hijau', 'panas', 'kecewa jaga ramah', 'buruk', 'sepi', 'kecewa buruk', 'panas', 'kepleset', 'berita palsu', 'main anak rawat', 'duduk', 'wajib lepas sandal padahal panas', 'aduh kolam mata perih', 'iya', 'kamar mandi tolong bersihin', 'ala kadar', 'sepi', 'bersih biru', 'hebat kolam renang', 'bau klorin sengat', 'senang karyawannya ramah', 'nyaman ajar renang', 'suasana bagus murah', 'bagus bersih bersih', 'fasilitas kamar mandi bersih', 'latih renang', 'murah ceria favorit', 'cocok latih anak anak', 'pintu ruang ganti wanita rusak', 'harga murah kolam', 'lumayan ajar renang', 'tolong baik kamar mandi', 'kotor bau rawat', 'tempat bagus bersih', 'acara', 'kunjung disiplin buang sampah', 'air jernih klorin', 'kolam renang bersih fasilitas bagus', 'anak anak suka', 'bersih nyaman cocok renang', 'kolam renang buruk', 'kolam renang favorit keluarga bersih', 'kolam renang bagus rekomendasi', 'kolam renang bagus harga bagus', 'keren bagus renang']\n"
          ]
        }
      ]
    },
    {
      "cell_type": "code",
      "source": [
        "#menghitung TF-IDF dari corpus sklearn dengan modul TfidfVectorizer\n",
        "from sklearn.feature_extraction.text import TfidfVectorizer\n",
        "\n",
        "vectorizer = TfidfVectorizer(smooth_idf=False, norm=None)\n",
        "\n",
        "X = vectorizer.fit_transform(data_final).toarray() #mendefinisikan X adalah data final\n",
        "Y = df_show['Label'].values #mendefinisikan Y adalah label dokumen \"positif\" atau \"negatif\""
      ],
      "metadata": {
        "id": "RuRc66CiTY-0"
      },
      "execution_count": null,
      "outputs": []
    },
    {
      "cell_type": "markdown",
      "source": [
        "# **KNN**"
      ],
      "metadata": {
        "id": "vdYQXYjwUejp"
      }
    },
    {
      "cell_type": "markdown",
      "source": [
        "KNN menggunakan k fold cross validation"
      ],
      "metadata": {
        "id": "SBjb6hnNUr7S"
      }
    },
    {
      "cell_type": "code",
      "source": [
        "#melakukan pemisahan antara pembagian testing dan training untuk validasi hasil\n",
        "\n",
        "from sklearn.model_selection import train_test_split\n",
        "from sklearn.preprocessing import StandardScaler\n",
        "from sklearn.neighbors import KNeighborsClassifier\n",
        "\n",
        "X_train, X_test, y_train, y_test = train_test_split(X, Y, test_size= 0.20, stratify= Y, random_state=42)\n",
        "\n",
        "scaler = StandardScaler(with_mean=False)\n",
        "scaled_X_train = scaler.fit_transform(X_train)\n",
        "scaled_X_test = scaler.fit_transform(X_test)\n"
      ],
      "metadata": {
        "id": "xBe2Pg-oU6h1"
      },
      "execution_count": null,
      "outputs": []
    },
    {
      "cell_type": "code",
      "source": [
        "#mencoba mencari akurasi terbaik\n",
        "from sklearn.model_selection import StratifiedKFold\n",
        "from sklearn.neighbors import KNeighborsClassifier\n",
        "from sklearn.model_selection import cross_val_score\n",
        "\n",
        "accuracies= []\n",
        "precision = []\n",
        "recalls=[]\n",
        "kfold= StratifiedKFold(n_splits=5, shuffle=True, random_state= 42)\n",
        "\n",
        "for k in range (1,26):\n",
        "  knn = KNeighborsClassifier(n_neighbors = k)\n",
        "  knn.fit(scaled_X_train, y_train)\n",
        "  accuracy=(cross_val_score(knn, X, Y, cv=kfold, scoring='accuracy'))\n",
        "  accuracyy= accuracy.mean()\n",
        "  presisi= (cross_val_score(knn, X, Y, cv=kfold, scoring='precision_macro'))\n",
        "  presisii=presisi.mean()\n",
        "  recall = (cross_val_score(knn, X, Y, cv=kfold, scoring='recall_macro'))\n",
        "  recalll= recall.mean()\n",
        "  accuracies.append(accuracyy)\n",
        "  precision.append(presisii)\n",
        "  recalls.append(recalll)\n",
        "  print(\"Nilai Accuracy\")\n",
        "  print(\"k=\" , k, accuracy, np.round(accuracies[k-1], 2))\n",
        "  print(\"Nilai Precision\")\n",
        "  print(\"k=\" , k, presisi, np.round(precision[k-1], 2))\n",
        "  print(\"Nilai Recall\")\n",
        "  print(\"k=\" , k, recall, np.round(recalls[k-1], 2))\n",
        "\n",
        "\n",
        "#for k in range (1,26):\n",
        "  #print (np.round(accuracies[k-1], 2))\n",
        "  #print (np.round(precision[k-1], 2))\n",
        "  #print (np.round(recalls[k-1], 2))"
      ],
      "metadata": {
        "colab": {
          "base_uri": "https://localhost:8080/"
        },
        "id": "V9ZUlcoXUq7y",
        "outputId": "247f998c-2c41-49cf-9da1-936e09d42c6b"
      },
      "execution_count": null,
      "outputs": [
        {
          "output_type": "stream",
          "name": "stdout",
          "text": [
            "Nilai Accuracy\n",
            "k= 1 [0.65873016 0.71428571 0.664      0.712      0.704     ] 0.69\n",
            "Nilai Precision\n",
            "k= 1 [0.65892857 0.72782705 0.68014706 0.71469968 0.70571279] 0.7\n",
            "Nilai Recall\n",
            "k= 1 [0.65712484 0.70757576 0.65705128 0.70897436 0.70128205] 0.69\n",
            "Nilai Accuracy\n",
            "k= 2 [0.65079365 0.71428571 0.688      0.72       0.728     ] 0.7\n",
            "Nilai Precision\n",
            "k= 2 [0.6553137  0.71363636 0.68817204 0.71956857 0.73979862] 0.7\n",
            "Nilai Recall\n",
            "k= 2 [0.65296343 0.71363636 0.68846154 0.71923077 0.73205128] 0.7\n",
            "Nilai Accuracy\n",
            "k= 3 [0.64285714 0.73809524 0.696      0.696      0.768     ] 0.71\n",
            "Nilai Precision\n",
            "k= 3 [0.6547619  0.77512906 0.70224567 0.72232305 0.76831785] 0.72\n",
            "Nilai Recall\n",
            "k= 3 [0.63770492 0.72878788 0.69166667 0.68846154 0.76666667] 0.7\n",
            "Nilai Accuracy\n",
            "k= 4 [0.67460317 0.8015873  0.712      0.712      0.792     ] 0.74\n",
            "Nilai Precision\n",
            "k= 4 [0.67592593 0.8055053  0.71221532 0.71915584 0.79404212] 0.74\n",
            "Nilai Recall\n",
            "k= 4 [0.67250946 0.79848485 0.71025641 0.70769231 0.79358974] 0.74\n",
            "Nilai Accuracy\n",
            "k= 5 [0.68253968 0.72222222 0.656      0.728      0.728     ] 0.7\n",
            "Nilai Precision\n",
            "k= 5 [0.72629521 0.78319185 0.68253968 0.76763421 0.74340629] 0.74\n",
            "Nilai Recall\n",
            "k= 5 [0.67515763 0.71060606 0.6474359  0.71987179 0.7224359 ] 0.7\n",
            "Nilai Accuracy\n",
            "k= 6 [0.65873016 0.74603175 0.664      0.752      0.688     ] 0.7\n",
            "Nilai Precision\n",
            "k= 6 [0.67645349 0.77383721 0.68451301 0.78473465 0.69077901] 0.72\n",
            "Nilai Recall\n",
            "k= 6 [0.65308953 0.73787879 0.65641026 0.74487179 0.68461538] 0.7\n",
            "Nilai Accuracy\n",
            "k= 7 [0.64285714 0.73015873 0.64       0.664      0.704     ] 0.68\n",
            "Nilai Precision\n",
            "k= 7 [0.71568627 0.78823138 0.6899093  0.71999264 0.74206349] 0.73\n",
            "Nilai Recall\n",
            "k= 7 [0.6331652  0.71893939 0.62884615 0.65320513 0.69551282] 0.67\n",
            "Nilai Accuracy\n",
            "k= 8 [0.65079365 0.73015873 0.648      0.672      0.72      ] 0.68\n",
            "Nilai Precision\n",
            "k= 8 [0.69235993 0.76944444 0.68859649 0.71705559 0.74746571] 0.72\n",
            "Nilai Recall\n",
            "k= 8 [0.64287516 0.72045455 0.63782051 0.66217949 0.71282051] 0.68\n",
            "Nilai Accuracy\n",
            "k= 9 [0.57936508 0.68253968 0.6        0.664      0.696     ] 0.64\n",
            "Nilai Precision\n",
            "k= 9 [0.65227273 0.75730769 0.66071429 0.7797619  0.7660162 ] 0.72\n",
            "Nilai Recall\n",
            "k= 9 [0.56759142 0.66893939 0.58653846 0.65064103 0.68525641] 0.63\n",
            "Nilai Accuracy\n",
            "k= 10 [0.62698413 0.6984127  0.6        0.672      0.728     ] 0.67\n",
            "Nilai Precision\n",
            "k= 10 [0.67961538 0.76785714 0.66071429 0.78388278 0.76763421] 0.73\n",
            "Nilai Recall\n",
            "k= 10 [0.61778058 0.68560606 0.58653846 0.65897436 0.71987179] 0.65\n",
            "Nilai Accuracy\n",
            "k= 11 [0.57936508 0.67460317 0.592      0.632      0.68      ] 0.63\n",
            "Nilai Precision\n",
            "k= 11 [0.66964286 0.78571429 0.66476035 0.79279279 0.77021452] 0.74\n",
            "Nilai Recall\n",
            "k= 11 [0.56708701 0.65909091 0.5775641  0.61666667 0.66794872] 0.62\n",
            "Nilai Accuracy\n",
            "k= 12 [0.5952381 0.6984127 0.6       0.632     0.696    ] 0.64\n",
            "Nilai Precision\n",
            "k= 12 [0.6712963  0.79779412 0.67393562 0.79279279 0.77972028] 0.74\n",
            "Nilai Recall\n",
            "k= 12 [0.58398487 0.68409091 0.58589744 0.61666667 0.68461538] 0.63\n",
            "Nilai Accuracy\n",
            "k= 13 [0.55555556 0.64285714 0.6        0.608      0.664     ] 0.61\n",
            "Nilai Precision\n",
            "k= 13 [0.65811966 0.76875337 0.71235521 0.78508772 0.7603707 ] 0.74\n",
            "Nilai Recall\n",
            "k= 13 [0.54199243 0.62575758 0.58461538 0.59166667 0.65128205] 0.6\n",
            "Nilai Accuracy\n",
            "k= 14 [0.54761905 0.64285714 0.6        0.624      0.672     ] 0.62\n",
            "Nilai Precision\n",
            "k= 14 [0.61724138 0.76875337 0.71235521 0.79017857 0.76534527] 0.73\n",
            "Nilai Recall\n",
            "k= 14 [0.53430013 0.62575758 0.58461538 0.60833333 0.65961538] 0.6\n",
            "Nilai Accuracy\n",
            "k= 15 [0.54761905 0.62698413 0.576      0.584      0.656     ] 0.6\n",
            "Nilai Precision\n",
            "k= 15 [0.64194915 0.7920354  0.72030651 0.77777778 0.75526557] 0.74\n",
            "Nilai Recall\n",
            "k= 15 [0.53379571 0.60833333 0.55897436 0.56666667 0.64294872] 0.58\n",
            "Nilai Accuracy\n",
            "k= 16 [0.54761905 0.61904762 0.576      0.584      0.664     ] 0.6\n",
            "Nilai Precision\n",
            "k= 16 [0.64194915 0.75446429 0.72030651 0.77777778 0.7603707 ] 0.73\n",
            "Nilai Recall\n",
            "k= 16 [0.53379571 0.60075758 0.55897436 0.56666667 0.65128205] 0.58\n",
            "Nilai Accuracy\n",
            "k= 17 [0.51587302 0.5952381  0.552      0.552      0.592     ] 0.56\n",
            "Nilai Precision\n",
            "k= 17 [0.50819672 0.73715415 0.68557423 0.76859504 0.73524721] 0.69\n",
            "Nilai Recall\n",
            "k= 17 [0.50100883 0.57575758 0.53397436 0.53333333 0.57564103] 0.54\n",
            "Nilai Accuracy\n",
            "k= 18 [0.53968254 0.61111111 0.592      0.56       0.592     ] 0.58\n",
            "Nilai Precision\n",
            "k= 18 [0.62184874 0.74914908 0.73524721 0.77083333 0.73524721] 0.72\n",
            "Nilai Recall\n",
            "k= 18 [0.52559899 0.59242424 0.57564103 0.54166667 0.57564103] 0.56\n",
            "Nilai Accuracy\n",
            "k= 19 [0.50793651 0.5952381  0.584      0.552      0.592     ] 0.57\n",
            "Nilai Precision\n",
            "k= 19 [0.42276423 0.78205128 0.77777778 0.76859504 0.78017241] 0.71\n",
            "Nilai Recall\n",
            "k= 19 [0.49281211 0.575      0.56666667 0.53333333 0.575     ] 0.55\n",
            "Nilai Accuracy\n",
            "k= 20 [0.52380952 0.6031746  0.592      0.56       0.6       ] 0.58\n",
            "Nilai Precision\n",
            "k= 20 [0.56033058 0.78448276 0.73524721 0.77083333 0.7826087 ] 0.73\n",
            "Nilai Recall\n",
            "k= 20 [0.50920555 0.58333333 0.57564103 0.54166667 0.58333333] 0.56\n",
            "Nilai Accuracy\n",
            "k= 21 [0.5        0.57142857 0.56       0.536      0.584     ] 0.55\n",
            "Nilai Precision\n",
            "k= 21 [0.25403226 0.775      0.69975787 0.76422764 0.77777778] 0.65\n",
            "Nilai Recall\n",
            "k= 21 [0.48461538 0.55       0.54230769 0.51666667 0.56666667] 0.53\n",
            "Nilai Accuracy\n",
            "k= 22 [0.50793651 0.5952381  0.56       0.544      0.584     ] 0.56\n",
            "Nilai Precision\n",
            "k= 22 [0.42276423 0.78205128 0.69975787 0.76639344 0.77777778] 0.69\n",
            "Nilai Recall\n",
            "k= 22 [0.49281211 0.575      0.54230769 0.525      0.56666667] 0.54\n",
            "Nilai Accuracy\n",
            "k= 23 [0.50793651 0.55555556 0.552      0.544      0.56      ] 0.54\n",
            "Nilai Precision\n",
            "k= 23 [0.256      0.7704918  0.76859504 0.76639344 0.77083333] 0.67\n",
            "Nilai Recall\n",
            "k= 23 [0.49230769 0.53333333 0.53333333 0.525      0.54166667] 0.53\n",
            "Nilai Accuracy\n",
            "k= 24 [0.54761905 0.55555556 0.552      0.544      0.56      ] 0.55\n",
            "Nilai Precision\n",
            "k= 24 [0.68333333 0.7704918  0.76859504 0.76639344 0.77083333] 0.75\n",
            "Nilai Recall\n",
            "k= 24 [0.5332913  0.53333333 0.53333333 0.525      0.54166667] 0.53\n",
            "Nilai Accuracy\n",
            "k= 25 [0.53968254 0.55555556 0.544      0.528      0.552     ] 0.54\n",
            "Nilai Precision\n",
            "k= 25 [0.66446281 0.7704918  0.76639344 0.76209677 0.76859504] 0.75\n",
            "Nilai Recall\n",
            "k= 25 [0.52509458 0.53333333 0.525      0.50833333 0.53333333] 0.53\n"
          ]
        }
      ]
    },
    {
      "cell_type": "code",
      "source": [
        "  print (\"k = \", k, \" => akurasi = \", np.round(accuracies[k-1], 2), \" => precision = \", np.round(precision[k-1], 2), \" => recall = \", np.round(recalls[k-1], 2))\n",
        "\n",
        "#menampilkan diagram grafik\n",
        "plt.plot(range(1,26), accuracies, marker='o')\n",
        "plt.plot(range(1,26), precision, marker='o')\n",
        "plt.plot(range(1,26), recalls, marker='o')\n",
        "plt.ylabel('Persentase (%)')\n",
        "plt.xlabel('Nilai K')"
      ],
      "metadata": {
        "id": "NvyobgPXU3M8"
      },
      "execution_count": null,
      "outputs": []
    },
    {
      "cell_type": "markdown",
      "source": [
        "# **K-FOLD CROSS VALIDATION**"
      ],
      "metadata": {
        "id": "9FTpJiyNkwLo"
      }
    },
    {
      "cell_type": "code",
      "source": [
        "#mencoba mencari akurasi terbaik\n",
        "from sklearn.model_selection import StratifiedKFold\n",
        "from sklearn.neighbors import KNeighborsClassifier\n",
        "from sklearn.model_selection import cross_val_score\n",
        "\n",
        "accuracies= []\n",
        "precision = []\n",
        "recalls=[]\n",
        "kfold= StratifiedKFold(n_splits=10, shuffle=True, random_state=0)\n",
        "\n",
        "for k in range (1,26):\n",
        "  knn = KNeighborsClassifier(n_neighbors = k)\n",
        "  knn.fit(scaled_X_train, y_train)\n",
        "  #accuracy = accuracy_score(y_test, predicted_knn_test)*100\n",
        "  accuracy=(cross_val_score(knn, X, Y, cv=kfold, scoring='accuracy'))\n",
        "  accuracyy= accuracy.mean()*100\n",
        "  presisi= (cross_val_score(knn, X, Y, cv=kfold, scoring='precision_macro').mean()*100)\n",
        " # presisi = precision_score(y_test, y_pred)\n",
        "  recall = (cross_val_score(knn, X, Y, cv=kfold, scoring='recall_macro').mean()*100)\n",
        "  #recall= recall_score(y_test, predicted_knn_test)\n",
        "  accuracies.append(accuracyy)\n",
        "  precision.append(presisi)\n",
        "  recalls.append(recall)\n",
        "for k in range (1,26):\n",
        "  print (\"k = \", k, \" => akurasi = \", np.round(accuracies[k-1], 2), \" => precision = \", np.round(precision[k-1], 2), \" => recall = \", np.round(recalls[k-1], 2))\n",
        "\n",
        "#menampilkan diagram grafik\n",
        "plt.plot(range(1,26), accuracies, marker='o')\n",
        "plt.plot(range(1,26), precision, marker='o')\n",
        "plt.plot(range(1,26), recalls, marker='o')\n",
        "plt.ylabel('Persentase (%)')\n",
        "plt.xlabel('Nilai K')"
      ],
      "metadata": {
        "colab": {
          "base_uri": "https://localhost:8080/"
        },
        "id": "p8UfdTU5Jzte",
        "outputId": "cc126bde-9d00-4546-b8a8-192545c7239a"
      },
      "execution_count": null,
      "outputs": [
        {
          "output_type": "stream",
          "name": "stderr",
          "text": [
            "/usr/local/lib/python3.10/dist-packages/sklearn/metrics/_classification.py:1344: UndefinedMetricWarning: Precision is ill-defined and being set to 0.0 in labels with no predicted samples. Use `zero_division` parameter to control this behavior.\n",
            "  _warn_prf(average, modifier, msg_start, len(result))\n",
            "/usr/local/lib/python3.10/dist-packages/sklearn/metrics/_classification.py:1344: UndefinedMetricWarning: Precision is ill-defined and being set to 0.0 in labels with no predicted samples. Use `zero_division` parameter to control this behavior.\n",
            "  _warn_prf(average, modifier, msg_start, len(result))\n",
            "/usr/local/lib/python3.10/dist-packages/sklearn/metrics/_classification.py:1344: UndefinedMetricWarning: Precision is ill-defined and being set to 0.0 in labels with no predicted samples. Use `zero_division` parameter to control this behavior.\n",
            "  _warn_prf(average, modifier, msg_start, len(result))\n",
            "/usr/local/lib/python3.10/dist-packages/sklearn/metrics/_classification.py:1344: UndefinedMetricWarning: Precision is ill-defined and being set to 0.0 in labels with no predicted samples. Use `zero_division` parameter to control this behavior.\n",
            "  _warn_prf(average, modifier, msg_start, len(result))\n",
            "/usr/local/lib/python3.10/dist-packages/sklearn/metrics/_classification.py:1344: UndefinedMetricWarning: Precision is ill-defined and being set to 0.0 in labels with no predicted samples. Use `zero_division` parameter to control this behavior.\n",
            "  _warn_prf(average, modifier, msg_start, len(result))\n"
          ]
        },
        {
          "output_type": "stream",
          "name": "stdout",
          "text": [
            "k =  1 [0.55555556 0.53968254 0.52380952 0.57142857 0.57142857 0.52380952\n",
            " 0.55555556 0.51612903 0.53225806 0.51612903]  => akurasi =  71.13\n",
            "k =  2 [0.55555556 0.53968254 0.52380952 0.57142857 0.57142857 0.52380952\n",
            " 0.55555556 0.51612903 0.53225806 0.51612903]  => akurasi =  68.11\n",
            "k =  3 [0.55555556 0.53968254 0.52380952 0.57142857 0.57142857 0.52380952\n",
            " 0.55555556 0.51612903 0.53225806 0.51612903]  => akurasi =  70.67\n",
            "k =  4 [0.55555556 0.53968254 0.52380952 0.57142857 0.57142857 0.52380952\n",
            " 0.55555556 0.51612903 0.53225806 0.51612903]  => akurasi =  74.49\n",
            "k =  5 [0.55555556 0.53968254 0.52380952 0.57142857 0.57142857 0.52380952\n",
            " 0.55555556 0.51612903 0.53225806 0.51612903]  => akurasi =  70.03\n",
            "k =  6 [0.55555556 0.53968254 0.52380952 0.57142857 0.57142857 0.52380952\n",
            " 0.55555556 0.51612903 0.53225806 0.51612903]  => akurasi =  70.83\n",
            "k =  7 [0.55555556 0.53968254 0.52380952 0.57142857 0.57142857 0.52380952\n",
            " 0.55555556 0.51612903 0.53225806 0.51612903]  => akurasi =  67.48\n",
            "k =  8 [0.55555556 0.53968254 0.52380952 0.57142857 0.57142857 0.52380952\n",
            " 0.55555556 0.51612903 0.53225806 0.51612903]  => akurasi =  68.26\n",
            "k =  9 [0.55555556 0.53968254 0.52380952 0.57142857 0.57142857 0.52380952\n",
            " 0.55555556 0.51612903 0.53225806 0.51612903]  => akurasi =  65.23\n",
            "k =  10 [0.55555556 0.53968254 0.52380952 0.57142857 0.57142857 0.52380952\n",
            " 0.55555556 0.51612903 0.53225806 0.51612903]  => akurasi =  66.5\n",
            "k =  11 [0.55555556 0.53968254 0.52380952 0.57142857 0.57142857 0.52380952\n",
            " 0.55555556 0.51612903 0.53225806 0.51612903]  => akurasi =  63.16\n",
            "k =  12 [0.55555556 0.53968254 0.52380952 0.57142857 0.57142857 0.52380952\n",
            " 0.55555556 0.51612903 0.53225806 0.51612903]  => akurasi =  65.4\n",
            "k =  13 [0.55555556 0.53968254 0.52380952 0.57142857 0.57142857 0.52380952\n",
            " 0.55555556 0.51612903 0.53225806 0.51612903]  => akurasi =  62.52\n",
            "k =  14 [0.55555556 0.53968254 0.52380952 0.57142857 0.57142857 0.52380952\n",
            " 0.55555556 0.51612903 0.53225806 0.51612903]  => akurasi =  63.65\n",
            "k =  15 [0.55555556 0.53968254 0.52380952 0.57142857 0.57142857 0.52380952\n",
            " 0.55555556 0.51612903 0.53225806 0.51612903]  => akurasi =  61.41\n",
            "k =  16 [0.55555556 0.53968254 0.52380952 0.57142857 0.57142857 0.52380952\n",
            " 0.55555556 0.51612903 0.53225806 0.51612903]  => akurasi =  61.57\n",
            "k =  17 [0.55555556 0.53968254 0.52380952 0.57142857 0.57142857 0.52380952\n",
            " 0.55555556 0.51612903 0.53225806 0.51612903]  => akurasi =  59.0\n",
            "k =  18 [0.55555556 0.53968254 0.52380952 0.57142857 0.57142857 0.52380952\n",
            " 0.55555556 0.51612903 0.53225806 0.51612903]  => akurasi =  59.32\n",
            "k =  19 [0.55555556 0.53968254 0.52380952 0.57142857 0.57142857 0.52380952\n",
            " 0.55555556 0.51612903 0.53225806 0.51612903]  => akurasi =  56.77\n",
            "k =  20 [0.55555556 0.53968254 0.52380952 0.57142857 0.57142857 0.52380952\n",
            " 0.55555556 0.51612903 0.53225806 0.51612903]  => akurasi =  57.56\n",
            "k =  21 [0.55555556 0.53968254 0.52380952 0.57142857 0.57142857 0.52380952\n",
            " 0.55555556 0.51612903 0.53225806 0.51612903]  => akurasi =  55.97\n",
            "k =  22 [0.55555556 0.53968254 0.52380952 0.57142857 0.57142857 0.52380952\n",
            " 0.55555556 0.51612903 0.53225806 0.51612903]  => akurasi =  57.24\n",
            "k =  23 [0.55555556 0.53968254 0.52380952 0.57142857 0.57142857 0.52380952\n",
            " 0.55555556 0.51612903 0.53225806 0.51612903]  => akurasi =  55.33\n",
            "k =  24 [0.55555556 0.53968254 0.52380952 0.57142857 0.57142857 0.52380952\n",
            " 0.55555556 0.51612903 0.53225806 0.51612903]  => akurasi =  56.28\n",
            "k =  25 [0.55555556 0.53968254 0.52380952 0.57142857 0.57142857 0.52380952\n",
            " 0.55555556 0.51612903 0.53225806 0.51612903]  => akurasi =  54.06\n"
          ]
        }
      ]
    },
    {
      "cell_type": "code",
      "source": [
        "#melakukan pemisahan antara pembagian testing dan training untuk validasi hasil\n",
        "\n",
        "from sklearn.model_selection import train_test_split\n",
        "#pembagian data uji dan data latih sebanyak 80% data latih dan 20% data uji\n",
        "#data uji di split jadi 20% agar tidak terlalu sensitif biar akurasi tidak terlalu jauhh\n",
        "#random state = set bilangan pseudo-random yang sama yang dihasilkan setiap kali kita menjalankan program\n",
        "X_train, X_test, y_train, y_test = train_test_split(X, Y, test_size= 0.20,  random_state=42)\n",
        "#scalling untuk menghindari perbedaan skala yang terlalu besar\n",
        "\n",
        "from sklearn.preprocessing import StandardScaler\n",
        "scaler = StandardScaler(with_mean=False)\n",
        "scaled_X_train = scaler.fit_transform(X_train)\n",
        "scaled_X_test = scaler.fit_transform(X_test)\n",
        "from sklearn.neighbors import KNeighborsClassifier\n",
        "\n",
        "#memodelkan klasifikasi KNN dengan nilai 'K'. model disesuaikan dengan X yang di skalakan dan Y sesuai himpunan data pelatihan\n",
        "knn = KNeighborsClassifier(n_neighbors= 4 ) #model KNN dengan nilai K=4\n",
        "knn.fit(scaled_X_train, y_train) #model berdasarkan data trining\n",
        "predicted_knn= knn.predict(scaled_X_test) #model berdasarkan data testing"
      ],
      "metadata": {
        "id": "ghurtfKf-Kru"
      },
      "execution_count": null,
      "outputs": []
    },
    {
      "cell_type": "code",
      "source": [
        "from sklearn.metrics import classification_report,  accuracy_score #library untuk menghitung classification report (precision, recall, accuracy)\n",
        "classification_report = classification_report(y_test, predicted_knn) #yang akan dilihat adalah class report dari data uji\n",
        "print('\\n Accuracy: ', accuracy_score(y_test, predicted_knn), )\n",
        "print('\\nClassification Report')\n",
        "print('======================================================')\n",
        "print('\\n', classification_report, )"
      ],
      "metadata": {
        "colab": {
          "base_uri": "https://localhost:8080/"
        },
        "id": "HU-fSJMcXZLA",
        "outputId": "dc9b3e23-7f33-43ad-cd89-76607c168f9e"
      },
      "execution_count": null,
      "outputs": [
        {
          "output_type": "stream",
          "name": "stdout",
          "text": [
            "\n",
            " Accuracy:  0.6904761904761905\n",
            "\n",
            "Classification Report\n",
            "======================================================\n",
            "\n",
            "               precision    recall  f1-score   support\n",
            "\n",
            "     Negatif       0.83      0.52      0.64        66\n",
            "     Positif       0.62      0.88      0.73        60\n",
            "\n",
            "    accuracy                           0.69       126\n",
            "   macro avg       0.73      0.70      0.68       126\n",
            "weighted avg       0.73      0.69      0.68       126\n",
            "\n"
          ]
        }
      ]
    },
    {
      "cell_type": "code",
      "source": [
        "from sklearn.model_selection import StratifiedKFold\n",
        "from sklearn.model_selection import cross_val_score"
      ],
      "metadata": {
        "id": "RLOIffmQa0HU"
      },
      "execution_count": null,
      "outputs": []
    },
    {
      "cell_type": "code",
      "source": [
        "#mencoba mencari akurasi terbaik\n",
        "accuracies= []\n",
        "precision = []\n",
        "recalls=[]\n",
        "kfold= StratifiedKFold(n_splits=10, shuffle=True, random_state=21)\n",
        "\n",
        "for k in range (1,26):\n",
        "  knn = KNeighborsClassifier(n_neighbors = k)\n",
        "  knn.fit(scaled_X_train, y_train)\n",
        "  predicted_knn_test= knn.predict(scaled_X_test)\n",
        "  aku= cross_val_score(knn, X, Y, cv=kfold, scoring='accuracy')\n",
        "  accuracy=(cross_val_score(knn, X, Y, cv=kfold, scoring='accuracy').mean()*100)\n",
        "  presisi= (cross_val_score(knn, X_train, y_train, cv=kfold, scoring='precision_macro').mean()*100)\n",
        "  recall = (cross_val_score(knn, X, Y, cv=kfold, scoring='recall_macro').mean()*100)\n",
        "  accuracies.append(accuracy)\n",
        "  precision.append(presisi)\n",
        "  recalls.append(recall)\n",
        "for k in range (1,26):\n",
        "  print (\"k = \", k, aku, \" => akurasi = \", np.round(accuracies[k-1], 2), \" || precision = \", np.round(precision[k-1], 2),\" || recall = \", np.round(recalls[k-1], 2))\n"
      ],
      "metadata": {
        "id": "VOFzEF4C2eqi"
      },
      "execution_count": null,
      "outputs": []
    },
    {
      "cell_type": "markdown",
      "source": [
        "# **KNN**\n",
        "dengan stratified shuffle split"
      ],
      "metadata": {
        "id": "IaBPI36DUcFN"
      }
    },
    {
      "cell_type": "code",
      "source": [
        "#melakukan pemisahan antara pembagian testing dan training untuk validasi hasil\n",
        "\n",
        "from sklearn.model_selection import train_test_split\n",
        "#pembagian data uji dan data latih sebanyak 80% data latih dan 20% data uji\n",
        "#data uji di split jadi 20% agar tidak terlalu sensitif biar akurasi tidak terlalu jauhh\n",
        "#random state = set bilangan pseudo-random yang sama yang dihasilkan setiap kali kita menjalankan program\n",
        "X_train, X_test, y_train, y_test = train_test_split(X, Y, test_size= 0.20, stratify= Y, random_state=42)"
      ],
      "metadata": {
        "id": "-cptUDgJ_8Lq"
      },
      "execution_count": null,
      "outputs": []
    },
    {
      "cell_type": "code",
      "source": [
        "#scalling untuk menghindari perbedaan skala yang terlalu besar\n",
        "\n",
        "from sklearn.preprocessing import StandardScaler\n",
        "scaler = StandardScaler(with_mean=False)\n",
        "scaled_X_train = scaler.fit_transform(X_train)\n",
        "scaled_X_test = scaler.fit_transform(X_test)"
      ],
      "metadata": {
        "id": "J4kUj1_KH948"
      },
      "execution_count": null,
      "outputs": []
    },
    {
      "cell_type": "code",
      "source": [
        "from sklearn.neighbors import KNeighborsClassifier #library untuk klasifikasi K-NN\n",
        "from sklearn.metrics import accuracy_score #library untuk menghitung accuracy\n",
        "import matplotlib.pyplot as plt #library untuk menampilkan visualisadi dari grafik/wordcloud/matrix\n",
        "\n",
        "accuracies= []\n",
        "\n",
        "#melakukan pengujian pada k 1-25\n",
        "#menampilkan hasil accuracy\n",
        "for k in range (1,26):\n",
        "  knn = KNeighborsClassifier(n_neighbors = k)\n",
        "  knn.fit(scaled_X_train, y_train)\n",
        "  predicted_knn_test= knn.predict(scaled_X_test)\n",
        "  accuracy = accuracy_score(y_test, predicted_knn_test)\n",
        "  accuracies.append(accuracy)\n",
        "\n",
        "for k in range (1,26):\n",
        "  print (\"k = \", k, \" => akurasi = \", np.round(accuracies[k-1],10))\n",
        "\n",
        "#menampilkan diagram grafik\n",
        "plt.plot(range(1,26), accuracies, marker='o')\n",
        "plt.ylabel('Persentase (%)')\n",
        "plt.xlabel('Nilai K')"
      ],
      "metadata": {
        "colab": {
          "base_uri": "https://localhost:8080/",
          "height": 244
        },
        "id": "BmZKajr9Ka8J",
        "outputId": "4f594855-7a93-4ff7-8293-dafbfb0b8b0e"
      },
      "execution_count": null,
      "outputs": [
        {
          "output_type": "error",
          "ename": "NameError",
          "evalue": "ignored",
          "traceback": [
            "\u001b[0;31m---------------------------------------------------------------------------\u001b[0m",
            "\u001b[0;31mNameError\u001b[0m                                 Traceback (most recent call last)",
            "\u001b[0;32m<ipython-input-22-d678c2985e06>\u001b[0m in \u001b[0;36m<cell line: 9>\u001b[0;34m()\u001b[0m\n\u001b[1;32m      9\u001b[0m \u001b[0;32mfor\u001b[0m \u001b[0mk\u001b[0m \u001b[0;32min\u001b[0m \u001b[0mrange\u001b[0m \u001b[0;34m(\u001b[0m\u001b[0;36m1\u001b[0m\u001b[0;34m,\u001b[0m\u001b[0;36m26\u001b[0m\u001b[0;34m)\u001b[0m\u001b[0;34m:\u001b[0m\u001b[0;34m\u001b[0m\u001b[0;34m\u001b[0m\u001b[0m\n\u001b[1;32m     10\u001b[0m   \u001b[0mknn\u001b[0m \u001b[0;34m=\u001b[0m \u001b[0mKNeighborsClassifier\u001b[0m\u001b[0;34m(\u001b[0m\u001b[0mn_neighbors\u001b[0m \u001b[0;34m=\u001b[0m \u001b[0mk\u001b[0m\u001b[0;34m)\u001b[0m\u001b[0;34m\u001b[0m\u001b[0;34m\u001b[0m\u001b[0m\n\u001b[0;32m---> 11\u001b[0;31m   \u001b[0mknn\u001b[0m\u001b[0;34m.\u001b[0m\u001b[0mfit\u001b[0m\u001b[0;34m(\u001b[0m\u001b[0mscaled_X_train\u001b[0m\u001b[0;34m,\u001b[0m \u001b[0my_train\u001b[0m\u001b[0;34m)\u001b[0m\u001b[0;34m\u001b[0m\u001b[0;34m\u001b[0m\u001b[0m\n\u001b[0m\u001b[1;32m     12\u001b[0m   \u001b[0mpredicted_knn_test\u001b[0m\u001b[0;34m=\u001b[0m \u001b[0mknn\u001b[0m\u001b[0;34m.\u001b[0m\u001b[0mpredict\u001b[0m\u001b[0;34m(\u001b[0m\u001b[0mscaled_X_test\u001b[0m\u001b[0;34m)\u001b[0m\u001b[0;34m\u001b[0m\u001b[0;34m\u001b[0m\u001b[0m\n\u001b[1;32m     13\u001b[0m   \u001b[0maccuracy\u001b[0m \u001b[0;34m=\u001b[0m \u001b[0maccuracy_score\u001b[0m\u001b[0;34m(\u001b[0m\u001b[0my_test\u001b[0m\u001b[0;34m,\u001b[0m \u001b[0mpredicted_knn_test\u001b[0m\u001b[0;34m)\u001b[0m\u001b[0;34m\u001b[0m\u001b[0;34m\u001b[0m\u001b[0m\n",
            "\u001b[0;31mNameError\u001b[0m: name 'scaled_X_train' is not defined"
          ]
        }
      ]
    },
    {
      "cell_type": "code",
      "source": [
        "from sklearn.neighbors import KNeighborsClassifier\n",
        "\n",
        "#memodelkan klasifikasi KNN dengan nilai 'K'. model disesuaikan dengan X yang di skalakan dan Y sesuai himpunan data pelatihan\n",
        "knn = KNeighborsClassifier(n_neighbors= 4) #model KNN dengan nilai K=4\n",
        "knn.fit(scaled_X_train, y_train) #model berdasarkan data trining\n",
        "predicted_knn= knn.predict(scaled_X_test) #model berdasarkan data testing"
      ],
      "metadata": {
        "id": "0Yp4UuLEALd6"
      },
      "execution_count": null,
      "outputs": []
    },
    {
      "cell_type": "code",
      "source": [
        "from sklearn.datasets import load_breast_cancer\n",
        "from sklearn.linear_model import LogisticRegression\n",
        "from sklearn.metrics import confusion_matrix #library untuk menampilkan confussion matrix\n",
        "import seaborn as sns #visualisasi matrix\n",
        "\n",
        "conf_matrix= confusion_matrix(y_test, predicted_knn)\n",
        "sns.heatmap(conf_matrix, annot=True, cmap='Blues', fmt='g')\n",
        "plt.title('Confusion Matrix K-NN k=4')\n",
        "plt.xlabel('Predicted Classes')\n",
        "plt.ylabel('Actual Classes')"
      ],
      "metadata": {
        "colab": {
          "base_uri": "https://localhost:8080/",
          "height": 490
        },
        "id": "PU-4t_YQLINN",
        "outputId": "fd92d1a9-c9a3-4c32-8661-f610035fb300"
      },
      "execution_count": null,
      "outputs": [
        {
          "output_type": "execute_result",
          "data": {
            "text/plain": [
              "Text(50.722222222222214, 0.5, 'Actual Classes')"
            ]
          },
          "metadata": {},
          "execution_count": 161
        },
        {
          "output_type": "display_data",
          "data": {
            "text/plain": [
              "<Figure size 640x480 with 2 Axes>"
            ],
            "image/png": "[encoded data removed]"
          },
          "metadata": {}
        }
      ]
    },
    {
      "cell_type": "code",
      "source": [
        "from sklearn.metrics import classification_report #library untuk menghitung classification report (precision, recall, accuracy)\n",
        "\n",
        "classification_report = classification_report(y_test, predicted_knn) #yang akan dilihat adalah class report dari data uji\n",
        "print('\\n Accuracy: ', accuracy_score(y_test, predicted_knn), )\n",
        "print('\\nClassification Report')\n",
        "print('======================================================')\n",
        "print('\\n', classification_report, )"
      ],
      "metadata": {
        "id": "8Xr8vKOaDqRK",
        "outputId": "e457f8ff-342c-4d41-f728-2c4782bdcdf9",
        "colab": {
          "base_uri": "https://localhost:8080/"
        }
      },
      "execution_count": null,
      "outputs": [
        {
          "output_type": "stream",
          "name": "stdout",
          "text": [
            "\n",
            " Accuracy:  0.7142857142857143\n",
            "\n",
            "Classification Report\n",
            "======================================================\n",
            "\n",
            "               precision    recall  f1-score   support\n",
            "\n",
            "     Negatif       0.77      0.57      0.65        60\n",
            "     Positif       0.68      0.85      0.76        66\n",
            "\n",
            "    accuracy                           0.71       126\n",
            "   macro avg       0.73      0.71      0.71       126\n",
            "weighted avg       0.73      0.71      0.71       126\n",
            "\n"
          ]
        }
      ]
    },
    {
      "cell_type": "markdown",
      "source": [
        "# **CLASSIFICATION REPORT KNN**"
      ],
      "metadata": {
        "id": "x8oVRHua8D3b"
      }
    },
    {
      "cell_type": "code",
      "source": [
        "from sklearn.metrics import accuracy_score, precision_score, recall_score, classification_report\n",
        "from sklearn.model_selection import cross_val_score, StratifiedKFold\n",
        "import matplotlib.pyplot as plt\n",
        "classification_report = classification_report(y_test, predicted_knn)"
      ],
      "metadata": {
        "id": "ZHun3xpT6wyO"
      },
      "execution_count": null,
      "outputs": []
    },
    {
      "cell_type": "code",
      "source": [
        "print('\\n Accuracy: ', accuracy_score(y_test, predicted_knn))\n",
        "print('\\nClassification Report')\n",
        "print('======================================================')\n",
        "print('\\n', classification_report)"
      ],
      "metadata": {
        "colab": {
          "base_uri": "https://localhost:8080/"
        },
        "id": "HXllSLtr7lXM",
        "outputId": "7833d40a-addd-4621-b7d0-5624a6b7dc85"
      },
      "execution_count": null,
      "outputs": [
        {
          "output_type": "stream",
          "name": "stdout",
          "text": [
            "\n",
            " Accuracy:  0.7380952380952381\n",
            "\n",
            "Classification Report\n",
            "======================================================\n",
            "\n",
            "               precision    recall  f1-score   support\n",
            "\n",
            "     Negatif       0.73      0.72      0.72        60\n",
            "     Positif       0.75      0.76      0.75        66\n",
            "\n",
            "    accuracy                           0.74       126\n",
            "   macro avg       0.74      0.74      0.74       126\n",
            "weighted avg       0.74      0.74      0.74       126\n",
            "\n"
          ]
        }
      ]
    },
    {
      "cell_type": "markdown",
      "source": [
        "# **CONFUSION MATRIX KNN**"
      ],
      "metadata": {
        "id": "9K3mBBwo8QGE"
      }
    },
    {
      "cell_type": "code",
      "source": [
        "from sklearn.datasets import load_breast_cancer\n",
        "from sklearn.model_selection import train_test_split\n",
        "from sklearn.linear_model import LogisticRegression\n",
        "from sklearn.metrics import confusion_matrix\n",
        "import seaborn as sns\n",
        "import matplotlib.pyplot as plt"
      ],
      "metadata": {
        "id": "YK4Bgf7dBVLa"
      },
      "execution_count": null,
      "outputs": []
    },
    {
      "cell_type": "code",
      "source": [
        "conf_matrix= confusion_matrix(y_test, predicted_knn)\n",
        "sns.heatmap(conf_matrix, annot=True, cmap='Blues', fmt='g')\n",
        "plt.title('Confusion Matrix K-NN k=4')\n",
        "plt.xlabel('Predicted Classes')\n",
        "plt.ylabel('Actual Classes')"
      ],
      "metadata": {
        "colab": {
          "base_uri": "https://localhost:8080/",
          "height": 490
        },
        "id": "6kfbx3a0DB4o",
        "outputId": "8f9baa54-e57d-490c-f478-0fd739cece50"
      },
      "execution_count": null,
      "outputs": [
        {
          "output_type": "execute_result",
          "data": {
            "text/plain": [
              "Text(50.722222222222214, 0.5, 'Actual Classes')"
            ]
          },
          "metadata": {},
          "execution_count": 53
        },
        {
          "output_type": "display_data",
          "data": {
            "text/plain": [
              "<Figure size 640x480 with 2 Axes>"
            ],
            "image/png": "[encoded data removed]"
          },
          "metadata": {}
        }
      ]
    },
    {
      "cell_type": "code",
      "source": [
        "conf_matrix= confusion_matrix(y_test, predicted_knn)\n",
        "sns.heatmap(conf_matrix, annot=True, cmap='Blues', fmt='g')\n",
        "plt.title('Confusion Matrix K-NN k=4')\n",
        "plt.xlabel('Predicted Classes')\n",
        "plt.ylabel('Actual Classes')"
      ],
      "metadata": {
        "colab": {
          "base_uri": "https://localhost:8080/",
          "height": 490
        },
        "id": "ZY4ARX1fAKAT",
        "outputId": "724701c7-307e-4ec3-a203-d93b24c893f0"
      },
      "execution_count": null,
      "outputs": [
        {
          "output_type": "execute_result",
          "data": {
            "text/plain": [
              "Text(50.722222222222214, 0.5, 'Actual Classes')"
            ]
          },
          "metadata": {},
          "execution_count": 92
        },
        {
          "output_type": "display_data",
          "data": {
            "text/plain": [
              "<Figure size 640x480 with 2 Axes>"
            ],
            "image/png": "[encoded data removed]"
          },
          "metadata": {}
        }
      ]
    },
    {
      "cell_type": "markdown",
      "source": [
        "# **K-FOLD CROSS VALIDATION**"
      ],
      "metadata": {
        "id": "bWm_uNpoxlXq"
      }
    },
    {
      "cell_type": "code",
      "source": [
        "from sklearn.model_selection import cross_val_score, StratifiedKFold\n",
        "\n",
        "kfold= StratifiedKFold(n_splits=5, shuffle=True, random_state=42)\n",
        "\n",
        "scores_accuracy = cross_val_score(knn, X, Y, cv=kfold,  scoring='accuracy')\n",
        "scores_precision = cross_val_score(knn, X, Y, cv=kfold,  scoring='precision_macro')\n",
        "scores_recall = cross_val_score(knn, X, Y, cv=kfold,  scoring='recall_macro')\n",
        "\n",
        "for i in range(5):\n",
        "  print(f\"iterasi ke-{i+1}:\")\n",
        "  print(f\"Hasil: {scores_accuracy[i]} {scores_precision[i]}{scores_recall[i]}\")\n",
        "  print()\n",
        "\n",
        "print('K-fold akurasi: %s' % scores_accuracy.mean())\n",
        "print('K-fold precision: %s' % scores_precision.mean())\n",
        "print('K-fold recall: %s' % scores_recall.mean())\n"
      ],
      "metadata": {
        "id": "ECsay1m8xrMO",
        "colab": {
          "base_uri": "https://localhost:8080/"
        },
        "outputId": "e3581efe-265b-44de-fd63-4375b30f7af9"
      },
      "execution_count": null,
      "outputs": [
        {
          "output_type": "stream",
          "name": "stdout",
          "text": [
            "iterasi ke-1:\n",
            "Hasil: 0.5396825396825397 0.66446280991735540.525094577553594\n",
            "\n",
            "iterasi ke-2:\n",
            "Hasil: 0.5555555555555556 0.77049180327868850.5333333333333333\n",
            "\n",
            "iterasi ke-3:\n",
            "Hasil: 0.544 0.76639344262295080.525\n",
            "\n",
            "iterasi ke-4:\n",
            "Hasil: 0.528 0.76209677419354840.5083333333333333\n",
            "\n",
            "iterasi ke-5:\n",
            "Hasil: 0.552 0.7685950413223140.5333333333333333\n",
            "\n",
            "K-fold akurasi: 0.5438476190476191\n",
            "K-fold precision: 0.7464079742669715\n",
            "K-fold recall: 0.5250189155107188\n"
          ]
        }
      ]
    },
    {
      "cell_type": "code",
      "source": [
        " print(df_performansi)"
      ],
      "metadata": {
        "id": "UaHjeiNQP6AC"
      },
      "execution_count": null,
      "outputs": []
    },
    {
      "cell_type": "markdown",
      "source": [
        "**K=3**"
      ],
      "metadata": {
        "id": "Qqn0TsbjffiE"
      }
    },
    {
      "cell_type": "code",
      "source": [
        "from sklearn.model_selection import cross_val_score\n",
        "# Lakukan cross-validation dengan n fold\n",
        "scores_accuracy = cross_val_score(knn, X, Y, cv=10,  scoring='accuracy')\n",
        "scores_precision = cross_val_score(knn, X, Y, cv=10,  scoring='precision_macro')\n",
        "scores_recall = cross_val_score(knn, X, Y, cv=10,  scoring='recall_macro')\n",
        "\n",
        "# Tampilkan skor hasil cross-validation\n",
        "print(\"Hasil Cross-Validation accuracy: \", scores_accuracy)\n",
        "print(\"Skor Akurasi: \", scores_accuracy.mean())\n",
        "print(\"Hasil Cross-Validation precision: \", scores_precision)\n",
        "print(\"Skor Precison : \", scores_precision.mean())\n",
        "print(\"Hasil Cross-Validation recall: \", scores_recall)\n",
        "print(\"Skor Recall: \", scores_recall.mean())"
      ],
      "metadata": {
        "colab": {
          "base_uri": "https://localhost:8080/"
        },
        "id": "GWBLJTxXA6uG",
        "outputId": "4eb3b3fc-acfb-4041-80ba-e2af5b438e4a"
      },
      "execution_count": null,
      "outputs": [
        {
          "output_type": "stream",
          "name": "stdout",
          "text": [
            "Hasil Cross-Validation accuracy:  [0.55555556 0.57142857 0.52380952 0.53968254 0.52380952 0.53968254\n",
            " 0.53968254 0.64516129 0.56451613 0.51612903]\n",
            "Skor Akurasi:  0.5519457245263697\n",
            "Hasil Cross-Validation precision:  [0.76666667 0.775      0.26190476 0.76612903 0.51229508 0.76612903\n",
            " 0.76612903 0.69494048 0.77118644 0.25806452]\n",
            "Skor Precison :  0.633844504031031\n",
            "Hasil Cross-Validation recall:  [0.5483871  0.55       0.5        0.51666667 0.50151515 0.51666667\n",
            " 0.51666667 0.63645833 0.55       0.5       ]\n",
            "Skor Recall:  0.5336360581622679\n"
          ]
        },
        {
          "output_type": "stream",
          "name": "stderr",
          "text": [
            "/usr/local/lib/python3.10/dist-packages/sklearn/metrics/_classification.py:1344: UndefinedMetricWarning: Precision is ill-defined and being set to 0.0 in labels with no predicted samples. Use `zero_division` parameter to control this behavior.\n",
            "  _warn_prf(average, modifier, msg_start, len(result))\n",
            "/usr/local/lib/python3.10/dist-packages/sklearn/metrics/_classification.py:1344: UndefinedMetricWarning: Precision is ill-defined and being set to 0.0 in labels with no predicted samples. Use `zero_division` parameter to control this behavior.\n",
            "  _warn_prf(average, modifier, msg_start, len(result))\n"
          ]
        }
      ]
    },
    {
      "cell_type": "markdown",
      "source": [
        "# **TF-IDF MANUAL, COBA2**"
      ],
      "metadata": {
        "id": "WWxwAyQDzVXc"
      }
    },
    {
      "cell_type": "code",
      "source": [
        "list_gabungan_prepro = []\n",
        "for element in Ulasan_stem:\n",
        "  list_gabungan_prepro.extend(element)\n",
        "\n",
        "print(list_gabungan_prepro)"
      ],
      "metadata": {
        "colab": {
          "base_uri": "https://localhost:8080/"
        },
        "id": "tCdmrWvWQdyC",
        "outputId": "602c5861-c8fa-4fea-c6e4-4729ddacdd28"
      },
      "execution_count": null,
      "outputs": [
        {
          "output_type": "stream",
          "name": "stdout",
          "text": [
            "['tempat', 'nyaman', 'parkir', 'luas', 'kadang', 'kamar', 'mandi', 'kotor', 'bagus', 'bersih', 'kamar', 'mandi', 'kotor', 'tugas', 'periksa', 'jam', 'jam', 'jaga', 'bersih', 'air', 'kolam', 'anak', 'panas', 'kayak', 'beri', 'hias', 'dingin', 'lindung', 'panas', 'untuk', 'anak', 'kamar', 'mandi', 'bersih', 'suka', 'renang', 'sabtu', 'ini', 'doa', 'hujan', 'tidak', 'kesini', 'sesal', 'masuk', 'banyak', 'atur', 'antar', 'pakai', 'sepatu', 'istri', 'damping', 'anak', 'renang', 'pakai', 'kaos', 'kaki', 'rekomendasi', 'fitnes', 'atur', 'renang', 'lokernya', 'pakai', 'kartu', 'ajar', 'tidak bisa', 'pakai', 'loger', 'adik saya', 'bom', 'dapat', 'dapat', 'loker', 'uang', 'adik saya', 'hilang', 'aduh', 'kecewa', 'minggu', 'ramai', 'bos', 'mahal', 'senin', 'buka', 'jam', 'kerja', 'libur', 'senin', 'ingin', 'renang', 'ingin', 'kejar', 'kartika', 'eka', 'paksi', 'harga', 'tempat', 'nyaman', 'bersih', 'pegawai', 'ramah', 'air', 'kamar', 'ganti', 'bersih', 'rapi', 'parkir', 'luas', 'nyaman', 'kolam', 'renang', 'bagus', 'hari', 'kolam', 'hijau', 'kolam', 'anak', 'dewasa', 'kamar', 'mandi', 'bersih', 'minggu', 'harga', 'tiket', 'lumayan', 'perhati', 'fasilitas', 'mandi', 'pria', 'engsel', 'pintu', 'ganjal', 'pintu', 'rusak', 'tempat', 'luas', 'tiket', 'libur', 'kolam', 'renang', 'bagus', 'bersih', 'pakai', 'bebas', 'pakai', 'pakai', 'renang', 'kolam', 'anak', 'dewasa', 'kamar', 'mandi', 'bersih', 'minggu', 'harga', 'tiket', 'kolam', 'bagus', 'jajan', 'lengkap', 'profesional', 'panas', 'pohon', 'tempat', 'kunjung', 'sedikit', 'keramik', 'pinggir', 'kolam', 'renang', 'licin', 'lebih', 'hati', 'anak', 'inti', 'rekomendasi', 'keluarga', 'bagus', 'anak', 'oke', 'harga', 'tiket', 'murah', 'bersih', 'tempat', 'kecewa', 'air', 'kolam', 'anak', 'keruh', 'kolam', 'dewasa', 'bersih', 'libur', 'murah', 'minggu', 'ribu', 'kolam', 'renang', 'militer', 'buka', 'pandemi', 'covid', 'buka', 'batas', 'kunjung', 'kawasan', 'patuh', 'protokol', 'kualitas', 'air', 'kolam', 'jaga', 'tim', 'sar', 'ramah', 'ruang', 'bilas', 'modern', 'bersih', 'kantin', 'musala', 'parkir', 'luas', 'aman', 'kecewa', 'minggu', 'pagi', 'istri', 'anak', 'niat', 'rekreasi', 'kolam', 'renang', 'brawijaya', 'beli', 'tiket', 'masuk', 'anak', 'renang', 'kolam', 'renang', 'habis', 'beli', 'tiket', 'harga', 'bersih', 'nyaman', 'salah', 'kolam', 'renang', 'turut', 'enak', 'surabaya', 'kolam', 'minggu', 'buka', 'jam', 'jam', 'tunggu', 'kolam', 'buka', 'minggu', 'kena', 'tiket', 'masuk', 'orang', 'temapat', 'nyaman', 'aman', 'tempatny', 'luas', 'kunjung', 'main', 'tambah', 'baik', 'ramai', 'kunjung', 'luas', 'nyaman', 'bersih', 'kecewa', 'anak', 'di bawah', 'tahun', 'sruh', 'bayar', 'padahal', 'wisata', 'anak', 'tahun', 'gratis', 'masuk', 'karcis', 'kepala', 'aman', 'anak', 'bersih', 'awas', 'kolam', 'renang', 'tepi', 'jalan', 'mudah', 'akses', 'kompleks', 'rumah', 'kodam', 'ramai', 'kunjung', 'warga', 'hari', 'libur', 'butuh', 'jasa', 'latih', 'renang', 'silah', 'hubung', 'tlp', 'wa', 'nyaman', 'murah', 'riah', 'saran', 'hari', 'libur', 'penuh', 'kemarin', 'mandi', 'susah', 'libur', 'air', 'bersih', 'hati', 'hati', 'ukur', 'dalem', 'teman', 'bagus', 'kolam', 'anak', 'perosot', 'slide', 'kolam', 'dewasa', 'ukur', 'standar', 'internasional', 'dalam', 'meter', 'air', 'jernih', 'harga', 'tiket', 'relatif', 'murah', 'kolam', 'kota', 'surabaya', 'kolam', 'bersih', 'rapi', 'protokol', 'sehat', 'bagus', 'kantin', 'kamar', 'ganti', 'bersih', 'sedia', 'loker', 'parkir', 'luas', 'bebas', 'bawa', 'makan', 'saran', 'mungkin', 'anak', 'les', 'renang', 'di sana', 'laku', 'harga', 'member', 'gitu', 'lumayan', 'enak', 'saran', 'pinggir', 'beri', 'alas', 'peleset', 'anak', 'peleset', 'panas', 'jalan', 'arah', 'kolam', 'harus', 'lepas', 'alas', 'kaki', 'anak', 'anak', 'kenal', 'air', 'tahap', 'ajar', 'renang', 'sungguh', 'lokasi', 'mudah', 'jangkau', 'tiket', 'masuk', 'banding', 'dapat', 'event', 'tunggu', 'bersih', 'main', 'harga', 'tiket', 'jangkau', 'murah', 'nyaman', 'hemat', 'libur', 'kuluarga', 'mohon', 'tambah', 'duduk', 'payung', 'tenda', 'meja', 'bagi', 'kunjung', 'kualitas', 'air', 'kolam', 'mata', 'merah', 'sakit', 'kamar', 'ganti', 'mohon', 'jaga', 'bersih', 'fasilitas', 'kamar', 'mandi', 'kamar', 'ganti', 'bagus', 'air', 'kolam', 'pedih', 'mata', 'kolam', 'renang', 'dewasa', 'anak', 'perosot', 'kolam', 'anak', 'bilas', 'bersih', 'tata', 'duduk', 'sedia', 'kolam', 'renang', 'lengkap', 'anak', 'dalam', 'meter', 'hahaha', 'kesana', 'air', 'keruh', 'warna', 'hijau', 'kuras', 'bagus', 'teman', 'tiket', 'mahal', 'tempat', 'bersih', 'luas', 'nyaman', 'kolam', 'kolam', 'anak', 'kolam', 'dewasa', 'kamar', 'mandi', 'ruang', 'ganti', 'lumayan', 'bersih', 'latih', 'renang', 'bersih', 'harga', 'jangkau', 'tempat', 'bersih', 'cocok', 'keluarga', 'tempa', 'lumayan', 'bersih', 'ruang', 'kamar', 'mandi', 'ganti', 'rapi', 'bersih', 'area', 'kantin', 'bersih', 'harga', 'normal', 'masuk', 'tambah', 'pohon', 'asri', 'tambah', 'teduh', 'siang', 'sedikit', 'panass', 'bos', 'bersih', 'ramai', 'bagus', 'bersih', 'masuk', 'hanya', 'tolong', 'shower', 'benar', 'mati', 'antre', 'mandi', 'dalam', 'lumayan', 'air', 'jernih', 'kaporit', 'nyaman', 'bersih', 'suka', 'bersih', 'makan', 'kejut', 'harga', 'murah', 'kolam', 'bersih', 'ruang', 'ganti', 'bagus', 'parkir', 'aman', 'tiket', 'masuk', 'kolam', 'senin', 'dalam', 'kolam', 'meter', 'kolam', 'anak', 'anak', 'dekat', 'rumah', 'nyaman', 'anak', 'renang', 'harga', 'tiket', 'murah', 'libur', 'ribu', 'orang', 'minggu', 'antar', 'anak', 'les', 'renang', 'kolam', 'bersih', 'lantai', 'pinggir', 'kolam', 'becek', 'lantai', 'kantin', 'becek', 'ruang', 'bilas', 'perempuan', 'lantai', 'becek', 'salur', 'air', 'sumbat', 'banjir', 'jaga', 'hilang', 'hilang', 'kolam', 'renang', 'murah', 'singgah', 'salah', 'tiket', 'masuk', 'hari kerja', 'libur', 'anak', 'anak', 'balita', 'saran', 'damping', 'batas', 'kolam', 'dewasa', 'anak', 'anak', 'tempat', 'cocok', 'anak', 'bagus', 'kolam', 'renang', 'harga', 'murah', 'ruang', 'ganti', 'layak', 'kamar', 'mandi', 'ukur', 'dalam', 'kolam', 'bagus', 'kolam', 'latih', 'militer', 'rabu', 'kamis', 'pagi', 'saran', 'jam', 'pagi', 'ngasi', 'kaporit', 'tolong', 'ukur', 'pedih', 'mata', 'bau', 'kaporit', 'sengat', 'minggu', 'pilih', 'piknik', 'keluarga', 'maju', 'toilet', 'sudah', 'moga', 'depan', 'tambah', 'bangku', 'atau', 'macam', 'istirahat', 'teduh', 'sukses', 'bagus', 'air', 'bersih', 'di', 'pinggir', 'kolam', 'air', 'lindung', 'sinar', 'matahari', 'air', 'bersih', 'kolam', 'anak', 'dewasa', 'tiket', 'masuk', 'jumat', 'minggu', 'baca', 'harga', 'tiket', 'kodam', 'mahal', 'bagus', 'tiket', 'masuk', 'hari kerja', 'libur', 'tanggal', 'merah', 'parkir', 'motor', 'mobil', 'jaga', 'sewa', 'baju', 'renang', 'latih', 'anak', 'ajar', 'di sana', 'air', 'bersih', 'segar', 'kamar', 'ganti', 'pria', 'renovasi', 'mandi', 'cadang', 'vip', 'kolam', 'renang', 'bagus', 'lumayan', 'rumah', 'tempat', 'enak', 'renang', 'mula', 'ekspert', 'anak', 'anak', 'kolam', 'meter', 'ajar', 'dalam', 'meter', 'senang', 'renang', 'bersih', 'lingkung', 'kolam', 'renang', 'kotor', 'sampah', 'kunjung', 'bersih', 'alat', 'tunjang', 'kolam', 'anak', 'keropos', 'khawatir', 'luka', 'anak', 'main', 'tiket', 'jangkau', 'nyaman', 'bagus', 'tempat', 'masih', 'ruang', 'tunggu', 'kaporit', 'susah', 'nyisir', 'rambut', 'tempat', 'bagus', 'baik', 'ganti', 'baju', 'mohon', 'tambah', 'tempat', 'hari', 'minggu', 'unjung', 'ganti', 'tunggu', 'bagus', 'hanya', 'kecewa', 'kamar', 'madi', 'belum', 'di', 'baik', 'panas', 'siang', 'kanopi', 'murah', 'rakyat', 'ribu', 'libur', 'konsekuensi', 'jorok', 'enak', 'kecewa', 'ruang', 'ganti', 'pria', 'baik', 'tempat', 'lumayan', 'kolam', 'tipe', 'akses', 'parkir', 'luas', 'harga', 'normal', 'libur', 'tempat', 'mandi', 'outdoor', 'bos', 'sedia', 'ruang', 'ganti', 'untung', 'sudah', 'pisah', 'kantin', 'harga', 'kali', 'lipat', 'air', 'bau', 'ganti', 'bagus', 'kotor', 'rumah', 'tempat', 'juga', 'senang', 'kolam', 'renang', 'anak', 'kolam', 'renang', 'luas', 'jamin', 'puas', 'hobi', 'renang', 'duduk', 'kunjung', 'minimal', 'kolam', 'bagus', 'wahana', 'anak', 'kecewa', 'gazebo', 'tunggu', 'anak', 'renang', 'tempat', 'nyaman', 'bersih', 'luas', 'loker', 'simpan', 'barang', 'bawa', 'beri', 'ktp', 'bayar', 'awas', 'hilang', 'tenggelam', 'bahaya', 'awat', 'kamar', 'mandi', 'ganti', 'antre', 'gaada', 'awas', 'coba', 'coba', 'kunjung', 'pekan', 'ramai', 'siswa', 'junior', 'ambil', 'kursus', 'renang', 'ruang', 'ganti', 'unisex', 'ruang', 'ganti', 'benah', 'bagus', 'murah', 'kecewa', 'keruh', 'harga', 'segitu', 'mahal', 'masuk', 'bagus', 'sudah', 'lumayan', 'renang', 'libur', 'ramai', 'penuh', 'panas', 'tutup', 'jam', 'sore', 'masih', 'ingin', 'renang', 'di', 'sore', 'sabtu', 'libur', 'penuh', 'murah', 'cocok', 'keluarga', 'bersih', 'nyaman', 'keluarga', 'kolam', 'renang', 'bagus', 'tugas', 'siaga', 'kualitas', 'air', 'bersih', 'duduk', 'mie', 'enak', 'pakai', 'telur', 'kolam', 'renang', 'bagus', 'bersih', 'wahana', 'anak', 'bersih', 'ruang', 'ganti', 'toilet', 'butuh', 'tingkat', 'harga', 'tiket', 'masuk', 'dewasa', 'ribu', 'kawasan', 'kolam', 'renang', 'kantin', 'sedia', 'makan', 'nyaman', 'harga', 'ekonomis', 'hanya', 'kadang', 'air', 'kotor', 'air', 'lumayan', 'bersih', 'harga', 'jangkau', 'tempat', 'enak', 'ramai', 'harga', 'tiket', 'masuk', 'ramah', 'kantong', 'pasti', 'kamar', 'mandi', 'pintu', 'rusak', 'kotor', 'lebih', 'bagus', 'bersih', 'kamar', 'mandi', 'tolong', 'tingkat', 'tutup', 'kotor', 'kaporit', 'kotor', 'air', 'lumayan', 'harga', 'libur', 'duduk', 'tunggu', 'batas', 'kolam', 'renang', 'dewasa', 'sepi', 'sandal', 'pakai', 'area', 'kolam', 'renang', 'makan', 'area', 'kolam', 'aneh', 'rem', 'licin', 'lantai', 'lumayan', 'bagus', 'rombong', 'anak', 'sekolah', 'kolam', 'luas', 'bersih', 'nyaman', 'bersih', 'awat', 'fasilitas', 'tingkat', 'tempat', 'bagus', 'panas', 'jaga', 'siram', 'lantai', 'panas', 'kaki', 'rekomendasi', 'rekreasi', 'keluarga', 'niat', 'olahraga', 'renang', 'tempat', 'bagus', 'bersih', 'air', 'jernih', 'tiket', 'jangkau', 'senang', 'panas', 'kamar', 'mandi', 'jaga', 'bersih', 'kolam', 'renang', 'nyaman', 'latih', 'sepi', 'lumayan', 'nyenening', 'anak', 'kesini', 'jumat', 'air', 'jernih', 'jadwal', 'kuras', 'kamis', 'pagi', 'jaga', 'senyum', 'mahal', 'sangat', 'kolam', 'renang', 'bersih', 'wahana', 'anak', 'kolam', 'renang', 'dewasa', 'kaporit', 'anak', 'main', 'cocok', 'libur', 'tiket', 'sesuai', 'fasilitas', 'rekreasi', 'murah', 'puluh', 'ribu', 'sabtu', 'minggu', 'tunggu', 'nyaman', 'bersih', 'bagus', 'bersih', 'menyenangkn', 'anak', 'kolam', 'renang', 'harga', 'lumayan', 'mahal', 'kolam', 'anak', 'tahun', 'atas', 'bayar', 'penuh', 'harga', 'makan', 'sedia', 'relatif', 'sedia', 'sewa', 'karpet', 'ban', 'kolam', 'renang', 'murah', 'surabaya', 'ramai', 'libur', 'rabu', 'tanggal', 'juni', 'libur', 'raya', 'masuk', 'tiket', 'strategis', 'bersih', 'lengkap', 'bersih', 'tempat', 'enak', 'dan', 'harga', 'jangkau', 'bersih', 'air', 'bersih', 'kamar', 'mandi', 'lumayan', 'hanya', 'mata', 'cepat', 'perih', 'bagus', 'tingkat', 'fasilitas', 'was', 'was', 'barang', 'bawa', 'kolam', 'renang', 'murah', 'ramai', 'pekan', 'milik', 'taman', 'main', 'air', 'anak', 'anak', 'jual', 'makan', 'musala', 'sewa', 'baju', 'renang', 'jual', 'toilet', 'bersih', 'parkir', 'kendara', 'luas', 'air', 'perih', 'panas', 'sangat', 'air', 'dingin', 'sayang', 'atap', 'luas', 'ajar', 'renang', 'bersih', 'nyaman', 'wilayah', 'kompleks', 'tentara', 'brawijaya', 'surabaya', 'harga', 'masuk', 'murah', 'renang', 'puas', 'sepi', 'kunjung', 'akan', 'rumah', 'renang', 'enak', 'kolam', 'bersih', 'olahraga', 'kompleks', 'brawijaya', 'bagus', 'manfaat', 'masyarakat', 'kolam', 'renang', 'murah', 'ruang', 'ganti', 'bagus', 'kotor', 'nyaman', 'kolam', 'renang', 'favorit', 'karena', 'dri', 'rumah', 'kolam', 'renang', 'bersih', 'kamar', 'mandi', 'bersih', 'kesan', 'tepat', 'renang', 'bareng', 'latih', 'tentara', 'dalam', 'kolam', 'tentara', 'ramah', 'usir', 'kolam', 'renang', 'luas', 'senang', 'air', 'kolam', 'bersih', 'fasilitas', 'parkir', 'pada', 'indah', 'lagi', 'bagus', 'bersih', 'ramai', 'kunjung', 'parkir', 'luas', 'kesan', 'kali', 'main', 'bersih', 'air', 'kolam', 'terus', 'isi', 'kamar', 'mandi', 'relatif', 'awat', 'banding', 'kolam', 'publik', 'tarif', 'idam', 'anak', 'anak', 'hanya', 'benah', 'fasilitas', 'kolam', 'olahraga', 'bersih', 'awat', 'harga', 'jangkau', 'kolam', 'belah', 'lapang', 'hitam', 'kodam', 'brawijaya', 'panas', 'iya', 'tempat', 'teduh', 'renang', 'harga', 'jangkau', 'kolam', 'bersih', 'murah', 'kamar', 'mandi', 'baik', 'kecewa', 'gazebonya', 'minim', 'kualitas', 'air', 'kotor', 'bersih', 'kolam', 'jaga', 'tempat', 'bersih', 'murah', 'sih', 'masuk', 'makan', 'enak', 'murah', 'harga', 'murah', 'kotor', 'cocok', 'anak', 'dewasa', 'renang', 'murah', 'nyaman', 'bersih', 'luas', 'kantin', 'juga', 'rekomendasi', 'tidak', 'kantong', 'bolong', 'bagus', 'meter', 'kotor', 'perhati', 'kamar', 'ganti', 'perhati', 'pagi', 'siang', 'panas', 'wkwk', 'kolam', 'renang', 'lumayan', 'bersih', 'kaporit', 'pedih', 'mata', 'hanya', 'kamar', 'mandi', 'perhati', 'kolam', 'renang', 'anak', 'anak', 'kolam', 'renang', 'lumayan', 'bersih', 'kaporit', 'pedih', 'mata', 'hanya', 'kamar', 'mandi', 'perhati', 'kolam', 'renang', 'anak', 'anak', 'lumayan', 'bersih', 'air', 'kadang', 'banyak', 'kaporit', 'bersih', 'kolam', 'kamar', 'mandi', 'parkir', 'luas', 'bagus', 'renang', 'tempat', 'bagus', 'harga', 'jangkau', 'kecewa', 'air', 'mata', 'gelap', 'pakai', 'kacamata', 'tepat', 'rendam', 'senang', 'untuk', 'olah', 'raga', 'main', 'tiket', 'golong', 'murah', 'bersih', 'kecewa', 'air', 'kamar', 'bilas', 'warung', 'parkir', 'bagus', 'biaya', 'kerja', 'biaya', 'pekan', 'parkir', 'luas', 'kolam', 'renang', 'daerah', 'kodam', 'brawijaya', 'tiket', 'murah', 'dar', 'senang', 'anak', 'latih', 'anak', 'renang', 'tiket', 'libur', 'tiket', 'baik', 'duduk', 'iya', 'tunggu', 'bawah', 'duduk', 'enak', 'teduh', 'kolam', 'lebar', 'lumayan', 'renang', 'bagus', 'luas', 'kolam', 'parkir', 'luas', 'mudah', 'jangkau', 'teduh', 'panas', 'kursi', 'duduk', 'kolam', 'renang', 'nyaman', 'lihat', 'kolam', 'anak', 'dewasa', 'latih', 'renang', 'kantin', 'jangkau', 'harga', 'baik', 'sangat', 'rugi', 'ngajak', 'keluarga', 'temen', 'temen', 'kesini', 'harga', 'tiket', 'murah', 'kolam', 'renang', 'main', 'anak', 'kolam', 'standar', 'meter', 'cocok', 'mula', 'ajar', 'atlet', 'renang', 'sore', 'aktifitas', 'klub', 'renang', 'kini', 'surabaya', 'kantin', 'stand', 'lumayan', 'rumah', 'kamar', 'mandi', 'bagus', 'siang', 'panas', 'agk', 'rasa', 'beri', 'tutup', 'tempat', 'ramai', 'fasilitas', 'lumayan', 'sempat', 'dalam', 'meter', 'penuh', 'sesak', 'berani', 'meter', 'anak', 'suka', 'renang', 'tempat', 'lumayan', 'luas', 'lumayan', 'renang', 'anak', 'anak', 'perosot', 'kolam', 'renang', 'brawijaya', 'tutup', 'buka', 'rabu', 'kurang', 'air', 'keruh', 'batas', 'latih', 'tentara', 'al', 'renang', 'sesuai', 'lebih', 'murah', 'jenis', 'dalam', 'air', 'renang', 'trdapat', 'kolam', 'air', 'renang', 'anak', 'kolam', 'luas', 'ampun', 'sangat', 'kaporit', 'lebih', 'rendam', 'mata', 'perih', 'merah', 'kulit', 'jdi', 'cepat', 'hitam', 'panas', 'tempat', 'luas', 'kaporit', 'rambut', 'sulit', 'sisir', 'kolam', 'kolam', 'renang', 'brawijaya', 'nyaman', 'anak', 'ajar', 'renang', 'kolam', 'renang', 'bagus', 'harga', 'jangkau', 'sedia', 'level', 'dalam', 'main', 'anak', 'sedia', 'toko', 'jual', 'makan', 'lengkap', 'renang', 'atlet', 'klub', 'renang', 'kini', 'latih', 'cocok', 'renang', 'anak', 'keluarga', 'tmpatnya', 'panas', 'teduh', 'konsentrasi', 'koprit', 'kolam', 'renang', 'letak', 'tepat', 'belah', 'lapang', 'kodam', 'v', 'brawijaya', 'kolam', 'kolam', 'anak', 'kolam', 'dewasa', 'tempat', 'bersih', 'sayang', 'tunggu', 'panas', 'renang', 'nikmat', 'lezat', 'roti', 'john', 'senang', 'renang', 'harga', 'jangkau', 'buka', 'sabtu', 'minggu', 'tempatya', 'bagus', 'nyaman', 'bagus', 'kolam', 'renang', 'luas', 'wahana', 'toilet', 'kamar', 'mandi', 'kotor', 'bekas', 'tanah', 'sandal', 'tangga', 'kolam', 'renang', 'orang', 'jatuh', 'korban', 'anak', 'juga', 'orang', 'peleset', 'nyaman', 'renang', 'keluarga', 'kualitas', 'air', 'renang', 'kulit', 'perih', 'panas', 'gatal', 'murah', 'cocok', 'libur', 'suka', 'kolam', 'renang', 'bagus', 'nyaman', 'luas', 'cocok', 'keluarga', 'kolam', 'renang', 'anak', 'luas', 'lengkap', 'main', 'air', 'bersih', 'perih', 'di', 'mata', 'harga', 'jangkau', 'letak', 'di', 'wilayah', 'kodam', 'brawijaya', 'surabaya', 'mudah', 'nyarinya', 'ramai', 'parkir', 'panas', 'beri', 'prusutanya', 'hanya', 'bersih', 'penuh', 'aroma', 'kaporit', 'kamar', 'mandi', 'plus', 'dapat', 'ruang', 'tunggal', 'sayang', 'genang', 'sehingga', 'sulit', 'jaga', 'suci', 'lokasi', 'strategis', 'karena', 'sekitar', 'kompleks', 'markas', 'marinir', 'senang', 'rumah', 'bantu', 'proses', 'murah', 'dalam', 'meter', 'dewasa', 'bersih', 'senang', 'renang', 'teman', 'keluarga', 'kolam', 'renang', 'bagus', 'bersih', 'murah', 'tidak', 'komentar', 'sangat', 'hahaha', 'air', 'jernih', 'proses', 'air', 'masuk', 'saring', 'saring', 'masuk', 'saring', 'penuh', 'saring', 'senyum', 'indah', 'ajak', 'keluarga', 'senang', 'senang', 'lewat', 'kolam', 'renang', 'dekat', 'rumah', 'fasilitas', 'kalah', 'suka', 'ajak', 'keluarga', 'kesini', 'kolam', 'renang', 'lengkap', 'kolam', 'renang', 'khusus', 'anak', 'anak', 'fasilitas', 'perosot', 'kecewa', 'lengkap', 'duduk', 'kamar', 'ganti', 'bagus', 'kolam', 'renang', 'luas', 'perosot', 'anak', 'anak', 'kolam', 'renang', 'bagus', 'kotor', 'air', 'hijau', 'pagi', 'orang', 'pintu', 'masuk', 'murah', 'bersih', 'pop', 'mie', 'teh', 'dingin', 'air', 'mineral', 'dingin', 'dingin', 'santai', 'santai', 'hanya', 'kolam', 'renang', 'harap', 'tempayt', 'bagus', 'harga', 'fasilitas', 'fitnes', 'libur', 'ramai', 'parkir', 'gratis', 'harga', 'tiket', 'weekdays', 'tiket', 'murah', 'an', 'anak', 'dewasa', 'harga', 'tiket', 'kolam', 'anak', 'dewasa', 'dewasa', 'dalam', 'hanya', 'meter', 'harga', 'benar', 'sudah', 'bagus', 'hanya', 'air', 'keruh', 'bau', 'kaporit', 'sengat', 'sering', 'ramai', 'ingin', 'renang', 'cari', 'sepi', 'kolam', 'kolam', 'renang', 'luas', 'dalam', 'meter', 'kolam', 'renang', 'anak', 'dalam', 'sewa', 'ban', 'pompa', 'angin', 'jual', 'makan', 'so', 'kuatir', 'lapar', 'ruang', 'ganti', 'tepat', 'kesana', 'kecewa', 'flow', 'air', 'cocok', 'renang', 'suasana', 'tenang', 'ramai', 'kerja', 'loket', 'masuk', 'jangkau', 'harga', 'makan', 'minum', 'relatif', 'murah', 'sempit', 'kolam', 'renang', 'orang', 'masuk', 'bayar', 'saat', 'latih', 'renang', 'suruh', 'minggir', 'tidak', 'hanya', 'sampek', 'orang', 'latih', 'di sana', 'sudah', 'gitu', 'latih', 'renang', 'sampek', 'grup', 'harga', 'tiket', 'murah', 'hanya', 'lumayan', 'sepi', 'cocok', 'suka', 'sepi', 'fasilitas', 'jajan', 'dalam', 'worth', 'it', 'murah', 'kelas', 'warkop', 'nungguin', 'anak', 'les', 'renang', 'suruh', 'bayar', 'cari', 'kolam', 'renang', 'kodam', 'pilih', 'dekat', 'kolam', 'renang', 'hayam', 'wuruk', 'kolam', 'renang', 'luas', 'bagus', 'anak', 'dewasa', 'kantin', 'harga', 'gratis', 'parkir', 'tepat', 'libur', 'enak', 'sepi', 'kolam', 'dewasa', 'kolam', 'renang', 'kota', 'surabaya', 'murah', 'air', 'jernih', 'kolam', 'luas', 'kursus', 'renang', 'mula', 'pandu', 'latih', 'profesional', 'tiket', 'masuk', 'relatif', 'jangkau', 'kolam', 'lumayan', 'latih', 'tidak', 'masalah', 'klub', 'renang', 'kontak', 'sedia', 'kolam', 'renang', 'anak', 'dewasa', 'bagus', 'ajar', 'renang', 'banyak', 'wahana', 'main', 'keren', 'betah', 'murahhh', 'ramai', 'sama', 'latih', 'juga', 'kolam', 'lumayan', 'bersih', 'dewasa', 'anak', 'anak', 'kolam', 'hanya', 'sabtu', 'minggu', 'ramai', 'tenang', 'murah', 'tepat', 'kantong', 'kecewa', 'kolamya', 'kotor', 'awat', 'are', 'kolam', 'bersih', 'wekend', 'enak', 'manja', 'anak', 'renang', 'tambah', 'jajan', 'nafsu', 'ronta', 'ronta', 'beli', 'renang', 'perut', 'lapar', 'harga', 'tiket', 'kolam', 'renang', 'anak', 'tambah', 'perosot', 'main', 'meja', 'gazebo', 'rusak', 'kamar', 'mandi', 'jadul', 'bersih', 'bersih', 'pintu', 'juga', 'bnyak', 'kunci', 'air', 'kolam', 'kbersihannya', 'kecewa', 'jam', 'istirahat', 'buka', 'jam', 'kotor', 'air', 'kotor', 'kamar', 'mandi', 'samgat', 'kotor', 'buka', 'jam', 'tiket', 'libur', 'salah', 'lokasi', 'nyaman', 'latih', 'dalam', 'kolam', 'sesuai', 'latih', 'kolam', 'renang', 'hayam', 'wuruk', 'kantin', 'lengkap', 'menu', 'parkir', 'ruang', 'ganti', 'toilet', 'bersih', 'loker', 'bantu', 'jaga', 'murah', 'kolam', 'dalam', 'kolam', 'variasi', 'ukur', 'kolam', 'renang', 'standar', 'lomba', 'renang', 'kamar', 'ganti', 'sewa', 'kacamata', 'baju', 'renang', 'masuk', 'langsung', 'kantin', 'kolam', 'renang', 'hanya', 'bersih', 'standar', 'main', 'anak', 'cocok', 'cocok', 'les', 'renang', 'tempat', 'sepi', 'ramai', 'tiket', 'hanya', 'murah', 'lumayan', 'bersih', 'les', 'renang', 'murah', 'masuk', 'nyaman', 'tempat', 'tempat', 'ramai', 'kolam', 'bersih', 'kolam', 'kolam', 'anak', 'anak', 'kolam', 'remaja', 'dalam', 'meter', 'samping', 'kolam', 'renang', 'latih', 'tentara', 'umun', 'juga', 'lagi', 'ngetren', 'jam', 'now', 'roti', 'john', 'lagi', 'fenomenal', 'mboook', 'orang', 'antre', 'sembako', 'air', 'jernih', 'langsung', 'dalam', 'meter', 'renang', 'dalam', 'hanya', 'meter', 'ajar', 'renang', 'tempat', 'nyaman', 'bersih', 'harga', 'makan', 'dapat', 'jangkau', 'murah', 'cocok', 'ajar', 'renang', 'nilai', 'sejarah', 'favorit', 'sikecil', 'usia', 'th', 'moga', 'populer', 'tingkat', 'pelihara', 'awat', 'kolam', 'renang', 'air', 'keruh', 'sirkulasi', 'air', 'sampah', 'botol', 'liar', 'kolam', 'renang', 'parkir', 'tiket', 'masuk', 'kamar', 'mandi', 'bersih', 'kolam', 'renang', 'buka', 'jam', 'kali', 'kesini', 'kolam', 'lumut', 'kamar', 'ganti', 'mati', 'air', 'lapor', 'pancing', 'air', 'renang', 'sabtu', 'pagi', 'suasana', 'enak', 'relatif', 'sepi', 'banding', 'minggu', 'pagi', 'karcis', 'renang', 'bagus', 'kadang', 'air', 'bersih', 'tepat', 'bru', 'bersih', 'kadang', 'kotor', 'tiket', 'kadang', 'kotor', 'ramai', 'hari kerja', 'puas', 'renang', 'kolam', 'renang', 'bersih', 'murah', 'tiket', 'libur', 'sewa', 'lokernya', 'harga', 'jamin', 'ktp', 'ruang', 'ganti', 'bilik', 'mandi', 'khawatir', 'antre', 'nilai', 'plus', 'terima', 'privat', 'renang', 'minimal', 'usia', 'tahun', 'laki', 'wanita', 'dewasa', 'anak', 'anak', 'orang', 'tua', 'lumayan', 'tiket', 'masuk', 'murah', 'dalam', 'kolam', 'renang', 'meter', 'kolam', 'renang', 'anak', 'anak', 'senin', 'jumat', 'harga', 'bersih', 'kamar', 'mandi', 'bangun', 'kolam', 'anak', 'bersih', 'lumayan', 'mula', 'kuliner', 'enak', 'luar', 'kolam', 'renang', 'kesini', 'suami', 'anak', 'tiket', 'orang', 'kesana', 'weekdays', 'libur', 'panas', 'panas', 'terik', 'kanopi', 'kolam', 'renang', 'tempat', 'jalan', 'hayam', 'wuruk', 'sutos', 'arah', 'gunungsari', 'kolam', 'cepat', 'hijau', 'lihat', 'keruh', 'kolam', 'renang', 'kenal', 'masyarakat', 'bersih', 'renang', 'mula', 'tahap', 'ajar', 'area', 'kolam', 'renang', 'mudah', 'jangkau', 'harga', 'tiket', 'murah', 'kualitas', 'air', 'kolam', 'sesuai', 'harga', 'hati', 'mula', 'kolam', 'renang', 'hayam', 'wuruk', 'sisi', 'utara', 'nyaman', 'buka', 'renang', 'puas', 'banding', 'kolam', 'renang', 'surabaya', 'obat', 'aman', 'renang', 'kacamata', 'latih', 'renang', 'lumayan', 'pakai', 'sandal', 'panas', 'jernih', 'air', 'lumayan lah', 'td', 'ramai', 'libur', 'nyari', 'tenang', 'mending', 'hari kerja', 'fasilitas', 'lumayan', 'kolam', 'renang', 'kolam', 'renang', 'kolam', 'renang', 'dewasa', 'kolam', 'renang', 'anak', 'buah', 'perosot', 'sj', 'main', 'air', 'kolam', 'fasilitas', 'baik', 'air', 'kayak', 'dahulu', 'kaporit', 'bersih', 'normal', 'kolam', 'bersih', 'tetep', 'renang', 'murah', 'jangkau', 'les', 'renang', 'putra', 'putri', 'tepat', 'tempatx', 'kolam', 'bgus', 'bersih', 'tempat', 'bertduh', 'bawah', 'pohon', 'mangga', 'ayun', 'kecewa', 'air', 'pekat', 'kandung', 'kaporit', 'harga', 'makan', 'golong', 'mahal', 'tempat', 'lumayan', 'harga', 'makan', 'minum', 'di sana', 'standar', 'area', 'antar', 'panas', 'kl', 'siang', 'air', 'kolam', 'dinding', 'kolam', 'lumut', 'tebal', 'kamar', 'shower', 'awat', 'temu', 'botol', 'plastik', 'dasar', 'area', 'kolam', 'meter', 'bagus', 'bagus', 'tdi', 'hanya', 'jam', 'renang', 'tepat', 'dtg', 'sore', 'air', 'kolam', 'keruh', 'daun', 'apung', 'kolam', 'bersih', 'kamar', 'ganti', 'juga', 'lumut', 'kolam', 'renang', 'bersih', 'duduk', 'taruh', 'barang', 'bawa', 'tiket', 'masuk', 'murah', 'harga', 'sabtu', 'minggu', 'suka', 'renang', 'air', 'bersih', 'tepat', 'bersih', 'kolam', 'renang', 'ramai', 'awas', 'ekstra', 'kolam', 'bersih', 'lokasi', 'bersih', 'nyaman', 'tenang', 'kantin', 'buka', 'kolam', 'renang', 'bagus', 'bersih', 'cocok', 'anak', 'main', 'kolam', 'dewasa', 'cocok', 'latih', 'bagus', 'anak', 'mula', 'latih', 'bagus', 'anak', 'ajar', 'renang', 'ramai', 'kunjung', 'murah', 'orang', 'akses', 'jalan', 'mudah', 'parkir', 'is', 'baik', 'cocok', 'senang', 'buah', 'hati', 'air', 'kamar', 'bilas', 'mati', 'tugas', 'siaga', 'periksa', 'mesin', 'pompa', 'air', 'tiket', 'ribu', 'meter', 'kolam', 'seperti', 'kolam', 'minggu', 'air', 'keruh', 'jaral', 'pandang', 'hanya', 'bening', 'cocok', 'ajar', 'atau', 'ajar', 'kurg', 'bgs', 'panas', 'tidak', 'nyaman', 'tmptx', 'seperti', 'tidak', 'urus', 'apalagi', 'pohon', 'dingin', 'dahulu', 'di', 'tebang', 'panas', 'awat', 'kolam', 'parah', 'kolam', 'renang', 'lengkap', 'main', 'anak', 'anak', 'lebih', 'tepat', 'untuk', 'orang', 'latih', 'renang', 'kolam', 'renang', 'bagus', 'ajar', 'renang', 'wahana', 'main', 'air', 'jernih', 'bersih', 'kualitas', 'air', 'bagus', 'kamar', 'mandi', 'higienis', 'lumayan', 'nyaman', 'tempat', 'harga', 'tiket', 'ekonomis', 'hanya', 'harga', 'murah', 'kurang', 'kolam', 'renang', 'bersih', 'kolam', 'renang', 'kolam', 'keramik', 'pecah', 'sudah', 'seperti itu', 'jaga', 'lihat', 'risih', 'kamar', 'ganti', 'kotor', 'tidak', 'awat', 'kolam', 'renang', 'tiket', 'murah', 'kurang', 'kolam', 'sepi', 'ujung', 'kolam', 'renang', 'tiket', 'murah', 'kolam', 'anak', 'air', 'bersih', 'bagus', 'murah', 'latih', 'renang', 'latih', 'kolam', 'bagus', 'cocok', 'latih', 'renang', 'tempat', 'anak', 'ajar', 'renang', 'mula', 'fasilitas', 'anak', 'anak', 'kolom', 'renang', 'badan', 'saya', 'gatal', 'renang', 'tahan', 'gatal', 'rekomendasi', 'tidak', 'suatu waktu', 'kolam', 'kotor', 'ruang', 'ganti', 'awat', 'lumayan', 'tugas', 'bersih', 'pohon', 'tebang', 'panas', 'lumayan', 'bagus', 'air', 'banyak', 'kaporit', 'jernih', 'kolam', 'seru', 'cocok', 'harga', 'murah', 'bagus', 'bersih', 'harga', 'murah', 'ribu', 'bagus', 'latih', 'renang', 'tarik', 'tempat', 'cocok', 'ajar', 'renang', 'murah', 'panas', 'cocok', 'latih', 'renang', 'kakak', 'lebih', 'renang', 'bersih', 'bagus', 'nyaman', 'lumayan', 'ingin', 'renang', 'bagus', 'tempat', 'kolam', 'toilet', 'bersih', 'ribu', 'mahal', 'kolam', 'renang', 'milik', 'tentara', 'lumayan', 'bagus', 'anak', 'anak', 'tambah', 'main', 'saran', 'warga', 'surabaya', 'selatan', 'strategis', 'bersih', 'jamin', 'aman', 'nyaman', 'rekomendasi', 'latih', 'renang', 'rekreasi', 'keluarga', 'kolam', 'renang', 'hitung', 'murah', 'kawasan', 'surabaya', 'selatan', 'kolam', 'relatif', 'bersih', 'tertib', 'sedia', 'kolam', 'anak', 'kolam', 'bagus', 'awat', 'renang', 'main', 'harga', 'jangkau', 'libur', 'tiket', 'masuk', 'golong', 'murah', 'tempat', 'lumayan', 'kolam', 'renang', 'murah', 'kaporit', 'banyak', 'tempat', 'parkir', 'luas', 'depan', 'jalan', 'raya', 'mudah', 'akses', 'cari', 'kolam', 'bagus', 'bayar', 'murah', 'tiket', 'masuk', 'murah', 'basuh', 'terang', 'basuh', 'terang', 'kolam', 'renang', 'area', 'kodam', 'brawijaya', 'letak', 'jl', 'hayam', 'wuruk', 'surabaya', 'idola', 'anak', 'anak', 'kolam', 'renang', 'hayam', 'wuruk', 'malam', 'pusat', 'jajan', 'rakyat', 'ingin', 'ajar', 'renang', 'tempat', 'tiket', 'masuk', 'murah', 'kolam', 'bersih', 'awat', 'bersih', 'nyaman', 'seru', 'saat', 'pasang', 'kolam', 'renang', 'bersih', 'sih', 'senang', 'orang', 'jual', 'depan', 'tiket', 'oktober', 'orang', 'murah', 'lumayan', 'enak', 'harga', 'tiket', 'murah', 'fasilitas', 'jelek', 'meter', 'bakso', 'kikil', 'depan', 'baik', 'lumayan', 'murah', 'bersih', 'kecewa', 'dekat', 'murah', 'tetep', 'baik', 'harga', 'sehat', 'kalang', 'kolam', 'renang', 'bagus', 'murah', 'tempat', 'lumayan', 'rekreasi', 'murah', 'tempat', 'sepi', 'kolam', 'bersih', 'enak', 'tiket', 'jangkau', 'bagus', 'ajar', 'renang', 'kamar', 'mandi', 'kotor', 'bau', 'kencing', 'kolam', 'bersih', 'nyaman', 'hobi', 'renang', 'renang', 'bagus', 'murah', 'bersih', 'tiket', 'masuk', 'ajar', 'renang', 'cocok', 'kolam', 'renang', 'nyaman', 'pedas', 'mata', 'kolam', 'renang', 'bagus', 'luas', 'fasilitas', 'wadah', 'kes', 'awat', 'buka', 'batas', 'buka', 'jam', 'rabu', 'tutup', 'murah', 'selam', 'lumayan', 'air', 'hijau', 'tidak', 'tarik', 'bagus', 'kolam', 'renang', 'tempat', 'buka', 'luas', 'rena', 'parkir', 'luas', 'kolam', 'renang', 'bersih', 'jual', 'sate', 'depan', 'sesal', 'sudah', 'alam', 'tarik', 'layan', 'bagus', 'lumayan', 'bersih', 'kamar', 'mandi', 'rusak', 'pulih', 'latih', 'sama', 'tim', 'seka', 'kaimana', 'air', 'kotor', 'lumayan', 'tempat', 'bersih', 'fasilitas', 'tambah', 'lumayan', 'kembang', 'tingkat', 'bersih', 'panas', 'air', 'kandung', 'kaporit', 'cocok', 'ajar', 'renang', 'buka', 'tepat', 'kesana', 'tutup', 'tambah', 'air', 'boom', 'segar', 'panas', 'nang', 'suroboyo', 'tempat', 'enak', 'bersih', 'aman', 'tutup', 'cepat', 'air', 'kotor', 'murah', 'bersih', 'baik', 'fasilitas', 'lumayan', 'sepi', 'kotor', 'gatal', 'gatal', 'lumayan', 'murah', 'enak', 'buruk', 'sangat', 'sampah', 'jorok', 'bersih', 'nyaman', 'lumayan', 'senang', 'kamar', 'mandi', 'hanya', 'gimana', 'pojok', 'ludah', 'banyak', 'preman', 'sepi', 'tenang', 'air', 'keran', 'ruang', 'ganti', 'renovasi', 'kolam', 'renang', 'anak', 'rusak', 'renang', 'nabrak', 'sempit', 'tolong', 'unjung', 'penuh', 'masuk', 'in', 'renang', 'latian', 'tentara', 'darat', 'strategis', 'bersih', 'sarang', 'laba', 'murah', 'lumayan', 'murah', 'harga', 'kolam', 'renang', 'sutos', 'kecewa', 'lumayan', 'bagus', 'tempat', 'nyaman', 'kamar', 'mandi', 'kunci', 'mohon', 'benar', 'anak', 'renang', 'sampah', 'murah', 'sampah', 'bagus', 'santai', 'lumayan', 'tempat', 'sampah', 'gaada', 'jaga', 'sewa', 'ban', 'suka', 'hilang', 'berita palsu', 'baik', 'bagus', 'jelek', 'lumayan', 'murah', 'kreatif', 'tunggu', 'renang', 'latih', 'kolam', 'renang', 'hayam', 'wuruk', 'panas', 'teduh', 'kotor', 'senang', 'kolam', 'renang', 'baik', 'cocok', 'butuh', 'kolam', 'renang', 'profesional', 'bagus', 'renang', 'selam', 'area', 'kolam', 'dalam', 'meter', 'kamar', 'mandi', 'baik', 'bagus', 'baik', 'kamar', 'buruk', 'kamar', 'mandi', 'milik', 'partisi', 'tinggal', 'privasi', 'bagus', 'kolam', 'renang', 'bagus', 'buruk', 'kolam', 'renang', 'bagus', 'bersih', 'jaga', 'kolam', 'kolam', 'milik', 'dalam', 'agam', 'cocok', 'olahraga', 'renang', 'kolam', 'murah', 'bagus', 'toilet', 'renovasi', 'bagus', 'senang', 'bagus', 'bersih', 'bagus', 'butuh', 'main', 'poin', 'plus', 'kolam', 'renang', 'baru', 'bersih', 'malu', 'kamar', 'toilet', 'kelola', 'lepas', 'kondisi', 'toilet', 'buruk', 'kolam', 'renang', 'bagus', 'butuh', 'pelihara', 'baru', 'kolam', 'renang', 'rekomendasi', 'bagus', 'latih', 'yaaah', 'ajar', 'renang', 'kolam', 'favorit', 'renang', 'tempat', 'bersih', 'jorok', 'toilet', 'bersih', 'titip', 'barang', 'bayar', 'tempat', 'tunggu', 'sedikit', 'gimana', 'indah', 'renang', 'tunggu', 'masuk', 'semua', 'bingung', 'duduk', 'duduk', 'bagus', 'renang', 'fasilitas', 'air', 'kamar', 'mandi', 'jelek', 'kolam', 'bersih', 'jorok', 'jaga', 'tempat', 'kotor', 'awat', 'jorok', 'kursi', 'kunjung', 'lah', 'lumayan', 'kamar', 'mandi', 'baik', 'tolong', 'beri', 'gitu', 'kolam', 'tidak', 'panas', 'bakar', 'kolam', 'renang', 'bagus', 'air', 'panas', 'luka', 'mata', 'air', 'perih', 'mata', 'ngak', 'pakek', 'kacamata', 'kolam', 'bersih', 'tolong', 'perhati', 'kualitas', 'air', 'pinjam', 'alat', 'bantu', 'renang', 'kolam', 'renang', 'bagus', 'area', 'kolam', 'renang', 'fasilitas', 'toilet', 'kunci', 'mohon', 'realisasi', 'alat', 'aman', 'nyaman', 'suka', 'renang', 'bersih', 'bawa', 'kaca', 'mata', 'renang', 'kaporit', 'kuat', 'pintu', 'masuk', 'ti', 'kolam', 'renang', 'luas', 'bersih', 'parkir', 'luas', 'pintu', 'masuk', 'murah', 'harga', 'tiket', 'jangkau', 'les', 'renang', 'al', 'bersih', 'sayang', 'jual', 'makan', 'kolam', 'renang', 'anak', 'anak', 'rusak', 'air', 'keran', 'ruang', 'ganti', 'baik', 'sempurna', 'segar', 'panas', 'enak', 'murah', 'tepat', 'libur', 'kayak', 'dawet', 'tiket', 'bagus', 'enak', 'murah', 'harga', 'tiket', 'masuk', 'jangkau', 'kolam', 'renang', 'harga', 'masuk', 'jangkau', 'sayang', 'main', 'luas', 'air', 'bersih', 'cocok', 'anak', 'ajar', 'renang', 'harap', 'sih', 'kolam', 'renang', 'buka', 'masuk', 'murah', 'nyaman', 'inti', 'puas', 'renang', 'bagus', 'fasilitas', 'bagus', 'harga', 'bagus', 'bersih', 'kamar', 'mandi', 'tempat', 'bersih', 'luas', 'harga', 'tiket', 'murah', 'highly', 'rekomendasi', 'kolam', 'renang', 'intens', 'latih', 'renang', 'tes', 'dinas', 'kolam', 'renang', 'enak', 'olahraga', 'parkir', 'luas', 'pintu', 'masuk', 'murah', 'tempat', 'seru', 'ramai', 'tempat', 'luas', 'tampung', 'kunjung', 'kotor', 'lumayan', 'bersih', 'kolam', 'renang', 'daerah', 'gunung', 'kolam', 'renang', 'bagus', 'tempat', 'luas', 'info', 'kursus', 'renang', 'anak', 'hubung', 'kolam', 'renang', 'bagus', 'sayang', 'kamar', 'mandi', 'kotor', 'air', 'kolam', 'lumayan', 'bersih', 'toilet', 'kamar', 'mandi', 'ruang', 'ganti', 'minggu', 'kotor', 'kuras', 'senin', 'selasa', 'kemarin', 'kolam', 'kotor', 'lebar', 'klorin', 'buat', 'panas', 'kulit', 'air', 'kolam', 'lumayan', 'bersih', 'lingkung', 'bersih', 'kolam', 'renang', 'gor', 'tribun', 'kotor', 'buang', 'sampah', 'sembarang', 'siring', 'bawa', 'anak', 'anak', 'kesana', 'renang', 'tingkat', 'bersih', 'kolam', 'renang', 'luas', 'parkir', 'luas', 'panas', 'tepat', 'kolam', 'renang', 'bersih', 'tolong', 'baik', 'pintu', 'kamar', 'mandi', 'wanita', 'terkadang', 'air', 'kolam', 'renang', 'kotor', 'bersih', 'murah', 'latih', 'renang', 'anak', 'luas', 'tiket', 'murah', 'rekomendasi', 'olah', 'raga', 'murah', 'baik', 'kolam', 'renang', 'murah', 'surabaya', 'minim', 'main', 'anak', 'mending', 'kamar', 'mandi', 'plus', 'ruang', 'ganti', 'renang', 'les', 'renang', 'fasilitas', 'kolam', 'renang', 'duduk', 'mengakomodir', 'butuh', 'santa', 'bagus', 'jaga', 'kolam', 'perhati', 'bagus', 'tempat', 'bersih', 'nyaman', 'renang', 'harga', 'jangkau', 'kolam', 'bagus', 'kualitas', 'air', 'kadang', 'jernih', 'kadang', 'hijau', 'kolam', 'renang', 'atlet', 'bersih', 'rapi', 'bagus', 'maju', 'latih', 'latih', 'ramah', 'kadang', 'air', 'jernih', 'kadang', 'kadang', 'baik', 'kumpul', 'olahraga', 'keluarga', 'tempat', 'luas', 'air', 'segar', 'plus', 'kolam', 'renang', 'harap', 'perhati', 'kualitas', 'air', 'pinjam', 'baik', 'air', 'dingin', 'sampah', 'kolam', 'renang', 'mudah', 'temu', 'kotor', 'ludah', 'anak', 'dsuruh', 'kencing', 'kolam', 'dpantauan', 'kebersihanya', 'jorok', 'ramai', 'karyawannya', 'ramah', 'tutup', 'suka', 'renang', 'air', 'bersih', 'tepat', 'bersih', 'kolam', 'renang', 'ramai', 'awas', 'ekstra', 'kolam', 'renang', 'air', 'asin', 'awas', 'pilih', 'beri', 'kacau', 'pikir', 'mahal', 'kamar', 'mandi', 'jelek', 'kolam', 'renang', 'buka', 'awas', 'air', 'warna', 'hijau', 'musim', 'panas', 'bersih', 'kena', 'panas', 'orang', 'renang', 'drpada', 'musim', 'hujan', 'bau', 'kaporit', 'tingkat', 'shower', 'kamar', 'mandi', 'keras', 'kali', 'situ', 'langsung', 'kecewa', 'kotor', 'kamar', 'mandi', 'rusak', 'suasana', 'bagus', 'air', 'asin', 'hijau', 'panas', 'kecewa', 'jaga', 'ramah', 'buruk', 'sepi', 'panas', 'kepleset', 'berita', 'palsu', 'main', 'anak', 'rawat', 'duduk', 'wajib', 'lepas', 'sandal', 'padahal', 'panas', 'aduh', 'kolam', 'mata', 'perih', 'iya', 'kamar', 'mandi', 'tolong', 'bersihin', 'ala', 'kadar', 'sepi', 'bersih', 'biru', 'hebat', 'kolam', 'renang', 'bau', 'klorin', 'sengat', 'senang', 'karyawannya', 'ramah', 'nyaman', 'ajar', 'renang', 'suasana', 'bagus', 'murah', 'bagus', 'bersih', 'bersih', 'fasilitas', 'kamar', 'mandi', 'bersih', 'latih', 'renang', 'murah', 'ceria', 'favorit', 'cocok', 'latih', 'anak', 'anak', 'pintu', 'ruang', 'ganti', 'wanita', 'rusak', 'harga', 'murah', 'kolam', 'lumayan', 'ajar', 'renang', 'tolong', 'baik', 'kamar', 'mandi', 'kotor', 'bau', 'rawat', 'tempat', 'bagus', 'bersih', 'acara', 'kunjung', 'disiplin', 'buang', 'sampah', 'air', 'jernih', 'klorin', 'kolam', 'renang', 'bersih', 'fasilitas', 'bagus', 'anak', 'anak', 'suka', 'bersih', 'nyaman', 'cocok', 'renang', 'kolam', 'renang', 'buruk', 'kolam', 'renang', 'favorit', 'keluarga', 'bersih', 'kolam', 'renang', 'bagus', 'rekomendasi', 'kolam', 'renang', 'bagus', 'harga', 'bagus', 'keren', 'bagus', 'renang']\n"
          ]
        }
      ]
    },
    {
      "cell_type": "code",
      "source": [
        "def tf(data):\n",
        "  data_tf= {}\n",
        "  for kata in data:\n",
        "    if kata in data_tf:\n",
        "      data_tf[kata] +=1\n",
        "    else:\n",
        "      data_tf[kata] = 1\n",
        "\n",
        "  for kata in data_tf:\n",
        "    data_tf[kata]= data_tf[kata]/len(data)\n",
        "  return data_tf\n",
        "\n",
        "Ulasan_tf= tf(list_gabungan_prepro)"
      ],
      "metadata": {
        "id": "zUFd_MtKvb2h"
      },
      "execution_count": null,
      "outputs": []
    },
    {
      "cell_type": "code",
      "source": [
        "print ('HASIL TF')\n",
        "print (Ulasan_tf)"
      ],
      "metadata": {
        "colab": {
          "base_uri": "https://localhost:8080/"
        },
        "id": "a77gLWFDwTvD",
        "outputId": "78d2c825-3cde-4da0-a6eb-98e7dde86344"
      },
      "execution_count": null,
      "outputs": [
        {
          "output_type": "stream",
          "name": "stdout",
          "text": [
            "HASIL TF\n",
            "{'tempat': 0.014713343480466767, 'nyaman': 0.01141552511415525, 'parkir': 0.006341958396752917, 'luas': 0.011669203450025367, 'kadang': 0.0027904616945712835, 'kamar': 0.016235413495687467, 'mandi': 0.013444951801116184, 'kotor': 0.009386098427194317, 'bagus': 0.02815829528158295, 'bersih': 0.04134956874682902, 'tugas': 0.0010147133434804667, 'periksa': 0.0005073566717402334, 'jam': 0.0035514967021816335, 'jaga': 0.0043125317097919835, 'air': 0.02359208523592085, 'kolam': 0.0669710806697108, 'anak': 0.03145611364789447, 'panas': 0.010147133434804667, 'kayak': 0.00076103500761035, 'beri': 0.0017757483510908167, 'hias': 0.0002536783358701167, 'dingin': 0.0017757483510908167, 'lindung': 0.0005073566717402334, 'untuk': 0.00076103500761035, 'suka': 0.0027904616945712835, 'renang': 0.0684931506849315, 'sabtu': 0.0017757483510908167, 'ini': 0.0002536783358701167, 'doa': 0.0002536783358701167, 'hujan': 0.0005073566717402334, 'tidak': 0.0027904616945712835, 'kesini': 0.0015220700152207, 'sesal': 0.0005073566717402334, 'masuk': 0.010147133434804667, 'banyak': 0.0015220700152207, 'atur': 0.0005073566717402334, 'antar': 0.00076103500761035, 'pakai': 0.0027904616945712835, 'sepatu': 0.0002536783358701167, 'istri': 0.0005073566717402334, 'damping': 0.0005073566717402334, 'kaos': 0.0002536783358701167, 'kaki': 0.00076103500761035, 'rekomendasi': 0.0025367833587011668, 'fitnes': 0.0005073566717402334, 'lokernya': 0.0005073566717402334, 'kartu': 0.0002536783358701167, 'ajar': 0.006341958396752917, 'tidak bisa': 0.0002536783358701167, 'loger': 0.0002536783358701167, 'adik saya': 0.0005073566717402334, 'bom': 0.0002536783358701167, 'dapat': 0.0012683916793505834, 'loker': 0.0010147133434804667, 'uang': 0.0002536783358701167, 'hilang': 0.0012683916793505834, 'aduh': 0.0005073566717402334, 'kecewa': 0.0050735667174023336, 'minggu': 0.0045662100456621, 'ramai': 0.006595636732623034, 'bos': 0.00076103500761035, 'mahal': 0.00228310502283105, 'senin': 0.0012683916793505834, 'buka': 0.0045662100456621, 'kerja': 0.00076103500761035, 'libur': 0.007102993404363267, 'ingin': 0.0015220700152207, 'kejar': 0.0002536783358701167, 'kartika': 0.0002536783358701167, 'eka': 0.0002536783358701167, 'paksi': 0.0002536783358701167, 'harga': 0.016996448503297817, 'pegawai': 0.0002536783358701167, 'ramah': 0.0020294266869609334, 'ganti': 0.008625063419583967, 'rapi': 0.0010147133434804667, 'hari': 0.0010147133434804667, 'hijau': 0.0020294266869609334, 'dewasa': 0.006341958396752917, 'tiket': 0.014967021816336884, 'lumayan': 0.014205986808726534, 'perhati': 0.0020294266869609334, 'fasilitas': 0.006341958396752917, 'pria': 0.00076103500761035, 'engsel': 0.0002536783358701167, 'pintu': 0.0025367833587011668, 'ganjal': 0.0002536783358701167, 'rusak': 0.0020294266869609334, 'bebas': 0.0005073566717402334, 'jajan': 0.0010147133434804667, 'lengkap': 0.00228310502283105, 'profesional': 0.00076103500761035, 'pohon': 0.0012683916793505834, 'kunjung': 0.00380517503805175, 'sedikit': 0.00076103500761035, 'keramik': 0.0005073566717402334, 'pinggir': 0.0010147133434804667, 'licin': 0.0005073566717402334, 'lebih': 0.0015220700152207, 'hati': 0.0012683916793505834, 'inti': 0.0005073566717402334, 'keluarga': 0.004058853373921867, 'oke': 0.0002536783358701167, 'murah': 0.02207001522070015, 'keruh': 0.00228310502283105, 'ribu': 0.0020294266869609334, 'militer': 0.0005073566717402334, 'pandemi': 0.0002536783358701167, 'covid': 0.0002536783358701167, 'batas': 0.0012683916793505834, 'kawasan': 0.00076103500761035, 'patuh': 0.0002536783358701167, 'protokol': 0.0005073566717402334, 'kualitas': 0.0025367833587011668, 'tim': 0.0005073566717402334, 'sar': 0.0002536783358701167, 'ruang': 0.005834601725012684, 'bilas': 0.0012683916793505834, 'modern': 0.0002536783358701167, 'kantin': 0.003297818366311517, 'musala': 0.0005073566717402334, 'aman': 0.0020294266869609334, 'pagi': 0.0020294266869609334, 'niat': 0.0005073566717402334, 'rekreasi': 0.0012683916793505834, 'brawijaya': 0.0025367833587011668, 'beli': 0.00076103500761035, 'habis': 0.0002536783358701167, 'salah': 0.00076103500761035, 'turut': 0.0002536783358701167, 'enak': 0.00532724505327245, 'surabaya': 0.0030441400304414, 'tunggu': 0.0030441400304414, 'kena': 0.0005073566717402334, 'orang': 0.00380517503805175, 'temapat': 0.0002536783358701167, 'tempatny': 0.0002536783358701167, 'main': 0.005834601725012684, 'tambah': 0.0027904616945712835, 'baik': 0.005834601725012684, 'di bawah': 0.0002536783358701167, 'tahun': 0.0010147133434804667, 'sruh': 0.0002536783358701167, 'bayar': 0.0017757483510908167, 'padahal': 0.0005073566717402334, 'wisata': 0.0002536783358701167, 'gratis': 0.00076103500761035, 'karcis': 0.0005073566717402334, 'kepala': 0.0002536783358701167, 'awas': 0.0017757483510908167, 'tepi': 0.0002536783358701167, 'jalan': 0.0012683916793505834, 'mudah': 0.0020294266869609334, 'akses': 0.0010147133434804667, 'kompleks': 0.0010147133434804667, 'rumah': 0.00228310502283105, 'kodam': 0.0020294266869609334, 'warga': 0.0005073566717402334, 'butuh': 0.0015220700152207, 'jasa': 0.0002536783358701167, 'latih': 0.009639776763064434, 'silah': 0.0002536783358701167, 'hubung': 0.0005073566717402334, 'tlp': 0.0002536783358701167, 'wa': 0.0002536783358701167, 'riah': 0.0002536783358701167, 'saran': 0.0015220700152207, 'penuh': 0.0020294266869609334, 'kemarin': 0.0005073566717402334, 'susah': 0.0005073566717402334, 'ukur': 0.0012683916793505834, 'dalem': 0.0002536783358701167, 'teman': 0.00076103500761035, 'perosot': 0.0017757483510908167, 'slide': 0.0002536783358701167, 'standar': 0.0012683916793505834, 'internasional': 0.0002536783358701167, 'dalam': 0.005834601725012684, 'meter': 0.0050735667174023336, 'jernih': 0.003297818366311517, 'relatif': 0.0017757483510908167, 'kota': 0.0005073566717402334, 'sehat': 0.0005073566717402334, 'sedia': 0.0025367833587011668, 'bawa': 0.0015220700152207, 'makan': 0.0035514967021816335, 'mungkin': 0.0002536783358701167, 'les': 0.0020294266869609334, 'di sana': 0.0010147133434804667, 'laku': 0.0002536783358701167, 'member': 0.0002536783358701167, 'gitu': 0.00076103500761035, 'alas': 0.0005073566717402334, 'peleset': 0.00076103500761035, 'arah': 0.0005073566717402334, 'harus': 0.0002536783358701167, 'lepas': 0.00076103500761035, 'kenal': 0.0005073566717402334, 'tahap': 0.0005073566717402334, 'sungguh': 0.0002536783358701167, 'lokasi': 0.0010147133434804667, 'jangkau': 0.006595636732623034, 'banding': 0.0010147133434804667, 'event': 0.0002536783358701167, 'hemat': 0.0002536783358701167, 'kuluarga': 0.0002536783358701167, 'mohon': 0.0012683916793505834, 'duduk': 0.0035514967021816335, 'payung': 0.0002536783358701167, 'tenda': 0.0002536783358701167, 'meja': 0.0005073566717402334, 'bagi': 0.0002536783358701167, 'mata': 0.0035514967021816335, 'merah': 0.00076103500761035, 'sakit': 0.0002536783358701167, 'pedih': 0.0010147133434804667, 'tata': 0.0002536783358701167, 'hahaha': 0.0005073566717402334, 'kesana': 0.0012683916793505834, 'warna': 0.0005073566717402334, 'kuras': 0.00076103500761035, 'cocok': 0.007356671740233384, 'tempa': 0.0002536783358701167, 'area': 0.00228310502283105, 'normal': 0.00076103500761035, 'asri': 0.0002536783358701167, 'teduh': 0.0017757483510908167, 'siang': 0.0012683916793505834, 'panass': 0.0002536783358701167, 'hanya': 0.00532724505327245, 'tolong': 0.00228310502283105, 'shower': 0.00076103500761035, 'benar': 0.00076103500761035, 'mati': 0.00076103500761035, 'antre': 0.0010147133434804667, 'kaporit': 0.0050735667174023336, 'kejut': 0.0002536783358701167, 'dekat': 0.0010147133434804667, 'lantai': 0.0012683916793505834, 'becek': 0.00076103500761035, 'perempuan': 0.0002536783358701167, 'salur': 0.0002536783358701167, 'sumbat': 0.0002536783358701167, 'banjir': 0.0002536783358701167, 'singgah': 0.0002536783358701167, 'hari kerja': 0.0010147133434804667, 'balita': 0.0002536783358701167, 'layak': 0.0002536783358701167, 'rabu': 0.0010147133434804667, 'kamis': 0.0005073566717402334, 'ngasi': 0.0002536783358701167, 'bau': 0.0017757483510908167, 'sengat': 0.00076103500761035, 'pilih': 0.00076103500761035, 'piknik': 0.0002536783358701167, 'maju': 0.0005073566717402334, 'toilet': 0.0030441400304414, 'sudah': 0.0017757483510908167, 'moga': 0.0005073566717402334, 'depan': 0.0012683916793505834, 'bangku': 0.0002536783358701167, 'atau': 0.0005073566717402334, 'macam': 0.0002536783358701167, 'istirahat': 0.0005073566717402334, 'sukses': 0.0002536783358701167, 'di': 0.0015220700152207, 'sinar': 0.0002536783358701167, 'matahari': 0.0002536783358701167, 'jumat': 0.00076103500761035, 'baca': 0.0002536783358701167, 'tanggal': 0.0005073566717402334, 'motor': 0.0002536783358701167, 'mobil': 0.0002536783358701167, 'sewa': 0.0017757483510908167, 'baju': 0.0010147133434804667, 'segar': 0.0010147133434804667, 'renovasi': 0.00076103500761035, 'cadang': 0.0002536783358701167, 'vip': 0.0002536783358701167, 'mula': 0.0020294266869609334, 'ekspert': 0.0002536783358701167, 'senang': 0.0043125317097919835, 'lingkung': 0.0005073566717402334, 'sampah': 0.00228310502283105, 'alat': 0.00076103500761035, 'tunjang': 0.0002536783358701167, 'keropos': 0.0002536783358701167, 'khawatir': 0.0005073566717402334, 'luka': 0.0005073566717402334, 'masih': 0.0005073566717402334, 'nyisir': 0.0002536783358701167, 'rambut': 0.0005073566717402334, 'unjung': 0.0005073566717402334, 'madi': 0.0002536783358701167, 'belum': 0.0002536783358701167, 'kanopi': 0.0005073566717402334, 'rakyat': 0.0005073566717402334, 'konsekuensi': 0.0002536783358701167, 'jorok': 0.0015220700152207, 'tipe': 0.0002536783358701167, 'outdoor': 0.0002536783358701167, 'untung': 0.0002536783358701167, 'pisah': 0.0002536783358701167, 'kali': 0.0010147133434804667, 'lipat': 0.0002536783358701167, 'juga': 0.0017757483510908167, 'jamin': 0.00076103500761035, 'puas': 0.0012683916793505834, 'hobi': 0.0005073566717402334, 'minimal': 0.0005073566717402334, 'wahana': 0.0015220700152207, 'gazebo': 0.0005073566717402334, 'simpan': 0.0002536783358701167, 'barang': 0.0010147133434804667, 'ktp': 0.0005073566717402334, 'tenggelam': 0.0002536783358701167, 'bahaya': 0.0002536783358701167, 'awat': 0.0035514967021816335, 'gaada': 0.0005073566717402334, 'coba': 0.0005073566717402334, 'pekan': 0.00076103500761035, 'siswa': 0.0002536783358701167, 'junior': 0.0002536783358701167, 'ambil': 0.0002536783358701167, 'kursus': 0.00076103500761035, 'unisex': 0.0002536783358701167, 'benah': 0.0005073566717402334, 'segitu': 0.0002536783358701167, 'tutup': 0.0020294266869609334, 'sore': 0.0010147133434804667, 'siaga': 0.0005073566717402334, 'mie': 0.0005073566717402334, 'telur': 0.0002536783358701167, 'tingkat': 0.0020294266869609334, 'ekonomis': 0.0005073566717402334, 'kantong': 0.00076103500761035, 'pasti': 0.0002536783358701167, 'sepi': 0.00380517503805175, 'sandal': 0.0010147133434804667, 'aneh': 0.0002536783358701167, 'rem': 0.0002536783358701167, 'rombong': 0.0002536783358701167, 'sekolah': 0.0002536783358701167, 'siram': 0.0002536783358701167, 'olahraga': 0.0015220700152207, 'nyenening': 0.0002536783358701167, 'jadwal': 0.0002536783358701167, 'senyum': 0.0005073566717402334, 'sangat': 0.0015220700152207, 'sesuai': 0.0010147133434804667, 'puluh': 0.0002536783358701167, 'menyenangkn': 0.0002536783358701167, 'atas': 0.0002536783358701167, 'karpet': 0.0002536783358701167, 'ban': 0.00076103500761035, 'juni': 0.0002536783358701167, 'raya': 0.0005073566717402334, 'strategis': 0.0010147133434804667, 'dan': 0.0002536783358701167, 'cepat': 0.0010147133434804667, 'perih': 0.0017757483510908167, 'was': 0.0005073566717402334, 'milik': 0.0010147133434804667, 'taman': 0.0002536783358701167, 'jual': 0.0017757483510908167, 'kendara': 0.0002536783358701167, 'sayang': 0.0015220700152207, 'atap': 0.0002536783358701167, 'wilayah': 0.0005073566717402334, 'tentara': 0.0017757483510908167, 'akan': 0.0002536783358701167, 'manfaat': 0.0002536783358701167, 'masyarakat': 0.0005073566717402334, 'favorit': 0.0012683916793505834, 'karena': 0.0005073566717402334, 'dri': 0.0002536783358701167, 'kesan': 0.0005073566717402334, 'tepat': 0.00380517503805175, 'bareng': 0.0002536783358701167, 'usir': 0.0002536783358701167, 'pada': 0.0002536783358701167, 'indah': 0.00076103500761035, 'lagi': 0.00076103500761035, 'terus': 0.0002536783358701167, 'isi': 0.0002536783358701167, 'publik': 0.0002536783358701167, 'tarif': 0.0002536783358701167, 'idam': 0.0002536783358701167, 'belah': 0.0005073566717402334, 'lapang': 0.0005073566717402334, 'hitam': 0.0005073566717402334, 'iya': 0.00076103500761035, 'gazebonya': 0.0002536783358701167, 'minim': 0.0005073566717402334, 'sih': 0.00076103500761035, 'bolong': 0.0002536783358701167, 'wkwk': 0.0002536783358701167, 'gelap': 0.0002536783358701167, 'kacamata': 0.0010147133434804667, 'rendam': 0.0005073566717402334, 'olah': 0.0005073566717402334, 'raga': 0.0005073566717402334, 'golong': 0.00076103500761035, 'warung': 0.0002536783358701167, 'biaya': 0.0005073566717402334, 'daerah': 0.0005073566717402334, 'dar': 0.0002536783358701167, 'bawah': 0.0005073566717402334, 'lebar': 0.0005073566717402334, 'kursi': 0.0005073566717402334, 'lihat': 0.00076103500761035, 'rugi': 0.0002536783358701167, 'ngajak': 0.0002536783358701167, 'temen': 0.0005073566717402334, 'atlet': 0.00076103500761035, 'aktifitas': 0.0002536783358701167, 'klub': 0.00076103500761035, 'kini': 0.0005073566717402334, 'stand': 0.0002536783358701167, 'agk': 0.0002536783358701167, 'rasa': 0.0002536783358701167, 'sempat': 0.0002536783358701167, 'sesak': 0.0002536783358701167, 'berani': 0.0002536783358701167, 'kurang': 0.00076103500761035, 'al': 0.0005073566717402334, 'jenis': 0.0002536783358701167, 'trdapat': 0.0002536783358701167, 'ampun': 0.0002536783358701167, 'kulit': 0.00076103500761035, 'jdi': 0.0002536783358701167, 'sulit': 0.0005073566717402334, 'sisir': 0.0002536783358701167, 'level': 0.0002536783358701167, 'toko': 0.0002536783358701167, 'tmpatnya': 0.0002536783358701167, 'konsentrasi': 0.0002536783358701167, 'koprit': 0.0002536783358701167, 'letak': 0.00076103500761035, 'v': 0.0002536783358701167, 'nikmat': 0.0002536783358701167, 'lezat': 0.0002536783358701167, 'roti': 0.0005073566717402334, 'john': 0.0005073566717402334, 'tempatya': 0.0002536783358701167, 'bekas': 0.0002536783358701167, 'tanah': 0.0002536783358701167, 'tangga': 0.0002536783358701167, 'jatuh': 0.0002536783358701167, 'korban': 0.0002536783358701167, 'gatal': 0.0012683916793505834, 'nyarinya': 0.0002536783358701167, 'prusutanya': 0.0002536783358701167, 'aroma': 0.0002536783358701167, 'plus': 0.0012683916793505834, 'tunggal': 0.0002536783358701167, 'genang': 0.0002536783358701167, 'sehingga': 0.0002536783358701167, 'suci': 0.0002536783358701167, 'sekitar': 0.0002536783358701167, 'markas': 0.0002536783358701167, 'marinir': 0.0002536783358701167, 'bantu': 0.00076103500761035, 'proses': 0.0005073566717402334, 'komentar': 0.0002536783358701167, 'saring': 0.0010147133434804667, 'ajak': 0.0005073566717402334, 'lewat': 0.0002536783358701167, 'kalah': 0.0002536783358701167, 'khusus': 0.0002536783358701167, 'pop': 0.0002536783358701167, 'teh': 0.0002536783358701167, 'mineral': 0.0002536783358701167, 'santai': 0.00076103500761035, 'harap': 0.00076103500761035, 'tempayt': 0.0002536783358701167, 'weekdays': 0.0005073566717402334, 'an': 0.0002536783358701167, 'sering': 0.0002536783358701167, 'cari': 0.00076103500761035, 'pompa': 0.0005073566717402334, 'angin': 0.0002536783358701167, 'so': 0.0002536783358701167, 'kuatir': 0.0002536783358701167, 'lapar': 0.0005073566717402334, 'flow': 0.0002536783358701167, 'suasana': 0.0010147133434804667, 'tenang': 0.0012683916793505834, 'loket': 0.0002536783358701167, 'minum': 0.0005073566717402334, 'sempit': 0.0005073566717402334, 'saat': 0.0005073566717402334, 'suruh': 0.0005073566717402334, 'minggir': 0.0002536783358701167, 'sampek': 0.0005073566717402334, 'grup': 0.0002536783358701167, 'worth': 0.0002536783358701167, 'it': 0.0002536783358701167, 'kelas': 0.0002536783358701167, 'warkop': 0.0002536783358701167, 'nungguin': 0.0002536783358701167, 'hayam': 0.0017757483510908167, 'wuruk': 0.0017757483510908167, 'pandu': 0.0002536783358701167, 'masalah': 0.0002536783358701167, 'kontak': 0.0002536783358701167, 'keren': 0.0005073566717402334, 'betah': 0.0002536783358701167, 'murahhh': 0.0002536783358701167, 'sama': 0.0005073566717402334, 'kolamya': 0.0002536783358701167, 'are': 0.0002536783358701167, 'wekend': 0.0002536783358701167, 'manja': 0.0002536783358701167, 'nafsu': 0.0002536783358701167, 'ronta': 0.0005073566717402334, 'perut': 0.0002536783358701167, 'jadul': 0.0002536783358701167, 'bnyak': 0.0002536783358701167, 'kunci': 0.00076103500761035, 'kbersihannya': 0.0002536783358701167, 'samgat': 0.0002536783358701167, 'menu': 0.0002536783358701167, 'variasi': 0.0002536783358701167, 'lomba': 0.0002536783358701167, 'langsung': 0.00076103500761035, 'remaja': 0.0002536783358701167, 'samping': 0.0002536783358701167, 'umun': 0.0002536783358701167, 'ngetren': 0.0002536783358701167, 'now': 0.0002536783358701167, 'fenomenal': 0.0002536783358701167, 'mboook': 0.0002536783358701167, 'sembako': 0.0002536783358701167, 'nilai': 0.0005073566717402334, 'sejarah': 0.0002536783358701167, 'sikecil': 0.0002536783358701167, 'usia': 0.0005073566717402334, 'th': 0.0002536783358701167, 'populer': 0.0002536783358701167, 'pelihara': 0.0005073566717402334, 'sirkulasi': 0.0002536783358701167, 'botol': 0.0005073566717402334, 'liar': 0.0002536783358701167, 'lumut': 0.00076103500761035, 'lapor': 0.0002536783358701167, 'pancing': 0.0002536783358701167, 'bru': 0.0002536783358701167, 'bilik': 0.0002536783358701167, 'terima': 0.0002536783358701167, 'privat': 0.0002536783358701167, 'laki': 0.0002536783358701167, 'wanita': 0.00076103500761035, 'tua': 0.0002536783358701167, 'bangun': 0.0002536783358701167, 'kuliner': 0.0002536783358701167, 'luar': 0.0002536783358701167, 'suami': 0.0002536783358701167, 'terik': 0.0002536783358701167, 'sutos': 0.0005073566717402334, 'gunungsari': 0.0002536783358701167, 'sisi': 0.0002536783358701167, 'utara': 0.0002536783358701167, 'obat': 0.0002536783358701167, 'lumayan lah': 0.0002536783358701167, 'td': 0.0002536783358701167, 'nyari': 0.0002536783358701167, 'mending': 0.0005073566717402334, 'buah': 0.0005073566717402334, 'sj': 0.0002536783358701167, 'dahulu': 0.0005073566717402334, 'tetep': 0.0005073566717402334, 'putra': 0.0002536783358701167, 'putri': 0.0002536783358701167, 'tempatx': 0.0002536783358701167, 'bgus': 0.0002536783358701167, 'bertduh': 0.0002536783358701167, 'mangga': 0.0002536783358701167, 'ayun': 0.0002536783358701167, 'pekat': 0.0002536783358701167, 'kandung': 0.0005073566717402334, 'kl': 0.0002536783358701167, 'dinding': 0.0002536783358701167, 'tebal': 0.0002536783358701167, 'temu': 0.0005073566717402334, 'plastik': 0.0002536783358701167, 'dasar': 0.0002536783358701167, 'tdi': 0.0002536783358701167, 'dtg': 0.0002536783358701167, 'daun': 0.0002536783358701167, 'apung': 0.0002536783358701167, 'taruh': 0.0002536783358701167, 'ekstra': 0.0005073566717402334, 'is': 0.0002536783358701167, 'mesin': 0.0002536783358701167, 'seperti': 0.0005073566717402334, 'jaral': 0.0002536783358701167, 'pandang': 0.0002536783358701167, 'bening': 0.0002536783358701167, 'kurg': 0.0002536783358701167, 'bgs': 0.0002536783358701167, 'tmptx': 0.0002536783358701167, 'urus': 0.0002536783358701167, 'apalagi': 0.0002536783358701167, 'tebang': 0.0005073566717402334, 'parah': 0.0002536783358701167, 'higienis': 0.0002536783358701167, 'pecah': 0.0002536783358701167, 'seperti itu': 0.0002536783358701167, 'risih': 0.0002536783358701167, 'ujung': 0.0002536783358701167, 'kolom': 0.0002536783358701167, 'badan': 0.0002536783358701167, 'saya': 0.0002536783358701167, 'tahan': 0.0002536783358701167, 'suatu waktu': 0.0002536783358701167, 'seru': 0.00076103500761035, 'tarik': 0.00076103500761035, 'kakak': 0.0002536783358701167, 'selatan': 0.0005073566717402334, 'hitung': 0.0002536783358701167, 'tertib': 0.0002536783358701167, 'basuh': 0.0005073566717402334, 'terang': 0.0005073566717402334, 'jl': 0.0002536783358701167, 'idola': 0.0002536783358701167, 'malam': 0.0002536783358701167, 'pusat': 0.0002536783358701167, 'pasang': 0.0002536783358701167, 'oktober': 0.0002536783358701167, 'jelek': 0.0010147133434804667, 'bakso': 0.0002536783358701167, 'kikil': 0.0002536783358701167, 'kalang': 0.0002536783358701167, 'kencing': 0.0005073566717402334, 'pedas': 0.0002536783358701167, 'wadah': 0.0002536783358701167, 'kes': 0.0002536783358701167, 'selam': 0.0005073566717402334, 'rena': 0.0002536783358701167, 'sate': 0.0002536783358701167, 'alam': 0.0002536783358701167, 'layan': 0.0002536783358701167, 'pulih': 0.0002536783358701167, 'seka': 0.0002536783358701167, 'kaimana': 0.0002536783358701167, 'kembang': 0.0002536783358701167, 'boom': 0.0002536783358701167, 'nang': 0.0002536783358701167, 'suroboyo': 0.0002536783358701167, 'buruk': 0.0015220700152207, 'gimana': 0.0005073566717402334, 'pojok': 0.0002536783358701167, 'ludah': 0.0005073566717402334, 'preman': 0.0002536783358701167, 'keran': 0.0005073566717402334, 'nabrak': 0.0002536783358701167, 'in': 0.0002536783358701167, 'latian': 0.0002536783358701167, 'darat': 0.0002536783358701167, 'sarang': 0.0002536783358701167, 'laba': 0.0002536783358701167, 'berita palsu': 0.0002536783358701167, 'kreatif': 0.0002536783358701167, 'partisi': 0.0002536783358701167, 'tinggal': 0.0002536783358701167, 'privasi': 0.0002536783358701167, 'agam': 0.0002536783358701167, 'poin': 0.0002536783358701167, 'baru': 0.0005073566717402334, 'malu': 0.0002536783358701167, 'kelola': 0.0002536783358701167, 'kondisi': 0.0002536783358701167, 'yaaah': 0.0002536783358701167, 'titip': 0.0002536783358701167, 'semua': 0.0002536783358701167, 'bingung': 0.0002536783358701167, 'lah': 0.0002536783358701167, 'bakar': 0.0002536783358701167, 'ngak': 0.0002536783358701167, 'pakek': 0.0002536783358701167, 'pinjam': 0.0005073566717402334, 'realisasi': 0.0002536783358701167, 'kaca': 0.0002536783358701167, 'kuat': 0.0002536783358701167, 'ti': 0.0002536783358701167, 'sempurna': 0.0002536783358701167, 'dawet': 0.0002536783358701167, 'highly': 0.0002536783358701167, 'intens': 0.0002536783358701167, 'tes': 0.0002536783358701167, 'dinas': 0.0002536783358701167, 'tampung': 0.0002536783358701167, 'gunung': 0.0002536783358701167, 'info': 0.0002536783358701167, 'selasa': 0.0002536783358701167, 'klorin': 0.00076103500761035, 'buat': 0.0002536783358701167, 'gor': 0.0002536783358701167, 'tribun': 0.0002536783358701167, 'buang': 0.0005073566717402334, 'sembarang': 0.0002536783358701167, 'siring': 0.0002536783358701167, 'terkadang': 0.0002536783358701167, 'mengakomodir': 0.0002536783358701167, 'santa': 0.0002536783358701167, 'kumpul': 0.0002536783358701167, 'dsuruh': 0.0002536783358701167, 'dpantauan': 0.0002536783358701167, 'kebersihanya': 0.0002536783358701167, 'karyawannya': 0.0005073566717402334, 'asin': 0.0005073566717402334, 'kacau': 0.0002536783358701167, 'pikir': 0.0002536783358701167, 'musim': 0.0005073566717402334, 'drpada': 0.0002536783358701167, 'keras': 0.0002536783358701167, 'situ': 0.0002536783358701167, 'kepleset': 0.0002536783358701167, 'berita': 0.0002536783358701167, 'palsu': 0.0002536783358701167, 'rawat': 0.0005073566717402334, 'wajib': 0.0002536783358701167, 'bersihin': 0.0002536783358701167, 'ala': 0.0002536783358701167, 'kadar': 0.0002536783358701167, 'biru': 0.0002536783358701167, 'hebat': 0.0002536783358701167, 'ceria': 0.0002536783358701167, 'acara': 0.0002536783358701167, 'disiplin': 0.0002536783358701167}\n"
          ]
        }
      ]
    },
    {
      "cell_type": "code",
      "source": [
        "def df(datadf):\n",
        "  data_df= {}\n",
        "  for data in datadf:\n",
        "      for kata in data:\n",
        "          if kata in data_df:\n",
        "              data_df[kata] +=1\n",
        "          else:\n",
        "              data_df [kata]= 1\n",
        "  return data_df\n",
        "\n",
        "Ulasan_df= df(Ulasan_stem)"
      ],
      "metadata": {
        "id": "wdzaNk-mwgJ5"
      },
      "execution_count": null,
      "outputs": []
    },
    {
      "cell_type": "code",
      "source": [
        "print ('HASIL DF')\n",
        "print (Ulasan_df)"
      ],
      "metadata": {
        "colab": {
          "base_uri": "https://localhost:8080/"
        },
        "id": "h-84y1KQBxQg",
        "outputId": "2c33ea48-3d0f-4470-e5e9-849e99ef7c0d"
      },
      "execution_count": null,
      "outputs": [
        {
          "output_type": "stream",
          "name": "stdout",
          "text": [
            "HASIL DF\n",
            "{'tempat': 58, 'nyaman': 45, 'parkir': 25, 'luas': 46, 'kadang': 11, 'kamar': 64, 'mandi': 53, 'kotor': 37, 'bagus': 111, 'bersih': 163, 'tugas': 4, 'periksa': 2, 'jam': 14, 'jaga': 17, 'air': 93, 'kolam': 264, 'anak': 124, 'panas': 40, 'kayak': 3, 'beri': 7, 'hias': 1, 'dingin': 7, 'lindung': 2, 'untuk': 3, 'suka': 11, 'renang': 270, 'sabtu': 7, 'ini': 1, 'doa': 1, 'hujan': 2, 'tidak': 11, 'kesini': 6, 'sesal': 2, 'masuk': 40, 'banyak': 6, 'atur': 2, 'antar': 3, 'pakai': 11, 'sepatu': 1, 'istri': 2, 'damping': 2, 'kaos': 1, 'kaki': 3, 'rekomendasi': 10, 'fitnes': 2, 'lokernya': 2, 'kartu': 1, 'ajar': 25, 'tidak bisa': 1, 'loger': 1, 'adik saya': 2, 'bom': 1, 'dapat': 5, 'loker': 4, 'uang': 1, 'hilang': 5, 'aduh': 2, 'kecewa': 20, 'minggu': 18, 'ramai': 26, 'bos': 3, 'mahal': 9, 'senin': 5, 'buka': 18, 'kerja': 3, 'libur': 28, 'ingin': 6, 'kejar': 1, 'kartika': 1, 'eka': 1, 'paksi': 1, 'harga': 67, 'pegawai': 1, 'ramah': 8, 'ganti': 34, 'rapi': 4, 'hari': 4, 'hijau': 8, 'dewasa': 25, 'tiket': 59, 'lumayan': 56, 'perhati': 8, 'fasilitas': 25, 'pria': 3, 'engsel': 1, 'pintu': 10, 'ganjal': 1, 'rusak': 8, 'bebas': 2, 'jajan': 4, 'lengkap': 9, 'profesional': 3, 'pohon': 5, 'kunjung': 15, 'sedikit': 3, 'keramik': 2, 'pinggir': 4, 'licin': 2, 'lebih': 6, 'hati': 5, 'inti': 2, 'keluarga': 16, 'oke': 1, 'murah': 87, 'keruh': 9, 'ribu': 8, 'militer': 2, 'pandemi': 1, 'covid': 1, 'batas': 5, 'kawasan': 3, 'patuh': 1, 'protokol': 2, 'kualitas': 10, 'tim': 2, 'sar': 1, 'ruang': 23, 'bilas': 5, 'modern': 1, 'kantin': 13, 'musala': 2, 'aman': 8, 'pagi': 8, 'niat': 2, 'rekreasi': 5, 'brawijaya': 10, 'beli': 3, 'habis': 1, 'salah': 3, 'turut': 1, 'enak': 21, 'surabaya': 12, 'tunggu': 12, 'kena': 2, 'orang': 15, 'temapat': 1, 'tempatny': 1, 'main': 23, 'tambah': 11, 'baik': 23, 'di bawah': 1, 'tahun': 4, 'sruh': 1, 'bayar': 7, 'padahal': 2, 'wisata': 1, 'gratis': 3, 'karcis': 2, 'kepala': 1, 'awas': 7, 'tepi': 1, 'jalan': 5, 'mudah': 8, 'akses': 4, 'kompleks': 4, 'rumah': 9, 'kodam': 8, 'warga': 2, 'butuh': 6, 'jasa': 1, 'latih': 38, 'silah': 1, 'hubung': 2, 'tlp': 1, 'wa': 1, 'riah': 1, 'saran': 6, 'penuh': 8, 'kemarin': 2, 'susah': 2, 'ukur': 5, 'dalem': 1, 'teman': 3, 'perosot': 7, 'slide': 1, 'standar': 5, 'internasional': 1, 'dalam': 23, 'meter': 20, 'jernih': 13, 'relatif': 7, 'kota': 2, 'sehat': 2, 'sedia': 10, 'bawa': 6, 'makan': 14, 'mungkin': 1, 'les': 8, 'di sana': 4, 'laku': 1, 'member': 1, 'gitu': 3, 'alas': 2, 'peleset': 3, 'arah': 2, 'harus': 1, 'lepas': 3, 'kenal': 2, 'tahap': 2, 'sungguh': 1, 'lokasi': 4, 'jangkau': 26, 'banding': 4, 'event': 1, 'hemat': 1, 'kuluarga': 1, 'mohon': 5, 'duduk': 14, 'payung': 1, 'tenda': 1, 'meja': 2, 'bagi': 1, 'mata': 14, 'merah': 3, 'sakit': 1, 'pedih': 4, 'tata': 1, 'hahaha': 2, 'kesana': 5, 'warna': 2, 'kuras': 3, 'cocok': 29, 'tempa': 1, 'area': 9, 'normal': 3, 'asri': 1, 'teduh': 7, 'siang': 5, 'panass': 1, 'hanya': 21, 'tolong': 9, 'shower': 3, 'benar': 3, 'mati': 3, 'antre': 4, 'kaporit': 20, 'kejut': 1, 'dekat': 4, 'lantai': 5, 'becek': 3, 'perempuan': 1, 'salur': 1, 'sumbat': 1, 'banjir': 1, 'singgah': 1, 'hari kerja': 4, 'balita': 1, 'layak': 1, 'rabu': 4, 'kamis': 2, 'ngasi': 1, 'bau': 7, 'sengat': 3, 'pilih': 3, 'piknik': 1, 'maju': 2, 'toilet': 12, 'sudah': 7, 'moga': 2, 'depan': 5, 'bangku': 1, 'atau': 2, 'macam': 1, 'istirahat': 2, 'sukses': 1, 'di': 6, 'sinar': 1, 'matahari': 1, 'jumat': 3, 'baca': 1, 'tanggal': 2, 'motor': 1, 'mobil': 1, 'sewa': 7, 'baju': 4, 'segar': 4, 'renovasi': 3, 'cadang': 1, 'vip': 1, 'mula': 8, 'ekspert': 1, 'senang': 17, 'lingkung': 2, 'sampah': 9, 'alat': 3, 'tunjang': 1, 'keropos': 1, 'khawatir': 2, 'luka': 2, 'masih': 2, 'nyisir': 1, 'rambut': 2, 'unjung': 2, 'madi': 1, 'belum': 1, 'kanopi': 2, 'rakyat': 2, 'konsekuensi': 1, 'jorok': 6, 'tipe': 1, 'outdoor': 1, 'untung': 1, 'pisah': 1, 'kali': 4, 'lipat': 1, 'juga': 7, 'jamin': 3, 'puas': 5, 'hobi': 2, 'minimal': 2, 'wahana': 6, 'gazebo': 2, 'simpan': 1, 'barang': 4, 'ktp': 2, 'tenggelam': 1, 'bahaya': 1, 'awat': 14, 'gaada': 2, 'coba': 2, 'pekan': 3, 'siswa': 1, 'junior': 1, 'ambil': 1, 'kursus': 3, 'unisex': 1, 'benah': 2, 'segitu': 1, 'tutup': 8, 'sore': 4, 'siaga': 2, 'mie': 2, 'telur': 1, 'tingkat': 8, 'ekonomis': 2, 'kantong': 3, 'pasti': 1, 'sepi': 15, 'sandal': 4, 'aneh': 1, 'rem': 1, 'rombong': 1, 'sekolah': 1, 'siram': 1, 'olahraga': 6, 'nyenening': 1, 'jadwal': 1, 'senyum': 2, 'sangat': 6, 'sesuai': 4, 'puluh': 1, 'menyenangkn': 1, 'atas': 1, 'karpet': 1, 'ban': 3, 'juni': 1, 'raya': 2, 'strategis': 4, 'dan': 1, 'cepat': 4, 'perih': 7, 'was': 2, 'milik': 4, 'taman': 1, 'jual': 7, 'kendara': 1, 'sayang': 6, 'atap': 1, 'wilayah': 2, 'tentara': 7, 'akan': 1, 'manfaat': 1, 'masyarakat': 2, 'favorit': 5, 'karena': 2, 'dri': 1, 'kesan': 2, 'tepat': 15, 'bareng': 1, 'usir': 1, 'pada': 1, 'indah': 3, 'lagi': 3, 'terus': 1, 'isi': 1, 'publik': 1, 'tarif': 1, 'idam': 1, 'belah': 2, 'lapang': 2, 'hitam': 2, 'iya': 3, 'gazebonya': 1, 'minim': 2, 'sih': 3, 'bolong': 1, 'wkwk': 1, 'gelap': 1, 'kacamata': 4, 'rendam': 2, 'olah': 2, 'raga': 2, 'golong': 3, 'warung': 1, 'biaya': 2, 'daerah': 2, 'dar': 1, 'bawah': 2, 'lebar': 2, 'kursi': 2, 'lihat': 3, 'rugi': 1, 'ngajak': 1, 'temen': 2, 'atlet': 3, 'aktifitas': 1, 'klub': 3, 'kini': 2, 'stand': 1, 'agk': 1, 'rasa': 1, 'sempat': 1, 'sesak': 1, 'berani': 1, 'kurang': 3, 'al': 2, 'jenis': 1, 'trdapat': 1, 'ampun': 1, 'kulit': 3, 'jdi': 1, 'sulit': 2, 'sisir': 1, 'level': 1, 'toko': 1, 'tmpatnya': 1, 'konsentrasi': 1, 'koprit': 1, 'letak': 3, 'v': 1, 'nikmat': 1, 'lezat': 1, 'roti': 2, 'john': 2, 'tempatya': 1, 'bekas': 1, 'tanah': 1, 'tangga': 1, 'jatuh': 1, 'korban': 1, 'gatal': 5, 'nyarinya': 1, 'prusutanya': 1, 'aroma': 1, 'plus': 5, 'tunggal': 1, 'genang': 1, 'sehingga': 1, 'suci': 1, 'sekitar': 1, 'markas': 1, 'marinir': 1, 'bantu': 3, 'proses': 2, 'komentar': 1, 'saring': 4, 'ajak': 2, 'lewat': 1, 'kalah': 1, 'khusus': 1, 'pop': 1, 'teh': 1, 'mineral': 1, 'santai': 3, 'harap': 3, 'tempayt': 1, 'weekdays': 2, 'an': 1, 'sering': 1, 'cari': 3, 'pompa': 2, 'angin': 1, 'so': 1, 'kuatir': 1, 'lapar': 2, 'flow': 1, 'suasana': 4, 'tenang': 5, 'loket': 1, 'minum': 2, 'sempit': 2, 'saat': 2, 'suruh': 2, 'minggir': 1, 'sampek': 2, 'grup': 1, 'worth': 1, 'it': 1, 'kelas': 1, 'warkop': 1, 'nungguin': 1, 'hayam': 7, 'wuruk': 7, 'pandu': 1, 'masalah': 1, 'kontak': 1, 'keren': 2, 'betah': 1, 'murahhh': 1, 'sama': 2, 'kolamya': 1, 'are': 1, 'wekend': 1, 'manja': 1, 'nafsu': 1, 'ronta': 2, 'perut': 1, 'jadul': 1, 'bnyak': 1, 'kunci': 3, 'kbersihannya': 1, 'samgat': 1, 'menu': 1, 'variasi': 1, 'lomba': 1, 'langsung': 3, 'remaja': 1, 'samping': 1, 'umun': 1, 'ngetren': 1, 'now': 1, 'fenomenal': 1, 'mboook': 1, 'sembako': 1, 'nilai': 2, 'sejarah': 1, 'sikecil': 1, 'usia': 2, 'th': 1, 'populer': 1, 'pelihara': 2, 'sirkulasi': 1, 'botol': 2, 'liar': 1, 'lumut': 3, 'lapor': 1, 'pancing': 1, 'bru': 1, 'bilik': 1, 'terima': 1, 'privat': 1, 'laki': 1, 'wanita': 3, 'tua': 1, 'bangun': 1, 'kuliner': 1, 'luar': 1, 'suami': 1, 'terik': 1, 'sutos': 2, 'gunungsari': 1, 'sisi': 1, 'utara': 1, 'obat': 1, 'lumayan lah': 1, 'td': 1, 'nyari': 1, 'mending': 2, 'buah': 2, 'sj': 1, 'dahulu': 2, 'tetep': 2, 'putra': 1, 'putri': 1, 'tempatx': 1, 'bgus': 1, 'bertduh': 1, 'mangga': 1, 'ayun': 1, 'pekat': 1, 'kandung': 2, 'kl': 1, 'dinding': 1, 'tebal': 1, 'temu': 2, 'plastik': 1, 'dasar': 1, 'tdi': 1, 'dtg': 1, 'daun': 1, 'apung': 1, 'taruh': 1, 'ekstra': 2, 'is': 1, 'mesin': 1, 'seperti': 2, 'jaral': 1, 'pandang': 1, 'bening': 1, 'kurg': 1, 'bgs': 1, 'tmptx': 1, 'urus': 1, 'apalagi': 1, 'tebang': 2, 'parah': 1, 'higienis': 1, 'pecah': 1, 'seperti itu': 1, 'risih': 1, 'ujung': 1, 'kolom': 1, 'badan': 1, 'saya': 1, 'tahan': 1, 'suatu waktu': 1, 'seru': 3, 'tarik': 3, 'kakak': 1, 'selatan': 2, 'hitung': 1, 'tertib': 1, 'basuh': 2, 'terang': 2, 'jl': 1, 'idola': 1, 'malam': 1, 'pusat': 1, 'pasang': 1, 'oktober': 1, 'jelek': 4, 'bakso': 1, 'kikil': 1, 'kalang': 1, 'kencing': 2, 'pedas': 1, 'wadah': 1, 'kes': 1, 'selam': 2, 'rena': 1, 'sate': 1, 'alam': 1, 'layan': 1, 'pulih': 1, 'seka': 1, 'kaimana': 1, 'kembang': 1, 'boom': 1, 'nang': 1, 'suroboyo': 1, 'buruk': 6, 'gimana': 2, 'pojok': 1, 'ludah': 2, 'preman': 1, 'keran': 2, 'nabrak': 1, 'in': 1, 'latian': 1, 'darat': 1, 'sarang': 1, 'laba': 1, 'berita palsu': 1, 'kreatif': 1, 'partisi': 1, 'tinggal': 1, 'privasi': 1, 'agam': 1, 'poin': 1, 'baru': 2, 'malu': 1, 'kelola': 1, 'kondisi': 1, 'yaaah': 1, 'titip': 1, 'semua': 1, 'bingung': 1, 'lah': 1, 'bakar': 1, 'ngak': 1, 'pakek': 1, 'pinjam': 2, 'realisasi': 1, 'kaca': 1, 'kuat': 1, 'ti': 1, 'sempurna': 1, 'dawet': 1, 'highly': 1, 'intens': 1, 'tes': 1, 'dinas': 1, 'tampung': 1, 'gunung': 1, 'info': 1, 'selasa': 1, 'klorin': 3, 'buat': 1, 'gor': 1, 'tribun': 1, 'buang': 2, 'sembarang': 1, 'siring': 1, 'terkadang': 1, 'mengakomodir': 1, 'santa': 1, 'kumpul': 1, 'dsuruh': 1, 'dpantauan': 1, 'kebersihanya': 1, 'karyawannya': 2, 'asin': 2, 'kacau': 1, 'pikir': 1, 'musim': 2, 'drpada': 1, 'keras': 1, 'situ': 1, 'kepleset': 1, 'berita': 1, 'palsu': 1, 'rawat': 2, 'wajib': 1, 'bersihin': 1, 'ala': 1, 'kadar': 1, 'biru': 1, 'hebat': 1, 'ceria': 1, 'acara': 1, 'disiplin': 1}\n"
          ]
        }
      ]
    },
    {
      "cell_type": "code",
      "source": [
        "n_data = len(Ulasan_df)\n",
        "\n",
        "def idf(__n_data, __Ulasan_df):\n",
        "  data_idf={}\n",
        "  for kata in __Ulasan_df:\n",
        "    data_idf[kata]= np.log(__n_data / (__Ulasan_df[kata] + 1))\n",
        "  return data_idf\n",
        "\n",
        "Ulasan_idf= idf(n_data, Ulasan_df)"
      ],
      "metadata": {
        "id": "HCaiiLKZKLCW"
      },
      "execution_count": null,
      "outputs": []
    },
    {
      "cell_type": "code",
      "source": [
        "print ('HASIL IDF')\n",
        "print (Ulasan_idf)"
      ],
      "metadata": {
        "colab": {
          "base_uri": "https://localhost:8080/"
        },
        "id": "P6uPPESsNnd3",
        "outputId": "1d4ffe6e-16e7-4fd3-f2cc-915fa365277f"
      },
      "execution_count": null,
      "outputs": [
        {
          "output_type": "stream",
          "name": "stdout",
          "text": [
            "HASIL IDF\n",
            "{'tempat': 2.516876015844059, 'nyaman': 2.7657720632606835, 'parkir': 3.3363169217282964, 'luas': 2.7442658580397197, 'kadang': 4.109506809961778, 'kamar': 2.4200261898541413, 'mandi': 2.605429413185504, 'kotor': 2.956827300023393, 'bagus': 1.875914588454684, 'bersih': 1.49454703192558, 'tugas': 4.9849755473156785, 'periksa': 5.495801171081669, 'jam': 3.8863632586475685, 'jaga': 3.704041701853614, 'air': 2.0511186774797747, 'kolam': 1.0146836337635563, 'anak': 1.7660997224474773, 'panas': 2.8808413930454706, 'kayak': 5.208119098629888, 'beri': 4.514971918069943, 'hias': 5.901266279189834, 'dingin': 4.514971918069943, 'lindung': 5.495801171081669, 'untuk': 5.208119098629888, 'suka': 4.109506809961778, 'renang': 0.9922946388700776, 'sabtu': 4.514971918069943, 'ini': 5.901266279189834, 'doa': 5.901266279189834, 'hujan': 5.495801171081669, 'tidak': 4.109506809961778, 'kesini': 4.6485033106944655, 'sesal': 5.495801171081669, 'masuk': 2.8808413930454706, 'banyak': 4.6485033106944655, 'atur': 5.495801171081669, 'antar': 5.208119098629888, 'pakai': 4.109506809961778, 'sepatu': 5.901266279189834, 'istri': 5.495801171081669, 'damping': 5.495801171081669, 'kaos': 5.901266279189834, 'kaki': 5.208119098629888, 'rekomendasi': 4.196518186951408, 'fitnes': 5.495801171081669, 'lokernya': 5.495801171081669, 'kartu': 5.901266279189834, 'ajar': 3.3363169217282964, 'tidak bisa': 5.901266279189834, 'loger': 5.901266279189834, 'adik saya': 5.495801171081669, 'bom': 5.901266279189834, 'dapat': 4.802653990521724, 'loker': 4.9849755473156785, 'uang': 5.901266279189834, 'hilang': 4.802653990521724, 'aduh': 5.495801171081669, 'kecewa': 3.5498910220263555, 'minggu': 3.649974480583338, 'ramai': 3.2985765937454494, 'bos': 5.208119098629888, 'mahal': 4.291828366755733, 'senin': 4.802653990521724, 'buka': 3.649974480583338, 'kerja': 5.208119098629888, 'libur': 3.2271176297633044, 'ingin': 4.6485033106944655, 'kejar': 5.901266279189834, 'kartika': 5.901266279189834, 'eka': 5.901266279189834, 'paksi': 5.901266279189834, 'harga': 2.3749057545736716, 'pegawai': 5.901266279189834, 'ramah': 4.397188882413559, 'ganti': 3.039065398260365, 'rapi': 4.9849755473156785, 'hari': 4.9849755473156785, 'hijau': 4.397188882413559, 'dewasa': 3.3363169217282964, 'tiket': 2.5000688975276777, 'lumayan': 2.5513621919152283, 'perhati': 4.397188882413559, 'fasilitas': 3.3363169217282964, 'pria': 5.208119098629888, 'engsel': 5.901266279189834, 'pintu': 4.196518186951408, 'ganjal': 5.901266279189834, 'rusak': 4.397188882413559, 'bebas': 5.495801171081669, 'jajan': 4.9849755473156785, 'lengkap': 4.291828366755733, 'profesional': 5.208119098629888, 'pohon': 4.802653990521724, 'kunjung': 3.8218247375099974, 'sedikit': 5.208119098629888, 'keramik': 5.495801171081669, 'pinggir': 4.9849755473156785, 'licin': 5.495801171081669, 'lebih': 4.6485033106944655, 'hati': 4.802653990521724, 'inti': 5.495801171081669, 'keluarga': 3.7612001156935624, 'oke': 5.901266279189834, 'murah': 2.117076645271572, 'keruh': 4.291828366755733, 'ribu': 4.397188882413559, 'militer': 5.495801171081669, 'pandemi': 5.901266279189834, 'covid': 5.901266279189834, 'batas': 4.802653990521724, 'kawasan': 5.208119098629888, 'patuh': 5.901266279189834, 'protokol': 5.495801171081669, 'kualitas': 4.196518186951408, 'tim': 5.495801171081669, 'sar': 5.901266279189834, 'ruang': 3.416359629401833, 'bilas': 4.802653990521724, 'modern': 5.901266279189834, 'kantin': 3.9553561301345197, 'musala': 5.495801171081669, 'aman': 4.397188882413559, 'pagi': 4.397188882413559, 'niat': 5.495801171081669, 'rekreasi': 4.802653990521724, 'brawijaya': 4.196518186951408, 'beli': 5.208119098629888, 'habis': 5.901266279189834, 'salah': 5.208119098629888, 'turut': 5.901266279189834, 'enak': 3.5033710063914625, 'surabaya': 4.029464102288242, 'tunggu': 4.029464102288242, 'kena': 5.495801171081669, 'orang': 3.8218247375099974, 'temapat': 5.901266279189834, 'tempatny': 5.901266279189834, 'main': 3.416359629401833, 'tambah': 4.109506809961778, 'baik': 3.416359629401833, 'di bawah': 5.901266279189834, 'tahun': 4.9849755473156785, 'sruh': 5.901266279189834, 'bayar': 4.514971918069943, 'padahal': 5.495801171081669, 'wisata': 5.901266279189834, 'gratis': 5.208119098629888, 'karcis': 5.495801171081669, 'kepala': 5.901266279189834, 'awas': 4.514971918069943, 'tepi': 5.901266279189834, 'jalan': 4.802653990521724, 'mudah': 4.397188882413559, 'akses': 4.9849755473156785, 'kompleks': 4.9849755473156785, 'rumah': 4.291828366755733, 'kodam': 4.397188882413559, 'warga': 5.495801171081669, 'butuh': 4.6485033106944655, 'jasa': 5.901266279189834, 'latih': 2.9308518136201323, 'silah': 5.901266279189834, 'hubung': 5.495801171081669, 'tlp': 5.901266279189834, 'wa': 5.901266279189834, 'riah': 5.901266279189834, 'saran': 4.6485033106944655, 'penuh': 4.397188882413559, 'kemarin': 5.495801171081669, 'susah': 5.495801171081669, 'ukur': 4.802653990521724, 'dalem': 5.901266279189834, 'teman': 5.208119098629888, 'perosot': 4.514971918069943, 'slide': 5.901266279189834, 'standar': 4.802653990521724, 'internasional': 5.901266279189834, 'dalam': 3.416359629401833, 'meter': 3.5498910220263555, 'jernih': 3.9553561301345197, 'relatif': 4.514971918069943, 'kota': 5.495801171081669, 'sehat': 5.495801171081669, 'sedia': 4.196518186951408, 'bawa': 4.6485033106944655, 'makan': 3.8863632586475685, 'mungkin': 5.901266279189834, 'les': 4.397188882413559, 'di sana': 4.9849755473156785, 'laku': 5.901266279189834, 'member': 5.901266279189834, 'gitu': 5.208119098629888, 'alas': 5.495801171081669, 'peleset': 5.208119098629888, 'arah': 5.495801171081669, 'harus': 5.901266279189834, 'lepas': 5.208119098629888, 'kenal': 5.495801171081669, 'tahap': 5.495801171081669, 'sungguh': 5.901266279189834, 'lokasi': 4.9849755473156785, 'jangkau': 3.2985765937454494, 'banding': 4.9849755473156785, 'event': 5.901266279189834, 'hemat': 5.901266279189834, 'kuluarga': 5.901266279189834, 'mohon': 4.802653990521724, 'duduk': 3.8863632586475685, 'payung': 5.901266279189834, 'tenda': 5.901266279189834, 'meja': 5.495801171081669, 'bagi': 5.901266279189834, 'mata': 3.8863632586475685, 'merah': 5.208119098629888, 'sakit': 5.901266279189834, 'pedih': 4.9849755473156785, 'tata': 5.901266279189834, 'hahaha': 5.495801171081669, 'kesana': 4.802653990521724, 'warna': 5.495801171081669, 'kuras': 5.208119098629888, 'cocok': 3.193216078087623, 'tempa': 5.901266279189834, 'area': 4.291828366755733, 'normal': 5.208119098629888, 'asri': 5.901266279189834, 'teduh': 4.514971918069943, 'siang': 4.802653990521724, 'panass': 5.901266279189834, 'hanya': 3.5033710063914625, 'tolong': 4.291828366755733, 'shower': 5.208119098629888, 'benar': 5.208119098629888, 'mati': 5.208119098629888, 'antre': 4.9849755473156785, 'kaporit': 3.5498910220263555, 'kejut': 5.901266279189834, 'dekat': 4.9849755473156785, 'lantai': 4.802653990521724, 'becek': 5.208119098629888, 'perempuan': 5.901266279189834, 'salur': 5.901266279189834, 'sumbat': 5.901266279189834, 'banjir': 5.901266279189834, 'singgah': 5.901266279189834, 'hari kerja': 4.9849755473156785, 'balita': 5.901266279189834, 'layak': 5.901266279189834, 'rabu': 4.9849755473156785, 'kamis': 5.495801171081669, 'ngasi': 5.901266279189834, 'bau': 4.514971918069943, 'sengat': 5.208119098629888, 'pilih': 5.208119098629888, 'piknik': 5.901266279189834, 'maju': 5.495801171081669, 'toilet': 4.029464102288242, 'sudah': 4.514971918069943, 'moga': 5.495801171081669, 'depan': 4.802653990521724, 'bangku': 5.901266279189834, 'atau': 5.495801171081669, 'macam': 5.901266279189834, 'istirahat': 5.495801171081669, 'sukses': 5.901266279189834, 'di': 4.6485033106944655, 'sinar': 5.901266279189834, 'matahari': 5.901266279189834, 'jumat': 5.208119098629888, 'baca': 5.901266279189834, 'tanggal': 5.495801171081669, 'motor': 5.901266279189834, 'mobil': 5.901266279189834, 'sewa': 4.514971918069943, 'baju': 4.9849755473156785, 'segar': 4.9849755473156785, 'renovasi': 5.208119098629888, 'cadang': 5.901266279189834, 'vip': 5.901266279189834, 'mula': 4.397188882413559, 'ekspert': 5.901266279189834, 'senang': 3.704041701853614, 'lingkung': 5.495801171081669, 'sampah': 4.291828366755733, 'alat': 5.208119098629888, 'tunjang': 5.901266279189834, 'keropos': 5.901266279189834, 'khawatir': 5.495801171081669, 'luka': 5.495801171081669, 'masih': 5.495801171081669, 'nyisir': 5.901266279189834, 'rambut': 5.495801171081669, 'unjung': 5.495801171081669, 'madi': 5.901266279189834, 'belum': 5.901266279189834, 'kanopi': 5.495801171081669, 'rakyat': 5.495801171081669, 'konsekuensi': 5.901266279189834, 'jorok': 4.6485033106944655, 'tipe': 5.901266279189834, 'outdoor': 5.901266279189834, 'untung': 5.901266279189834, 'pisah': 5.901266279189834, 'kali': 4.9849755473156785, 'lipat': 5.901266279189834, 'juga': 4.514971918069943, 'jamin': 5.208119098629888, 'puas': 4.802653990521724, 'hobi': 5.495801171081669, 'minimal': 5.495801171081669, 'wahana': 4.6485033106944655, 'gazebo': 5.495801171081669, 'simpan': 5.901266279189834, 'barang': 4.9849755473156785, 'ktp': 5.495801171081669, 'tenggelam': 5.901266279189834, 'bahaya': 5.901266279189834, 'awat': 3.8863632586475685, 'gaada': 5.495801171081669, 'coba': 5.495801171081669, 'pekan': 5.208119098629888, 'siswa': 5.901266279189834, 'junior': 5.901266279189834, 'ambil': 5.901266279189834, 'kursus': 5.208119098629888, 'unisex': 5.901266279189834, 'benah': 5.495801171081669, 'segitu': 5.901266279189834, 'tutup': 4.397188882413559, 'sore': 4.9849755473156785, 'siaga': 5.495801171081669, 'mie': 5.495801171081669, 'telur': 5.901266279189834, 'tingkat': 4.397188882413559, 'ekonomis': 5.495801171081669, 'kantong': 5.208119098629888, 'pasti': 5.901266279189834, 'sepi': 3.8218247375099974, 'sandal': 4.9849755473156785, 'aneh': 5.901266279189834, 'rem': 5.901266279189834, 'rombong': 5.901266279189834, 'sekolah': 5.901266279189834, 'siram': 5.901266279189834, 'olahraga': 4.6485033106944655, 'nyenening': 5.901266279189834, 'jadwal': 5.901266279189834, 'senyum': 5.495801171081669, 'sangat': 4.6485033106944655, 'sesuai': 4.9849755473156785, 'puluh': 5.901266279189834, 'menyenangkn': 5.901266279189834, 'atas': 5.901266279189834, 'karpet': 5.901266279189834, 'ban': 5.208119098629888, 'juni': 5.901266279189834, 'raya': 5.495801171081669, 'strategis': 4.9849755473156785, 'dan': 5.901266279189834, 'cepat': 4.9849755473156785, 'perih': 4.514971918069943, 'was': 5.495801171081669, 'milik': 4.9849755473156785, 'taman': 5.901266279189834, 'jual': 4.514971918069943, 'kendara': 5.901266279189834, 'sayang': 4.6485033106944655, 'atap': 5.901266279189834, 'wilayah': 5.495801171081669, 'tentara': 4.514971918069943, 'akan': 5.901266279189834, 'manfaat': 5.901266279189834, 'masyarakat': 5.495801171081669, 'favorit': 4.802653990521724, 'karena': 5.495801171081669, 'dri': 5.901266279189834, 'kesan': 5.495801171081669, 'tepat': 3.8218247375099974, 'bareng': 5.901266279189834, 'usir': 5.901266279189834, 'pada': 5.901266279189834, 'indah': 5.208119098629888, 'lagi': 5.208119098629888, 'terus': 5.901266279189834, 'isi': 5.901266279189834, 'publik': 5.901266279189834, 'tarif': 5.901266279189834, 'idam': 5.901266279189834, 'belah': 5.495801171081669, 'lapang': 5.495801171081669, 'hitam': 5.495801171081669, 'iya': 5.208119098629888, 'gazebonya': 5.901266279189834, 'minim': 5.495801171081669, 'sih': 5.208119098629888, 'bolong': 5.901266279189834, 'wkwk': 5.901266279189834, 'gelap': 5.901266279189834, 'kacamata': 4.9849755473156785, 'rendam': 5.495801171081669, 'olah': 5.495801171081669, 'raga': 5.495801171081669, 'golong': 5.208119098629888, 'warung': 5.901266279189834, 'biaya': 5.495801171081669, 'daerah': 5.495801171081669, 'dar': 5.901266279189834, 'bawah': 5.495801171081669, 'lebar': 5.495801171081669, 'kursi': 5.495801171081669, 'lihat': 5.208119098629888, 'rugi': 5.901266279189834, 'ngajak': 5.901266279189834, 'temen': 5.495801171081669, 'atlet': 5.208119098629888, 'aktifitas': 5.901266279189834, 'klub': 5.208119098629888, 'kini': 5.495801171081669, 'stand': 5.901266279189834, 'agk': 5.901266279189834, 'rasa': 5.901266279189834, 'sempat': 5.901266279189834, 'sesak': 5.901266279189834, 'berani': 5.901266279189834, 'kurang': 5.208119098629888, 'al': 5.495801171081669, 'jenis': 5.901266279189834, 'trdapat': 5.901266279189834, 'ampun': 5.901266279189834, 'kulit': 5.208119098629888, 'jdi': 5.901266279189834, 'sulit': 5.495801171081669, 'sisir': 5.901266279189834, 'level': 5.901266279189834, 'toko': 5.901266279189834, 'tmpatnya': 5.901266279189834, 'konsentrasi': 5.901266279189834, 'koprit': 5.901266279189834, 'letak': 5.208119098629888, 'v': 5.901266279189834, 'nikmat': 5.901266279189834, 'lezat': 5.901266279189834, 'roti': 5.495801171081669, 'john': 5.495801171081669, 'tempatya': 5.901266279189834, 'bekas': 5.901266279189834, 'tanah': 5.901266279189834, 'tangga': 5.901266279189834, 'jatuh': 5.901266279189834, 'korban': 5.901266279189834, 'gatal': 4.802653990521724, 'nyarinya': 5.901266279189834, 'prusutanya': 5.901266279189834, 'aroma': 5.901266279189834, 'plus': 4.802653990521724, 'tunggal': 5.901266279189834, 'genang': 5.901266279189834, 'sehingga': 5.901266279189834, 'suci': 5.901266279189834, 'sekitar': 5.901266279189834, 'markas': 5.901266279189834, 'marinir': 5.901266279189834, 'bantu': 5.208119098629888, 'proses': 5.495801171081669, 'komentar': 5.901266279189834, 'saring': 4.9849755473156785, 'ajak': 5.495801171081669, 'lewat': 5.901266279189834, 'kalah': 5.901266279189834, 'khusus': 5.901266279189834, 'pop': 5.901266279189834, 'teh': 5.901266279189834, 'mineral': 5.901266279189834, 'santai': 5.208119098629888, 'harap': 5.208119098629888, 'tempayt': 5.901266279189834, 'weekdays': 5.495801171081669, 'an': 5.901266279189834, 'sering': 5.901266279189834, 'cari': 5.208119098629888, 'pompa': 5.495801171081669, 'angin': 5.901266279189834, 'so': 5.901266279189834, 'kuatir': 5.901266279189834, 'lapar': 5.495801171081669, 'flow': 5.901266279189834, 'suasana': 4.9849755473156785, 'tenang': 4.802653990521724, 'loket': 5.901266279189834, 'minum': 5.495801171081669, 'sempit': 5.495801171081669, 'saat': 5.495801171081669, 'suruh': 5.495801171081669, 'minggir': 5.901266279189834, 'sampek': 5.495801171081669, 'grup': 5.901266279189834, 'worth': 5.901266279189834, 'it': 5.901266279189834, 'kelas': 5.901266279189834, 'warkop': 5.901266279189834, 'nungguin': 5.901266279189834, 'hayam': 4.514971918069943, 'wuruk': 4.514971918069943, 'pandu': 5.901266279189834, 'masalah': 5.901266279189834, 'kontak': 5.901266279189834, 'keren': 5.495801171081669, 'betah': 5.901266279189834, 'murahhh': 5.901266279189834, 'sama': 5.495801171081669, 'kolamya': 5.901266279189834, 'are': 5.901266279189834, 'wekend': 5.901266279189834, 'manja': 5.901266279189834, 'nafsu': 5.901266279189834, 'ronta': 5.495801171081669, 'perut': 5.901266279189834, 'jadul': 5.901266279189834, 'bnyak': 5.901266279189834, 'kunci': 5.208119098629888, 'kbersihannya': 5.901266279189834, 'samgat': 5.901266279189834, 'menu': 5.901266279189834, 'variasi': 5.901266279189834, 'lomba': 5.901266279189834, 'langsung': 5.208119098629888, 'remaja': 5.901266279189834, 'samping': 5.901266279189834, 'umun': 5.901266279189834, 'ngetren': 5.901266279189834, 'now': 5.901266279189834, 'fenomenal': 5.901266279189834, 'mboook': 5.901266279189834, 'sembako': 5.901266279189834, 'nilai': 5.495801171081669, 'sejarah': 5.901266279189834, 'sikecil': 5.901266279189834, 'usia': 5.495801171081669, 'th': 5.901266279189834, 'populer': 5.901266279189834, 'pelihara': 5.495801171081669, 'sirkulasi': 5.901266279189834, 'botol': 5.495801171081669, 'liar': 5.901266279189834, 'lumut': 5.208119098629888, 'lapor': 5.901266279189834, 'pancing': 5.901266279189834, 'bru': 5.901266279189834, 'bilik': 5.901266279189834, 'terima': 5.901266279189834, 'privat': 5.901266279189834, 'laki': 5.901266279189834, 'wanita': 5.208119098629888, 'tua': 5.901266279189834, 'bangun': 5.901266279189834, 'kuliner': 5.901266279189834, 'luar': 5.901266279189834, 'suami': 5.901266279189834, 'terik': 5.901266279189834, 'sutos': 5.495801171081669, 'gunungsari': 5.901266279189834, 'sisi': 5.901266279189834, 'utara': 5.901266279189834, 'obat': 5.901266279189834, 'lumayan lah': 5.901266279189834, 'td': 5.901266279189834, 'nyari': 5.901266279189834, 'mending': 5.495801171081669, 'buah': 5.495801171081669, 'sj': 5.901266279189834, 'dahulu': 5.495801171081669, 'tetep': 5.495801171081669, 'putra': 5.901266279189834, 'putri': 5.901266279189834, 'tempatx': 5.901266279189834, 'bgus': 5.901266279189834, 'bertduh': 5.901266279189834, 'mangga': 5.901266279189834, 'ayun': 5.901266279189834, 'pekat': 5.901266279189834, 'kandung': 5.495801171081669, 'kl': 5.901266279189834, 'dinding': 5.901266279189834, 'tebal': 5.901266279189834, 'temu': 5.495801171081669, 'plastik': 5.901266279189834, 'dasar': 5.901266279189834, 'tdi': 5.901266279189834, 'dtg': 5.901266279189834, 'daun': 5.901266279189834, 'apung': 5.901266279189834, 'taruh': 5.901266279189834, 'ekstra': 5.495801171081669, 'is': 5.901266279189834, 'mesin': 5.901266279189834, 'seperti': 5.495801171081669, 'jaral': 5.901266279189834, 'pandang': 5.901266279189834, 'bening': 5.901266279189834, 'kurg': 5.901266279189834, 'bgs': 5.901266279189834, 'tmptx': 5.901266279189834, 'urus': 5.901266279189834, 'apalagi': 5.901266279189834, 'tebang': 5.495801171081669, 'parah': 5.901266279189834, 'higienis': 5.901266279189834, 'pecah': 5.901266279189834, 'seperti itu': 5.901266279189834, 'risih': 5.901266279189834, 'ujung': 5.901266279189834, 'kolom': 5.901266279189834, 'badan': 5.901266279189834, 'saya': 5.901266279189834, 'tahan': 5.901266279189834, 'suatu waktu': 5.901266279189834, 'seru': 5.208119098629888, 'tarik': 5.208119098629888, 'kakak': 5.901266279189834, 'selatan': 5.495801171081669, 'hitung': 5.901266279189834, 'tertib': 5.901266279189834, 'basuh': 5.495801171081669, 'terang': 5.495801171081669, 'jl': 5.901266279189834, 'idola': 5.901266279189834, 'malam': 5.901266279189834, 'pusat': 5.901266279189834, 'pasang': 5.901266279189834, 'oktober': 5.901266279189834, 'jelek': 4.9849755473156785, 'bakso': 5.901266279189834, 'kikil': 5.901266279189834, 'kalang': 5.901266279189834, 'kencing': 5.495801171081669, 'pedas': 5.901266279189834, 'wadah': 5.901266279189834, 'kes': 5.901266279189834, 'selam': 5.495801171081669, 'rena': 5.901266279189834, 'sate': 5.901266279189834, 'alam': 5.901266279189834, 'layan': 5.901266279189834, 'pulih': 5.901266279189834, 'seka': 5.901266279189834, 'kaimana': 5.901266279189834, 'kembang': 5.901266279189834, 'boom': 5.901266279189834, 'nang': 5.901266279189834, 'suroboyo': 5.901266279189834, 'buruk': 4.6485033106944655, 'gimana': 5.495801171081669, 'pojok': 5.901266279189834, 'ludah': 5.495801171081669, 'preman': 5.901266279189834, 'keran': 5.495801171081669, 'nabrak': 5.901266279189834, 'in': 5.901266279189834, 'latian': 5.901266279189834, 'darat': 5.901266279189834, 'sarang': 5.901266279189834, 'laba': 5.901266279189834, 'berita palsu': 5.901266279189834, 'kreatif': 5.901266279189834, 'partisi': 5.901266279189834, 'tinggal': 5.901266279189834, 'privasi': 5.901266279189834, 'agam': 5.901266279189834, 'poin': 5.901266279189834, 'baru': 5.495801171081669, 'malu': 5.901266279189834, 'kelola': 5.901266279189834, 'kondisi': 5.901266279189834, 'yaaah': 5.901266279189834, 'titip': 5.901266279189834, 'semua': 5.901266279189834, 'bingung': 5.901266279189834, 'lah': 5.901266279189834, 'bakar': 5.901266279189834, 'ngak': 5.901266279189834, 'pakek': 5.901266279189834, 'pinjam': 5.495801171081669, 'realisasi': 5.901266279189834, 'kaca': 5.901266279189834, 'kuat': 5.901266279189834, 'ti': 5.901266279189834, 'sempurna': 5.901266279189834, 'dawet': 5.901266279189834, 'highly': 5.901266279189834, 'intens': 5.901266279189834, 'tes': 5.901266279189834, 'dinas': 5.901266279189834, 'tampung': 5.901266279189834, 'gunung': 5.901266279189834, 'info': 5.901266279189834, 'selasa': 5.901266279189834, 'klorin': 5.208119098629888, 'buat': 5.901266279189834, 'gor': 5.901266279189834, 'tribun': 5.901266279189834, 'buang': 5.495801171081669, 'sembarang': 5.901266279189834, 'siring': 5.901266279189834, 'terkadang': 5.901266279189834, 'mengakomodir': 5.901266279189834, 'santa': 5.901266279189834, 'kumpul': 5.901266279189834, 'dsuruh': 5.901266279189834, 'dpantauan': 5.901266279189834, 'kebersihanya': 5.901266279189834, 'karyawannya': 5.495801171081669, 'asin': 5.495801171081669, 'kacau': 5.901266279189834, 'pikir': 5.901266279189834, 'musim': 5.495801171081669, 'drpada': 5.901266279189834, 'keras': 5.901266279189834, 'situ': 5.901266279189834, 'kepleset': 5.901266279189834, 'berita': 5.901266279189834, 'palsu': 5.901266279189834, 'rawat': 5.495801171081669, 'wajib': 5.901266279189834, 'bersihin': 5.901266279189834, 'ala': 5.901266279189834, 'kadar': 5.901266279189834, 'biru': 5.901266279189834, 'hebat': 5.901266279189834, 'ceria': 5.901266279189834, 'acara': 5.901266279189834, 'disiplin': 5.901266279189834}\n"
          ]
        }
      ]
    },
    {
      "cell_type": "code",
      "source": [
        "def tf_idf(Ulasan_tf):\n",
        "  tf_idf = {}\n",
        "  for kata in Ulasan_tf:\n",
        "    tf_idf[kata] = Ulasan_tf[kata] * Ulasan_idf[kata]\n",
        "  return tf_idf\n",
        "\n",
        "Ulasan_tfidf= tf_idf(Ulasan_tf)"
      ],
      "metadata": {
        "id": "OAW_eq1NLdTQ"
      },
      "execution_count": null,
      "outputs": []
    },
    {
      "cell_type": "code",
      "source": [
        "print ('HASIL TF-IDF')\n",
        "print (Ulasan_tfidf)"
      ],
      "metadata": {
        "colab": {
          "base_uri": "https://localhost:8080/"
        },
        "id": "q64cgAQ2mcca",
        "outputId": "ad33b16d-a21b-40b6-ad65-6735387dde5c"
      },
      "execution_count": null,
      "outputs": [
        {
          "output_type": "stream",
          "name": "stdout",
          "text": [
            "HASIL TF-IDF\n",
            "{'tempat': 0.037031661318862354, 'nyaman': 0.03157274044818131, 'parkir': 0.021158783115983616, 'luas': 0.03202339661842392, 'kadang': 0.011467421336778173, 'kamar': 0.039290125862675045, 'mandi': 0.035029872881489524, 'kotor': 0.027753072070234787, 'bagus': 0.052822556904736154, 'bersih': 0.06179887524197603, 'tugas': 0.0050583212047850615, 'periksa': 0.0027883313907060723, 'jam': 0.013802406296566707, 'jaga': 0.015973797293635576, 'air': 0.048390166668092094, 'kolam': 0.06795445949101442, 'anak': 0.05555463358282272, 'panas': 0.029232282019740947, 'kayak': 0.003963560957861406, 'beri': 0.008017453938734043, 'hias': 0.0014970234092313124, 'dingin': 0.008017453938734043, 'lindung': 0.0027883313907060723, 'untuk': 0.003963560957861406, 'suka': 0.011467421336778173, 'renang': 0.06796538622397792, 'sabtu': 0.008017453938734043, 'ini': 0.0014970234092313124, 'doa': 0.0014970234092313124, 'hujan': 0.0027883313907060723, 'tidak': 0.011467421336778173, 'kesini': 0.0070753475048622, 'sesal': 0.0027883313907060723, 'masuk': 0.029232282019740947, 'banyak': 0.0070753475048622, 'atur': 0.0027883313907060723, 'antar': 0.003963560957861406, 'pakai': 0.011467421336778173, 'sepatu': 0.0014970234092313124, 'istri': 0.0027883313907060723, 'damping': 0.0027883313907060723, 'kaos': 0.0014970234092313124, 'kaki': 0.003963560957861406, 'rekomendasi': 0.010645657501145125, 'fitnes': 0.0027883313907060723, 'lokernya': 0.0027883313907060723, 'kartu': 0.0014970234092313124, 'ajar': 0.021158783115983616, 'tidak bisa': 0.0014970234092313124, 'loger': 0.0014970234092313124, 'adik saya': 0.0027883313907060723, 'bom': 0.0014970234092313124, 'dapat': 0.00609164636037763, 'loker': 0.0050583212047850615, 'uang': 0.0014970234092313124, 'hilang': 0.00609164636037763, 'aduh': 0.0027883313907060723, 'kecewa': 0.018010608939758272, 'minggu': 0.016666550139649943, 'ramai': 0.021756212947078052, 'bos': 0.003963560957861406, 'mahal': 0.009798694901268796, 'senin': 0.00609164636037763, 'buka': 0.016666550139649943, 'kerja': 0.003963560957861406, 'libur': 0.02292219523931317, 'ingin': 0.0070753475048622, 'kejar': 0.0014970234092313124, 'kartika': 0.0014970234092313124, 'eka': 0.0014970234092313124, 'paksi': 0.0014970234092313124, 'harga': 0.04036496335779705, 'pegawai': 0.0014970234092313124, 'ramah': 0.008923772465577998, 'ganti': 0.026212131796258854, 'rapi': 0.0050583212047850615, 'hari': 0.0050583212047850615, 'hijau': 0.008923772465577998, 'dewasa': 0.021158783115983616, 'tiket': 0.03741858573164206, 'lumayan': 0.03624461764263135, 'perhati': 0.008923772465577998, 'fasilitas': 0.021158783115983616, 'pria': 0.003963560957861406, 'engsel': 0.0014970234092313124, 'pintu': 0.010645657501145125, 'ganjal': 0.0014970234092313124, 'rusak': 0.008923772465577998, 'bebas': 0.0027883313907060723, 'jajan': 0.0050583212047850615, 'lengkap': 0.009798694901268796, 'profesional': 0.003963560957861406, 'pohon': 0.00609164636037763, 'kunjung': 0.014542712090981725, 'sedikit': 0.003963560957861406, 'keramik': 0.0027883313907060723, 'pinggir': 0.0050583212047850615, 'licin': 0.0027883313907060723, 'lebih': 0.0070753475048622, 'hati': 0.00609164636037763, 'inti': 0.0027883313907060723, 'keluarga': 0.01526615977957813, 'oke': 0.0014970234092313124, 'murah': 0.04672391378453241, 'keruh': 0.009798694901268796, 'ribu': 0.008923772465577998, 'militer': 0.0027883313907060723, 'pandemi': 0.0014970234092313124, 'covid': 0.0014970234092313124, 'batas': 0.00609164636037763, 'kawasan': 0.003963560957861406, 'patuh': 0.0014970234092313124, 'protokol': 0.0027883313907060723, 'kualitas': 0.010645657501145125, 'tim': 0.0027883313907060723, 'sar': 0.0014970234092313124, 'ruang': 0.019933097786971627, 'bilas': 0.00609164636037763, 'modern': 0.0014970234092313124, 'kantin': 0.013044046091260465, 'musala': 0.0027883313907060723, 'aman': 0.008923772465577998, 'pagi': 0.008923772465577998, 'niat': 0.0027883313907060723, 'rekreasi': 0.00609164636037763, 'brawijaya': 0.010645657501145125, 'beli': 0.003963560957861406, 'habis': 0.0014970234092313124, 'salah': 0.003963560957861406, 'turut': 0.0014970234092313124, 'enak': 0.018663315863577043, 'surabaya': 0.012266252975002258, 'tunggu': 0.012266252975002258, 'kena': 0.0027883313907060723, 'orang': 0.014542712090981725, 'temapat': 0.0014970234092313124, 'tempatny': 0.0014970234092313124, 'main': 0.019933097786971627, 'tambah': 0.011467421336778173, 'baik': 0.019933097786971627, 'di bawah': 0.0014970234092313124, 'tahun': 0.0050583212047850615, 'sruh': 0.0014970234092313124, 'bayar': 0.008017453938734043, 'padahal': 0.0027883313907060723, 'wisata': 0.0014970234092313124, 'gratis': 0.003963560957861406, 'karcis': 0.0027883313907060723, 'kepala': 0.0014970234092313124, 'awas': 0.008017453938734043, 'tepi': 0.0014970234092313124, 'jalan': 0.00609164636037763, 'mudah': 0.008923772465577998, 'akses': 0.0050583212047850615, 'kompleks': 0.0050583212047850615, 'rumah': 0.009798694901268796, 'kodam': 0.008923772465577998, 'warga': 0.0027883313907060723, 'butuh': 0.0070753475048622, 'jasa': 0.0014970234092313124, 'latih': 0.028252757208920603, 'silah': 0.0014970234092313124, 'hubung': 0.0027883313907060723, 'tlp': 0.0014970234092313124, 'wa': 0.0014970234092313124, 'riah': 0.0014970234092313124, 'saran': 0.0070753475048622, 'penuh': 0.008923772465577998, 'kemarin': 0.0027883313907060723, 'susah': 0.0027883313907060723, 'ukur': 0.00609164636037763, 'dalem': 0.0014970234092313124, 'teman': 0.003963560957861406, 'perosot': 0.008017453938734043, 'slide': 0.0014970234092313124, 'standar': 0.00609164636037763, 'internasional': 0.0014970234092313124, 'dalam': 0.019933097786971627, 'meter': 0.018010608939758272, 'jernih': 0.013044046091260465, 'relatif': 0.008017453938734043, 'kota': 0.0027883313907060723, 'sehat': 0.0027883313907060723, 'sedia': 0.010645657501145125, 'bawa': 0.0070753475048622, 'makan': 0.013802406296566707, 'mungkin': 0.0014970234092313124, 'les': 0.008923772465577998, 'di sana': 0.0050583212047850615, 'laku': 0.0014970234092313124, 'member': 0.0014970234092313124, 'gitu': 0.003963560957861406, 'alas': 0.0027883313907060723, 'peleset': 0.003963560957861406, 'arah': 0.0027883313907060723, 'harus': 0.0014970234092313124, 'lepas': 0.003963560957861406, 'kenal': 0.0027883313907060723, 'tahap': 0.0027883313907060723, 'sungguh': 0.0014970234092313124, 'lokasi': 0.0050583212047850615, 'jangkau': 0.021756212947078052, 'banding': 0.0050583212047850615, 'event': 0.0014970234092313124, 'hemat': 0.0014970234092313124, 'kuluarga': 0.0014970234092313124, 'mohon': 0.00609164636037763, 'duduk': 0.013802406296566707, 'payung': 0.0014970234092313124, 'tenda': 0.0014970234092313124, 'meja': 0.0027883313907060723, 'bagi': 0.0014970234092313124, 'mata': 0.013802406296566707, 'merah': 0.003963560957861406, 'sakit': 0.0014970234092313124, 'pedih': 0.0050583212047850615, 'tata': 0.0014970234092313124, 'hahaha': 0.0027883313907060723, 'kesana': 0.00609164636037763, 'warna': 0.0027883313907060723, 'kuras': 0.003963560957861406, 'cocok': 0.023491442482126094, 'tempa': 0.0014970234092313124, 'area': 0.009798694901268796, 'normal': 0.003963560957861406, 'asri': 0.0014970234092313124, 'teduh': 0.008017453938734043, 'siang': 0.00609164636037763, 'panass': 0.0014970234092313124, 'hanya': 0.018663315863577043, 'tolong': 0.009798694901268796, 'shower': 0.003963560957861406, 'benar': 0.003963560957861406, 'mati': 0.003963560957861406, 'antre': 0.0050583212047850615, 'kaporit': 0.018010608939758272, 'kejut': 0.0014970234092313124, 'dekat': 0.0050583212047850615, 'lantai': 0.00609164636037763, 'becek': 0.003963560957861406, 'perempuan': 0.0014970234092313124, 'salur': 0.0014970234092313124, 'sumbat': 0.0014970234092313124, 'banjir': 0.0014970234092313124, 'singgah': 0.0014970234092313124, 'hari kerja': 0.0050583212047850615, 'balita': 0.0014970234092313124, 'layak': 0.0014970234092313124, 'rabu': 0.0050583212047850615, 'kamis': 0.0027883313907060723, 'ngasi': 0.0014970234092313124, 'bau': 0.008017453938734043, 'sengat': 0.003963560957861406, 'pilih': 0.003963560957861406, 'piknik': 0.0014970234092313124, 'maju': 0.0027883313907060723, 'toilet': 0.012266252975002258, 'sudah': 0.008017453938734043, 'moga': 0.0027883313907060723, 'depan': 0.00609164636037763, 'bangku': 0.0014970234092313124, 'atau': 0.0027883313907060723, 'macam': 0.0014970234092313124, 'istirahat': 0.0027883313907060723, 'sukses': 0.0014970234092313124, 'di': 0.0070753475048622, 'sinar': 0.0014970234092313124, 'matahari': 0.0014970234092313124, 'jumat': 0.003963560957861406, 'baca': 0.0014970234092313124, 'tanggal': 0.0027883313907060723, 'motor': 0.0014970234092313124, 'mobil': 0.0014970234092313124, 'sewa': 0.008017453938734043, 'baju': 0.0050583212047850615, 'segar': 0.0050583212047850615, 'renovasi': 0.003963560957861406, 'cadang': 0.0014970234092313124, 'vip': 0.0014970234092313124, 'mula': 0.008923772465577998, 'ekspert': 0.0014970234092313124, 'senang': 0.015973797293635576, 'lingkung': 0.0027883313907060723, 'sampah': 0.009798694901268796, 'alat': 0.003963560957861406, 'tunjang': 0.0014970234092313124, 'keropos': 0.0014970234092313124, 'khawatir': 0.0027883313907060723, 'luka': 0.0027883313907060723, 'masih': 0.0027883313907060723, 'nyisir': 0.0014970234092313124, 'rambut': 0.0027883313907060723, 'unjung': 0.0027883313907060723, 'madi': 0.0014970234092313124, 'belum': 0.0014970234092313124, 'kanopi': 0.0027883313907060723, 'rakyat': 0.0027883313907060723, 'konsekuensi': 0.0014970234092313124, 'jorok': 0.0070753475048622, 'tipe': 0.0014970234092313124, 'outdoor': 0.0014970234092313124, 'untung': 0.0014970234092313124, 'pisah': 0.0014970234092313124, 'kali': 0.0050583212047850615, 'lipat': 0.0014970234092313124, 'juga': 0.008017453938734043, 'jamin': 0.003963560957861406, 'puas': 0.00609164636037763, 'hobi': 0.0027883313907060723, 'minimal': 0.0027883313907060723, 'wahana': 0.0070753475048622, 'gazebo': 0.0027883313907060723, 'simpan': 0.0014970234092313124, 'barang': 0.0050583212047850615, 'ktp': 0.0027883313907060723, 'tenggelam': 0.0014970234092313124, 'bahaya': 0.0014970234092313124, 'awat': 0.013802406296566707, 'gaada': 0.0027883313907060723, 'coba': 0.0027883313907060723, 'pekan': 0.003963560957861406, 'siswa': 0.0014970234092313124, 'junior': 0.0014970234092313124, 'ambil': 0.0014970234092313124, 'kursus': 0.003963560957861406, 'unisex': 0.0014970234092313124, 'benah': 0.0027883313907060723, 'segitu': 0.0014970234092313124, 'tutup': 0.008923772465577998, 'sore': 0.0050583212047850615, 'siaga': 0.0027883313907060723, 'mie': 0.0027883313907060723, 'telur': 0.0014970234092313124, 'tingkat': 0.008923772465577998, 'ekonomis': 0.0027883313907060723, 'kantong': 0.003963560957861406, 'pasti': 0.0014970234092313124, 'sepi': 0.014542712090981725, 'sandal': 0.0050583212047850615, 'aneh': 0.0014970234092313124, 'rem': 0.0014970234092313124, 'rombong': 0.0014970234092313124, 'sekolah': 0.0014970234092313124, 'siram': 0.0014970234092313124, 'olahraga': 0.0070753475048622, 'nyenening': 0.0014970234092313124, 'jadwal': 0.0014970234092313124, 'senyum': 0.0027883313907060723, 'sangat': 0.0070753475048622, 'sesuai': 0.0050583212047850615, 'puluh': 0.0014970234092313124, 'menyenangkn': 0.0014970234092313124, 'atas': 0.0014970234092313124, 'karpet': 0.0014970234092313124, 'ban': 0.003963560957861406, 'juni': 0.0014970234092313124, 'raya': 0.0027883313907060723, 'strategis': 0.0050583212047850615, 'dan': 0.0014970234092313124, 'cepat': 0.0050583212047850615, 'perih': 0.008017453938734043, 'was': 0.0027883313907060723, 'milik': 0.0050583212047850615, 'taman': 0.0014970234092313124, 'jual': 0.008017453938734043, 'kendara': 0.0014970234092313124, 'sayang': 0.0070753475048622, 'atap': 0.0014970234092313124, 'wilayah': 0.0027883313907060723, 'tentara': 0.008017453938734043, 'akan': 0.0014970234092313124, 'manfaat': 0.0014970234092313124, 'masyarakat': 0.0027883313907060723, 'favorit': 0.00609164636037763, 'karena': 0.0027883313907060723, 'dri': 0.0014970234092313124, 'kesan': 0.0027883313907060723, 'tepat': 0.014542712090981725, 'bareng': 0.0014970234092313124, 'usir': 0.0014970234092313124, 'pada': 0.0014970234092313124, 'indah': 0.003963560957861406, 'lagi': 0.003963560957861406, 'terus': 0.0014970234092313124, 'isi': 0.0014970234092313124, 'publik': 0.0014970234092313124, 'tarif': 0.0014970234092313124, 'idam': 0.0014970234092313124, 'belah': 0.0027883313907060723, 'lapang': 0.0027883313907060723, 'hitam': 0.0027883313907060723, 'iya': 0.003963560957861406, 'gazebonya': 0.0014970234092313124, 'minim': 0.0027883313907060723, 'sih': 0.003963560957861406, 'bolong': 0.0014970234092313124, 'wkwk': 0.0014970234092313124, 'gelap': 0.0014970234092313124, 'kacamata': 0.0050583212047850615, 'rendam': 0.0027883313907060723, 'olah': 0.0027883313907060723, 'raga': 0.0027883313907060723, 'golong': 0.003963560957861406, 'warung': 0.0014970234092313124, 'biaya': 0.0027883313907060723, 'daerah': 0.0027883313907060723, 'dar': 0.0014970234092313124, 'bawah': 0.0027883313907060723, 'lebar': 0.0027883313907060723, 'kursi': 0.0027883313907060723, 'lihat': 0.003963560957861406, 'rugi': 0.0014970234092313124, 'ngajak': 0.0014970234092313124, 'temen': 0.0027883313907060723, 'atlet': 0.003963560957861406, 'aktifitas': 0.0014970234092313124, 'klub': 0.003963560957861406, 'kini': 0.0027883313907060723, 'stand': 0.0014970234092313124, 'agk': 0.0014970234092313124, 'rasa': 0.0014970234092313124, 'sempat': 0.0014970234092313124, 'sesak': 0.0014970234092313124, 'berani': 0.0014970234092313124, 'kurang': 0.003963560957861406, 'al': 0.0027883313907060723, 'jenis': 0.0014970234092313124, 'trdapat': 0.0014970234092313124, 'ampun': 0.0014970234092313124, 'kulit': 0.003963560957861406, 'jdi': 0.0014970234092313124, 'sulit': 0.0027883313907060723, 'sisir': 0.0014970234092313124, 'level': 0.0014970234092313124, 'toko': 0.0014970234092313124, 'tmpatnya': 0.0014970234092313124, 'konsentrasi': 0.0014970234092313124, 'koprit': 0.0014970234092313124, 'letak': 0.003963560957861406, 'v': 0.0014970234092313124, 'nikmat': 0.0014970234092313124, 'lezat': 0.0014970234092313124, 'roti': 0.0027883313907060723, 'john': 0.0027883313907060723, 'tempatya': 0.0014970234092313124, 'bekas': 0.0014970234092313124, 'tanah': 0.0014970234092313124, 'tangga': 0.0014970234092313124, 'jatuh': 0.0014970234092313124, 'korban': 0.0014970234092313124, 'gatal': 0.00609164636037763, 'nyarinya': 0.0014970234092313124, 'prusutanya': 0.0014970234092313124, 'aroma': 0.0014970234092313124, 'plus': 0.00609164636037763, 'tunggal': 0.0014970234092313124, 'genang': 0.0014970234092313124, 'sehingga': 0.0014970234092313124, 'suci': 0.0014970234092313124, 'sekitar': 0.0014970234092313124, 'markas': 0.0014970234092313124, 'marinir': 0.0014970234092313124, 'bantu': 0.003963560957861406, 'proses': 0.0027883313907060723, 'komentar': 0.0014970234092313124, 'saring': 0.0050583212047850615, 'ajak': 0.0027883313907060723, 'lewat': 0.0014970234092313124, 'kalah': 0.0014970234092313124, 'khusus': 0.0014970234092313124, 'pop': 0.0014970234092313124, 'teh': 0.0014970234092313124, 'mineral': 0.0014970234092313124, 'santai': 0.003963560957861406, 'harap': 0.003963560957861406, 'tempayt': 0.0014970234092313124, 'weekdays': 0.0027883313907060723, 'an': 0.0014970234092313124, 'sering': 0.0014970234092313124, 'cari': 0.003963560957861406, 'pompa': 0.0027883313907060723, 'angin': 0.0014970234092313124, 'so': 0.0014970234092313124, 'kuatir': 0.0014970234092313124, 'lapar': 0.0027883313907060723, 'flow': 0.0014970234092313124, 'suasana': 0.0050583212047850615, 'tenang': 0.00609164636037763, 'loket': 0.0014970234092313124, 'minum': 0.0027883313907060723, 'sempit': 0.0027883313907060723, 'saat': 0.0027883313907060723, 'suruh': 0.0027883313907060723, 'minggir': 0.0014970234092313124, 'sampek': 0.0027883313907060723, 'grup': 0.0014970234092313124, 'worth': 0.0014970234092313124, 'it': 0.0014970234092313124, 'kelas': 0.0014970234092313124, 'warkop': 0.0014970234092313124, 'nungguin': 0.0014970234092313124, 'hayam': 0.008017453938734043, 'wuruk': 0.008017453938734043, 'pandu': 0.0014970234092313124, 'masalah': 0.0014970234092313124, 'kontak': 0.0014970234092313124, 'keren': 0.0027883313907060723, 'betah': 0.0014970234092313124, 'murahhh': 0.0014970234092313124, 'sama': 0.0027883313907060723, 'kolamya': 0.0014970234092313124, 'are': 0.0014970234092313124, 'wekend': 0.0014970234092313124, 'manja': 0.0014970234092313124, 'nafsu': 0.0014970234092313124, 'ronta': 0.0027883313907060723, 'perut': 0.0014970234092313124, 'jadul': 0.0014970234092313124, 'bnyak': 0.0014970234092313124, 'kunci': 0.003963560957861406, 'kbersihannya': 0.0014970234092313124, 'samgat': 0.0014970234092313124, 'menu': 0.0014970234092313124, 'variasi': 0.0014970234092313124, 'lomba': 0.0014970234092313124, 'langsung': 0.003963560957861406, 'remaja': 0.0014970234092313124, 'samping': 0.0014970234092313124, 'umun': 0.0014970234092313124, 'ngetren': 0.0014970234092313124, 'now': 0.0014970234092313124, 'fenomenal': 0.0014970234092313124, 'mboook': 0.0014970234092313124, 'sembako': 0.0014970234092313124, 'nilai': 0.0027883313907060723, 'sejarah': 0.0014970234092313124, 'sikecil': 0.0014970234092313124, 'usia': 0.0027883313907060723, 'th': 0.0014970234092313124, 'populer': 0.0014970234092313124, 'pelihara': 0.0027883313907060723, 'sirkulasi': 0.0014970234092313124, 'botol': 0.0027883313907060723, 'liar': 0.0014970234092313124, 'lumut': 0.003963560957861406, 'lapor': 0.0014970234092313124, 'pancing': 0.0014970234092313124, 'bru': 0.0014970234092313124, 'bilik': 0.0014970234092313124, 'terima': 0.0014970234092313124, 'privat': 0.0014970234092313124, 'laki': 0.0014970234092313124, 'wanita': 0.003963560957861406, 'tua': 0.0014970234092313124, 'bangun': 0.0014970234092313124, 'kuliner': 0.0014970234092313124, 'luar': 0.0014970234092313124, 'suami': 0.0014970234092313124, 'terik': 0.0014970234092313124, 'sutos': 0.0027883313907060723, 'gunungsari': 0.0014970234092313124, 'sisi': 0.0014970234092313124, 'utara': 0.0014970234092313124, 'obat': 0.0014970234092313124, 'lumayan lah': 0.0014970234092313124, 'td': 0.0014970234092313124, 'nyari': 0.0014970234092313124, 'mending': 0.0027883313907060723, 'buah': 0.0027883313907060723, 'sj': 0.0014970234092313124, 'dahulu': 0.0027883313907060723, 'tetep': 0.0027883313907060723, 'putra': 0.0014970234092313124, 'putri': 0.0014970234092313124, 'tempatx': 0.0014970234092313124, 'bgus': 0.0014970234092313124, 'bertduh': 0.0014970234092313124, 'mangga': 0.0014970234092313124, 'ayun': 0.0014970234092313124, 'pekat': 0.0014970234092313124, 'kandung': 0.0027883313907060723, 'kl': 0.0014970234092313124, 'dinding': 0.0014970234092313124, 'tebal': 0.0014970234092313124, 'temu': 0.0027883313907060723, 'plastik': 0.0014970234092313124, 'dasar': 0.0014970234092313124, 'tdi': 0.0014970234092313124, 'dtg': 0.0014970234092313124, 'daun': 0.0014970234092313124, 'apung': 0.0014970234092313124, 'taruh': 0.0014970234092313124, 'ekstra': 0.0027883313907060723, 'is': 0.0014970234092313124, 'mesin': 0.0014970234092313124, 'seperti': 0.0027883313907060723, 'jaral': 0.0014970234092313124, 'pandang': 0.0014970234092313124, 'bening': 0.0014970234092313124, 'kurg': 0.0014970234092313124, 'bgs': 0.0014970234092313124, 'tmptx': 0.0014970234092313124, 'urus': 0.0014970234092313124, 'apalagi': 0.0014970234092313124, 'tebang': 0.0027883313907060723, 'parah': 0.0014970234092313124, 'higienis': 0.0014970234092313124, 'pecah': 0.0014970234092313124, 'seperti itu': 0.0014970234092313124, 'risih': 0.0014970234092313124, 'ujung': 0.0014970234092313124, 'kolom': 0.0014970234092313124, 'badan': 0.0014970234092313124, 'saya': 0.0014970234092313124, 'tahan': 0.0014970234092313124, 'suatu waktu': 0.0014970234092313124, 'seru': 0.003963560957861406, 'tarik': 0.003963560957861406, 'kakak': 0.0014970234092313124, 'selatan': 0.0027883313907060723, 'hitung': 0.0014970234092313124, 'tertib': 0.0014970234092313124, 'basuh': 0.0027883313907060723, 'terang': 0.0027883313907060723, 'jl': 0.0014970234092313124, 'idola': 0.0014970234092313124, 'malam': 0.0014970234092313124, 'pusat': 0.0014970234092313124, 'pasang': 0.0014970234092313124, 'oktober': 0.0014970234092313124, 'jelek': 0.0050583212047850615, 'bakso': 0.0014970234092313124, 'kikil': 0.0014970234092313124, 'kalang': 0.0014970234092313124, 'kencing': 0.0027883313907060723, 'pedas': 0.0014970234092313124, 'wadah': 0.0014970234092313124, 'kes': 0.0014970234092313124, 'selam': 0.0027883313907060723, 'rena': 0.0014970234092313124, 'sate': 0.0014970234092313124, 'alam': 0.0014970234092313124, 'layan': 0.0014970234092313124, 'pulih': 0.0014970234092313124, 'seka': 0.0014970234092313124, 'kaimana': 0.0014970234092313124, 'kembang': 0.0014970234092313124, 'boom': 0.0014970234092313124, 'nang': 0.0014970234092313124, 'suroboyo': 0.0014970234092313124, 'buruk': 0.0070753475048622, 'gimana': 0.0027883313907060723, 'pojok': 0.0014970234092313124, 'ludah': 0.0027883313907060723, 'preman': 0.0014970234092313124, 'keran': 0.0027883313907060723, 'nabrak': 0.0014970234092313124, 'in': 0.0014970234092313124, 'latian': 0.0014970234092313124, 'darat': 0.0014970234092313124, 'sarang': 0.0014970234092313124, 'laba': 0.0014970234092313124, 'berita palsu': 0.0014970234092313124, 'kreatif': 0.0014970234092313124, 'partisi': 0.0014970234092313124, 'tinggal': 0.0014970234092313124, 'privasi': 0.0014970234092313124, 'agam': 0.0014970234092313124, 'poin': 0.0014970234092313124, 'baru': 0.0027883313907060723, 'malu': 0.0014970234092313124, 'kelola': 0.0014970234092313124, 'kondisi': 0.0014970234092313124, 'yaaah': 0.0014970234092313124, 'titip': 0.0014970234092313124, 'semua': 0.0014970234092313124, 'bingung': 0.0014970234092313124, 'lah': 0.0014970234092313124, 'bakar': 0.0014970234092313124, 'ngak': 0.0014970234092313124, 'pakek': 0.0014970234092313124, 'pinjam': 0.0027883313907060723, 'realisasi': 0.0014970234092313124, 'kaca': 0.0014970234092313124, 'kuat': 0.0014970234092313124, 'ti': 0.0014970234092313124, 'sempurna': 0.0014970234092313124, 'dawet': 0.0014970234092313124, 'highly': 0.0014970234092313124, 'intens': 0.0014970234092313124, 'tes': 0.0014970234092313124, 'dinas': 0.0014970234092313124, 'tampung': 0.0014970234092313124, 'gunung': 0.0014970234092313124, 'info': 0.0014970234092313124, 'selasa': 0.0014970234092313124, 'klorin': 0.003963560957861406, 'buat': 0.0014970234092313124, 'gor': 0.0014970234092313124, 'tribun': 0.0014970234092313124, 'buang': 0.0027883313907060723, 'sembarang': 0.0014970234092313124, 'siring': 0.0014970234092313124, 'terkadang': 0.0014970234092313124, 'mengakomodir': 0.0014970234092313124, 'santa': 0.0014970234092313124, 'kumpul': 0.0014970234092313124, 'dsuruh': 0.0014970234092313124, 'dpantauan': 0.0014970234092313124, 'kebersihanya': 0.0014970234092313124, 'karyawannya': 0.0027883313907060723, 'asin': 0.0027883313907060723, 'kacau': 0.0014970234092313124, 'pikir': 0.0014970234092313124, 'musim': 0.0027883313907060723, 'drpada': 0.0014970234092313124, 'keras': 0.0014970234092313124, 'situ': 0.0014970234092313124, 'kepleset': 0.0014970234092313124, 'berita': 0.0014970234092313124, 'palsu': 0.0014970234092313124, 'rawat': 0.0027883313907060723, 'wajib': 0.0014970234092313124, 'bersihin': 0.0014970234092313124, 'ala': 0.0014970234092313124, 'kadar': 0.0014970234092313124, 'biru': 0.0014970234092313124, 'hebat': 0.0014970234092313124, 'ceria': 0.0014970234092313124, 'acara': 0.0014970234092313124, 'disiplin': 0.0014970234092313124}\n"
          ]
        }
      ]
    },
    {
      "cell_type": "code",
      "source": [
        "sorted_DF = sorted(Ulasan_df.items(), key=lambda kv: kv[1], reverse=True)\n",
        "unique_term = [item[0] for item in sorted_DF]\n",
        "\n",
        "def TF_IDF_Vec(__tf_idf):\n",
        "    TF_IDF_vector = [0.0] * len(unique_term)\n",
        "\n",
        "    # For each unique word, if it is in the review, store its TF-IDF value.\n",
        "    for i, kata in enumerate(unique_term):\n",
        "        if kata in __tf_idf:\n",
        "            TF_IDF_vector[i] = __tf_idf[kata]\n",
        "    return TF_IDF_vector\n",
        "\n",
        "TFIDF_Vector= TF_IDF_Vec(Ulasan_tfidf)"
      ],
      "metadata": {
        "id": "gTo3YirEnjLo"
      },
      "execution_count": null,
      "outputs": []
    },
    {
      "cell_type": "code",
      "source": [
        "print(\"Tf IDF Vector\")\n",
        "print(TFIDF_Vector)\n"
      ],
      "metadata": {
        "colab": {
          "base_uri": "https://localhost:8080/"
        },
        "id": "1RXKmdV2od7e",
        "outputId": "147fd3f0-3117-4162-d15b-975f5ed96fe8"
      },
      "execution_count": null,
      "outputs": [
        {
          "output_type": "stream",
          "name": "stdout",
          "text": [
            "Tf IDF Vector\n",
            "[0.06796538622397792, 0.06795445949101442, 0.06179887524197603, 0.05555463358282272, 0.052822556904736154, 0.048390166668092094, 0.04672391378453241, 0.04036496335779705, 0.039290125862675045, 0.03741858573164206, 0.037031661318862354, 0.03624461764263135, 0.035029872881489524, 0.03202339661842392, 0.03157274044818131, 0.029232282019740947, 0.029232282019740947, 0.028252757208920603, 0.027753072070234787, 0.026212131796258854, 0.023491442482126094, 0.02292219523931317, 0.021756212947078052, 0.021756212947078052, 0.021158783115983616, 0.021158783115983616, 0.021158783115983616, 0.021158783115983616, 0.019933097786971627, 0.019933097786971627, 0.019933097786971627, 0.019933097786971627, 0.018663315863577043, 0.018663315863577043, 0.018010608939758272, 0.018010608939758272, 0.018010608939758272, 0.016666550139649943, 0.016666550139649943, 0.015973797293635576, 0.015973797293635576, 0.01526615977957813, 0.014542712090981725, 0.014542712090981725, 0.014542712090981725, 0.014542712090981725, 0.013802406296566707, 0.013802406296566707, 0.013802406296566707, 0.013802406296566707, 0.013802406296566707, 0.013044046091260465, 0.013044046091260465, 0.012266252975002258, 0.012266252975002258, 0.012266252975002258, 0.011467421336778173, 0.011467421336778173, 0.011467421336778173, 0.011467421336778173, 0.011467421336778173, 0.010645657501145125, 0.010645657501145125, 0.010645657501145125, 0.010645657501145125, 0.010645657501145125, 0.009798694901268796, 0.009798694901268796, 0.009798694901268796, 0.009798694901268796, 0.009798694901268796, 0.009798694901268796, 0.009798694901268796, 0.008923772465577998, 0.008923772465577998, 0.008923772465577998, 0.008923772465577998, 0.008923772465577998, 0.008923772465577998, 0.008923772465577998, 0.008923772465577998, 0.008923772465577998, 0.008923772465577998, 0.008923772465577998, 0.008923772465577998, 0.008923772465577998, 0.008923772465577998, 0.008017453938734043, 0.008017453938734043, 0.008017453938734043, 0.008017453938734043, 0.008017453938734043, 0.008017453938734043, 0.008017453938734043, 0.008017453938734043, 0.008017453938734043, 0.008017453938734043, 0.008017453938734043, 0.008017453938734043, 0.008017453938734043, 0.008017453938734043, 0.008017453938734043, 0.008017453938734043, 0.008017453938734043, 0.0070753475048622, 0.0070753475048622, 0.0070753475048622, 0.0070753475048622, 0.0070753475048622, 0.0070753475048622, 0.0070753475048622, 0.0070753475048622, 0.0070753475048622, 0.0070753475048622, 0.0070753475048622, 0.0070753475048622, 0.0070753475048622, 0.0070753475048622, 0.00609164636037763, 0.00609164636037763, 0.00609164636037763, 0.00609164636037763, 0.00609164636037763, 0.00609164636037763, 0.00609164636037763, 0.00609164636037763, 0.00609164636037763, 0.00609164636037763, 0.00609164636037763, 0.00609164636037763, 0.00609164636037763, 0.00609164636037763, 0.00609164636037763, 0.00609164636037763, 0.00609164636037763, 0.00609164636037763, 0.00609164636037763, 0.00609164636037763, 0.00609164636037763, 0.0050583212047850615, 0.0050583212047850615, 0.0050583212047850615, 0.0050583212047850615, 0.0050583212047850615, 0.0050583212047850615, 0.0050583212047850615, 0.0050583212047850615, 0.0050583212047850615, 0.0050583212047850615, 0.0050583212047850615, 0.0050583212047850615, 0.0050583212047850615, 0.0050583212047850615, 0.0050583212047850615, 0.0050583212047850615, 0.0050583212047850615, 0.0050583212047850615, 0.0050583212047850615, 0.0050583212047850615, 0.0050583212047850615, 0.0050583212047850615, 0.0050583212047850615, 0.0050583212047850615, 0.0050583212047850615, 0.0050583212047850615, 0.0050583212047850615, 0.0050583212047850615, 0.0050583212047850615, 0.0050583212047850615, 0.0050583212047850615, 0.003963560957861406, 0.003963560957861406, 0.003963560957861406, 0.003963560957861406, 0.003963560957861406, 0.003963560957861406, 0.003963560957861406, 0.003963560957861406, 0.003963560957861406, 0.003963560957861406, 0.003963560957861406, 0.003963560957861406, 0.003963560957861406, 0.003963560957861406, 0.003963560957861406, 0.003963560957861406, 0.003963560957861406, 0.003963560957861406, 0.003963560957861406, 0.003963560957861406, 0.003963560957861406, 0.003963560957861406, 0.003963560957861406, 0.003963560957861406, 0.003963560957861406, 0.003963560957861406, 0.003963560957861406, 0.003963560957861406, 0.003963560957861406, 0.003963560957861406, 0.003963560957861406, 0.003963560957861406, 0.003963560957861406, 0.003963560957861406, 0.003963560957861406, 0.003963560957861406, 0.003963560957861406, 0.003963560957861406, 0.003963560957861406, 0.003963560957861406, 0.003963560957861406, 0.003963560957861406, 0.003963560957861406, 0.003963560957861406, 0.003963560957861406, 0.003963560957861406, 0.003963560957861406, 0.003963560957861406, 0.003963560957861406, 0.003963560957861406, 0.003963560957861406, 0.003963560957861406, 0.003963560957861406, 0.003963560957861406, 0.003963560957861406, 0.003963560957861406, 0.0027883313907060723, 0.0027883313907060723, 0.0027883313907060723, 0.0027883313907060723, 0.0027883313907060723, 0.0027883313907060723, 0.0027883313907060723, 0.0027883313907060723, 0.0027883313907060723, 0.0027883313907060723, 0.0027883313907060723, 0.0027883313907060723, 0.0027883313907060723, 0.0027883313907060723, 0.0027883313907060723, 0.0027883313907060723, 0.0027883313907060723, 0.0027883313907060723, 0.0027883313907060723, 0.0027883313907060723, 0.0027883313907060723, 0.0027883313907060723, 0.0027883313907060723, 0.0027883313907060723, 0.0027883313907060723, 0.0027883313907060723, 0.0027883313907060723, 0.0027883313907060723, 0.0027883313907060723, 0.0027883313907060723, 0.0027883313907060723, 0.0027883313907060723, 0.0027883313907060723, 0.0027883313907060723, 0.0027883313907060723, 0.0027883313907060723, 0.0027883313907060723, 0.0027883313907060723, 0.0027883313907060723, 0.0027883313907060723, 0.0027883313907060723, 0.0027883313907060723, 0.0027883313907060723, 0.0027883313907060723, 0.0027883313907060723, 0.0027883313907060723, 0.0027883313907060723, 0.0027883313907060723, 0.0027883313907060723, 0.0027883313907060723, 0.0027883313907060723, 0.0027883313907060723, 0.0027883313907060723, 0.0027883313907060723, 0.0027883313907060723, 0.0027883313907060723, 0.0027883313907060723, 0.0027883313907060723, 0.0027883313907060723, 0.0027883313907060723, 0.0027883313907060723, 0.0027883313907060723, 0.0027883313907060723, 0.0027883313907060723, 0.0027883313907060723, 0.0027883313907060723, 0.0027883313907060723, 0.0027883313907060723, 0.0027883313907060723, 0.0027883313907060723, 0.0027883313907060723, 0.0027883313907060723, 0.0027883313907060723, 0.0027883313907060723, 0.0027883313907060723, 0.0027883313907060723, 0.0027883313907060723, 0.0027883313907060723, 0.0027883313907060723, 0.0027883313907060723, 0.0027883313907060723, 0.0027883313907060723, 0.0027883313907060723, 0.0027883313907060723, 0.0027883313907060723, 0.0027883313907060723, 0.0027883313907060723, 0.0027883313907060723, 0.0027883313907060723, 0.0027883313907060723, 0.0027883313907060723, 0.0027883313907060723, 0.0027883313907060723, 0.0027883313907060723, 0.0027883313907060723, 0.0027883313907060723, 0.0027883313907060723, 0.0027883313907060723, 0.0027883313907060723, 0.0027883313907060723, 0.0027883313907060723, 0.0027883313907060723, 0.0027883313907060723, 0.0027883313907060723, 0.0027883313907060723, 0.0027883313907060723, 0.0027883313907060723, 0.0027883313907060723, 0.0027883313907060723, 0.0027883313907060723, 0.0027883313907060723, 0.0027883313907060723, 0.0027883313907060723, 0.0027883313907060723, 0.0027883313907060723, 0.0027883313907060723, 0.0027883313907060723, 0.0027883313907060723, 0.0027883313907060723, 0.0027883313907060723, 0.0027883313907060723, 0.0027883313907060723, 0.0027883313907060723, 0.0027883313907060723, 0.0027883313907060723, 0.0027883313907060723, 0.0027883313907060723, 0.0014970234092313124, 0.0014970234092313124, 0.0014970234092313124, 0.0014970234092313124, 0.0014970234092313124, 0.0014970234092313124, 0.0014970234092313124, 0.0014970234092313124, 0.0014970234092313124, 0.0014970234092313124, 0.0014970234092313124, 0.0014970234092313124, 0.0014970234092313124, 0.0014970234092313124, 0.0014970234092313124, 0.0014970234092313124, 0.0014970234092313124, 0.0014970234092313124, 0.0014970234092313124, 0.0014970234092313124, 0.0014970234092313124, 0.0014970234092313124, 0.0014970234092313124, 0.0014970234092313124, 0.0014970234092313124, 0.0014970234092313124, 0.0014970234092313124, 0.0014970234092313124, 0.0014970234092313124, 0.0014970234092313124, 0.0014970234092313124, 0.0014970234092313124, 0.0014970234092313124, 0.0014970234092313124, 0.0014970234092313124, 0.0014970234092313124, 0.0014970234092313124, 0.0014970234092313124, 0.0014970234092313124, 0.0014970234092313124, 0.0014970234092313124, 0.0014970234092313124, 0.0014970234092313124, 0.0014970234092313124, 0.0014970234092313124, 0.0014970234092313124, 0.0014970234092313124, 0.0014970234092313124, 0.0014970234092313124, 0.0014970234092313124, 0.0014970234092313124, 0.0014970234092313124, 0.0014970234092313124, 0.0014970234092313124, 0.0014970234092313124, 0.0014970234092313124, 0.0014970234092313124, 0.0014970234092313124, 0.0014970234092313124, 0.0014970234092313124, 0.0014970234092313124, 0.0014970234092313124, 0.0014970234092313124, 0.0014970234092313124, 0.0014970234092313124, 0.0014970234092313124, 0.0014970234092313124, 0.0014970234092313124, 0.0014970234092313124, 0.0014970234092313124, 0.0014970234092313124, 0.0014970234092313124, 0.0014970234092313124, 0.0014970234092313124, 0.0014970234092313124, 0.0014970234092313124, 0.0014970234092313124, 0.0014970234092313124, 0.0014970234092313124, 0.0014970234092313124, 0.0014970234092313124, 0.0014970234092313124, 0.0014970234092313124, 0.0014970234092313124, 0.0014970234092313124, 0.0014970234092313124, 0.0014970234092313124, 0.0014970234092313124, 0.0014970234092313124, 0.0014970234092313124, 0.0014970234092313124, 0.0014970234092313124, 0.0014970234092313124, 0.0014970234092313124, 0.0014970234092313124, 0.0014970234092313124, 0.0014970234092313124, 0.0014970234092313124, 0.0014970234092313124, 0.0014970234092313124, 0.0014970234092313124, 0.0014970234092313124, 0.0014970234092313124, 0.0014970234092313124, 0.0014970234092313124, 0.0014970234092313124, 0.0014970234092313124, 0.0014970234092313124, 0.0014970234092313124, 0.0014970234092313124, 0.0014970234092313124, 0.0014970234092313124, 0.0014970234092313124, 0.0014970234092313124, 0.0014970234092313124, 0.0014970234092313124, 0.0014970234092313124, 0.0014970234092313124, 0.0014970234092313124, 0.0014970234092313124, 0.0014970234092313124, 0.0014970234092313124, 0.0014970234092313124, 0.0014970234092313124, 0.0014970234092313124, 0.0014970234092313124, 0.0014970234092313124, 0.0014970234092313124, 0.0014970234092313124, 0.0014970234092313124, 0.0014970234092313124, 0.0014970234092313124, 0.0014970234092313124, 0.0014970234092313124, 0.0014970234092313124, 0.0014970234092313124, 0.0014970234092313124, 0.0014970234092313124, 0.0014970234092313124, 0.0014970234092313124, 0.0014970234092313124, 0.0014970234092313124, 0.0014970234092313124, 0.0014970234092313124, 0.0014970234092313124, 0.0014970234092313124, 0.0014970234092313124, 0.0014970234092313124, 0.0014970234092313124, 0.0014970234092313124, 0.0014970234092313124, 0.0014970234092313124, 0.0014970234092313124, 0.0014970234092313124, 0.0014970234092313124, 0.0014970234092313124, 0.0014970234092313124, 0.0014970234092313124, 0.0014970234092313124, 0.0014970234092313124, 0.0014970234092313124, 0.0014970234092313124, 0.0014970234092313124, 0.0014970234092313124, 0.0014970234092313124, 0.0014970234092313124, 0.0014970234092313124, 0.0014970234092313124, 0.0014970234092313124, 0.0014970234092313124, 0.0014970234092313124, 0.0014970234092313124, 0.0014970234092313124, 0.0014970234092313124, 0.0014970234092313124, 0.0014970234092313124, 0.0014970234092313124, 0.0014970234092313124, 0.0014970234092313124, 0.0014970234092313124, 0.0014970234092313124, 0.0014970234092313124, 0.0014970234092313124, 0.0014970234092313124, 0.0014970234092313124, 0.0014970234092313124, 0.0014970234092313124, 0.0014970234092313124, 0.0014970234092313124, 0.0014970234092313124, 0.0014970234092313124, 0.0014970234092313124, 0.0014970234092313124, 0.0014970234092313124, 0.0014970234092313124, 0.0014970234092313124, 0.0014970234092313124, 0.0014970234092313124, 0.0014970234092313124, 0.0014970234092313124, 0.0014970234092313124, 0.0014970234092313124, 0.0014970234092313124, 0.0014970234092313124, 0.0014970234092313124, 0.0014970234092313124, 0.0014970234092313124, 0.0014970234092313124, 0.0014970234092313124, 0.0014970234092313124, 0.0014970234092313124, 0.0014970234092313124, 0.0014970234092313124, 0.0014970234092313124, 0.0014970234092313124, 0.0014970234092313124, 0.0014970234092313124, 0.0014970234092313124, 0.0014970234092313124, 0.0014970234092313124, 0.0014970234092313124, 0.0014970234092313124, 0.0014970234092313124, 0.0014970234092313124, 0.0014970234092313124, 0.0014970234092313124, 0.0014970234092313124, 0.0014970234092313124, 0.0014970234092313124, 0.0014970234092313124, 0.0014970234092313124, 0.0014970234092313124, 0.0014970234092313124, 0.0014970234092313124, 0.0014970234092313124, 0.0014970234092313124, 0.0014970234092313124, 0.0014970234092313124, 0.0014970234092313124, 0.0014970234092313124, 0.0014970234092313124, 0.0014970234092313124, 0.0014970234092313124, 0.0014970234092313124, 0.0014970234092313124, 0.0014970234092313124, 0.0014970234092313124, 0.0014970234092313124, 0.0014970234092313124, 0.0014970234092313124, 0.0014970234092313124, 0.0014970234092313124, 0.0014970234092313124, 0.0014970234092313124, 0.0014970234092313124, 0.0014970234092313124, 0.0014970234092313124, 0.0014970234092313124, 0.0014970234092313124, 0.0014970234092313124, 0.0014970234092313124, 0.0014970234092313124, 0.0014970234092313124, 0.0014970234092313124, 0.0014970234092313124, 0.0014970234092313124, 0.0014970234092313124, 0.0014970234092313124, 0.0014970234092313124, 0.0014970234092313124, 0.0014970234092313124, 0.0014970234092313124, 0.0014970234092313124, 0.0014970234092313124, 0.0014970234092313124, 0.0014970234092313124, 0.0014970234092313124, 0.0014970234092313124, 0.0014970234092313124, 0.0014970234092313124, 0.0014970234092313124, 0.0014970234092313124, 0.0014970234092313124, 0.0014970234092313124, 0.0014970234092313124, 0.0014970234092313124, 0.0014970234092313124, 0.0014970234092313124, 0.0014970234092313124, 0.0014970234092313124, 0.0014970234092313124, 0.0014970234092313124, 0.0014970234092313124, 0.0014970234092313124, 0.0014970234092313124, 0.0014970234092313124, 0.0014970234092313124, 0.0014970234092313124, 0.0014970234092313124, 0.0014970234092313124, 0.0014970234092313124, 0.0014970234092313124, 0.0014970234092313124, 0.0014970234092313124, 0.0014970234092313124, 0.0014970234092313124, 0.0014970234092313124, 0.0014970234092313124, 0.0014970234092313124, 0.0014970234092313124, 0.0014970234092313124, 0.0014970234092313124, 0.0014970234092313124, 0.0014970234092313124, 0.0014970234092313124, 0.0014970234092313124, 0.0014970234092313124, 0.0014970234092313124, 0.0014970234092313124, 0.0014970234092313124, 0.0014970234092313124, 0.0014970234092313124, 0.0014970234092313124, 0.0014970234092313124, 0.0014970234092313124, 0.0014970234092313124, 0.0014970234092313124, 0.0014970234092313124, 0.0014970234092313124, 0.0014970234092313124, 0.0014970234092313124, 0.0014970234092313124, 0.0014970234092313124, 0.0014970234092313124, 0.0014970234092313124, 0.0014970234092313124, 0.0014970234092313124, 0.0014970234092313124, 0.0014970234092313124, 0.0014970234092313124, 0.0014970234092313124, 0.0014970234092313124, 0.0014970234092313124, 0.0014970234092313124, 0.0014970234092313124, 0.0014970234092313124, 0.0014970234092313124, 0.0014970234092313124, 0.0014970234092313124, 0.0014970234092313124, 0.0014970234092313124, 0.0014970234092313124, 0.0014970234092313124, 0.0014970234092313124, 0.0014970234092313124, 0.0014970234092313124, 0.0014970234092313124, 0.0014970234092313124, 0.0014970234092313124, 0.0014970234092313124, 0.0014970234092313124, 0.0014970234092313124, 0.0014970234092313124, 0.0014970234092313124, 0.0014970234092313124, 0.0014970234092313124, 0.0014970234092313124, 0.0014970234092313124, 0.0014970234092313124, 0.0014970234092313124, 0.0014970234092313124, 0.0014970234092313124, 0.0014970234092313124, 0.0014970234092313124, 0.0014970234092313124, 0.0014970234092313124, 0.0014970234092313124, 0.0014970234092313124]\n"
          ]
        }
      ]
    },
    {
      "cell_type": "markdown",
      "source": [
        "# **MASUK KNN JANGAN BIKIN NANGES**"
      ],
      "metadata": {
        "id": "KMLLECS83YUH"
      }
    },
    {
      "cell_type": "code",
      "source": [
        "pip install sklearn"
      ],
      "metadata": {
        "id": "aojeMUPoYkmR",
        "colab": {
          "base_uri": "https://localhost:8080/"
        },
        "outputId": "19339f1c-f0c5-4650-876b-f2362c0c6ea4"
      },
      "execution_count": null,
      "outputs": [
        {
          "output_type": "stream",
          "name": "stdout",
          "text": [
            "Looking in indexes: https://pypi.org/simple, https://us-python.pkg.dev/colab-wheels/public/simple/\n",
            "Collecting sklearn\n",
            "  Downloading sklearn-0.0.post5.tar.gz (3.7 kB)\n",
            "  Preparing metadata (setup.py) ... \u001b[?25l\u001b[?25hdone\n",
            "Building wheels for collected packages: sklearn\n",
            "  Building wheel for sklearn (setup.py) ... \u001b[?25l\u001b[?25hdone\n",
            "  Created wheel for sklearn: filename=sklearn-0.0.post5-py3-none-any.whl size=2950 sha256=1e0f325c0ca2aacfca10f9666cf1390c61866ab97acf49282351b56fde63a633\n",
            "  Stored in directory: /root/.cache/pip/wheels/38/1f/8d/4f812c590e074c1e928f5cec67bf5053b71f38e2648739403a\n",
            "Successfully built sklearn\n",
            "Installing collected packages: sklearn\n",
            "Successfully installed sklearn-0.0.post5\n"
          ]
        }
      ]
    },
    {
      "cell_type": "code",
      "source": [
        "plt.xscale('log')\n",
        "bins= 1.5**(np.arrange(0,15))\n"
      ],
      "metadata": {
        "id": "SQ30uekbdX1o",
        "colab": {
          "base_uri": "https://localhost:8080/",
          "height": 183
        },
        "outputId": "cd5a6cf2-458a-42fe-950b-513c494f4986"
      },
      "execution_count": null,
      "outputs": [
        {
          "output_type": "error",
          "ename": "NameError",
          "evalue": "ignored",
          "traceback": [
            "\u001b[0;31m---------------------------------------------------------------------------\u001b[0m",
            "\u001b[0;31mNameError\u001b[0m                                 Traceback (most recent call last)",
            "\u001b[0;32m<ipython-input-67-73916c846d25>\u001b[0m in \u001b[0;36m<cell line: 1>\u001b[0;34m()\u001b[0m\n\u001b[0;32m----> 1\u001b[0;31m \u001b[0mplt\u001b[0m\u001b[0;34m.\u001b[0m\u001b[0mxscale\u001b[0m\u001b[0;34m(\u001b[0m\u001b[0;34m'log'\u001b[0m\u001b[0;34m)\u001b[0m\u001b[0;34m\u001b[0m\u001b[0;34m\u001b[0m\u001b[0m\n\u001b[0m\u001b[1;32m      2\u001b[0m \u001b[0mbins\u001b[0m\u001b[0;34m=\u001b[0m \u001b[0;36m1.5\u001b[0m\u001b[0;34m**\u001b[0m\u001b[0;34m(\u001b[0m\u001b[0mnp\u001b[0m\u001b[0;34m.\u001b[0m\u001b[0marrange\u001b[0m\u001b[0;34m(\u001b[0m\u001b[0;36m0\u001b[0m\u001b[0;34m,\u001b[0m\u001b[0;36m15\u001b[0m\u001b[0;34m)\u001b[0m\u001b[0;34m)\u001b[0m\u001b[0;34m\u001b[0m\u001b[0;34m\u001b[0m\u001b[0m\n",
            "\u001b[0;31mNameError\u001b[0m: name 'plt' is not defined"
          ]
        }
      ]
    },
    {
      "cell_type": "code",
      "source": [
        "from sklearn.model_selection import train_test_split\n",
        "\n",
        "X = TFIDF_Vector\n",
        "Y = df_show['Label'].values\n",
        "target_names_ulasan= ['Positif', 'Negatif']\n",
        "print(vectorizer.vocabulary_)\n",
        "\n",
        "X_train, X_test, Y_train, Y_test= train_test_split(X,Y, test_size= 0.30, random_state=42)\n",
        "\n",
        "print('Training', X_train.shape)\n",
        "print('Testing', X_test.shape)"
      ],
      "metadata": {
        "colab": {
          "base_uri": "https://localhost:8080/",
          "height": 470
        },
        "id": "Y78thf7ab0II",
        "outputId": "85ef361f-fd43-4a3b-97a0-a90e417db7c6"
      },
      "execution_count": null,
      "outputs": [
        {
          "output_type": "stream",
          "name": "stdout",
          "text": [
            "{'tempat': 650, 'nyaman': 426, 'parkir': 452, 'luas': 356, 'kadang': 231, 'kamar': 239, 'mandi': 369, 'kotor': 302, 'bagus': 44, 'bersih': 79, 'tugas': 688, 'periksa': 470, 'jam': 210, 'jaga': 207, 'air': 5, 'kolam': 290, 'anak': 20, 'panas': 445, 'kayak': 254, 'beri': 77, 'hias': 178, 'dingin': 130, 'lindung': 346, 'untuk': 700, 'suka': 616, 'renang': 520, 'sabtu': 534, 'ini': 194, 'doa': 132, 'hujan': 187, 'tidak': 672, 'kesini': 281, 'sesal': 584, 'masuk': 377, 'banyak': 57, 'atur': 37, 'antar': 23, 'pakai': 441, 'sepatu': 578, 'istri': 201, 'damping': 116, 'kaos': 245, 'kaki': 235, 'rekomendasi': 514, 'fitnes': 149, 'lokernya': 352, 'kartu': 251, 'ajar': 7, 'bisa': 90, 'loger': 349, 'adik': 1, 'saya': 553, 'bom': 93, 'dapat': 118, 'loker': 351, 'uang': 694, 'hilang': 182, 'aduh': 2, 'kecewa': 257, 'minggu': 397, 'ramai': 507, 'bos': 95, 'mahal': 363, 'senin': 576, 'buka': 102, 'kerja': 275, 'libur': 343, 'ingin': 193, 'kejar': 258, 'kartika': 250, 'eka': 139, 'paksi': 443, 'harga': 171, 'pegawai': 461, 'ramah': 506, 'ganti': 153, 'rapi': 509, 'hari': 172, 'hijau': 181, 'dewasa': 126, 'tiket': 673, 'lumayan': 359, 'perhati': 468, 'fasilitas': 146, 'pria': 489, 'engsel': 144, 'pintu': 478, 'ganjal': 152, 'rusak': 532, 'bebas': 67, 'jajan': 208, 'lengkap': 335, 'profesional': 492, 'pohon': 482, 'kunjung': 313, 'sedikit': 556, 'keramik': 271, 'pinggir': 476, 'licin': 344, 'lebih': 334, 'hati': 174, 'inti': 197, 'keluarga': 262, 'oke': 432, 'murah': 409, 'keruh': 277, 'ribu': 524, 'militer': 394, 'pandemi': 449, 'covid': 111, 'batas': 62, 'kawasan': 253, 'patuh': 456, 'protokol': 494, 'kualitas': 305, 'tim': 674, 'sar': 548, 'ruang': 529, 'bilas': 86, 'modern': 402, 'kantin': 243, 'musala': 411, 'aman': 16, 'pagi': 440, 'niat': 420, 'rekreasi': 515, 'brawijaya': 97, 'beli': 71, 'habis': 167, 'salah': 536, 'turut': 692, 'enak': 143, 'surabaya': 621, 'tunggu': 690, 'kena': 265, 'orang': 436, 'temapat': 647, 'tempatny': 651, 'main': 364, 'tambah': 630, 'baik': 46, 'di': 127, 'bawah': 65, 'tahun': 628, 'sruh': 607, 'bayar': 66, 'padahal': 439, 'wisata': 722, 'gratis': 163, 'karcis': 247, 'kepala': 269, 'awas': 38, 'tepi': 661, 'jalan': 209, 'mudah': 406, 'akses': 9, 'kompleks': 294, 'rumah': 531, 'kodam': 289, 'warga': 714, 'butuh': 104, 'jasa': 214, 'latih': 330, 'silah': 592, 'hubung': 186, 'tlp': 679, 'wa': 708, 'riah': 523, 'saran': 549, 'penuh': 466, 'kemarin': 263, 'susah': 624, 'ukur': 696, 'dalem': 115, 'teman': 646, 'perosot': 471, 'slide': 604, 'standar': 609, 'internasional': 196, 'dalam': 114, 'meter': 391, 'jernih': 219, 'relatif': 516, 'kota': 301, 'sehat': 559, 'sedia': 555, 'bawa': 64, 'makan': 366, 'mungkin': 408, 'les': 337, 'sana': 543, 'laku': 323, 'member': 384, 'gitu': 160, 'alas': 14, 'peleset': 464, 'arah': 27, 'harus': 173, 'lepas': 336, 'kenal': 266, 'tahap': 627, 'sungguh': 620, 'lokasi': 350, 'jangkau': 212, 'banding': 52, 'event': 145, 'hemat': 177, 'kuluarga': 310, 'mohon': 404, 'duduk': 138, 'payung': 457, 'tenda': 657, 'meja': 383, 'bagi': 43, 'mata': 379, 'merah': 389, 'sakit': 535, 'pedih': 460, 'tata': 638, 'hahaha': 168, 'kesana': 280, 'warna': 716, 'kuras': 315, 'cocok': 110, 'tempa': 649, 'area': 29, 'normal': 423, 'asri': 32, 'teduh': 643, 'siang': 589, 'panass': 446, 'hanya': 169, 'tolong': 684, 'shower': 587, 'benar': 74, 'mati': 381, 'antre': 24, 'kaporit': 246, 'kejut': 259, 'dekat': 124, 'lantai': 325, 'becek': 68, 'perempuan': 467, 'salur': 537, 'sumbat': 619, 'banjir': 55, 'singgah': 595, 'balita': 50, 'layak': 331, 'rabu': 503, 'kamis': 240, 'ngasi': 418, 'bau': 63, 'sengat': 575, 'pilih': 475, 'piknik': 474, 'maju': 365, 'toilet': 682, 'sudah': 615, 'moga': 403, 'depan': 125, 'bangku': 53, 'atau': 35, 'macam': 361, 'istirahat': 200, 'sukses': 617, 'sinar': 594, 'matahari': 380, 'jumat': 225, 'baca': 41, 'tanggal': 634, 'motor': 405, 'mobil': 401, 'sewa': 586, 'baju': 47, 'segar': 557, 'renovasi': 522, 'cadang': 105, 'vip': 707, 'mula': 407, 'ekspert': 141, 'senang': 574, 'lingkung': 347, 'sampah': 540, 'alat': 15, 'tunjang': 691, 'keropos': 276, 'khawatir': 282, 'luka': 358, 'masih': 376, 'nyisir': 430, 'rambut': 508, 'unjung': 699, 'madi': 362, 'belum': 72, 'kanopi': 242, 'rakyat': 505, 'konsekuensi': 296, 'jorok': 222, 'tipe': 677, 'outdoor': 437, 'untung': 701, 'pisah': 479, 'kali': 238, 'lipat': 348, 'juga': 224, 'jamin': 211, 'puas': 496, 'hobi': 185, 'minimal': 399, 'wahana': 710, 'gazebo': 155, 'simpan': 593, 'barang': 58, 'ktp': 304, 'tenggelam': 658, 'bahaya': 45, 'awat': 39, 'gaada': 151, 'coba': 109, 'pekan': 462, 'siswa': 601, 'junior': 227, 'ambil': 17, 'kursus': 318, 'unisex': 698, 'benah': 73, 'segitu': 558, 'tutup': 693, 'sore': 606, 'siaga': 588, 'mie': 392, 'telur': 645, 'tingkat': 676, 'ekonomis': 140, 'kantong': 244, 'pasti': 455, 'sepi': 580, 'sandal': 544, 'aneh': 21, 'rem': 517, 'rombong': 526, 'sekolah': 564, 'siram': 596, 'olahraga': 435, 'nyenening': 429, 'jadwal': 206, 'senyum': 577, 'sangat': 545, 'sesuai': 585, 'puluh': 499, 'menyenangkn': 388, 'atas': 34, 'karpet': 249, 'ban': 51, 'juni': 226, 'raya': 512, 'strategis': 610, 'dan': 117, 'cepat': 107, 'perih': 469, 'was': 718, 'milik': 393, 'taman': 629, 'jual': 223, 'kendara': 268, 'sayang': 554, 'atap': 33, 'wilayah': 721, 'tentara': 659, 'akan': 8, 'manfaat': 370, 'masyarakat': 378, 'favorit': 147, 'karena': 248, 'dri': 134, 'kesan': 279, 'tepat': 660, 'bareng': 59, 'usir': 704, 'pada': 438, 'indah': 191, 'lagi': 320, 'terus': 667, 'isi': 199, 'publik': 497, 'tarif': 635, 'idam': 188, 'belah': 70, 'lapang': 326, 'hitam': 183, 'iya': 204, 'gazebonya': 156, 'minim': 398, 'sih': 590, 'bolong': 92, 'wkwk': 723, 'gelap': 157, 'kacamata': 229, 'rendam': 521, 'olah': 434, 'raga': 504, 'golong': 161, 'warung': 717, 'biaya': 85, 'daerah': 112, 'dar': 119, 'lebar': 333, 'kursi': 317, 'lihat': 345, 'rugi': 530, 'ngajak': 416, 'temen': 648, 'atlet': 36, 'aktifitas': 10, 'klub': 288, 'kini': 285, 'stand': 608, 'agk': 4, 'rasa': 510, 'sempat': 570, 'sesak': 583, 'berani': 76, 'kurang': 314, 'al': 11, 'jenis': 218, 'trdapat': 685, 'ampun': 18, 'kulit': 309, 'jdi': 216, 'sulit': 618, 'sisir': 600, 'level': 339, 'toko': 683, 'tmpatnya': 680, 'konsentrasi': 297, 'koprit': 299, 'letak': 338, 'nikmat': 421, 'lezat': 341, 'roti': 528, 'john': 221, 'tempatya': 653, 'bekas': 69, 'tanah': 632, 'tangga': 633, 'jatuh': 215, 'korban': 300, 'gatal': 154, 'nyarinya': 428, 'prusutanya': 495, 'aroma': 30, 'plus': 481, 'tunggal': 689, 'genang': 158, 'sehingga': 560, 'suci': 614, 'sekitar': 563, 'markas': 374, 'marinir': 373, 'bantu': 56, 'proses': 493, 'komentar': 293, 'saring': 551, 'ajak': 6, 'lewat': 340, 'kalah': 236, 'khusus': 283, 'pop': 486, 'teh': 644, 'mineral': 395, 'santai': 547, 'harap': 170, 'tempayt': 654, 'weekdays': 719, 'an': 19, 'sering': 581, 'cari': 106, 'pompa': 485, 'angin': 22, 'so': 605, 'kuatir': 307, 'lapar': 327, 'flow': 150, 'suasana': 612, 'tenang': 656, 'loket': 353, 'minum': 400, 'sempit': 571, 'saat': 533, 'suruh': 623, 'minggir': 396, 'sampek': 541, 'grup': 164, 'worth': 724, 'it': 202, 'kelas': 260, 'warkop': 715, 'nungguin': 425, 'hayam': 175, 'wuruk': 725, 'pandu': 450, 'masalah': 375, 'kontak': 298, 'keren': 274, 'betah': 82, 'murahhh': 410, 'sama': 538, 'kolamya': 291, 'are': 28, 'wekend': 720, 'manja': 372, 'nafsu': 414, 'ronta': 527, 'perut': 472, 'jadul': 205, 'bnyak': 91, 'kunci': 312, 'kbersihannya': 255, 'samgat': 539, 'menu': 387, 'variasi': 706, 'lomba': 354, 'langsung': 324, 'remaja': 518, 'samping': 542, 'umun': 697, 'ngetren': 419, 'now': 424, 'fenomenal': 148, 'mboook': 382, 'sembako': 568, 'nilai': 422, 'sejarah': 561, 'sikecil': 591, 'usia': 703, 'th': 670, 'populer': 487, 'pelihara': 465, 'sirkulasi': 598, 'botol': 96, 'liar': 342, 'lumut': 360, 'lapor': 328, 'pancing': 447, 'bru': 98, 'bilik': 87, 'terima': 664, 'privat': 491, 'laki': 322, 'wanita': 713, 'tua': 687, 'bangun': 54, 'kuliner': 308, 'luar': 355, 'suami': 611, 'terik': 663, 'sutos': 625, 'gunungsari': 166, 'sisi': 599, 'utara': 705, 'obat': 431, 'lah': 321, 'td': 639, 'nyari': 427, 'mending': 385, 'buah': 99, 'sj': 603, 'dahulu': 113, 'tetep': 669, 'putra': 501, 'putri': 502, 'tempatx': 652, 'bgus': 84, 'bertduh': 81, 'mangga': 371, 'ayun': 40, 'pekat': 463, 'kandung': 241, 'kl': 286, 'dinding': 129, 'tebal': 641, 'temu': 655, 'plastik': 480, 'dasar': 121, 'tdi': 640, 'dtg': 137, 'daun': 122, 'apung': 26, 'taruh': 637, 'ekstra': 142, 'is': 198, 'mesin': 390, 'seperti': 579, 'jaral': 213, 'pandang': 448, 'bening': 75, 'kurg': 316, 'bgs': 83, 'tmptx': 681, 'urus': 702, 'apalagi': 25, 'tebang': 642, 'parah': 451, 'higienis': 180, 'pecah': 458, 'itu': 203, 'risih': 525, 'ujung': 695, 'kolom': 292, 'badan': 42, 'tahan': 626, 'suatu': 613, 'waktu': 712, 'seru': 582, 'tarik': 636, 'kakak': 234, 'selatan': 567, 'hitung': 184, 'tertib': 666, 'basuh': 61, 'terang': 662, 'jl': 220, 'idola': 189, 'malam': 367, 'pusat': 500, 'pasang': 454, 'oktober': 433, 'jelek': 217, 'bakso': 49, 'kikil': 284, 'kalang': 237, 'kencing': 267, 'pedas': 459, 'wadah': 709, 'kes': 278, 'selam': 565, 'rena': 519, 'sate': 552, 'alam': 13, 'layan': 332, 'pulih': 498, 'seka': 562, 'kaimana': 233, 'kembang': 264, 'boom': 94, 'nang': 415, 'suroboyo': 622, 'buruk': 103, 'gimana': 159, 'pojok': 484, 'ludah': 357, 'preman': 488, 'keran': 272, 'nabrak': 413, 'in': 190, 'latian': 329, 'darat': 120, 'sarang': 550, 'laba': 319, 'berita': 78, 'palsu': 444, 'kreatif': 303, 'partisi': 453, 'tinggal': 675, 'privasi': 490, 'agam': 3, 'poin': 483, 'baru': 60, 'malu': 368, 'kelola': 261, 'kondisi': 295, 'yaaah': 726, 'titip': 678, 'semua': 573, 'bingung': 88, 'bakar': 48, 'ngak': 417, 'pakek': 442, 'pinjam': 477, 'realisasi': 513, 'kaca': 228, 'kuat': 306, 'ti': 671, 'sempurna': 572, 'dawet': 123, 'highly': 179, 'intens': 195, 'tes': 668, 'dinas': 128, 'tampung': 631, 'gunung': 165, 'info': 192, 'selasa': 566, 'klorin': 287, 'buat': 101, 'gor': 162, 'tribun': 686, 'buang': 100, 'sembarang': 569, 'siring': 597, 'terkadang': 665, 'mengakomodir': 386, 'santa': 546, 'kumpul': 311, 'dsuruh': 136, 'dpantauan': 133, 'kebersihanya': 256, 'karyawannya': 252, 'asin': 31, 'kacau': 230, 'pikir': 473, 'musim': 412, 'drpada': 135, 'keras': 273, 'situ': 602, 'kepleset': 270, 'rawat': 511, 'wajib': 711, 'bersihin': 80, 'ala': 12, 'kadar': 232, 'biru': 89, 'hebat': 176, 'ceria': 108, 'acara': 0, 'disiplin': 131}\n"
          ]
        },
        {
          "output_type": "error",
          "ename": "ValueError",
          "evalue": "ignored",
          "traceback": [
            "\u001b[0;31m---------------------------------------------------------------------------\u001b[0m",
            "\u001b[0;31mValueError\u001b[0m                                Traceback (most recent call last)",
            "\u001b[0;32m<ipython-input-531-1fa30743cb8f>\u001b[0m in \u001b[0;36m<cell line: 8>\u001b[0;34m()\u001b[0m\n\u001b[1;32m      6\u001b[0m \u001b[0mprint\u001b[0m\u001b[0;34m(\u001b[0m\u001b[0mvectorizer\u001b[0m\u001b[0;34m.\u001b[0m\u001b[0mvocabulary_\u001b[0m\u001b[0;34m)\u001b[0m\u001b[0;34m\u001b[0m\u001b[0;34m\u001b[0m\u001b[0m\n\u001b[1;32m      7\u001b[0m \u001b[0;34m\u001b[0m\u001b[0m\n\u001b[0;32m----> 8\u001b[0;31m \u001b[0mX_train\u001b[0m\u001b[0;34m,\u001b[0m \u001b[0mX_test\u001b[0m\u001b[0;34m,\u001b[0m \u001b[0mY_train\u001b[0m\u001b[0;34m,\u001b[0m \u001b[0mY_test\u001b[0m\u001b[0;34m=\u001b[0m \u001b[0mtrain_test_split\u001b[0m\u001b[0;34m(\u001b[0m\u001b[0mX\u001b[0m\u001b[0;34m,\u001b[0m\u001b[0mY\u001b[0m\u001b[0;34m,\u001b[0m \u001b[0mtest_size\u001b[0m\u001b[0;34m=\u001b[0m \u001b[0;36m0.30\u001b[0m\u001b[0;34m,\u001b[0m \u001b[0mrandom_state\u001b[0m\u001b[0;34m=\u001b[0m\u001b[0;36m42\u001b[0m\u001b[0;34m)\u001b[0m\u001b[0;34m\u001b[0m\u001b[0;34m\u001b[0m\u001b[0m\n\u001b[0m\u001b[1;32m      9\u001b[0m \u001b[0;34m\u001b[0m\u001b[0m\n\u001b[1;32m     10\u001b[0m \u001b[0mprint\u001b[0m\u001b[0;34m(\u001b[0m\u001b[0;34m'Training'\u001b[0m\u001b[0;34m,\u001b[0m \u001b[0mX_train\u001b[0m\u001b[0;34m.\u001b[0m\u001b[0mshape\u001b[0m\u001b[0;34m)\u001b[0m\u001b[0;34m\u001b[0m\u001b[0;34m\u001b[0m\u001b[0m\n",
            "\u001b[0;32m/usr/local/lib/python3.10/dist-packages/sklearn/model_selection/_split.py\u001b[0m in \u001b[0;36mtrain_test_split\u001b[0;34m(test_size, train_size, random_state, shuffle, stratify, *arrays)\u001b[0m\n\u001b[1;32m   2557\u001b[0m         \u001b[0;32mraise\u001b[0m \u001b[0mValueError\u001b[0m\u001b[0;34m(\u001b[0m\u001b[0;34m\"At least one array required as input\"\u001b[0m\u001b[0;34m)\u001b[0m\u001b[0;34m\u001b[0m\u001b[0;34m\u001b[0m\u001b[0m\n\u001b[1;32m   2558\u001b[0m \u001b[0;34m\u001b[0m\u001b[0m\n\u001b[0;32m-> 2559\u001b[0;31m     \u001b[0marrays\u001b[0m \u001b[0;34m=\u001b[0m \u001b[0mindexable\u001b[0m\u001b[0;34m(\u001b[0m\u001b[0;34m*\u001b[0m\u001b[0marrays\u001b[0m\u001b[0;34m)\u001b[0m\u001b[0;34m\u001b[0m\u001b[0;34m\u001b[0m\u001b[0m\n\u001b[0m\u001b[1;32m   2560\u001b[0m \u001b[0;34m\u001b[0m\u001b[0m\n\u001b[1;32m   2561\u001b[0m     \u001b[0mn_samples\u001b[0m \u001b[0;34m=\u001b[0m \u001b[0m_num_samples\u001b[0m\u001b[0;34m(\u001b[0m\u001b[0marrays\u001b[0m\u001b[0;34m[\u001b[0m\u001b[0;36m0\u001b[0m\u001b[0;34m]\u001b[0m\u001b[0;34m)\u001b[0m\u001b[0;34m\u001b[0m\u001b[0;34m\u001b[0m\u001b[0m\n",
            "\u001b[0;32m/usr/local/lib/python3.10/dist-packages/sklearn/utils/validation.py\u001b[0m in \u001b[0;36mindexable\u001b[0;34m(*iterables)\u001b[0m\n\u001b[1;32m    441\u001b[0m \u001b[0;34m\u001b[0m\u001b[0m\n\u001b[1;32m    442\u001b[0m     \u001b[0mresult\u001b[0m \u001b[0;34m=\u001b[0m \u001b[0;34m[\u001b[0m\u001b[0m_make_indexable\u001b[0m\u001b[0;34m(\u001b[0m\u001b[0mX\u001b[0m\u001b[0;34m)\u001b[0m \u001b[0;32mfor\u001b[0m \u001b[0mX\u001b[0m \u001b[0;32min\u001b[0m \u001b[0miterables\u001b[0m\u001b[0;34m]\u001b[0m\u001b[0;34m\u001b[0m\u001b[0;34m\u001b[0m\u001b[0m\n\u001b[0;32m--> 443\u001b[0;31m     \u001b[0mcheck_consistent_length\u001b[0m\u001b[0;34m(\u001b[0m\u001b[0;34m*\u001b[0m\u001b[0mresult\u001b[0m\u001b[0;34m)\u001b[0m\u001b[0;34m\u001b[0m\u001b[0;34m\u001b[0m\u001b[0m\n\u001b[0m\u001b[1;32m    444\u001b[0m     \u001b[0;32mreturn\u001b[0m \u001b[0mresult\u001b[0m\u001b[0;34m\u001b[0m\u001b[0;34m\u001b[0m\u001b[0m\n\u001b[1;32m    445\u001b[0m \u001b[0;34m\u001b[0m\u001b[0m\n",
            "\u001b[0;32m/usr/local/lib/python3.10/dist-packages/sklearn/utils/validation.py\u001b[0m in \u001b[0;36mcheck_consistent_length\u001b[0;34m(*arrays)\u001b[0m\n\u001b[1;32m    395\u001b[0m     \u001b[0muniques\u001b[0m \u001b[0;34m=\u001b[0m \u001b[0mnp\u001b[0m\u001b[0;34m.\u001b[0m\u001b[0munique\u001b[0m\u001b[0;34m(\u001b[0m\u001b[0mlengths\u001b[0m\u001b[0;34m)\u001b[0m\u001b[0;34m\u001b[0m\u001b[0;34m\u001b[0m\u001b[0m\n\u001b[1;32m    396\u001b[0m     \u001b[0;32mif\u001b[0m \u001b[0mlen\u001b[0m\u001b[0;34m(\u001b[0m\u001b[0muniques\u001b[0m\u001b[0;34m)\u001b[0m \u001b[0;34m>\u001b[0m \u001b[0;36m1\u001b[0m\u001b[0;34m:\u001b[0m\u001b[0;34m\u001b[0m\u001b[0;34m\u001b[0m\u001b[0m\n\u001b[0;32m--> 397\u001b[0;31m         raise ValueError(\n\u001b[0m\u001b[1;32m    398\u001b[0m             \u001b[0;34m\"Found input variables with inconsistent numbers of samples: %r\"\u001b[0m\u001b[0;34m\u001b[0m\u001b[0;34m\u001b[0m\u001b[0m\n\u001b[1;32m    399\u001b[0m             \u001b[0;34m%\u001b[0m \u001b[0;34m[\u001b[0m\u001b[0mint\u001b[0m\u001b[0;34m(\u001b[0m\u001b[0ml\u001b[0m\u001b[0;34m)\u001b[0m \u001b[0;32mfor\u001b[0m \u001b[0ml\u001b[0m \u001b[0;32min\u001b[0m \u001b[0mlengths\u001b[0m\u001b[0;34m]\u001b[0m\u001b[0;34m\u001b[0m\u001b[0;34m\u001b[0m\u001b[0m\n",
            "\u001b[0;31mValueError\u001b[0m: Found input variables with inconsistent numbers of samples: [731, 627]"
          ]
        }
      ]
    },
    {
      "cell_type": "code",
      "source": [
        "from sklearn.datasets import fetch_20newsgroups\n",
        "from sklearn.feature_extraction.text import CountVectorizer\n",
        "from sklearn.feature_extraction.text import TfidfTransformer\n",
        "from sklearn.neighbors import KNeighborsClassifier\n",
        "from sklearn.pipeline import Pipeline"
      ],
      "metadata": {
        "id": "_utQkqHHYmoK"
      },
      "execution_count": null,
      "outputs": []
    },
    {
      "cell_type": "code",
      "source": [
        "count_vect = CountVectorizer()\n",
        "X_train_counts = count_vect.fit_transform(list_gabungan_prepro)\n",
        "\n",
        "# transform a count matrix to a normalized tf-idf representation (tf-idf transformer)\n",
        "tfidf_transformer = TfidfTransformer()\n",
        "X_train_tfidf = tfidf_transformer.fit_transform(X_train_counts)"
      ],
      "metadata": {
        "id": "s4pCT4ivZxS-"
      },
      "execution_count": null,
      "outputs": []
    },
    {
      "cell_type": "code",
      "source": [
        "classes = X\n",
        "feature_names = vectorizer.get_feature_names()\n",
        "\n",
        "clf = neighbors.KNeighborsRegressor(n_neighbors=1)\n",
        "clf.fit(response, classes)\n",
        "clf.predict(response)"
      ],
      "metadata": {
        "colab": {
          "base_uri": "https://localhost:8080/",
          "height": 235
        },
        "id": "TTHi4EAsaLwn",
        "outputId": "1258f8ed-9b36-48aa-adb0-f45d0b5b7331"
      },
      "execution_count": null,
      "outputs": [
        {
          "output_type": "error",
          "ename": "NameError",
          "evalue": "ignored",
          "traceback": [
            "\u001b[0;31m---------------------------------------------------------------------------\u001b[0m",
            "\u001b[0;31mNameError\u001b[0m                                 Traceback (most recent call last)",
            "\u001b[0;32m<ipython-input-38-ad808ca357f5>\u001b[0m in \u001b[0;36m<cell line: 1>\u001b[0;34m()\u001b[0m\n\u001b[0;32m----> 1\u001b[0;31m \u001b[0mclasses\u001b[0m \u001b[0;34m=\u001b[0m \u001b[0mscore_list\u001b[0m\u001b[0;34m\u001b[0m\u001b[0;34m\u001b[0m\u001b[0m\n\u001b[0m\u001b[1;32m      2\u001b[0m \u001b[0mfeature_names\u001b[0m \u001b[0;34m=\u001b[0m \u001b[0mvectorizer\u001b[0m\u001b[0;34m.\u001b[0m\u001b[0mget_feature_names\u001b[0m\u001b[0;34m(\u001b[0m\u001b[0;34m)\u001b[0m\u001b[0;34m\u001b[0m\u001b[0;34m\u001b[0m\u001b[0m\n\u001b[1;32m      3\u001b[0m \u001b[0;34m\u001b[0m\u001b[0m\n\u001b[1;32m      4\u001b[0m \u001b[0mclf\u001b[0m \u001b[0;34m=\u001b[0m \u001b[0mneighbors\u001b[0m\u001b[0;34m.\u001b[0m\u001b[0mKNeighborsRegressor\u001b[0m\u001b[0;34m(\u001b[0m\u001b[0mn_neighbors\u001b[0m\u001b[0;34m=\u001b[0m\u001b[0;36m1\u001b[0m\u001b[0;34m)\u001b[0m\u001b[0;34m\u001b[0m\u001b[0;34m\u001b[0m\u001b[0m\n\u001b[1;32m      5\u001b[0m \u001b[0mclf\u001b[0m\u001b[0;34m.\u001b[0m\u001b[0mfit\u001b[0m\u001b[0;34m(\u001b[0m\u001b[0mresponse\u001b[0m\u001b[0;34m,\u001b[0m \u001b[0mclasses\u001b[0m\u001b[0;34m)\u001b[0m\u001b[0;34m\u001b[0m\u001b[0;34m\u001b[0m\u001b[0m\n",
            "\u001b[0;31mNameError\u001b[0m: name 'score_list' is not defined"
          ]
        }
      ]
    },
    {
      "cell_type": "code",
      "source": [
        "knn = KNeighborsClassifier(n_neighbors=7)\n",
        "\n",
        "# training our classifier ; train_data.target will be having numbers assigned for each category in train data\n",
        "clf = knn.fit(X_train_tfidf, list_gabungan_prepro.target)\n",
        "\n",
        "# Input Data to predict their classes of the given categories\n",
        "docs_new = ['I have a Harley Davidson and Yamaha.', 'I have a GTX 1050 GPU']\n",
        "# building up feature vector of our input\n",
        "X_new_counts = count_vect.transform(docs_new)\n",
        "# We call transform instead of fit_transform because it's already been fit\n",
        "X_new_tfidf = tfidf_transformer.transform(X_new_counts)\n"
      ],
      "metadata": {
        "id": "jB4TXFmyaBAI"
      },
      "execution_count": null,
      "outputs": []
    },
    {
      "cell_type": "code",
      "source": [
        "train_data= fetch_20newsgroups(subset='train', categories=X, shuffle=True, random_state=42)"
      ],
      "metadata": {
        "id": "QFOQ7JlK3e4r",
        "colab": {
          "base_uri": "https://localhost:8080/",
          "height": 328
        },
        "outputId": "11bafbee-59e7-41ab-bf9a-3de098540f9b"
      },
      "execution_count": null,
      "outputs": [
        {
          "output_type": "error",
          "ename": "TypeError",
          "evalue": "ignored",
          "traceback": [
            "\u001b[0;31m---------------------------------------------------------------------------\u001b[0m",
            "\u001b[0;31mTypeError\u001b[0m                                 Traceback (most recent call last)",
            "\u001b[0;32m<ipython-input-36-19faa4170d61>\u001b[0m in \u001b[0;36m<cell line: 1>\u001b[0;34m()\u001b[0m\n\u001b[0;32m----> 1\u001b[0;31m \u001b[0mtrain_data\u001b[0m\u001b[0;34m=\u001b[0m \u001b[0mfetch_20newsgroups\u001b[0m\u001b[0;34m(\u001b[0m\u001b[0msubset\u001b[0m\u001b[0;34m=\u001b[0m\u001b[0;34m'train'\u001b[0m\u001b[0;34m,\u001b[0m \u001b[0mcategories\u001b[0m\u001b[0;34m=\u001b[0m\u001b[0mX\u001b[0m\u001b[0;34m,\u001b[0m \u001b[0mshuffle\u001b[0m\u001b[0;34m=\u001b[0m\u001b[0;32mTrue\u001b[0m\u001b[0;34m,\u001b[0m \u001b[0mrandom_state\u001b[0m\u001b[0;34m=\u001b[0m\u001b[0;36m42\u001b[0m\u001b[0;34m)\u001b[0m\u001b[0;34m\u001b[0m\u001b[0;34m\u001b[0m\u001b[0m\n\u001b[0m",
            "\u001b[0;32m/usr/local/lib/python3.10/dist-packages/sklearn/datasets/_twenty_newsgroups.py\u001b[0m in \u001b[0;36mfetch_20newsgroups\u001b[0;34m(data_home, subset, categories, shuffle, random_state, remove, download_if_missing, return_X_y)\u001b[0m\n\u001b[1;32m    305\u001b[0m \u001b[0;34m\u001b[0m\u001b[0m\n\u001b[1;32m    306\u001b[0m     \u001b[0;32mif\u001b[0m \u001b[0mcategories\u001b[0m \u001b[0;32mis\u001b[0m \u001b[0;32mnot\u001b[0m \u001b[0;32mNone\u001b[0m\u001b[0;34m:\u001b[0m\u001b[0;34m\u001b[0m\u001b[0;34m\u001b[0m\u001b[0m\n\u001b[0;32m--> 307\u001b[0;31m         \u001b[0mlabels\u001b[0m \u001b[0;34m=\u001b[0m \u001b[0;34m[\u001b[0m\u001b[0;34m(\u001b[0m\u001b[0mdata\u001b[0m\u001b[0;34m.\u001b[0m\u001b[0mtarget_names\u001b[0m\u001b[0;34m.\u001b[0m\u001b[0mindex\u001b[0m\u001b[0;34m(\u001b[0m\u001b[0mcat\u001b[0m\u001b[0;34m)\u001b[0m\u001b[0;34m,\u001b[0m \u001b[0mcat\u001b[0m\u001b[0;34m)\u001b[0m \u001b[0;32mfor\u001b[0m \u001b[0mcat\u001b[0m \u001b[0;32min\u001b[0m \u001b[0mcategories\u001b[0m\u001b[0;34m]\u001b[0m\u001b[0;34m\u001b[0m\u001b[0;34m\u001b[0m\u001b[0m\n\u001b[0m\u001b[1;32m    308\u001b[0m         \u001b[0;31m# Sort the categories to have the ordering of the labels\u001b[0m\u001b[0;34m\u001b[0m\u001b[0;34m\u001b[0m\u001b[0m\n\u001b[1;32m    309\u001b[0m         \u001b[0mlabels\u001b[0m\u001b[0;34m.\u001b[0m\u001b[0msort\u001b[0m\u001b[0;34m(\u001b[0m\u001b[0;34m)\u001b[0m\u001b[0;34m\u001b[0m\u001b[0;34m\u001b[0m\u001b[0m\n",
            "\u001b[0;32m/usr/local/lib/python3.10/dist-packages/sklearn/datasets/_twenty_newsgroups.py\u001b[0m in \u001b[0;36m<listcomp>\u001b[0;34m(.0)\u001b[0m\n\u001b[1;32m    305\u001b[0m \u001b[0;34m\u001b[0m\u001b[0m\n\u001b[1;32m    306\u001b[0m     \u001b[0;32mif\u001b[0m \u001b[0mcategories\u001b[0m \u001b[0;32mis\u001b[0m \u001b[0;32mnot\u001b[0m \u001b[0;32mNone\u001b[0m\u001b[0;34m:\u001b[0m\u001b[0;34m\u001b[0m\u001b[0;34m\u001b[0m\u001b[0m\n\u001b[0;32m--> 307\u001b[0;31m         \u001b[0mlabels\u001b[0m \u001b[0;34m=\u001b[0m \u001b[0;34m[\u001b[0m\u001b[0;34m(\u001b[0m\u001b[0mdata\u001b[0m\u001b[0;34m.\u001b[0m\u001b[0mtarget_names\u001b[0m\u001b[0;34m.\u001b[0m\u001b[0mindex\u001b[0m\u001b[0;34m(\u001b[0m\u001b[0mcat\u001b[0m\u001b[0;34m)\u001b[0m\u001b[0;34m,\u001b[0m \u001b[0mcat\u001b[0m\u001b[0;34m)\u001b[0m \u001b[0;32mfor\u001b[0m \u001b[0mcat\u001b[0m \u001b[0;32min\u001b[0m \u001b[0mcategories\u001b[0m\u001b[0;34m]\u001b[0m\u001b[0;34m\u001b[0m\u001b[0;34m\u001b[0m\u001b[0m\n\u001b[0m\u001b[1;32m    308\u001b[0m         \u001b[0;31m# Sort the categories to have the ordering of the labels\u001b[0m\u001b[0;34m\u001b[0m\u001b[0;34m\u001b[0m\u001b[0m\n\u001b[1;32m    309\u001b[0m         \u001b[0mlabels\u001b[0m\u001b[0;34m.\u001b[0m\u001b[0msort\u001b[0m\u001b[0;34m(\u001b[0m\u001b[0;34m)\u001b[0m\u001b[0;34m\u001b[0m\u001b[0;34m\u001b[0m\u001b[0m\n",
            "\u001b[0;32m/usr/local/lib/python3.10/dist-packages/scipy/sparse/_compressed.py\u001b[0m in \u001b[0;36m__eq__\u001b[0;34m(self, other)\u001b[0m\n\u001b[1;32m    216\u001b[0m         \u001b[0;31m# Scalar other.\u001b[0m\u001b[0;34m\u001b[0m\u001b[0;34m\u001b[0m\u001b[0m\n\u001b[1;32m    217\u001b[0m         \u001b[0;32mif\u001b[0m \u001b[0misscalarlike\u001b[0m\u001b[0;34m(\u001b[0m\u001b[0mother\u001b[0m\u001b[0;34m)\u001b[0m\u001b[0;34m:\u001b[0m\u001b[0;34m\u001b[0m\u001b[0;34m\u001b[0m\u001b[0m\n\u001b[0;32m--> 218\u001b[0;31m             \u001b[0;32mif\u001b[0m \u001b[0mnp\u001b[0m\u001b[0;34m.\u001b[0m\u001b[0misnan\u001b[0m\u001b[0;34m(\u001b[0m\u001b[0mother\u001b[0m\u001b[0;34m)\u001b[0m\u001b[0;34m:\u001b[0m\u001b[0;34m\u001b[0m\u001b[0;34m\u001b[0m\u001b[0m\n\u001b[0m\u001b[1;32m    219\u001b[0m                 \u001b[0;32mreturn\u001b[0m \u001b[0mself\u001b[0m\u001b[0;34m.\u001b[0m\u001b[0m__class__\u001b[0m\u001b[0;34m(\u001b[0m\u001b[0mself\u001b[0m\u001b[0;34m.\u001b[0m\u001b[0mshape\u001b[0m\u001b[0;34m,\u001b[0m \u001b[0mdtype\u001b[0m\u001b[0;34m=\u001b[0m\u001b[0mnp\u001b[0m\u001b[0;34m.\u001b[0m\u001b[0mbool_\u001b[0m\u001b[0;34m)\u001b[0m\u001b[0;34m\u001b[0m\u001b[0;34m\u001b[0m\u001b[0m\n\u001b[1;32m    220\u001b[0m \u001b[0;34m\u001b[0m\u001b[0m\n",
            "\u001b[0;31mTypeError\u001b[0m: ufunc 'isnan' not supported for the input types, and the inputs could not be safely coerced to any supported types according to the casting rule ''safe''"
          ]
        }
      ]
    },
    {
      "cell_type": "code",
      "source": [
        "feature_names_ulasan = Ulasan_tfidf #x variable names\n",
        "X_ulasan = feature_names_ulasan #setting the col names\n",
        "y_ulasan = df_show['Label'].values #setting the col names\n",
        "#target_names_fruits = ['apple', 'mandarin', 'orange', 'lemon'] #potential classes"
      ],
      "metadata": {
        "id": "H7UwfyC246gN"
      },
      "execution_count": null,
      "outputs": []
    },
    {
      "cell_type": "code",
      "source": [
        "from sklearn.model_selection import train_test_split\n",
        "X_train, X_test, y_train, y_test = train_test_split(X_ulasan, y_ulasan, random_state=0)"
      ],
      "metadata": {
        "colab": {
          "base_uri": "https://localhost:8080/",
          "height": 328
        },
        "id": "3lGlJYbx9pz7",
        "outputId": "3299eba3-3907-4a43-8311-24c7801240f3"
      },
      "execution_count": null,
      "outputs": [
        {
          "output_type": "error",
          "ename": "ValueError",
          "evalue": "ignored",
          "traceback": [
            "\u001b[0;31m---------------------------------------------------------------------------\u001b[0m",
            "\u001b[0;31mValueError\u001b[0m                                Traceback (most recent call last)",
            "\u001b[0;32m<ipython-input-73-b04d75936471>\u001b[0m in \u001b[0;36m<cell line: 2>\u001b[0;34m()\u001b[0m\n\u001b[1;32m      1\u001b[0m \u001b[0;32mfrom\u001b[0m \u001b[0msklearn\u001b[0m\u001b[0;34m.\u001b[0m\u001b[0mmodel_selection\u001b[0m \u001b[0;32mimport\u001b[0m \u001b[0mtrain_test_split\u001b[0m\u001b[0;34m\u001b[0m\u001b[0;34m\u001b[0m\u001b[0m\n\u001b[0;32m----> 2\u001b[0;31m \u001b[0mX_train\u001b[0m\u001b[0;34m,\u001b[0m \u001b[0mX_test\u001b[0m\u001b[0;34m,\u001b[0m \u001b[0my_train\u001b[0m\u001b[0;34m,\u001b[0m \u001b[0my_test\u001b[0m \u001b[0;34m=\u001b[0m \u001b[0mtrain_test_split\u001b[0m\u001b[0;34m(\u001b[0m\u001b[0mX_ulasan\u001b[0m\u001b[0;34m,\u001b[0m \u001b[0my_ulasan\u001b[0m\u001b[0;34m,\u001b[0m \u001b[0mrandom_state\u001b[0m\u001b[0;34m=\u001b[0m\u001b[0;36m0\u001b[0m\u001b[0;34m)\u001b[0m\u001b[0;34m\u001b[0m\u001b[0;34m\u001b[0m\u001b[0m\n\u001b[0m",
            "\u001b[0;32m/usr/local/lib/python3.10/dist-packages/sklearn/model_selection/_split.py\u001b[0m in \u001b[0;36mtrain_test_split\u001b[0;34m(test_size, train_size, random_state, shuffle, stratify, *arrays)\u001b[0m\n\u001b[1;32m   2557\u001b[0m         \u001b[0;32mraise\u001b[0m \u001b[0mValueError\u001b[0m\u001b[0;34m(\u001b[0m\u001b[0;34m\"At least one array required as input\"\u001b[0m\u001b[0;34m)\u001b[0m\u001b[0;34m\u001b[0m\u001b[0;34m\u001b[0m\u001b[0m\n\u001b[1;32m   2558\u001b[0m \u001b[0;34m\u001b[0m\u001b[0m\n\u001b[0;32m-> 2559\u001b[0;31m     \u001b[0marrays\u001b[0m \u001b[0;34m=\u001b[0m \u001b[0mindexable\u001b[0m\u001b[0;34m(\u001b[0m\u001b[0;34m*\u001b[0m\u001b[0marrays\u001b[0m\u001b[0;34m)\u001b[0m\u001b[0;34m\u001b[0m\u001b[0;34m\u001b[0m\u001b[0m\n\u001b[0m\u001b[1;32m   2560\u001b[0m \u001b[0;34m\u001b[0m\u001b[0m\n\u001b[1;32m   2561\u001b[0m     \u001b[0mn_samples\u001b[0m \u001b[0;34m=\u001b[0m \u001b[0m_num_samples\u001b[0m\u001b[0;34m(\u001b[0m\u001b[0marrays\u001b[0m\u001b[0;34m[\u001b[0m\u001b[0;36m0\u001b[0m\u001b[0;34m]\u001b[0m\u001b[0;34m)\u001b[0m\u001b[0;34m\u001b[0m\u001b[0;34m\u001b[0m\u001b[0m\n",
            "\u001b[0;32m/usr/local/lib/python3.10/dist-packages/sklearn/utils/validation.py\u001b[0m in \u001b[0;36mindexable\u001b[0;34m(*iterables)\u001b[0m\n\u001b[1;32m    441\u001b[0m \u001b[0;34m\u001b[0m\u001b[0m\n\u001b[1;32m    442\u001b[0m     \u001b[0mresult\u001b[0m \u001b[0;34m=\u001b[0m \u001b[0;34m[\u001b[0m\u001b[0m_make_indexable\u001b[0m\u001b[0;34m(\u001b[0m\u001b[0mX\u001b[0m\u001b[0;34m)\u001b[0m \u001b[0;32mfor\u001b[0m \u001b[0mX\u001b[0m \u001b[0;32min\u001b[0m \u001b[0miterables\u001b[0m\u001b[0;34m]\u001b[0m\u001b[0;34m\u001b[0m\u001b[0;34m\u001b[0m\u001b[0m\n\u001b[0;32m--> 443\u001b[0;31m     \u001b[0mcheck_consistent_length\u001b[0m\u001b[0;34m(\u001b[0m\u001b[0;34m*\u001b[0m\u001b[0mresult\u001b[0m\u001b[0;34m)\u001b[0m\u001b[0;34m\u001b[0m\u001b[0;34m\u001b[0m\u001b[0m\n\u001b[0m\u001b[1;32m    444\u001b[0m     \u001b[0;32mreturn\u001b[0m \u001b[0mresult\u001b[0m\u001b[0;34m\u001b[0m\u001b[0;34m\u001b[0m\u001b[0m\n\u001b[1;32m    445\u001b[0m \u001b[0;34m\u001b[0m\u001b[0m\n",
            "\u001b[0;32m/usr/local/lib/python3.10/dist-packages/sklearn/utils/validation.py\u001b[0m in \u001b[0;36mcheck_consistent_length\u001b[0;34m(*arrays)\u001b[0m\n\u001b[1;32m    395\u001b[0m     \u001b[0muniques\u001b[0m \u001b[0;34m=\u001b[0m \u001b[0mnp\u001b[0m\u001b[0;34m.\u001b[0m\u001b[0munique\u001b[0m\u001b[0;34m(\u001b[0m\u001b[0mlengths\u001b[0m\u001b[0;34m)\u001b[0m\u001b[0;34m\u001b[0m\u001b[0;34m\u001b[0m\u001b[0m\n\u001b[1;32m    396\u001b[0m     \u001b[0;32mif\u001b[0m \u001b[0mlen\u001b[0m\u001b[0;34m(\u001b[0m\u001b[0muniques\u001b[0m\u001b[0;34m)\u001b[0m \u001b[0;34m>\u001b[0m \u001b[0;36m1\u001b[0m\u001b[0;34m:\u001b[0m\u001b[0;34m\u001b[0m\u001b[0;34m\u001b[0m\u001b[0m\n\u001b[0;32m--> 397\u001b[0;31m         raise ValueError(\n\u001b[0m\u001b[1;32m    398\u001b[0m             \u001b[0;34m\"Found input variables with inconsistent numbers of samples: %r\"\u001b[0m\u001b[0;34m\u001b[0m\u001b[0;34m\u001b[0m\u001b[0m\n\u001b[1;32m    399\u001b[0m             \u001b[0;34m%\u001b[0m \u001b[0;34m[\u001b[0m\u001b[0mint\u001b[0m\u001b[0;34m(\u001b[0m\u001b[0ml\u001b[0m\u001b[0;34m)\u001b[0m \u001b[0;32mfor\u001b[0m \u001b[0ml\u001b[0m \u001b[0;32min\u001b[0m \u001b[0mlengths\u001b[0m\u001b[0;34m]\u001b[0m\u001b[0;34m\u001b[0m\u001b[0;34m\u001b[0m\u001b[0m\n",
            "\u001b[0;31mValueError\u001b[0m: Found input variables with inconsistent numbers of samples: [748, 627]"
          ]
        }
      ]
    },
    {
      "cell_type": "code",
      "source": [
        "print(y_ulasan)"
      ],
      "metadata": {
        "id": "cY8FOnmp9hrO"
      },
      "execution_count": null,
      "outputs": []
    },
    {
      "cell_type": "code",
      "source": [
        "#@title\n",
        "dt_download = pd.DataFrame(df_show_aspek_methods)\n",
        "dt_download.to_excel(\"aspek_metode.xlsx\")"
      ],
      "metadata": {
        "cellView": "code",
        "id": "Vn-9ngLqjyCF"
      },
      "execution_count": null,
      "outputs": []
    },
    {
      "cell_type": "markdown",
      "source": [
        "# **INI GA TAU NGAPAIN**"
      ],
      "metadata": {
        "id": "4RoollZOz1XK"
      }
    },
    {
      "cell_type": "code",
      "source": [
        "from sklearn.feature_extraction.text import TfidfVectorizer\n",
        "vectorizer = TfidfVectorizer(smooth_idf=False, norm=None)\n",
        "\n",
        "for train_index, test_index in kfold.split(data_final, Y):\n",
        "  X_train, X_test = X[train_index], X[test_index]\n",
        "  Y_train, Y_test = Y[train_index], Y[test_index]\n",
        "\n",
        "  X_train_weigh = vectorizer.fit_transform(x_train).toarray()\n",
        "  X_test_wight = vectorizer.fit_transform(x_test).toarray()\n",
        "\n",
        "  KNeighborsClassifier.fit(X_train_wight, Y_train)\n",
        "  y_pred = KNeighborsClassifier.predict(X_test_wight)\n",
        "\n",
        "  report = classification_report(Y_test, y_pred)\n",
        "\n",
        "  print()\n",
        "  print(f\"iterasi ke-{j}========================================\")\n",
        "  print(report)"
      ],
      "metadata": {
        "colab": {
          "base_uri": "https://localhost:8080/",
          "height": 414
        },
        "id": "w4EtPWvC_sgW",
        "outputId": "d107c5b3-9922-44ba-a3b1-0f6dd39186db"
      },
      "execution_count": null,
      "outputs": [
        {
          "output_type": "error",
          "ename": "AttributeError",
          "evalue": "ignored",
          "traceback": [
            "\u001b[0;31m---------------------------------------------------------------------------\u001b[0m",
            "\u001b[0;31mAttributeError\u001b[0m                            Traceback (most recent call last)",
            "\u001b[0;32m<ipython-input-47-31c57db8bca8>\u001b[0m in \u001b[0;36m<cell line: 4>\u001b[0;34m()\u001b[0m\n\u001b[1;32m      6\u001b[0m   \u001b[0mY_train\u001b[0m\u001b[0;34m,\u001b[0m \u001b[0mY_test\u001b[0m \u001b[0;34m=\u001b[0m \u001b[0mY\u001b[0m\u001b[0;34m[\u001b[0m\u001b[0mtrain_index\u001b[0m\u001b[0;34m]\u001b[0m\u001b[0;34m,\u001b[0m \u001b[0mY\u001b[0m\u001b[0;34m[\u001b[0m\u001b[0mtest_index\u001b[0m\u001b[0;34m]\u001b[0m\u001b[0;34m\u001b[0m\u001b[0;34m\u001b[0m\u001b[0m\n\u001b[1;32m      7\u001b[0m \u001b[0;34m\u001b[0m\u001b[0m\n\u001b[0;32m----> 8\u001b[0;31m   \u001b[0mX_train_weigh\u001b[0m \u001b[0;34m=\u001b[0m \u001b[0mvectorizer\u001b[0m\u001b[0;34m.\u001b[0m\u001b[0mfit_transform\u001b[0m\u001b[0;34m(\u001b[0m\u001b[0mx_train\u001b[0m\u001b[0;34m)\u001b[0m\u001b[0;34m.\u001b[0m\u001b[0mtoarray\u001b[0m\u001b[0;34m(\u001b[0m\u001b[0;34m)\u001b[0m\u001b[0;34m\u001b[0m\u001b[0;34m\u001b[0m\u001b[0m\n\u001b[0m\u001b[1;32m      9\u001b[0m   \u001b[0mX_test_wight\u001b[0m \u001b[0;34m=\u001b[0m \u001b[0mvectorizer\u001b[0m\u001b[0;34m.\u001b[0m\u001b[0mfit_transform\u001b[0m\u001b[0;34m(\u001b[0m\u001b[0mx_test\u001b[0m\u001b[0;34m)\u001b[0m\u001b[0;34m.\u001b[0m\u001b[0mtoarray\u001b[0m\u001b[0;34m(\u001b[0m\u001b[0;34m)\u001b[0m\u001b[0;34m\u001b[0m\u001b[0;34m\u001b[0m\u001b[0m\n\u001b[1;32m     10\u001b[0m \u001b[0;34m\u001b[0m\u001b[0m\n",
            "\u001b[0;32m/usr/local/lib/python3.10/dist-packages/sklearn/feature_extraction/text.py\u001b[0m in \u001b[0;36mfit_transform\u001b[0;34m(self, raw_documents, y)\u001b[0m\n\u001b[1;32m   2131\u001b[0m             \u001b[0msublinear_tf\u001b[0m\u001b[0;34m=\u001b[0m\u001b[0mself\u001b[0m\u001b[0;34m.\u001b[0m\u001b[0msublinear_tf\u001b[0m\u001b[0;34m,\u001b[0m\u001b[0;34m\u001b[0m\u001b[0;34m\u001b[0m\u001b[0m\n\u001b[1;32m   2132\u001b[0m         )\n\u001b[0;32m-> 2133\u001b[0;31m         \u001b[0mX\u001b[0m \u001b[0;34m=\u001b[0m \u001b[0msuper\u001b[0m\u001b[0;34m(\u001b[0m\u001b[0;34m)\u001b[0m\u001b[0;34m.\u001b[0m\u001b[0mfit_transform\u001b[0m\u001b[0;34m(\u001b[0m\u001b[0mraw_documents\u001b[0m\u001b[0;34m)\u001b[0m\u001b[0;34m\u001b[0m\u001b[0;34m\u001b[0m\u001b[0m\n\u001b[0m\u001b[1;32m   2134\u001b[0m         \u001b[0mself\u001b[0m\u001b[0;34m.\u001b[0m\u001b[0m_tfidf\u001b[0m\u001b[0;34m.\u001b[0m\u001b[0mfit\u001b[0m\u001b[0;34m(\u001b[0m\u001b[0mX\u001b[0m\u001b[0;34m)\u001b[0m\u001b[0;34m\u001b[0m\u001b[0;34m\u001b[0m\u001b[0m\n\u001b[1;32m   2135\u001b[0m         \u001b[0;31m# X is already a transformed view of raw_documents so\u001b[0m\u001b[0;34m\u001b[0m\u001b[0;34m\u001b[0m\u001b[0m\n",
            "\u001b[0;32m/usr/local/lib/python3.10/dist-packages/sklearn/feature_extraction/text.py\u001b[0m in \u001b[0;36mfit_transform\u001b[0;34m(self, raw_documents, y)\u001b[0m\n\u001b[1;32m   1386\u001b[0m                     \u001b[0;32mbreak\u001b[0m\u001b[0;34m\u001b[0m\u001b[0;34m\u001b[0m\u001b[0m\n\u001b[1;32m   1387\u001b[0m \u001b[0;34m\u001b[0m\u001b[0m\n\u001b[0;32m-> 1388\u001b[0;31m         \u001b[0mvocabulary\u001b[0m\u001b[0;34m,\u001b[0m \u001b[0mX\u001b[0m \u001b[0;34m=\u001b[0m \u001b[0mself\u001b[0m\u001b[0;34m.\u001b[0m\u001b[0m_count_vocab\u001b[0m\u001b[0;34m(\u001b[0m\u001b[0mraw_documents\u001b[0m\u001b[0;34m,\u001b[0m \u001b[0mself\u001b[0m\u001b[0;34m.\u001b[0m\u001b[0mfixed_vocabulary_\u001b[0m\u001b[0;34m)\u001b[0m\u001b[0;34m\u001b[0m\u001b[0;34m\u001b[0m\u001b[0m\n\u001b[0m\u001b[1;32m   1389\u001b[0m \u001b[0;34m\u001b[0m\u001b[0m\n\u001b[1;32m   1390\u001b[0m         \u001b[0;32mif\u001b[0m \u001b[0mself\u001b[0m\u001b[0;34m.\u001b[0m\u001b[0mbinary\u001b[0m\u001b[0;34m:\u001b[0m\u001b[0;34m\u001b[0m\u001b[0;34m\u001b[0m\u001b[0m\n",
            "\u001b[0;32m/usr/local/lib/python3.10/dist-packages/sklearn/feature_extraction/text.py\u001b[0m in \u001b[0;36m_count_vocab\u001b[0;34m(self, raw_documents, fixed_vocab)\u001b[0m\n\u001b[1;32m   1273\u001b[0m         \u001b[0;32mfor\u001b[0m \u001b[0mdoc\u001b[0m \u001b[0;32min\u001b[0m \u001b[0mraw_documents\u001b[0m\u001b[0;34m:\u001b[0m\u001b[0;34m\u001b[0m\u001b[0;34m\u001b[0m\u001b[0m\n\u001b[1;32m   1274\u001b[0m             \u001b[0mfeature_counter\u001b[0m \u001b[0;34m=\u001b[0m \u001b[0;34m{\u001b[0m\u001b[0;34m}\u001b[0m\u001b[0;34m\u001b[0m\u001b[0;34m\u001b[0m\u001b[0m\n\u001b[0;32m-> 1275\u001b[0;31m             \u001b[0;32mfor\u001b[0m \u001b[0mfeature\u001b[0m \u001b[0;32min\u001b[0m \u001b[0manalyze\u001b[0m\u001b[0;34m(\u001b[0m\u001b[0mdoc\u001b[0m\u001b[0;34m)\u001b[0m\u001b[0;34m:\u001b[0m\u001b[0;34m\u001b[0m\u001b[0;34m\u001b[0m\u001b[0m\n\u001b[0m\u001b[1;32m   1276\u001b[0m                 \u001b[0;32mtry\u001b[0m\u001b[0;34m:\u001b[0m\u001b[0;34m\u001b[0m\u001b[0;34m\u001b[0m\u001b[0m\n\u001b[1;32m   1277\u001b[0m                     \u001b[0mfeature_idx\u001b[0m \u001b[0;34m=\u001b[0m \u001b[0mvocabulary\u001b[0m\u001b[0;34m[\u001b[0m\u001b[0mfeature\u001b[0m\u001b[0;34m]\u001b[0m\u001b[0;34m\u001b[0m\u001b[0;34m\u001b[0m\u001b[0m\n",
            "\u001b[0;32m/usr/local/lib/python3.10/dist-packages/sklearn/feature_extraction/text.py\u001b[0m in \u001b[0;36m_analyze\u001b[0;34m(doc, analyzer, tokenizer, ngrams, preprocessor, decoder, stop_words)\u001b[0m\n\u001b[1;32m    109\u001b[0m     \u001b[0;32melse\u001b[0m\u001b[0;34m:\u001b[0m\u001b[0;34m\u001b[0m\u001b[0;34m\u001b[0m\u001b[0m\n\u001b[1;32m    110\u001b[0m         \u001b[0;32mif\u001b[0m \u001b[0mpreprocessor\u001b[0m \u001b[0;32mis\u001b[0m \u001b[0;32mnot\u001b[0m \u001b[0;32mNone\u001b[0m\u001b[0;34m:\u001b[0m\u001b[0;34m\u001b[0m\u001b[0;34m\u001b[0m\u001b[0m\n\u001b[0;32m--> 111\u001b[0;31m             \u001b[0mdoc\u001b[0m \u001b[0;34m=\u001b[0m \u001b[0mpreprocessor\u001b[0m\u001b[0;34m(\u001b[0m\u001b[0mdoc\u001b[0m\u001b[0;34m)\u001b[0m\u001b[0;34m\u001b[0m\u001b[0;34m\u001b[0m\u001b[0m\n\u001b[0m\u001b[1;32m    112\u001b[0m         \u001b[0;32mif\u001b[0m \u001b[0mtokenizer\u001b[0m \u001b[0;32mis\u001b[0m \u001b[0;32mnot\u001b[0m \u001b[0;32mNone\u001b[0m\u001b[0;34m:\u001b[0m\u001b[0;34m\u001b[0m\u001b[0;34m\u001b[0m\u001b[0m\n\u001b[1;32m    113\u001b[0m             \u001b[0mdoc\u001b[0m \u001b[0;34m=\u001b[0m \u001b[0mtokenizer\u001b[0m\u001b[0;34m(\u001b[0m\u001b[0mdoc\u001b[0m\u001b[0;34m)\u001b[0m\u001b[0;34m\u001b[0m\u001b[0;34m\u001b[0m\u001b[0m\n",
            "\u001b[0;32m/usr/local/lib/python3.10/dist-packages/sklearn/feature_extraction/text.py\u001b[0m in \u001b[0;36m_preprocess\u001b[0;34m(doc, accent_function, lower)\u001b[0m\n\u001b[1;32m     67\u001b[0m     \"\"\"\n\u001b[1;32m     68\u001b[0m     \u001b[0;32mif\u001b[0m \u001b[0mlower\u001b[0m\u001b[0;34m:\u001b[0m\u001b[0;34m\u001b[0m\u001b[0;34m\u001b[0m\u001b[0m\n\u001b[0;32m---> 69\u001b[0;31m         \u001b[0mdoc\u001b[0m \u001b[0;34m=\u001b[0m \u001b[0mdoc\u001b[0m\u001b[0;34m.\u001b[0m\u001b[0mlower\u001b[0m\u001b[0;34m(\u001b[0m\u001b[0;34m)\u001b[0m\u001b[0;34m\u001b[0m\u001b[0;34m\u001b[0m\u001b[0m\n\u001b[0m\u001b[1;32m     70\u001b[0m     \u001b[0;32mif\u001b[0m \u001b[0maccent_function\u001b[0m \u001b[0;32mis\u001b[0m \u001b[0;32mnot\u001b[0m \u001b[0;32mNone\u001b[0m\u001b[0;34m:\u001b[0m\u001b[0;34m\u001b[0m\u001b[0;34m\u001b[0m\u001b[0m\n\u001b[1;32m     71\u001b[0m         \u001b[0mdoc\u001b[0m \u001b[0;34m=\u001b[0m \u001b[0maccent_function\u001b[0m\u001b[0;34m(\u001b[0m\u001b[0mdoc\u001b[0m\u001b[0;34m)\u001b[0m\u001b[0;34m\u001b[0m\u001b[0;34m\u001b[0m\u001b[0m\n",
            "\u001b[0;31mAttributeError\u001b[0m: 'numpy.ndarray' object has no attribute 'lower'"
          ]
        }
      ]
    },
    {
      "cell_type": "code",
      "source": [
        "type(Ulasan_stem)"
      ],
      "metadata": {
        "colab": {
          "base_uri": "https://localhost:8080/"
        },
        "id": "CYbDTjPwcBD-",
        "outputId": "7e969db0-d0c7-4df6-9ce2-c57016c4c597"
      },
      "execution_count": null,
      "outputs": [
        {
          "output_type": "execute_result",
          "data": {
            "text/plain": [
              "list"
            ]
          },
          "metadata": {},
          "execution_count": 11
        }
      ]
    },
    {
      "cell_type": "code",
      "source": [
        "prepro = list(df_prepro['preprocessing'].apply(str))"
      ],
      "metadata": {
        "id": "T_0ZMiBpAW_S",
        "colab": {
          "base_uri": "https://localhost:8080/",
          "height": 171
        },
        "outputId": "82d20c1c-cfc7-4bd6-8120-94727ce7a6ff"
      },
      "execution_count": null,
      "outputs": [
        {
          "output_type": "error",
          "ename": "NameError",
          "evalue": "ignored",
          "traceback": [
            "\u001b[0;31m---------------------------------------------------------------------------\u001b[0m",
            "\u001b[0;31mNameError\u001b[0m                                 Traceback (most recent call last)",
            "\u001b[0;32m<ipython-input-12-ed679ab14aaa>\u001b[0m in \u001b[0;36m<cell line: 1>\u001b[0;34m()\u001b[0m\n\u001b[0;32m----> 1\u001b[0;31m \u001b[0mprepro\u001b[0m \u001b[0;34m=\u001b[0m \u001b[0mlist\u001b[0m\u001b[0;34m(\u001b[0m\u001b[0mdf_prepro\u001b[0m\u001b[0;34m[\u001b[0m\u001b[0;34m'preprocessing'\u001b[0m\u001b[0;34m]\u001b[0m\u001b[0;34m.\u001b[0m\u001b[0mapply\u001b[0m\u001b[0;34m(\u001b[0m\u001b[0mstr\u001b[0m\u001b[0;34m)\u001b[0m\u001b[0;34m)\u001b[0m\u001b[0;34m\u001b[0m\u001b[0;34m\u001b[0m\u001b[0m\n\u001b[0m",
            "\u001b[0;31mNameError\u001b[0m: name 'df_prepro' is not defined"
          ]
        }
      ]
    },
    {
      "cell_type": "code",
      "source": [
        "df_prepros = pd.read_csv(\"hasil.csv\", usecols=[\"Unnamed: 0\", \"0\"])\n",
        "df_prepros.columns = [\"label\", \"ulasan\"]\n",
        "df_prepros.head(5)"
      ],
      "metadata": {
        "id": "n0CnG61hek9v"
      },
      "execution_count": null,
      "outputs": []
    },
    {
      "cell_type": "code",
      "source": [
        "print(df_prepros)"
      ],
      "metadata": {
        "id": "xawsvk85bb28"
      },
      "execution_count": null,
      "outputs": []
    }
  ]
}